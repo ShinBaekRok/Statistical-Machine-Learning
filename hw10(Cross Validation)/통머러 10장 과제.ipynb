{
 "cells": [
  {
   "cell_type": "code",
   "execution_count": 48,
   "id": "c3448670",
   "metadata": {},
   "outputs": [
    {
     "name": "stdout",
     "output_type": "stream",
     "text": [
      "(178, 13) (178,)\n"
     ]
    }
   ],
   "source": [
    "import pandas as pd\n",
    "dat_wine=pd.read_csv('http://archive.ics.uci.edu/ml/machine-learning-databases/''wine/wine.data',header=None)\n",
    "from sklearn.model_selection import train_test_split\n",
    "X,y=dat_wine.iloc[:,1:].values,dat_wine.iloc[:,0].values\n",
    "print(X.shape,y.shape)"
   ]
  },
  {
   "cell_type": "code",
   "execution_count": 43,
   "id": "e275f5ab",
   "metadata": {},
   "outputs": [],
   "source": [
    "from sklearn.model_selection import GridSearchCV, cross_val_score\n",
    "from sklearn.svm import SVC\n",
    "from sklearn.linear_model import LogisticRegression\n",
    "from sklearn.pipeline import make_pipeline\n",
    "from sklearn.model_selection import StratifiedKFold\n",
    "from sklearn.preprocessing import StandardScaler\n",
    "import numpy as np\n",
    "from sklearn.tree import DecisionTreeClassifier\n",
    "from sklearn.decomposition import PCA"
   ]
  },
  {
   "cell_type": "code",
   "execution_count": 49,
   "id": "060ee46d",
   "metadata": {},
   "outputs": [],
   "source": [
    "pipe_lr=make_pipeline(StandardScaler(),LogisticRegression(random_state=1))\n",
    "inner_cv=StratifiedKFold(n_splits=10,shuffle=True,random_state=0)\n",
    "outer_cv=StratifiedKFold(n_splits=5,shuffle=True,random_state=0)\n",
    "gs=GridSearchCV(estimator=pipe_lr,\n",
    "                param_grid=[{'logisticregression__C':[0.01,0.1,1,5,10]}],\n",
    "                scoring='accuracy',cv=inner_cv)\n",
    "scores=cross_val_score(gs,X,y,scoring='accuracy',cv=outer_cv)"
   ]
  },
  {
   "cell_type": "code",
   "execution_count": 50,
   "id": "45bd6008",
   "metadata": {},
   "outputs": [
    {
     "name": "stdout",
     "output_type": "stream",
     "text": [
      "CV accuracy for Logistic Regression: 0.983 +/- 0.014\n"
     ]
    }
   ],
   "source": [
    "print('CV accuracy for Logistic Regression: %.3f +/- %.3f'%(np.mean(scores),np.std(scores)))"
   ]
  },
  {
   "cell_type": "code",
   "execution_count": 70,
   "id": "6dae4e57",
   "metadata": {},
   "outputs": [],
   "source": [
    "pipe_svc=make_pipeline(StandardScaler(),SVC(random_state=1))\n",
    "inner_cv=StratifiedKFold(n_splits=10,shuffle=True,random_state=0)\n",
    "outer_cv=StratifiedKFold(n_splits=5,shuffle=True,random_state=0)\n",
    "gs=GridSearchCV(estimator=pipe_svc,\n",
    "                param_grid=[{'svc__C':[0.0001,0.001,0.01,0.1,1.,10.,100.],\n",
    "                             'svc__kernel':['linear']},\n",
    "                            {'svc__C':[0.0001,0.001,0.01,0.1,1.,10.,100.],\n",
    "                             'svc__kernel':['rbf'],\n",
    "                             'svc__gamma':[0.0001,0.001,0.01,0.1,1.,10.,100.]}],\n",
    "                scoring='accuracy',cv=inner_cv)\n",
    "scores=cross_val_score(gs,X,y,scoring='accuracy',cv=outer_cv)"
   ]
  },
  {
   "cell_type": "code",
   "execution_count": 71,
   "id": "1d7a879d",
   "metadata": {},
   "outputs": [
    {
     "name": "stdout",
     "output_type": "stream",
     "text": [
      "CV accuracy for SVM: 0.983 +/- 0.014\n",
      "[1.         1.         0.97222222 0.97142857 0.97142857]\n"
     ]
    }
   ],
   "source": [
    "print('CV accuracy for SVM: %.3f +/- %.3f'%(np.mean(scores),np.std(scores)))\n",
    "print(scores)"
   ]
  },
  {
   "cell_type": "code",
   "execution_count": 55,
   "id": "af567dd9",
   "metadata": {},
   "outputs": [],
   "source": [
    "pipe_tree=make_pipeline(DecisionTreeClassifier(random_state=0))\n",
    "inner_cv=StratifiedKFold(n_splits=10,shuffle=True,random_state=0)\n",
    "outer_cv=StratifiedKFold(n_splits=5,shuffle=True,random_state=0)\n",
    "gs=GridSearchCV(estimator=pipe_tree,\n",
    "                param_grid=[{'decisiontreeclassifier__max_depth':[2,3,4,5,6,7]}],\n",
    "                scoring='accuracy',cv=inner_cv)\n",
    "scores=cross_val_score(gs,X,y,scoring='accuracy',cv=outer_cv)"
   ]
  },
  {
   "cell_type": "code",
   "execution_count": 56,
   "id": "9dfee7d1",
   "metadata": {},
   "outputs": [
    {
     "name": "stdout",
     "output_type": "stream",
     "text": [
      "CV accuracy for CART: 0.933 +/- 0.041\n"
     ]
    }
   ],
   "source": [
    "print('CV accuracy for CART: %.3f +/- %.3f'%(np.mean(scores),np.std(scores)))"
   ]
  },
  {
   "cell_type": "code",
   "execution_count": 65,
   "id": "232cf48d",
   "metadata": {},
   "outputs": [],
   "source": [
    "pipe_lr=make_pipeline(StandardScaler(),PCA(),LogisticRegression(random_state=1))\n",
    "inner_cv=StratifiedKFold(n_splits=10,shuffle=True,random_state=0)\n",
    "outer_cv=StratifiedKFold(n_splits=5,shuffle=True,random_state=0)\n",
    "gs=GridSearchCV(estimator=pipe_lr,\n",
    "                param_grid=[{'pca__n_components':range(2,13),\n",
    "                             'logisticregression__C':[0.01,0.1,1,5,10]}],\n",
    "                scoring='accuracy',cv=inner_cv)\n",
    "scores=cross_val_score(gs,X,y,scoring='accuracy',cv=outer_cv)"
   ]
  },
  {
   "cell_type": "code",
   "execution_count": 66,
   "id": "b74a97fa",
   "metadata": {},
   "outputs": [
    {
     "name": "stdout",
     "output_type": "stream",
     "text": [
      "CV accuracy for Logistic Regression with PCA: 0.978 +/- 0.011\n"
     ]
    }
   ],
   "source": [
    "print('CV accuracy for Logistic Regression with PCA: %.3f +/- %.3f'%(np.mean(scores),np.std(scores)))"
   ]
  },
  {
   "cell_type": "code",
   "execution_count": 68,
   "id": "d878428c",
   "metadata": {},
   "outputs": [],
   "source": [
    "pipe_lr=make_pipeline(StandardScaler(),PCA(),SVC(random_state=1))\n",
    "inner_cv=StratifiedKFold(n_splits=10,shuffle=True,random_state=0)\n",
    "outer_cv=StratifiedKFold(n_splits=5,shuffle=True,random_state=0)\n",
    "gs=GridSearchCV(estimator=pipe_lr,\n",
    "                param_grid=[{'pca__n_components':range(2,13),\n",
    "                             'svc__C':[0.0001,0.001,0.01,0.1,1.,10.,100.],\n",
    "                             'svc__kernel':['linear']},\n",
    "                            {'pca__n_components':range(2,13),\n",
    "                             'svc__C':[0.0001,0.001,0.01,0.1,1.,10.,100.],\n",
    "                             'svc__kernel':['rbf'],\n",
    "                             'svc__gamma':[0.0001,0.001,0.01,0.1,1.,10.,100.]}],\n",
    "                scoring='accuracy',cv=inner_cv)\n",
    "scores=cross_val_score(gs,X,y,scoring='accuracy',cv=outer_cv)"
   ]
  },
  {
   "cell_type": "code",
   "execution_count": 69,
   "id": "aa249e06",
   "metadata": {},
   "outputs": [
    {
     "name": "stdout",
     "output_type": "stream",
     "text": [
      "CV accuracy for SVM with PCA: 0.972 +/- 0.000\n",
      "[0.97222222 0.97222222 0.97222222 0.97142857 0.97142857]\n"
     ]
    }
   ],
   "source": [
    "print('CV accuracy for SVM with PCA: %.3f +/- %.3f'%(np.mean(scores),np.std(scores)))\n",
    "print(scores)"
   ]
  },
  {
   "cell_type": "code",
   "execution_count": null,
   "id": "244ca08f",
   "metadata": {},
   "outputs": [],
   "source": []
  }
 ],
 "metadata": {
  "kernelspec": {
   "display_name": "Python 3 (ipykernel)",
   "language": "python",
   "name": "python3"
  },
  "language_info": {
   "codemirror_mode": {
    "name": "ipython",
    "version": 3
   },
   "file_extension": ".py",
   "mimetype": "text/x-python",
   "name": "python",
   "nbconvert_exporter": "python",
   "pygments_lexer": "ipython3",
   "version": "3.8.10"
  }
 },
 "nbformat": 4,
 "nbformat_minor": 5
}
