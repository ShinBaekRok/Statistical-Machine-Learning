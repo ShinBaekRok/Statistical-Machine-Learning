{
 "cells": [
  {
   "cell_type": "code",
   "execution_count": 1,
   "id": "9d421333",
   "metadata": {},
   "outputs": [],
   "source": [
    "import seaborn as sns\n",
    "iris=sns.load_dataset('iris')\n",
    "X=iris.drop('species',axis=1)\n",
    "y=iris['species']\n",
    "\n",
    "from sklearn.preprocessing import LabelEncoder\n",
    "classle=LabelEncoder()\n",
    "y=classle.fit_transform(iris['species'].values)\n",
    "\n",
    "from sklearn.model_selection import train_test_split\n",
    "X_train,X_test,y_train,y_test=train_test_split(X,y,test_size=.3,random_state=123,stratify=y)"
   ]
  },
  {
   "cell_type": "code",
   "execution_count": 2,
   "id": "f8425ddb",
   "metadata": {},
   "outputs": [
    {
     "data": {
      "text/plain": [
       "SVC(kernel='linear', random_state=1)"
      ]
     },
     "execution_count": 2,
     "metadata": {},
     "output_type": "execute_result"
    }
   ],
   "source": [
    "from sklearn.svm import SVC\n",
    "svm=SVC(kernel='linear',C=1.0,random_state=1)\n",
    "svm.fit(X_train,y_train) "
   ]
  },
  {
   "cell_type": "code",
   "execution_count": 3,
   "id": "c1910d80",
   "metadata": {},
   "outputs": [],
   "source": [
    "y_train_pred=svm.predict(X_train)\n",
    "y_test_pred=svm.predict(X_test)"
   ]
  },
  {
   "cell_type": "code",
   "execution_count": 5,
   "id": "4abbfb5e",
   "metadata": {},
   "outputs": [
    {
     "name": "stdout",
     "output_type": "stream",
     "text": [
      "0.9904761904761905\n",
      "0.9777777777777777\n"
     ]
    }
   ],
   "source": [
    "from sklearn import metrics\n",
    "print(metrics.accuracy_score(y_train,y_train_pred))\n",
    "print(metrics.accuracy_score(y_test,y_test_pred))"
   ]
  },
  {
   "cell_type": "code",
   "execution_count": null,
   "id": "8f799fbe",
   "metadata": {},
   "outputs": [],
   "source": []
  },
  {
   "cell_type": "code",
   "execution_count": 60,
   "id": "35a83013",
   "metadata": {},
   "outputs": [
    {
     "name": "stdout",
     "output_type": "stream",
     "text": [
      "0.9904761904761905\n",
      "0.9777777777777777\n"
     ]
    }
   ],
   "source": [
    "from sklearn.svm import SVC\n",
    "svm=SVC(kernel='linear',C=1.0,random_state=1)\n",
    "svm.fit(X_train,y_train)\n",
    "y_train_pred=svm.predict(X_train)\n",
    "y_test_pred=svm.predict(X_test)\n",
    "from sklearn import metrics\n",
    "print(metrics.accuracy_score(y_train,y_train_pred))\n",
    "print(metrics.accuracy_score(y_test,y_test_pred))"
   ]
  },
  {
   "cell_type": "code",
   "execution_count": 25,
   "id": "19ae5464",
   "metadata": {},
   "outputs": [
    {
     "name": "stdout",
     "output_type": "stream",
     "text": [
      "Train acc for C=0.01: 0.9428571428571428\n",
      "Test  acc for C=0.01: 0.9333333333333333\n",
      "Train acc for C=0.10: 0.9714285714285714\n",
      "Test  acc for C=0.10: 0.9555555555555556\n",
      "Train acc for C=1.00: 0.9904761904761905\n",
      "Test  acc for C=1.00: 0.9777777777777777\n",
      "Train acc for C=5.00: 0.9904761904761905\n",
      "Test  acc for C=5.00: 0.9333333333333333\n",
      "Train acc for C=10.00: 0.9904761904761905\n",
      "Test  acc for C=10.00: 0.9333333333333333\n",
      "Train acc for C=100.00: 0.9904761904761905\n",
      "Test  acc for C=100.00: 0.9333333333333333\n"
     ]
    }
   ],
   "source": [
    "from sklearn.svm import SVC\n",
    "for i in (0.01,0.1,1,5,10,100):\n",
    "    svm=SVC(kernel='linear',C=i,random_state=1)\n",
    "    svm.fit(X_train,y_train)\n",
    "    y_train_pred=svm.predict(X_train)\n",
    "    y_test_pred=svm.predict(X_test)\n",
    "    from sklearn import metrics\n",
    "    print('Train acc for C=%.2f:'%i,metrics.accuracy_score(y_train,y_train_pred))\n",
    "    print('Test  acc for C=%.2f:'%i,metrics.accuracy_score(y_test,y_test_pred))"
   ]
  },
  {
   "cell_type": "code",
   "execution_count": 32,
   "id": "68ae2978",
   "metadata": {},
   "outputs": [
    {
     "data": {
      "text/plain": [
       "GridSearchCV(cv=5, estimator=SVC(kernel='linear', random_state=1),\n",
       "             param_grid={'C': array([0.01, 0.06, 0.11, 0.16, 0.21, 0.26, 0.31, 0.36, 0.41, 0.46, 0.51,\n",
       "       0.56, 0.61, 0.66, 0.71, 0.76, 0.81, 0.86, 0.91, 0.96, 1.01, 1.06,\n",
       "       1.11, 1.16, 1.21, 1.26, 1.31, 1.36, 1.41, 1.46, 1.51, 1.56, 1.61,\n",
       "       1.66, 1.71, 1.76, 1.81, 1.86, 1.91, 1.96, 2.01, 2.06, 2.11, 2.16,\n",
       "       2.21, 2.26, 2.31, 2.36, 2.41, 2.46, 2.51, 2.56, 2.6...\n",
       "       6.61, 6.66, 6.71, 6.76, 6.81, 6.86, 6.91, 6.96, 7.01, 7.06, 7.11,\n",
       "       7.16, 7.21, 7.26, 7.31, 7.36, 7.41, 7.46, 7.51, 7.56, 7.61, 7.66,\n",
       "       7.71, 7.76, 7.81, 7.86, 7.91, 7.96, 8.01, 8.06, 8.11, 8.16, 8.21,\n",
       "       8.26, 8.31, 8.36, 8.41, 8.46, 8.51, 8.56, 8.61, 8.66, 8.71, 8.76,\n",
       "       8.81, 8.86, 8.91, 8.96, 9.01, 9.06, 9.11, 9.16, 9.21, 9.26, 9.31,\n",
       "       9.36, 9.41, 9.46, 9.51, 9.56, 9.61, 9.66, 9.71, 9.76, 9.81, 9.86,\n",
       "       9.91, 9.96])},\n",
       "             scoring='accuracy')"
      ]
     },
     "execution_count": 32,
     "metadata": {},
     "output_type": "execute_result"
    }
   ],
   "source": [
    "from sklearn.model_selection import GridSearchCV\n",
    "import numpy as np\n",
    "\n",
    "params = {'C': np.arange(0.01, 10., 0.05)\n",
    "          }\n",
    "\n",
    "gs = GridSearchCV(SVC(kernel='linear',random_state=1),params,cv=5,scoring='accuracy')\n",
    "gs.fit(X_train, y_train)\n",
    "\n"
   ]
  },
  {
   "cell_type": "code",
   "execution_count": 33,
   "id": "426b3c2e",
   "metadata": {},
   "outputs": [
    {
     "name": "stdout",
     "output_type": "stream",
     "text": [
      "{'C': 0.16000000000000003}\n"
     ]
    }
   ],
   "source": [
    "print(gs.best_params_)"
   ]
  },
  {
   "cell_type": "code",
   "execution_count": 34,
   "id": "5aa779c0",
   "metadata": {},
   "outputs": [
    {
     "name": "stdout",
     "output_type": "stream",
     "text": [
      "0.9555555555555556\n"
     ]
    }
   ],
   "source": [
    "dt = gs.best_estimator_\n",
    "print(dt.score(X_test, y_test))"
   ]
  },
  {
   "cell_type": "code",
   "execution_count": null,
   "id": "9ed9ea92",
   "metadata": {},
   "outputs": [],
   "source": []
  },
  {
   "cell_type": "code",
   "execution_count": 36,
   "id": "77c70975",
   "metadata": {},
   "outputs": [],
   "source": [
    "ksvm=SVC(kernel='rbf', C=1.0, gamma=0.2, random_state=42)\n",
    "ksvm.fit(X_train,y_train)\n",
    "y_train_pred=ksvm.predict(X_train)\n",
    "y_test_pred=ksvm.predict(X_test)"
   ]
  },
  {
   "cell_type": "code",
   "execution_count": 39,
   "id": "cf6929ff",
   "metadata": {},
   "outputs": [
    {
     "name": "stdout",
     "output_type": "stream",
     "text": [
      "0.9904761904761905\n",
      "0.9555555555555556\n"
     ]
    }
   ],
   "source": [
    "print(metrics.accuracy_score(y_train,y_train_pred))\n",
    "print(metrics.accuracy_score(y_test,y_test_pred))"
   ]
  },
  {
   "cell_type": "code",
   "execution_count": 40,
   "id": "d2acaa74",
   "metadata": {},
   "outputs": [
    {
     "data": {
      "text/plain": [
       "array([[15,  0,  0],\n",
       "       [ 0, 13,  2],\n",
       "       [ 0,  0, 15]])"
      ]
     },
     "execution_count": 40,
     "metadata": {},
     "output_type": "execute_result"
    }
   ],
   "source": [
    "metrics.confusion_matrix(y_test,y_test_pred)"
   ]
  },
  {
   "cell_type": "code",
   "execution_count": 55,
   "id": "d024890e",
   "metadata": {},
   "outputs": [
    {
     "name": "stdout",
     "output_type": "stream",
     "text": [
      "0.9809523809523809\n",
      "0.9555555555555556\n"
     ]
    }
   ],
   "source": [
    "ksvm=SVC(kernel='rbf', C=1.0, gamma=0.1, random_state=42)\n",
    "ksvm.fit(X_train,y_train)\n",
    "y_train_pred=ksvm.predict(X_train)\n",
    "y_test_pred=ksvm.predict(X_test)\n",
    "print(metrics.accuracy_score(y_train,y_train_pred))\n",
    "print(metrics.accuracy_score(y_test,y_test_pred))"
   ]
  },
  {
   "cell_type": "code",
   "execution_count": 59,
   "id": "8faaaf73",
   "metadata": {},
   "outputs": [
    {
     "name": "stdout",
     "output_type": "stream",
     "text": [
      "0.9238095238095239\n",
      "0.9111111111111111\n"
     ]
    }
   ],
   "source": [
    "ksvm=SVC(kernel='rbf', C=1.0, gamma=0.0001, random_state=42)\n",
    "ksvm.fit(X_train,y_train)\n",
    "y_train_pred=ksvm.predict(X_train)\n",
    "y_test_pred=ksvm.predict(X_test)\n",
    "print(metrics.accuracy_score(y_train,y_train_pred))\n",
    "print(metrics.accuracy_score(y_test,y_test_pred))"
   ]
  },
  {
   "cell_type": "code",
   "execution_count": 85,
   "id": "cda5276d",
   "metadata": {},
   "outputs": [
    {
     "name": "stdout",
     "output_type": "stream",
     "text": [
      "0.9809523809523809\n",
      "1.0\n"
     ]
    }
   ],
   "source": [
    "ksvm=SVC(kernel='poly', C=0.05, gamma=0.1, random_state=42)\n",
    "ksvm.fit(X_train,y_train)\n",
    "y_train_pred=ksvm.predict(X_train)\n",
    "y_test_pred=ksvm.predict(X_test)\n",
    "print(metrics.accuracy_score(y_train,y_train_pred))\n",
    "print(metrics.accuracy_score(y_test,y_test_pred))"
   ]
  },
  {
   "cell_type": "code",
   "execution_count": 73,
   "id": "5d627a18",
   "metadata": {},
   "outputs": [
    {
     "name": "stdout",
     "output_type": "stream",
     "text": [
      "0.9238095238095239\n",
      "0.9111111111111111\n"
     ]
    }
   ],
   "source": [
    "ksvm=SVC(kernel='sigmoid', C=1.0, gamma=0.0001, random_state=42)\n",
    "ksvm.fit(X_train,y_train)\n",
    "y_train_pred=ksvm.predict(X_train)\n",
    "y_test_pred=ksvm.predict(X_test)\n",
    "print(metrics.accuracy_score(y_train,y_train_pred))\n",
    "print(metrics.accuracy_score(y_test,y_test_pred))"
   ]
  },
  {
   "cell_type": "code",
   "execution_count": 49,
   "id": "9f3d7357",
   "metadata": {},
   "outputs": [
    {
     "name": "stdout",
     "output_type": "stream",
     "text": [
      "0.9238095238095239\n",
      "0.9111111111111111\n"
     ]
    }
   ],
   "source": [
    "ksvm=SVC(kernel='rbf', C=3.0, gamma=0.001, random_state=42)\n",
    "ksvm.fit(X_train,y_train)\n",
    "y_train_pred=ksvm.predict(X_train)\n",
    "y_test_pred=ksvm.predict(X_test)\n",
    "print(metrics.accuracy_score(y_train,y_train_pred))\n",
    "print(metrics.accuracy_score(y_test,y_test_pred))"
   ]
  },
  {
   "cell_type": "code",
   "execution_count": 50,
   "id": "3e8123ae",
   "metadata": {},
   "outputs": [
    {
     "name": "stdout",
     "output_type": "stream",
     "text": [
      "1.0\n",
      "0.9111111111111111\n"
     ]
    }
   ],
   "source": [
    "ksvm=SVC(kernel='rbf', C=3.0, gamma=10, random_state=42)\n",
    "ksvm.fit(X_train,y_train)\n",
    "y_train_pred=ksvm.predict(X_train)\n",
    "y_test_pred=ksvm.predict(X_test)\n",
    "print(metrics.accuracy_score(y_train,y_train_pred))\n",
    "print(metrics.accuracy_score(y_test,y_test_pred))"
   ]
  },
  {
   "cell_type": "code",
   "execution_count": null,
   "id": "aa93ce39",
   "metadata": {},
   "outputs": [],
   "source": []
  }
 ],
 "metadata": {
  "kernelspec": {
   "display_name": "Python 3 (ipykernel)",
   "language": "python",
   "name": "python3"
  },
  "language_info": {
   "codemirror_mode": {
    "name": "ipython",
    "version": 3
   },
   "file_extension": ".py",
   "mimetype": "text/x-python",
   "name": "python",
   "nbconvert_exporter": "python",
   "pygments_lexer": "ipython3",
   "version": "3.8.10"
  }
 },
 "nbformat": 4,
 "nbformat_minor": 5
}
