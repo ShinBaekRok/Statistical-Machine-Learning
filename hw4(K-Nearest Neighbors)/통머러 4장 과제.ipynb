{
 "cells": [
  {
   "cell_type": "code",
   "execution_count": 1,
   "id": "32fd2e0c",
   "metadata": {},
   "outputs": [],
   "source": [
    "from sklearn.preprocessing import LabelEncoder"
   ]
  },
  {
   "cell_type": "code",
   "execution_count": 2,
   "id": "d6b7b9da",
   "metadata": {},
   "outputs": [],
   "source": [
    "import numpy as np"
   ]
  },
  {
   "cell_type": "code",
   "execution_count": 3,
   "id": "8442d236",
   "metadata": {},
   "outputs": [],
   "source": [
    "import seaborn as sns\n",
    "iris=sns.load_dataset('iris')"
   ]
  },
  {
   "cell_type": "code",
   "execution_count": 4,
   "id": "e646af23",
   "metadata": {},
   "outputs": [],
   "source": [
    "X=iris.drop('species',axis=1)\n",
    "y=iris['species']"
   ]
  },
  {
   "cell_type": "code",
   "execution_count": 5,
   "id": "813d221c",
   "metadata": {},
   "outputs": [],
   "source": [
    "classle=LabelEncoder()\n",
    "y=classle.fit_transform(iris['species'].values)"
   ]
  },
  {
   "cell_type": "code",
   "execution_count": 7,
   "id": "73d30b49",
   "metadata": {},
   "outputs": [],
   "source": [
    "from sklearn.model_selection import train_test_split\n",
    "X_train,X_test,y_train,y_test=train_test_split(X,y,test_size=.3,random_state=1,stratify=y)"
   ]
  },
  {
   "cell_type": "code",
   "execution_count": 8,
   "id": "fa36796b",
   "metadata": {},
   "outputs": [],
   "source": [
    "from sklearn.neighbors import KNeighborsClassifier"
   ]
  },
  {
   "cell_type": "code",
   "execution_count": 9,
   "id": "63ad5f28",
   "metadata": {},
   "outputs": [],
   "source": [
    "knn=KNeighborsClassifier(n_neighbors=5,p=2)"
   ]
  },
  {
   "cell_type": "code",
   "execution_count": 10,
   "id": "40e7696f",
   "metadata": {},
   "outputs": [
    {
     "data": {
      "text/plain": [
       "KNeighborsClassifier()"
      ]
     },
     "execution_count": 10,
     "metadata": {},
     "output_type": "execute_result"
    }
   ],
   "source": [
    "knn.fit(X_train,y_train)"
   ]
  },
  {
   "cell_type": "code",
   "execution_count": 11,
   "id": "d245546e",
   "metadata": {},
   "outputs": [],
   "source": [
    "y_train_pred=knn.predict(X_train)"
   ]
  },
  {
   "cell_type": "code",
   "execution_count": 12,
   "id": "b0ba037a",
   "metadata": {},
   "outputs": [],
   "source": [
    "y_test_pred=knn.predict(X_test)"
   ]
  },
  {
   "cell_type": "code",
   "execution_count": 13,
   "id": "38318d59",
   "metadata": {},
   "outputs": [
    {
     "name": "stdout",
     "output_type": "stream",
     "text": [
      "Missclassified training samples: 2\n"
     ]
    }
   ],
   "source": [
    "print('Missclassified training samples: %d' %(y_train!=y_train_pred).sum())"
   ]
  },
  {
   "cell_type": "code",
   "execution_count": 14,
   "id": "474fa4bf",
   "metadata": {},
   "outputs": [
    {
     "name": "stdout",
     "output_type": "stream",
     "text": [
      "Missclassified training samples: 1\n"
     ]
    }
   ],
   "source": [
    "print('Missclassified training samples: %d' %(y_test!=y_test_pred).sum())"
   ]
  },
  {
   "cell_type": "code",
   "execution_count": 15,
   "id": "66a71d8d",
   "metadata": {},
   "outputs": [
    {
     "name": "stdout",
     "output_type": "stream",
     "text": [
      "0.9777777777777777\n"
     ]
    }
   ],
   "source": [
    "from sklearn.metrics import accuracy_score\n",
    "print(accuracy_score(y_test,y_test_pred))"
   ]
  },
  {
   "cell_type": "code",
   "execution_count": null,
   "id": "64f4f20e",
   "metadata": {},
   "outputs": [],
   "source": []
  },
  {
   "cell_type": "code",
   "execution_count": 17,
   "id": "db2bad22",
   "metadata": {},
   "outputs": [],
   "source": [
    "knn1=KNeighborsClassifier(n_neighbors=5,p=2,weights='distance')"
   ]
  },
  {
   "cell_type": "code",
   "execution_count": 19,
   "id": "591648b5",
   "metadata": {},
   "outputs": [],
   "source": [
    "knn1.fit(X_train,y_train)\n",
    "y_train_pred1=knn1.predict(X_train)"
   ]
  },
  {
   "cell_type": "code",
   "execution_count": 21,
   "id": "ffcf96cf",
   "metadata": {},
   "outputs": [],
   "source": [
    "y_test_pred1=knn1.predict(X_test)"
   ]
  },
  {
   "cell_type": "code",
   "execution_count": 22,
   "id": "1c249491",
   "metadata": {},
   "outputs": [
    {
     "name": "stdout",
     "output_type": "stream",
     "text": [
      "Missclassified training samples: 0\n",
      "Missclassified training samples: 1\n"
     ]
    }
   ],
   "source": [
    "print('Missclassified training samples: %d' %(y_train!=y_train_pred1).sum())\n",
    "print('Missclassified training samples: %d' %(y_test!=y_test_pred1).sum())"
   ]
  },
  {
   "cell_type": "code",
   "execution_count": 23,
   "id": "b4e6c4c9",
   "metadata": {},
   "outputs": [
    {
     "name": "stdout",
     "output_type": "stream",
     "text": [
      "0.9777777777777777\n"
     ]
    }
   ],
   "source": [
    "from sklearn.metrics import accuracy_score\n",
    "print(accuracy_score(y_test,y_test_pred1))"
   ]
  },
  {
   "cell_type": "code",
   "execution_count": 24,
   "id": "e93d6170",
   "metadata": {},
   "outputs": [
    {
     "name": "stdout",
     "output_type": "stream",
     "text": [
      "[[15  0  0]\n",
      " [ 0 15  0]\n",
      " [ 0  1 14]]\n",
      "[[15  0  0]\n",
      " [ 0 15  0]\n",
      " [ 0  1 14]]\n"
     ]
    }
   ],
   "source": [
    "from sklearn.metrics import confusion_matrix\n",
    "conf=confusion_matrix(y_true=y_test,y_pred=y_test_pred)\n",
    "print(conf)\n",
    "conf1=confusion_matrix(y_true=y_test,y_pred=y_test_pred1)\n",
    "print(conf1)"
   ]
  },
  {
   "cell_type": "code",
   "execution_count": null,
   "id": "d759d386",
   "metadata": {},
   "outputs": [],
   "source": []
  },
  {
   "cell_type": "code",
   "execution_count": null,
   "id": "8d01e103",
   "metadata": {},
   "outputs": [],
   "source": []
  },
  {
   "cell_type": "code",
   "execution_count": 109,
   "id": "7f6af747",
   "metadata": {},
   "outputs": [
    {
     "name": "stdout",
     "output_type": "stream",
     "text": [
      "0.8888888888888888\n"
     ]
    }
   ],
   "source": [
    "knn=KNeighborsClassifier(n_neighbors=40,p=2)\n",
    "knn.fit(X_train,y_train)\n",
    "y_train_pred=knn.predict(X_train)\n",
    "y_test_pred=knn.predict(X_test)\n",
    "from sklearn.metrics import accuracy_score\n",
    "print(accuracy_score(y_test,y_test_pred))"
   ]
  },
  {
   "cell_type": "code",
   "execution_count": 110,
   "id": "dabcd08e",
   "metadata": {},
   "outputs": [
    {
     "name": "stdout",
     "output_type": "stream",
     "text": [
      "0.9777777777777777\n"
     ]
    }
   ],
   "source": [
    "knn=KNeighborsClassifier(n_neighbors=40,p=2,weights='distance')\n",
    "knn.fit(X_train,y_train)\n",
    "y_test_pred=knn.predict(X_test)\n",
    "print(accuracy_score(y_test,y_test_pred))"
   ]
  },
  {
   "cell_type": "code",
   "execution_count": null,
   "id": "6af273cb",
   "metadata": {},
   "outputs": [],
   "source": []
  },
  {
   "cell_type": "code",
   "execution_count": 82,
   "id": "f795ca6b",
   "metadata": {},
   "outputs": [],
   "source": [
    "x=X.drop(['petal_length','petal_width'],axis=1)"
   ]
  },
  {
   "cell_type": "code",
   "execution_count": 83,
   "id": "f584e549",
   "metadata": {},
   "outputs": [
    {
     "data": {
      "text/plain": [
       "(150, 2)"
      ]
     },
     "execution_count": 83,
     "metadata": {},
     "output_type": "execute_result"
    }
   ],
   "source": [
    "x.shape"
   ]
  },
  {
   "cell_type": "code",
   "execution_count": 84,
   "id": "2ff21586",
   "metadata": {},
   "outputs": [],
   "source": [
    "x_train, x_test, y_train, y_test =train_test_split(x,y,random_state=1, stratify=y, test_size=.3)"
   ]
  },
  {
   "cell_type": "code",
   "execution_count": 105,
   "id": "f36ebafa",
   "metadata": {},
   "outputs": [
    {
     "name": "stdout",
     "output_type": "stream",
     "text": [
      "0.7333333333333333\n"
     ]
    }
   ],
   "source": [
    "knn=KNeighborsClassifier(n_neighbors=7,p=2)\n",
    "knn.fit(x_train,y_train)\n",
    "y_train_pred=knn.predict(x_train)\n",
    "y_test_pred=knn.predict(x_test)\n",
    "from sklearn.metrics import accuracy_score\n",
    "print(accuracy_score(y_test,y_test_pred))"
   ]
  },
  {
   "cell_type": "code",
   "execution_count": 106,
   "id": "8631290a",
   "metadata": {},
   "outputs": [
    {
     "name": "stdout",
     "output_type": "stream",
     "text": [
      "0.7111111111111111\n"
     ]
    }
   ],
   "source": [
    "knn=KNeighborsClassifier(n_neighbors=7,p=2, weights='distance')\n",
    "knn.fit(x_train,y_train)\n",
    "y_train_pred=knn.predict(x_train)\n",
    "y_test_pred=knn.predict(x_test)\n",
    "from sklearn.metrics import accuracy_score\n",
    "print(accuracy_score(y_test,y_test_pred))"
   ]
  },
  {
   "cell_type": "code",
   "execution_count": null,
   "id": "c28481bf",
   "metadata": {},
   "outputs": [],
   "source": []
  },
  {
   "cell_type": "code",
   "execution_count": 112,
   "id": "123f2d31",
   "metadata": {},
   "outputs": [
    {
     "data": {
      "text/plain": [
       "<matplotlib.collections.PolyCollection at 0x15d9e3d60>"
      ]
     },
     "execution_count": 112,
     "metadata": {},
     "output_type": "execute_result"
    },
    {
     "data": {
      "image/png": "[encoded data removed]",
      "text/plain": [
       "<Figure size 432x288 with 1 Axes>"
      ]
     },
     "metadata": {
      "needs_background": "light"
     },
     "output_type": "display_data"
    }
   ],
   "source": [
    "import matplotlib.pyplot as plt\n",
    "xx=X['sepal_length'].values\n",
    "xx=xx.T.reshape(-1,1)\n",
    "xx.shape\n",
    "from sklearn.neighbors import KernelDensity\n",
    "kd=KernelDensity(bandwidth=0.2,kernel='gaussian')\n",
    "kd.fit(xx)\n",
    "xx_d=np.linspace(3,9,1000)\n",
    "logprob=kd.score_samples(xx_d.reshape(-1,1))\n",
    "plt.fill_between(xx_d,np.exp(logprob))"
   ]
  },
  {
   "cell_type": "code",
   "execution_count": 113,
   "id": "50cbecc5",
   "metadata": {},
   "outputs": [
    {
     "data": {
      "text/plain": [
       "<matplotlib.collections.PolyCollection at 0x15dac78b0>"
      ]
     },
     "execution_count": 113,
     "metadata": {},
     "output_type": "execute_result"
    },
    {
     "data": {
      "image/png": "[encoded data removed]",
      "text/plain": [
       "<Figure size 432x288 with 1 Axes>"
      ]
     },
     "metadata": {
      "needs_background": "light"
     },
     "output_type": "display_data"
    }
   ],
   "source": [
    "import matplotlib.pyplot as plt\n",
    "xx=X['sepal_length'].values\n",
    "xx=xx.T.reshape(-1,1)\n",
    "xx.shape\n",
    "from sklearn.neighbors import KernelDensity\n",
    "kd=KernelDensity(bandwidth=0.1,kernel='gaussian')\n",
    "kd.fit(xx)\n",
    "xx_d=np.linspace(3,9,1000)\n",
    "logprob=kd.score_samples(xx_d.reshape(-1,1))\n",
    "plt.fill_between(xx_d,np.exp(logprob))"
   ]
  },
  {
   "cell_type": "code",
   "execution_count": 114,
   "id": "93f84768",
   "metadata": {},
   "outputs": [
    {
     "data": {
      "text/plain": [
       "<matplotlib.collections.PolyCollection at 0x15d6eaaf0>"
      ]
     },
     "execution_count": 114,
     "metadata": {},
     "output_type": "execute_result"
    },
    {
     "data": {
      "image/png": "[encoded data removed]",
      "text/plain": [
       "<Figure size 432x288 with 1 Axes>"
      ]
     },
     "metadata": {
      "needs_background": "light"
     },
     "output_type": "display_data"
    }
   ],
   "source": [
    "import matplotlib.pyplot as plt\n",
    "xx=X['sepal_length'].values\n",
    "xx=xx.T.reshape(-1,1)\n",
    "xx.shape\n",
    "from sklearn.neighbors import KernelDensity\n",
    "kd=KernelDensity(bandwidth=0.05,kernel='gaussian')\n",
    "kd.fit(xx)\n",
    "xx_d=np.linspace(3,9,1000)\n",
    "logprob=kd.score_samples(xx_d.reshape(-1,1))\n",
    "plt.fill_between(xx_d,np.exp(logprob))"
   ]
  },
  {
   "cell_type": "code",
   "execution_count": 115,
   "id": "57ae9360",
   "metadata": {},
   "outputs": [
    {
     "data": {
      "text/plain": [
       "<matplotlib.collections.PolyCollection at 0x15cd36af0>"
      ]
     },
     "execution_count": 115,
     "metadata": {},
     "output_type": "execute_result"
    },
    {
     "data": {
      "image/png": "[encoded data removed]",
      "text/plain": [
       "<Figure size 432x288 with 1 Axes>"
      ]
     },
     "metadata": {
      "needs_background": "light"
     },
     "output_type": "display_data"
    }
   ],
   "source": [
    "import matplotlib.pyplot as plt\n",
    "xx=X['sepal_length'].values\n",
    "xx=xx.T.reshape(-1,1)\n",
    "xx.shape\n",
    "from sklearn.neighbors import KernelDensity\n",
    "kd=KernelDensity(bandwidth=0.3,kernel='gaussian')\n",
    "kd.fit(xx)\n",
    "xx_d=np.linspace(3,9,1000)\n",
    "logprob=kd.score_samples(xx_d.reshape(-1,1))\n",
    "plt.fill_between(xx_d,np.exp(logprob))"
   ]
  },
  {
   "cell_type": "code",
   "execution_count": 147,
   "id": "018f3d56",
   "metadata": {},
   "outputs": [
    {
     "data": {
      "text/plain": [
       "<matplotlib.collections.PolyCollection at 0x15e719370>"
      ]
     },
     "execution_count": 147,
     "metadata": {},
     "output_type": "execute_result"
    },
    {
     "data": {
      "image/png": "[encoded data removed]",
      "text/plain": [
       "<Figure size 432x288 with 1 Axes>"
      ]
     },
     "metadata": {
      "needs_background": "light"
     },
     "output_type": "display_data"
    }
   ],
   "source": [
    "import matplotlib.pyplot as plt\n",
    "xx=X['sepal_length'].values\n",
    "xx=xx.T.reshape(-1,1)\n",
    "xx.shape\n",
    "from sklearn.neighbors import KernelDensity\n",
    "kd=KernelDensity(bandwidth=0.8,kernel='tophat')\n",
    "kd.fit(xx)\n",
    "xx_d=np.linspace(3,9,1000)\n",
    "logprob=kd.score_samples(xx_d.reshape(-1,1))\n",
    "plt.fill_between(xx_d,np.exp(logprob))"
   ]
  },
  {
   "cell_type": "code",
   "execution_count": 146,
   "id": "8d49029a",
   "metadata": {},
   "outputs": [
    {
     "data": {
      "text/plain": [
       "<matplotlib.collections.PolyCollection at 0x15e5439a0>"
      ]
     },
     "execution_count": 146,
     "metadata": {},
     "output_type": "execute_result"
    },
    {
     "data": {
      "image/png": "[encoded data removed]",
      "text/plain": [
       "<Figure size 432x288 with 1 Axes>"
      ]
     },
     "metadata": {
      "needs_background": "light"
     },
     "output_type": "display_data"
    }
   ],
   "source": [
    "import matplotlib.pyplot as plt\n",
    "xx=X['sepal_length'].values\n",
    "xx=xx.T.reshape(-1,1)\n",
    "xx.shape\n",
    "from sklearn.neighbors import KernelDensity\n",
    "kd=KernelDensity(bandwidth=0.8,kernel='linear')\n",
    "kd.fit(xx)\n",
    "xx_d=np.linspace(3,9,1000)\n",
    "logprob=kd.score_samples(xx_d.reshape(-1,1))\n",
    "plt.fill_between(xx_d,np.exp(logprob))"
   ]
  },
  {
   "cell_type": "code",
   "execution_count": 144,
   "id": "785d5999",
   "metadata": {},
   "outputs": [
    {
     "data": {
      "text/plain": [
       "<matplotlib.collections.PolyCollection at 0x15e652fd0>"
      ]
     },
     "execution_count": 144,
     "metadata": {},
     "output_type": "execute_result"
    },
    {
     "data": {
      "image/png": "[encoded data removed]",
      "text/plain": [
       "<Figure size 432x288 with 1 Axes>"
      ]
     },
     "metadata": {
      "needs_background": "light"
     },
     "output_type": "display_data"
    }
   ],
   "source": [
    "import matplotlib.pyplot as plt\n",
    "xx=X['sepal_length'].values\n",
    "xx=xx.T.reshape(-1,1)\n",
    "xx.shape\n",
    "from sklearn.neighbors import KernelDensity\n",
    "kd=KernelDensity(bandwidth=0.15,kernel='exponential')\n",
    "kd.fit(xx)\n",
    "xx_d=np.linspace(3,9,1000)\n",
    "logprob=kd.score_samples(xx_d.reshape(-1,1))\n",
    "plt.fill_between(xx_d,np.exp(logprob))"
   ]
  },
  {
   "cell_type": "code",
   "execution_count": 131,
   "id": "400dd814",
   "metadata": {},
   "outputs": [
    {
     "data": {
      "text/plain": [
       "<matplotlib.collections.PolyCollection at 0x15e15b520>"
      ]
     },
     "execution_count": 131,
     "metadata": {},
     "output_type": "execute_result"
    },
    {
     "data": {
      "image/png": "[encoded data removed]",
      "text/plain": [
       "<Figure size 432x288 with 1 Axes>"
      ]
     },
     "metadata": {
      "needs_background": "light"
     },
     "output_type": "display_data"
    }
   ],
   "source": [
    "import matplotlib.pyplot as plt\n",
    "xx=X['sepal_length'].values\n",
    "xx=xx.T.reshape(-1,1)\n",
    "xx.shape\n",
    "from sklearn.neighbors import KernelDensity\n",
    "kd=KernelDensity(bandwidth=0.255,kernel='cosine')\n",
    "kd.fit(xx)\n",
    "xx_d=np.linspace(3,9,1000)\n",
    "logprob=kd.score_samples(xx_d.reshape(-1,1))\n",
    "plt.fill_between(xx_d,np.exp(logprob))"
   ]
  },
  {
   "cell_type": "code",
   "execution_count": 142,
   "id": "b025d9c7",
   "metadata": {},
   "outputs": [
    {
     "data": {
      "text/plain": [
       "<matplotlib.collections.PolyCollection at 0x15e5876d0>"
      ]
     },
     "execution_count": 142,
     "metadata": {},
     "output_type": "execute_result"
    },
    {
     "data": {
      "image/png": "[encoded data removed]",
      "text/plain": [
       "<Figure size 432x288 with 1 Axes>"
      ]
     },
     "metadata": {
      "needs_background": "light"
     },
     "output_type": "display_data"
    }
   ],
   "source": [
    "import matplotlib.pyplot as plt\n",
    "xx=X['sepal_length'].values\n",
    "xx=xx.T.reshape(-1,1)\n",
    "xx.shape\n",
    "from sklearn.neighbors import KernelDensity\n",
    "kd=KernelDensity(bandwidth=0.25,kernel='epanechnikov')\n",
    "kd.fit(xx)\n",
    "xx_d=np.linspace(3,9,1000)\n",
    "logprob=kd.score_samples(xx_d.reshape(-1,1))\n",
    "plt.fill_between(xx_d,np.exp(logprob))"
   ]
  },
  {
   "cell_type": "code",
   "execution_count": null,
   "id": "f428c232",
   "metadata": {},
   "outputs": [],
   "source": []
  },
  {
   "cell_type": "code",
   "execution_count": null,
   "id": "2e868624",
   "metadata": {},
   "outputs": [],
   "source": []
  }
 ],
 "metadata": {
  "kernelspec": {
   "display_name": "Python 3 (ipykernel)",
   "language": "python",
   "name": "python3"
  },
  "language_info": {
   "codemirror_mode": {
    "name": "ipython",
    "version": 3
   },
   "file_extension": ".py",
   "mimetype": "text/x-python",
   "name": "python",
   "nbconvert_exporter": "python",
   "pygments_lexer": "ipython3",
   "version": "3.8.10"
  }
 },
 "nbformat": 4,
 "nbformat_minor": 5
}
