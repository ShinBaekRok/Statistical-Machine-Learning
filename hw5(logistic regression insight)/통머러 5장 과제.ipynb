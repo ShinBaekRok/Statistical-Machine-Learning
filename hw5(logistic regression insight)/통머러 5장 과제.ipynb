{
 "cells": [
  {
   "cell_type": "code",
   "execution_count": 1,
   "id": "0ad5448e",
   "metadata": {},
   "outputs": [],
   "source": [
    "import seaborn as sns\n",
    "iris=sns.load_dataset('iris')\n",
    "X=iris.drop('species',axis=1)\n",
    "y=iris['species']\n",
    "from sklearn.preprocessing import LabelEncoder\n",
    "classle=LabelEncoder()\n",
    "y=classle.fit_transform(iris['species'].values)\n",
    "from sklearn.model_selection import train_test_split\n",
    "X_train,X_test,y_train,y_test=train_test_split(X,y,test_size=.3,random_state=1,stratify=y)\n"
   ]
  },
  {
   "cell_type": "code",
   "execution_count": 19,
   "id": "824fd7ea",
   "metadata": {},
   "outputs": [],
   "source": [
    "from sklearn.linear_model import LogisticRegression\n",
    "Logit=LogisticRegression(C=1e2,random_state=1,multi_class='ovr',max_iter=200)"
   ]
  },
  {
   "cell_type": "code",
   "execution_count": 20,
   "id": "0ad3f9f1",
   "metadata": {},
   "outputs": [],
   "source": [
    "l_1=Logit.fit(X_train,y_train)"
   ]
  },
  {
   "cell_type": "code",
   "execution_count": 21,
   "id": "f8169da6",
   "metadata": {},
   "outputs": [
    {
     "name": "stdout",
     "output_type": "stream",
     "text": [
      "0.9523809523809523 0.9777777777777777\n"
     ]
    }
   ],
   "source": [
    "y_train_pred=Logit.predict(X_train)\n",
    "y_test_pred=Logit.predict(X_test)\n",
    "from sklearn.metrics import accuracy_score\n",
    "print(accuracy_score(y_train,y_train_pred),\n",
    "     accuracy_score(y_test,y_test_pred))"
   ]
  },
  {
   "cell_type": "code",
   "execution_count": 22,
   "id": "56b9e5ab",
   "metadata": {},
   "outputs": [
    {
     "name": "stdout",
     "output_type": "stream",
     "text": [
      "[[15  0  0]\n",
      " [ 0 15  0]\n",
      " [ 0  1 14]]\n"
     ]
    }
   ],
   "source": [
    "from sklearn.metrics import confusion_matrix\n",
    "print(confusion_matrix(y_test,y_test_pred))"
   ]
  },
  {
   "cell_type": "code",
   "execution_count": 24,
   "id": "92ac09dc",
   "metadata": {},
   "outputs": [
    {
     "name": "stdout",
     "output_type": "stream",
     "text": [
      "[ 11.74134616  10.71605225 -30.65341967]\n",
      "[[-0.76671984  2.09831221 -4.68649463 -1.9094582 ]\n",
      " [-1.55950151 -2.15532289  1.99096135 -2.96098118]\n",
      " [-0.79884463 -4.12128048  6.23015952  9.97751475]]\n"
     ]
    }
   ],
   "source": [
    "print(l_1.intercept_)\n",
    "print(l_1.coef_)"
   ]
  },
  {
   "cell_type": "code",
   "execution_count": 25,
   "id": "6b8b37fe",
   "metadata": {},
   "outputs": [],
   "source": [
    "Logit=LogisticRegression(C=1e2,random_state=1,multi_class='multinomial',max_iter=200)"
   ]
  },
  {
   "cell_type": "code",
   "execution_count": 26,
   "id": "6168e0cd",
   "metadata": {},
   "outputs": [
    {
     "name": "stdout",
     "output_type": "stream",
     "text": [
      "0.9809523809523809 1.0\n"
     ]
    }
   ],
   "source": [
    "l_2=Logit.fit(X_train,y_train)\n",
    "y_train_pred=Logit.predict(X_train)\n",
    "y_test_pred=Logit.predict(X_test)\n",
    "from sklearn.metrics import accuracy_score\n",
    "print(accuracy_score(y_train,y_train_pred),\n",
    "     accuracy_score(y_test,y_test_pred))"
   ]
  },
  {
   "cell_type": "code",
   "execution_count": 27,
   "id": "6eaf816f",
   "metadata": {},
   "outputs": [
    {
     "name": "stdout",
     "output_type": "stream",
     "text": [
      "[ 20.99604994   5.433423   -26.42947294]\n",
      "[[-0.68508556  2.91097558 -5.95742872 -2.67206075]\n",
      " [ 0.74569588  0.79513073 -0.19805547 -4.16718127]\n",
      " [-0.06061032 -3.7061063   6.1554842   6.83924202]]\n"
     ]
    }
   ],
   "source": [
    "print(l_2.intercept_)\n",
    "print(l_2.coef_)"
   ]
  },
  {
   "cell_type": "code",
   "execution_count": null,
   "id": "4e3cda33",
   "metadata": {},
   "outputs": [],
   "source": []
  }
 ],
 "metadata": {
  "kernelspec": {
   "display_name": "Python 3 (ipykernel)",
   "language": "python",
   "name": "python3"
  },
  "language_info": {
   "codemirror_mode": {
    "name": "ipython",
    "version": 3
   },
   "file_extension": ".py",
   "mimetype": "text/x-python",
   "name": "python",
   "nbconvert_exporter": "python",
   "pygments_lexer": "ipython3",
   "version": "3.8.10"
  }
 },
 "nbformat": 4,
 "nbformat_minor": 5
}
