{
 "cells": [
  {
   "cell_type": "code",
   "execution_count": 3,
   "id": "c433cfeb",
   "metadata": {},
   "outputs": [],
   "source": [
    "from pykrx import stock"
   ]
  },
  {
   "cell_type": "code",
   "execution_count": 4,
   "id": "b721f01c",
   "metadata": {},
   "outputs": [],
   "source": [
    "import pandas as pd"
   ]
  },
  {
   "cell_type": "code",
   "execution_count": 92,
   "id": "eb4a177f",
   "metadata": {},
   "outputs": [
    {
     "name": "stdout",
     "output_type": "stream",
     "text": [
      "               종가       거래량   종목명\n",
      "날짜                               \n",
      "2021-09-01  76800  16114775  삼성전자\n",
      "2021-09-02  76000  15347486  삼성전자\n",
      "2021-09-03  76600  12096419  삼성전자\n",
      "2021-09-06  77300  12861180  삼성전자\n",
      "2021-09-07  76100  13239401  삼성전자\n",
      "2021-09-08  76300  11798147  삼성전자\n",
      "2021-09-09  75300  17600770  삼성전자\n",
      "2021-09-10  75300  10103212  삼성전자\n",
      "2021-09-13  76300  11397775  삼성전자\n",
      "2021-09-14  76600  18167057  삼성전자\n",
      "2021-09-15  77000  12829128  삼성전자\n",
      "2021-09-16  76100  13067622  삼성전자\n",
      "2021-09-17  77200  16289502  삼성전자\n",
      "2021-09-23  77400  17055590  삼성전자\n",
      "2021-09-24  77300  12247274  삼성전자\n",
      "2021-09-27  77700  11699798  삼성전자\n",
      "2021-09-28  76300  15406382  삼성전자\n",
      "2021-09-29  74100  23992458  삼성전자\n",
      "2021-09-30  74100  19919361  삼성전자\n",
      "                종가       거래량  종목명\n",
      "날짜                               \n",
      "2021-09-01  154000   2011434  카카오\n",
      "2021-09-02  155000   1649156  카카오\n",
      "2021-09-03  156500   1934669  카카오\n",
      "2021-09-06  155500   1883428  카카오\n",
      "2021-09-07  154000   1072249  카카오\n",
      "2021-09-08  138500  16920382  카카오\n",
      "2021-09-09  128500  14534253  카카오\n",
      "2021-09-10  130000   9918050  카카오\n",
      "2021-09-13  124500   8675498  카카오\n",
      "2021-09-14  124000  18895148  카카오\n",
      "2021-09-15  122500   9078817  카카오\n",
      "2021-09-16  121500   4770936  카카오\n",
      "2021-09-17  119500   4807631  카카오\n",
      "2021-09-23  115000   6314773  카카오\n",
      "2021-09-24  119500   5327603  카카오\n",
      "2021-09-27  120000   3635942  카카오\n",
      "2021-09-28  117500   3445583  카카오\n",
      "2021-09-29  116500   3172350  카카오\n",
      "2021-09-30  118000   4649917  카카오\n",
      "                종가      거래량     종목명\n",
      "날짜                                 \n",
      "2021-09-01  108000  4736183  sk하이닉스\n",
      "2021-09-02  106500  2724565  sk하이닉스\n",
      "2021-09-03  107000  2513486  sk하이닉스\n",
      "2021-09-06  106000  1888595  sk하이닉스\n",
      "2021-09-07  104500  2547667  sk하이닉스\n",
      "2021-09-08  106000  2891267  sk하이닉스\n",
      "2021-09-09  103000  3233011  sk하이닉스\n",
      "2021-09-10  105000  1999369  sk하이닉스\n",
      "2021-09-13  106500  1923344  sk하이닉스\n",
      "2021-09-14  107500  2463248  sk하이닉스\n",
      "2021-09-15  107500  2933797  sk하이닉스\n",
      "2021-09-16  104000  3602821  sk하이닉스\n",
      "2021-09-17  107000  3386517  sk하이닉스\n",
      "2021-09-23  105500  2493313  sk하이닉스\n",
      "2021-09-24  104000  2236954  sk하이닉스\n",
      "2021-09-27  104500  1839358  sk하이닉스\n",
      "2021-09-28  103500  2951945  sk하이닉스\n",
      "2021-09-29  100000  6353977  sk하이닉스\n",
      "2021-09-30  103000  3910557  sk하이닉스\n",
      "                종가      거래량    종목명\n",
      "날짜                                \n",
      "2021-09-01  445000   655075  NAVER\n",
      "2021-09-02  442500   431529  NAVER\n",
      "2021-09-03  452500   646199  NAVER\n",
      "2021-09-06  454000   368743  NAVER\n",
      "2021-09-07  444500   356293  NAVER\n",
      "2021-09-08  409500  2470864  NAVER\n",
      "2021-09-09  399000  1972500  NAVER\n",
      "2021-09-10  410000  1326870  NAVER\n",
      "2021-09-13  408000   771749  NAVER\n",
      "2021-09-14  402500  1636660  NAVER\n",
      "2021-09-15  400500   730616  NAVER\n",
      "2021-09-16  402000   614987  NAVER\n",
      "2021-09-17  403000   558566  NAVER\n",
      "2021-09-23  400000   615295  NAVER\n",
      "2021-09-24  405500   574341  NAVER\n",
      "2021-09-27  403000   455667  NAVER\n",
      "2021-09-28  392500   857556  NAVER\n",
      "2021-09-29  387000   664216  NAVER\n",
      "2021-09-30  388000   611128  NAVER\n",
      "                종가     거래량       종목명\n",
      "날짜                                  \n",
      "2021-09-01  962000   67635  삼성바이오로직스\n",
      "2021-09-02  948000   57000  삼성바이오로직스\n",
      "2021-09-03  951000   53506  삼성바이오로직스\n",
      "2021-09-06  954000   38495  삼성바이오로직스\n",
      "2021-09-07  950000   38510  삼성바이오로직스\n",
      "2021-09-08  931000   68979  삼성바이오로직스\n",
      "2021-09-09  913000  103517  삼성바이오로직스\n",
      "2021-09-10  925000   59758  삼성바이오로직스\n",
      "2021-09-13  913000   45749  삼성바이오로직스\n",
      "2021-09-14  913000   55234  삼성바이오로직스\n",
      "2021-09-15  936000   76766  삼성바이오로직스\n",
      "2021-09-16  916000   55857  삼성바이오로직스\n",
      "2021-09-17  933000   71228  삼성바이오로직스\n",
      "2021-09-23  920000   50033  삼성바이오로직스\n",
      "2021-09-24  922000   46886  삼성바이오로직스\n",
      "2021-09-27  920000   51127  삼성바이오로직스\n",
      "2021-09-28  871000  179106  삼성바이오로직스\n",
      "2021-09-29  874000  102177  삼성바이오로직스\n",
      "2021-09-30  874000   59201  삼성바이오로직스\n",
      "               종가      거래량    종목명\n",
      "날짜                               \n",
      "2021-09-01  70900  1341833  삼성전자우\n",
      "2021-09-02  70300  1267770  삼성전자우\n",
      "2021-09-03  71100   735939  삼성전자우\n",
      "2021-09-06  72000  1061351  삼성전자우\n",
      "2021-09-07  71300   848194  삼성전자우\n",
      "2021-09-08  72000  1299782  삼성전자우\n",
      "2021-09-09  71700  1071684  삼성전자우\n",
      "2021-09-10  70700  1169578  삼성전자우\n",
      "2021-09-13  70800  1339343  삼성전자우\n",
      "2021-09-14  71400  1296302  삼성전자우\n",
      "2021-09-15  71800   826110  삼성전자우\n",
      "2021-09-16  71500  1012901  삼성전자우\n",
      "2021-09-17  71800  1082165  삼성전자우\n",
      "2021-09-23  71800  1543238  삼성전자우\n",
      "2021-09-24  71700  1147092  삼성전자우\n",
      "2021-09-27  72000  1487002  삼성전자우\n",
      "2021-09-28  71600  1285777  삼성전자우\n",
      "2021-09-29  70500  3027961  삼성전자우\n",
      "2021-09-30  69600  2804870  삼성전자우\n",
      "                종가     거래량   종목명\n",
      "날짜                              \n",
      "2021-09-01  721000  906907  LG화학\n",
      "2021-09-02  711000  781458  LG화학\n",
      "2021-09-03  725000  718380  LG화학\n",
      "2021-09-06  750000  545952  LG화학\n",
      "2021-09-07  758000  411836  LG화학\n",
      "2021-09-08  756000  301550  LG화학\n",
      "2021-09-09  748000  313846  LG화학\n",
      "2021-09-10  740000  267584  LG화학\n",
      "2021-09-13  747000  312766  LG화학\n",
      "2021-09-14  734000  243009  LG화학\n",
      "2021-09-15  718000  457453  LG화학\n",
      "2021-09-16  716000  251126  LG화학\n",
      "2021-09-17  701000  337421  LG화학\n",
      "2021-09-23  760000  762911  LG화학\n",
      "2021-09-24  761000  399539  LG화학\n",
      "2021-09-27  770000  234240  LG화학\n",
      "2021-09-28  776000  293276  LG화학\n",
      "2021-09-29  767000  346422  LG화학\n",
      "2021-09-30  776000  365073  LG화학\n",
      "                종가     거래량    종목명\n",
      "날짜                               \n",
      "2021-09-01  788000  203671  삼성SDI\n",
      "2021-09-02  750000  512964  삼성SDI\n",
      "2021-09-03  760000  215816  삼성SDI\n",
      "2021-09-06  767000  135638  삼성SDI\n",
      "2021-09-07  775000  183517  삼성SDI\n",
      "2021-09-08  770000  237847  삼성SDI\n",
      "2021-09-09  749000  327119  삼성SDI\n",
      "2021-09-10  750000  180522  삼성SDI\n",
      "2021-09-13  741000  200788  삼성SDI\n",
      "2021-09-14  755000  197540  삼성SDI\n",
      "2021-09-15  750000  126911  삼성SDI\n",
      "2021-09-16  725000  721596  삼성SDI\n",
      "2021-09-17  725000  261206  삼성SDI\n",
      "2021-09-23  731000  244319  삼성SDI\n",
      "2021-09-24  726000  165459  삼성SDI\n",
      "2021-09-27  735000  294801  삼성SDI\n",
      "2021-09-28  715000  245354  삼성SDI\n",
      "2021-09-29  709000  305935  삼성SDI\n",
      "2021-09-30  718000  255516  삼성SDI\n",
      "                종가     거래량  종목명\n",
      "날짜                             \n",
      "2021-09-01  215000  855937  현대차\n",
      "2021-09-02  211500  656283  현대차\n",
      "2021-09-03  214500  739961  현대차\n",
      "2021-09-06  215000  389587  현대차\n",
      "2021-09-07  212500  434105  현대차\n",
      "2021-09-08  213000  593084  현대차\n",
      "2021-09-09  208500  780270  현대차\n",
      "2021-09-10  206500  678308  현대차\n",
      "2021-09-13  205000  590609  현대차\n",
      "2021-09-14  209000  721080  현대차\n",
      "2021-09-15  209500  472855  현대차\n",
      "2021-09-16  208000  416275  현대차\n",
      "2021-09-17  209000  698398  현대차\n",
      "2021-09-23  208500  525020  현대차\n",
      "2021-09-24  207000  413926  현대차\n",
      "2021-09-27  204000  584898  현대차\n",
      "2021-09-28  201500  719631  현대차\n",
      "2021-09-29  201500  934463  현대차\n",
      "2021-09-30  200000  594666  현대차\n",
      "                종가      거래량   종목명\n",
      "날짜                               \n",
      "2021-09-01  290500   421041  셀트리온\n",
      "2021-09-02  288000   422212  셀트리온\n",
      "2021-09-03  283000   440445  셀트리온\n",
      "2021-09-06  278500   416665  셀트리온\n",
      "2021-09-07  279500   345474  셀트리온\n",
      "2021-09-08  273500   465631  셀트리온\n",
      "2021-09-09  269000   595228  셀트리온\n",
      "2021-09-10  267500   394088  셀트리온\n",
      "2021-09-13  262000   505510  셀트리온\n",
      "2021-09-14  263000   416684  셀트리온\n",
      "2021-09-15  272500   576273  셀트리온\n",
      "2021-09-16  267000   354210  셀트리온\n",
      "2021-09-17  275500   669719  셀트리온\n",
      "2021-09-23  284500  1233089  셀트리온\n",
      "2021-09-24  274500   633897  셀트리온\n",
      "2021-09-27  267500   512408  셀트리온\n",
      "2021-09-28  263500   515609  셀트리온\n",
      "2021-09-29  261000   471947  셀트리온\n",
      "2021-09-30  259500   461399  셀트리온\n"
     ]
    }
   ],
   "source": [
    "df = stock.get_market_ohlcv_by_date(fromdate=\"20210901\", todate=\"20210930\", ticker=\"005930\")\n",
    "df['종목명']='삼성전자'\n",
    "df=df.drop(['시가','고가','저가'],axis=1)\n",
    "print(df)\n",
    "\n",
    "df1 = stock.get_market_ohlcv_by_date(fromdate=\"20210901\", todate=\"20210930\", ticker=\"035720\")\n",
    "df1['종목명']='카카오'\n",
    "df1=df1.drop(['시가','고가','저가'],axis=1)\n",
    "print(df1)\n",
    "\n",
    "df2 = stock.get_market_ohlcv_by_date(fromdate=\"20210901\", todate=\"20210930\", ticker=\"000660\")\n",
    "df2['종목명']='sk하이닉스'\n",
    "df2=df2.drop(['시가','고가','저가'],axis=1)\n",
    "print(df2)\n",
    "\n",
    "df3 = stock.get_market_ohlcv_by_date(fromdate=\"20210901\", todate=\"20210930\", ticker=\"035420\")\n",
    "df3['종목명']='NAVER'\n",
    "df3=df3.drop(['시가','고가','저가'],axis=1)\n",
    "print(df3)\n",
    "\n",
    "df4 = stock.get_market_ohlcv_by_date(fromdate=\"20210901\", todate=\"20210930\", ticker=\"207940\")\n",
    "df4['종목명']='삼성바이오로직스'\n",
    "df4=df4.drop(['시가','고가','저가'],axis=1)\n",
    "print(df4)\n",
    "\n",
    "\n",
    "df5 = stock.get_market_ohlcv_by_date(fromdate=\"20210901\", todate=\"20210930\", ticker=\"005935\")\n",
    "df5['종목명']='삼성전자우'\n",
    "df5=df5.drop(['시가','고가','저가'],axis=1)\n",
    "print(df5)\n",
    "\n",
    "\n",
    "df6 = stock.get_market_ohlcv_by_date(fromdate=\"20210901\", todate=\"20210930\", ticker=\"051910\")\n",
    "df6['종목명']='LG화학'\n",
    "df6=df6.drop(['시가','고가','저가'],axis=1)\n",
    "print(df6)\n",
    "\n",
    "\n",
    "df7 = stock.get_market_ohlcv_by_date(fromdate=\"20210901\", todate=\"20210930\", ticker=\"006400\")\n",
    "df7['종목명']='삼성SDI'\n",
    "df7=df7.drop(['시가','고가','저가'],axis=1)\n",
    "print(df7)\n",
    "\n",
    "\n",
    "df8 = stock.get_market_ohlcv_by_date(fromdate=\"20210901\", todate=\"20210930\", ticker=\"005380\")\n",
    "df8['종목명']='현대차'\n",
    "df8=df8.drop(['시가','고가','저가'],axis=1)\n",
    "print(df8)\n",
    "\n",
    "\n",
    "df9 = stock.get_market_ohlcv_by_date(fromdate=\"20210901\", todate=\"20210930\", ticker=\"068270\")\n",
    "df9['종목명']='셀트리온'\n",
    "df9=df9.drop(['시가','고가','저가'],axis=1)\n",
    "print(df9)"
   ]
  },
  {
   "cell_type": "code",
   "execution_count": 93,
   "id": "b5dc0526",
   "metadata": {},
   "outputs": [
    {
     "name": "stdout",
     "output_type": "stream",
     "text": [
      "                종가       거래량   종목명          날짜\n",
      "날짜                                            \n",
      "2021-09-01   76800  16114775  삼성전자  2021-09-01\n",
      "2021-09-02   76000  15347486  삼성전자  2021-09-02\n",
      "2021-09-03   76600  12096419  삼성전자  2021-09-03\n",
      "2021-09-06   77300  12861180  삼성전자  2021-09-06\n",
      "2021-09-07   76100  13239401  삼성전자  2021-09-07\n",
      "...            ...       ...   ...         ...\n",
      "2021-09-24  274500    633897  셀트리온  2021-09-24\n",
      "2021-09-27  267500    512408  셀트리온  2021-09-27\n",
      "2021-09-28  263500    515609  셀트리온  2021-09-28\n",
      "2021-09-29  261000    471947  셀트리온  2021-09-29\n",
      "2021-09-30  259500    461399  셀트리온  2021-09-30\n",
      "\n",
      "[190 rows x 4 columns]\n"
     ]
    }
   ],
   "source": [
    "\n",
    "merge=pd.merge(df,df1,on=['날짜','종목명','종가','거래량'],how='outer')\n",
    "\n",
    "merge=pd.merge(merge,df2,on=['날짜','종목명','종가','거래량'],how='outer')\n",
    "\n",
    "merge=pd.merge(merge,df3,on=['날짜','종목명','종가','거래량'],how='outer')\n",
    "\n",
    "merge=pd.merge(merge,df4,on=['날짜','종목명','종가','거래량'],how='outer')\n",
    "\n",
    "merge=pd.merge(merge,df5,on=['날짜','종목명','종가','거래량'],how='outer')\n",
    "merge=pd.merge(merge,df6,on=['날짜','종목명','종가','거래량'],how='outer')\n",
    "merge=pd.merge(merge,df7,on=['날짜','종목명','종가','거래량'],how='outer')\n",
    "merge=pd.merge(merge,df8,on=['날짜','종목명','종가','거래량'],how='outer')\n",
    "merge=pd.merge(merge,df9,on=['날짜','종목명','종가','거래량'],how='outer')\n",
    "\n",
    "merge['날짜']=merge.index.astype(str)\n",
    "\n",
    "print(merge)"
   ]
  },
  {
   "cell_type": "code",
   "execution_count": null,
   "id": "c108db5b",
   "metadata": {},
   "outputs": [],
   "source": []
  },
  {
   "cell_type": "code",
   "execution_count": 46,
   "id": "0f468345",
   "metadata": {},
   "outputs": [],
   "source": [
    "import plotly.express as px"
   ]
  },
  {
   "cell_type": "code",
   "execution_count": 96,
   "id": "a50c230a",
   "metadata": {},
   "outputs": [
    {
     "data": {
      "application/vnd.plotly.v1+json": {
       "config": {
        "plotlyServerURL": "https://plot.ly"
       },
       "data": [
        {
         "alignmentgroup": "True",
         "hovertemplate": "종목명=%{x}<br>날짜=2021-09-01<br>종가=%{y}<extra></extra>",
         "ids": [
          "삼성전자"
         ],
         "legendgroup": "삼성전자",
         "marker": {
          "color": "#636efa",
          "pattern": {
           "shape": ""
          }
         },
         "name": "삼성전자",
         "offsetgroup": "삼성전자",
         "orientation": "v",
         "showlegend": true,
         "textposition": "auto",
         "type": "bar",
         "x": [
          "삼성전자"
         ],
         "xaxis": "x",
         "y": [
          76800
         ],
         "yaxis": "y"
        },
        {
         "alignmentgroup": "True",
         "hovertemplate": "종목명=%{x}<br>날짜=2021-09-01<br>종가=%{y}<extra></extra>",
         "ids": [
          "카카오"
         ],
         "legendgroup": "카카오",
         "marker": {
          "color": "#EF553B",
          "pattern": {
           "shape": ""
          }
         },
         "name": "카카오",
         "offsetgroup": "카카오",
         "orientation": "v",
         "showlegend": true,
         "textposition": "auto",
         "type": "bar",
         "x": [
          "카카오"
         ],
         "xaxis": "x",
         "y": [
          154000
         ],
         "yaxis": "y"
        },
        {
         "alignmentgroup": "True",
         "hovertemplate": "종목명=%{x}<br>날짜=2021-09-01<br>종가=%{y}<extra></extra>",
         "ids": [
          "sk하이닉스"
         ],
         "legendgroup": "sk하이닉스",
         "marker": {
          "color": "#00cc96",
          "pattern": {
           "shape": ""
          }
         },
         "name": "sk하이닉스",
         "offsetgroup": "sk하이닉스",
         "orientation": "v",
         "showlegend": true,
         "textposition": "auto",
         "type": "bar",
         "x": [
          "sk하이닉스"
         ],
         "xaxis": "x",
         "y": [
          108000
         ],
         "yaxis": "y"
        },
        {
         "alignmentgroup": "True",
         "hovertemplate": "종목명=%{x}<br>날짜=2021-09-01<br>종가=%{y}<extra></extra>",
         "ids": [
          "NAVER"
         ],
         "legendgroup": "NAVER",
         "marker": {
          "color": "#ab63fa",
          "pattern": {
           "shape": ""
          }
         },
         "name": "NAVER",
         "offsetgroup": "NAVER",
         "orientation": "v",
         "showlegend": true,
         "textposition": "auto",
         "type": "bar",
         "x": [
          "NAVER"
         ],
         "xaxis": "x",
         "y": [
          445000
         ],
         "yaxis": "y"
        },
        {
         "alignmentgroup": "True",
         "hovertemplate": "종목명=%{x}<br>날짜=2021-09-01<br>종가=%{y}<extra></extra>",
         "ids": [
          "삼성바이오로직스"
         ],
         "legendgroup": "삼성바이오로직스",
         "marker": {
          "color": "#FFA15A",
          "pattern": {
           "shape": ""
          }
         },
         "name": "삼성바이오로직스",
         "offsetgroup": "삼성바이오로직스",
         "orientation": "v",
         "showlegend": true,
         "textposition": "auto",
         "type": "bar",
         "x": [
          "삼성바이오로직스"
         ],
         "xaxis": "x",
         "y": [
          962000
         ],
         "yaxis": "y"
        },
        {
         "alignmentgroup": "True",
         "hovertemplate": "종목명=%{x}<br>날짜=2021-09-01<br>종가=%{y}<extra></extra>",
         "ids": [
          "삼성전자우"
         ],
         "legendgroup": "삼성전자우",
         "marker": {
          "color": "#19d3f3",
          "pattern": {
           "shape": ""
          }
         },
         "name": "삼성전자우",
         "offsetgroup": "삼성전자우",
         "orientation": "v",
         "showlegend": true,
         "textposition": "auto",
         "type": "bar",
         "x": [
          "삼성전자우"
         ],
         "xaxis": "x",
         "y": [
          70900
         ],
         "yaxis": "y"
        },
        {
         "alignmentgroup": "True",
         "hovertemplate": "종목명=%{x}<br>날짜=2021-09-01<br>종가=%{y}<extra></extra>",
         "ids": [
          "LG화학"
         ],
         "legendgroup": "LG화학",
         "marker": {
          "color": "#FF6692",
          "pattern": {
           "shape": ""
          }
         },
         "name": "LG화학",
         "offsetgroup": "LG화학",
         "orientation": "v",
         "showlegend": true,
         "textposition": "auto",
         "type": "bar",
         "x": [
          "LG화학"
         ],
         "xaxis": "x",
         "y": [
          721000
         ],
         "yaxis": "y"
        },
        {
         "alignmentgroup": "True",
         "hovertemplate": "종목명=%{x}<br>날짜=2021-09-01<br>종가=%{y}<extra></extra>",
         "ids": [
          "삼성SDI"
         ],
         "legendgroup": "삼성SDI",
         "marker": {
          "color": "#B6E880",
          "pattern": {
           "shape": ""
          }
         },
         "name": "삼성SDI",
         "offsetgroup": "삼성SDI",
         "orientation": "v",
         "showlegend": true,
         "textposition": "auto",
         "type": "bar",
         "x": [
          "삼성SDI"
         ],
         "xaxis": "x",
         "y": [
          788000
         ],
         "yaxis": "y"
        },
        {
         "alignmentgroup": "True",
         "hovertemplate": "종목명=%{x}<br>날짜=2021-09-01<br>종가=%{y}<extra></extra>",
         "ids": [
          "현대차"
         ],
         "legendgroup": "현대차",
         "marker": {
          "color": "#FF97FF",
          "pattern": {
           "shape": ""
          }
         },
         "name": "현대차",
         "offsetgroup": "현대차",
         "orientation": "v",
         "showlegend": true,
         "textposition": "auto",
         "type": "bar",
         "x": [
          "현대차"
         ],
         "xaxis": "x",
         "y": [
          215000
         ],
         "yaxis": "y"
        },
        {
         "alignmentgroup": "True",
         "hovertemplate": "종목명=%{x}<br>날짜=2021-09-01<br>종가=%{y}<extra></extra>",
         "ids": [
          "셀트리온"
         ],
         "legendgroup": "셀트리온",
         "marker": {
          "color": "#FECB52",
          "pattern": {
           "shape": ""
          }
         },
         "name": "셀트리온",
         "offsetgroup": "셀트리온",
         "orientation": "v",
         "showlegend": true,
         "textposition": "auto",
         "type": "bar",
         "x": [
          "셀트리온"
         ],
         "xaxis": "x",
         "y": [
          290500
         ],
         "yaxis": "y"
        }
       ],
       "frames": [
        {
         "data": [
          {
           "alignmentgroup": "True",
           "hovertemplate": "종목명=%{x}<br>날짜=2021-09-01<br>종가=%{y}<extra></extra>",
           "ids": [
            "삼성전자"
           ],
           "legendgroup": "삼성전자",
           "marker": {
            "color": "#636efa",
            "pattern": {
             "shape": ""
            }
           },
           "name": "삼성전자",
           "offsetgroup": "삼성전자",
           "orientation": "v",
           "showlegend": true,
           "textposition": "auto",
           "type": "bar",
           "x": [
            "삼성전자"
           ],
           "xaxis": "x",
           "y": [
            76800
           ],
           "yaxis": "y"
          },
          {
           "alignmentgroup": "True",
           "hovertemplate": "종목명=%{x}<br>날짜=2021-09-01<br>종가=%{y}<extra></extra>",
           "ids": [
            "카카오"
           ],
           "legendgroup": "카카오",
           "marker": {
            "color": "#EF553B",
            "pattern": {
             "shape": ""
            }
           },
           "name": "카카오",
           "offsetgroup": "카카오",
           "orientation": "v",
           "showlegend": true,
           "textposition": "auto",
           "type": "bar",
           "x": [
            "카카오"
           ],
           "xaxis": "x",
           "y": [
            154000
           ],
           "yaxis": "y"
          },
          {
           "alignmentgroup": "True",
           "hovertemplate": "종목명=%{x}<br>날짜=2021-09-01<br>종가=%{y}<extra></extra>",
           "ids": [
            "sk하이닉스"
           ],
           "legendgroup": "sk하이닉스",
           "marker": {
            "color": "#00cc96",
            "pattern": {
             "shape": ""
            }
           },
           "name": "sk하이닉스",
           "offsetgroup": "sk하이닉스",
           "orientation": "v",
           "showlegend": true,
           "textposition": "auto",
           "type": "bar",
           "x": [
            "sk하이닉스"
           ],
           "xaxis": "x",
           "y": [
            108000
           ],
           "yaxis": "y"
          },
          {
           "alignmentgroup": "True",
           "hovertemplate": "종목명=%{x}<br>날짜=2021-09-01<br>종가=%{y}<extra></extra>",
           "ids": [
            "NAVER"
           ],
           "legendgroup": "NAVER",
           "marker": {
            "color": "#ab63fa",
            "pattern": {
             "shape": ""
            }
           },
           "name": "NAVER",
           "offsetgroup": "NAVER",
           "orientation": "v",
           "showlegend": true,
           "textposition": "auto",
           "type": "bar",
           "x": [
            "NAVER"
           ],
           "xaxis": "x",
           "y": [
            445000
           ],
           "yaxis": "y"
          },
          {
           "alignmentgroup": "True",
           "hovertemplate": "종목명=%{x}<br>날짜=2021-09-01<br>종가=%{y}<extra></extra>",
           "ids": [
            "삼성바이오로직스"
           ],
           "legendgroup": "삼성바이오로직스",
           "marker": {
            "color": "#FFA15A",
            "pattern": {
             "shape": ""
            }
           },
           "name": "삼성바이오로직스",
           "offsetgroup": "삼성바이오로직스",
           "orientation": "v",
           "showlegend": true,
           "textposition": "auto",
           "type": "bar",
           "x": [
            "삼성바이오로직스"
           ],
           "xaxis": "x",
           "y": [
            962000
           ],
           "yaxis": "y"
          },
          {
           "alignmentgroup": "True",
           "hovertemplate": "종목명=%{x}<br>날짜=2021-09-01<br>종가=%{y}<extra></extra>",
           "ids": [
            "삼성전자우"
           ],
           "legendgroup": "삼성전자우",
           "marker": {
            "color": "#19d3f3",
            "pattern": {
             "shape": ""
            }
           },
           "name": "삼성전자우",
           "offsetgroup": "삼성전자우",
           "orientation": "v",
           "showlegend": true,
           "textposition": "auto",
           "type": "bar",
           "x": [
            "삼성전자우"
           ],
           "xaxis": "x",
           "y": [
            70900
           ],
           "yaxis": "y"
          },
          {
           "alignmentgroup": "True",
           "hovertemplate": "종목명=%{x}<br>날짜=2021-09-01<br>종가=%{y}<extra></extra>",
           "ids": [
            "LG화학"
           ],
           "legendgroup": "LG화학",
           "marker": {
            "color": "#FF6692",
            "pattern": {
             "shape": ""
            }
           },
           "name": "LG화학",
           "offsetgroup": "LG화학",
           "orientation": "v",
           "showlegend": true,
           "textposition": "auto",
           "type": "bar",
           "x": [
            "LG화학"
           ],
           "xaxis": "x",
           "y": [
            721000
           ],
           "yaxis": "y"
          },
          {
           "alignmentgroup": "True",
           "hovertemplate": "종목명=%{x}<br>날짜=2021-09-01<br>종가=%{y}<extra></extra>",
           "ids": [
            "삼성SDI"
           ],
           "legendgroup": "삼성SDI",
           "marker": {
            "color": "#B6E880",
            "pattern": {
             "shape": ""
            }
           },
           "name": "삼성SDI",
           "offsetgroup": "삼성SDI",
           "orientation": "v",
           "showlegend": true,
           "textposition": "auto",
           "type": "bar",
           "x": [
            "삼성SDI"
           ],
           "xaxis": "x",
           "y": [
            788000
           ],
           "yaxis": "y"
          },
          {
           "alignmentgroup": "True",
           "hovertemplate": "종목명=%{x}<br>날짜=2021-09-01<br>종가=%{y}<extra></extra>",
           "ids": [
            "현대차"
           ],
           "legendgroup": "현대차",
           "marker": {
            "color": "#FF97FF",
            "pattern": {
             "shape": ""
            }
           },
           "name": "현대차",
           "offsetgroup": "현대차",
           "orientation": "v",
           "showlegend": true,
           "textposition": "auto",
           "type": "bar",
           "x": [
            "현대차"
           ],
           "xaxis": "x",
           "y": [
            215000
           ],
           "yaxis": "y"
          },
          {
           "alignmentgroup": "True",
           "hovertemplate": "종목명=%{x}<br>날짜=2021-09-01<br>종가=%{y}<extra></extra>",
           "ids": [
            "셀트리온"
           ],
           "legendgroup": "셀트리온",
           "marker": {
            "color": "#FECB52",
            "pattern": {
             "shape": ""
            }
           },
           "name": "셀트리온",
           "offsetgroup": "셀트리온",
           "orientation": "v",
           "showlegend": true,
           "textposition": "auto",
           "type": "bar",
           "x": [
            "셀트리온"
           ],
           "xaxis": "x",
           "y": [
            290500
           ],
           "yaxis": "y"
          }
         ],
         "name": "2021-09-01"
        },
        {
         "data": [
          {
           "alignmentgroup": "True",
           "hovertemplate": "종목명=%{x}<br>날짜=2021-09-02<br>종가=%{y}<extra></extra>",
           "ids": [
            "삼성전자"
           ],
           "legendgroup": "삼성전자",
           "marker": {
            "color": "#636efa",
            "pattern": {
             "shape": ""
            }
           },
           "name": "삼성전자",
           "offsetgroup": "삼성전자",
           "orientation": "v",
           "showlegend": true,
           "textposition": "auto",
           "type": "bar",
           "x": [
            "삼성전자"
           ],
           "xaxis": "x",
           "y": [
            76000
           ],
           "yaxis": "y"
          },
          {
           "alignmentgroup": "True",
           "hovertemplate": "종목명=%{x}<br>날짜=2021-09-02<br>종가=%{y}<extra></extra>",
           "ids": [
            "카카오"
           ],
           "legendgroup": "카카오",
           "marker": {
            "color": "#EF553B",
            "pattern": {
             "shape": ""
            }
           },
           "name": "카카오",
           "offsetgroup": "카카오",
           "orientation": "v",
           "showlegend": true,
           "textposition": "auto",
           "type": "bar",
           "x": [
            "카카오"
           ],
           "xaxis": "x",
           "y": [
            155000
           ],
           "yaxis": "y"
          },
          {
           "alignmentgroup": "True",
           "hovertemplate": "종목명=%{x}<br>날짜=2021-09-02<br>종가=%{y}<extra></extra>",
           "ids": [
            "sk하이닉스"
           ],
           "legendgroup": "sk하이닉스",
           "marker": {
            "color": "#00cc96",
            "pattern": {
             "shape": ""
            }
           },
           "name": "sk하이닉스",
           "offsetgroup": "sk하이닉스",
           "orientation": "v",
           "showlegend": true,
           "textposition": "auto",
           "type": "bar",
           "x": [
            "sk하이닉스"
           ],
           "xaxis": "x",
           "y": [
            106500
           ],
           "yaxis": "y"
          },
          {
           "alignmentgroup": "True",
           "hovertemplate": "종목명=%{x}<br>날짜=2021-09-02<br>종가=%{y}<extra></extra>",
           "ids": [
            "NAVER"
           ],
           "legendgroup": "NAVER",
           "marker": {
            "color": "#ab63fa",
            "pattern": {
             "shape": ""
            }
           },
           "name": "NAVER",
           "offsetgroup": "NAVER",
           "orientation": "v",
           "showlegend": true,
           "textposition": "auto",
           "type": "bar",
           "x": [
            "NAVER"
           ],
           "xaxis": "x",
           "y": [
            442500
           ],
           "yaxis": "y"
          },
          {
           "alignmentgroup": "True",
           "hovertemplate": "종목명=%{x}<br>날짜=2021-09-02<br>종가=%{y}<extra></extra>",
           "ids": [
            "삼성바이오로직스"
           ],
           "legendgroup": "삼성바이오로직스",
           "marker": {
            "color": "#FFA15A",
            "pattern": {
             "shape": ""
            }
           },
           "name": "삼성바이오로직스",
           "offsetgroup": "삼성바이오로직스",
           "orientation": "v",
           "showlegend": true,
           "textposition": "auto",
           "type": "bar",
           "x": [
            "삼성바이오로직스"
           ],
           "xaxis": "x",
           "y": [
            948000
           ],
           "yaxis": "y"
          },
          {
           "alignmentgroup": "True",
           "hovertemplate": "종목명=%{x}<br>날짜=2021-09-02<br>종가=%{y}<extra></extra>",
           "ids": [
            "삼성전자우"
           ],
           "legendgroup": "삼성전자우",
           "marker": {
            "color": "#19d3f3",
            "pattern": {
             "shape": ""
            }
           },
           "name": "삼성전자우",
           "offsetgroup": "삼성전자우",
           "orientation": "v",
           "showlegend": true,
           "textposition": "auto",
           "type": "bar",
           "x": [
            "삼성전자우"
           ],
           "xaxis": "x",
           "y": [
            70300
           ],
           "yaxis": "y"
          },
          {
           "alignmentgroup": "True",
           "hovertemplate": "종목명=%{x}<br>날짜=2021-09-02<br>종가=%{y}<extra></extra>",
           "ids": [
            "LG화학"
           ],
           "legendgroup": "LG화학",
           "marker": {
            "color": "#FF6692",
            "pattern": {
             "shape": ""
            }
           },
           "name": "LG화학",
           "offsetgroup": "LG화학",
           "orientation": "v",
           "showlegend": true,
           "textposition": "auto",
           "type": "bar",
           "x": [
            "LG화학"
           ],
           "xaxis": "x",
           "y": [
            711000
           ],
           "yaxis": "y"
          },
          {
           "alignmentgroup": "True",
           "hovertemplate": "종목명=%{x}<br>날짜=2021-09-02<br>종가=%{y}<extra></extra>",
           "ids": [
            "삼성SDI"
           ],
           "legendgroup": "삼성SDI",
           "marker": {
            "color": "#B6E880",
            "pattern": {
             "shape": ""
            }
           },
           "name": "삼성SDI",
           "offsetgroup": "삼성SDI",
           "orientation": "v",
           "showlegend": true,
           "textposition": "auto",
           "type": "bar",
           "x": [
            "삼성SDI"
           ],
           "xaxis": "x",
           "y": [
            750000
           ],
           "yaxis": "y"
          },
          {
           "alignmentgroup": "True",
           "hovertemplate": "종목명=%{x}<br>날짜=2021-09-02<br>종가=%{y}<extra></extra>",
           "ids": [
            "현대차"
           ],
           "legendgroup": "현대차",
           "marker": {
            "color": "#FF97FF",
            "pattern": {
             "shape": ""
            }
           },
           "name": "현대차",
           "offsetgroup": "현대차",
           "orientation": "v",
           "showlegend": true,
           "textposition": "auto",
           "type": "bar",
           "x": [
            "현대차"
           ],
           "xaxis": "x",
           "y": [
            211500
           ],
           "yaxis": "y"
          },
          {
           "alignmentgroup": "True",
           "hovertemplate": "종목명=%{x}<br>날짜=2021-09-02<br>종가=%{y}<extra></extra>",
           "ids": [
            "셀트리온"
           ],
           "legendgroup": "셀트리온",
           "marker": {
            "color": "#FECB52",
            "pattern": {
             "shape": ""
            }
           },
           "name": "셀트리온",
           "offsetgroup": "셀트리온",
           "orientation": "v",
           "showlegend": true,
           "textposition": "auto",
           "type": "bar",
           "x": [
            "셀트리온"
           ],
           "xaxis": "x",
           "y": [
            288000
           ],
           "yaxis": "y"
          }
         ],
         "name": "2021-09-02"
        },
        {
         "data": [
          {
           "alignmentgroup": "True",
           "hovertemplate": "종목명=%{x}<br>날짜=2021-09-03<br>종가=%{y}<extra></extra>",
           "ids": [
            "삼성전자"
           ],
           "legendgroup": "삼성전자",
           "marker": {
            "color": "#636efa",
            "pattern": {
             "shape": ""
            }
           },
           "name": "삼성전자",
           "offsetgroup": "삼성전자",
           "orientation": "v",
           "showlegend": true,
           "textposition": "auto",
           "type": "bar",
           "x": [
            "삼성전자"
           ],
           "xaxis": "x",
           "y": [
            76600
           ],
           "yaxis": "y"
          },
          {
           "alignmentgroup": "True",
           "hovertemplate": "종목명=%{x}<br>날짜=2021-09-03<br>종가=%{y}<extra></extra>",
           "ids": [
            "카카오"
           ],
           "legendgroup": "카카오",
           "marker": {
            "color": "#EF553B",
            "pattern": {
             "shape": ""
            }
           },
           "name": "카카오",
           "offsetgroup": "카카오",
           "orientation": "v",
           "showlegend": true,
           "textposition": "auto",
           "type": "bar",
           "x": [
            "카카오"
           ],
           "xaxis": "x",
           "y": [
            156500
           ],
           "yaxis": "y"
          },
          {
           "alignmentgroup": "True",
           "hovertemplate": "종목명=%{x}<br>날짜=2021-09-03<br>종가=%{y}<extra></extra>",
           "ids": [
            "sk하이닉스"
           ],
           "legendgroup": "sk하이닉스",
           "marker": {
            "color": "#00cc96",
            "pattern": {
             "shape": ""
            }
           },
           "name": "sk하이닉스",
           "offsetgroup": "sk하이닉스",
           "orientation": "v",
           "showlegend": true,
           "textposition": "auto",
           "type": "bar",
           "x": [
            "sk하이닉스"
           ],
           "xaxis": "x",
           "y": [
            107000
           ],
           "yaxis": "y"
          },
          {
           "alignmentgroup": "True",
           "hovertemplate": "종목명=%{x}<br>날짜=2021-09-03<br>종가=%{y}<extra></extra>",
           "ids": [
            "NAVER"
           ],
           "legendgroup": "NAVER",
           "marker": {
            "color": "#ab63fa",
            "pattern": {
             "shape": ""
            }
           },
           "name": "NAVER",
           "offsetgroup": "NAVER",
           "orientation": "v",
           "showlegend": true,
           "textposition": "auto",
           "type": "bar",
           "x": [
            "NAVER"
           ],
           "xaxis": "x",
           "y": [
            452500
           ],
           "yaxis": "y"
          },
          {
           "alignmentgroup": "True",
           "hovertemplate": "종목명=%{x}<br>날짜=2021-09-03<br>종가=%{y}<extra></extra>",
           "ids": [
            "삼성바이오로직스"
           ],
           "legendgroup": "삼성바이오로직스",
           "marker": {
            "color": "#FFA15A",
            "pattern": {
             "shape": ""
            }
           },
           "name": "삼성바이오로직스",
           "offsetgroup": "삼성바이오로직스",
           "orientation": "v",
           "showlegend": true,
           "textposition": "auto",
           "type": "bar",
           "x": [
            "삼성바이오로직스"
           ],
           "xaxis": "x",
           "y": [
            951000
           ],
           "yaxis": "y"
          },
          {
           "alignmentgroup": "True",
           "hovertemplate": "종목명=%{x}<br>날짜=2021-09-03<br>종가=%{y}<extra></extra>",
           "ids": [
            "삼성전자우"
           ],
           "legendgroup": "삼성전자우",
           "marker": {
            "color": "#19d3f3",
            "pattern": {
             "shape": ""
            }
           },
           "name": "삼성전자우",
           "offsetgroup": "삼성전자우",
           "orientation": "v",
           "showlegend": true,
           "textposition": "auto",
           "type": "bar",
           "x": [
            "삼성전자우"
           ],
           "xaxis": "x",
           "y": [
            71100
           ],
           "yaxis": "y"
          },
          {
           "alignmentgroup": "True",
           "hovertemplate": "종목명=%{x}<br>날짜=2021-09-03<br>종가=%{y}<extra></extra>",
           "ids": [
            "LG화학"
           ],
           "legendgroup": "LG화학",
           "marker": {
            "color": "#FF6692",
            "pattern": {
             "shape": ""
            }
           },
           "name": "LG화학",
           "offsetgroup": "LG화학",
           "orientation": "v",
           "showlegend": true,
           "textposition": "auto",
           "type": "bar",
           "x": [
            "LG화학"
           ],
           "xaxis": "x",
           "y": [
            725000
           ],
           "yaxis": "y"
          },
          {
           "alignmentgroup": "True",
           "hovertemplate": "종목명=%{x}<br>날짜=2021-09-03<br>종가=%{y}<extra></extra>",
           "ids": [
            "삼성SDI"
           ],
           "legendgroup": "삼성SDI",
           "marker": {
            "color": "#B6E880",
            "pattern": {
             "shape": ""
            }
           },
           "name": "삼성SDI",
           "offsetgroup": "삼성SDI",
           "orientation": "v",
           "showlegend": true,
           "textposition": "auto",
           "type": "bar",
           "x": [
            "삼성SDI"
           ],
           "xaxis": "x",
           "y": [
            760000
           ],
           "yaxis": "y"
          },
          {
           "alignmentgroup": "True",
           "hovertemplate": "종목명=%{x}<br>날짜=2021-09-03<br>종가=%{y}<extra></extra>",
           "ids": [
            "현대차"
           ],
           "legendgroup": "현대차",
           "marker": {
            "color": "#FF97FF",
            "pattern": {
             "shape": ""
            }
           },
           "name": "현대차",
           "offsetgroup": "현대차",
           "orientation": "v",
           "showlegend": true,
           "textposition": "auto",
           "type": "bar",
           "x": [
            "현대차"
           ],
           "xaxis": "x",
           "y": [
            214500
           ],
           "yaxis": "y"
          },
          {
           "alignmentgroup": "True",
           "hovertemplate": "종목명=%{x}<br>날짜=2021-09-03<br>종가=%{y}<extra></extra>",
           "ids": [
            "셀트리온"
           ],
           "legendgroup": "셀트리온",
           "marker": {
            "color": "#FECB52",
            "pattern": {
             "shape": ""
            }
           },
           "name": "셀트리온",
           "offsetgroup": "셀트리온",
           "orientation": "v",
           "showlegend": true,
           "textposition": "auto",
           "type": "bar",
           "x": [
            "셀트리온"
           ],
           "xaxis": "x",
           "y": [
            283000
           ],
           "yaxis": "y"
          }
         ],
         "name": "2021-09-03"
        },
        {
         "data": [
          {
           "alignmentgroup": "True",
           "hovertemplate": "종목명=%{x}<br>날짜=2021-09-06<br>종가=%{y}<extra></extra>",
           "ids": [
            "삼성전자"
           ],
           "legendgroup": "삼성전자",
           "marker": {
            "color": "#636efa",
            "pattern": {
             "shape": ""
            }
           },
           "name": "삼성전자",
           "offsetgroup": "삼성전자",
           "orientation": "v",
           "showlegend": true,
           "textposition": "auto",
           "type": "bar",
           "x": [
            "삼성전자"
           ],
           "xaxis": "x",
           "y": [
            77300
           ],
           "yaxis": "y"
          },
          {
           "alignmentgroup": "True",
           "hovertemplate": "종목명=%{x}<br>날짜=2021-09-06<br>종가=%{y}<extra></extra>",
           "ids": [
            "카카오"
           ],
           "legendgroup": "카카오",
           "marker": {
            "color": "#EF553B",
            "pattern": {
             "shape": ""
            }
           },
           "name": "카카오",
           "offsetgroup": "카카오",
           "orientation": "v",
           "showlegend": true,
           "textposition": "auto",
           "type": "bar",
           "x": [
            "카카오"
           ],
           "xaxis": "x",
           "y": [
            155500
           ],
           "yaxis": "y"
          },
          {
           "alignmentgroup": "True",
           "hovertemplate": "종목명=%{x}<br>날짜=2021-09-06<br>종가=%{y}<extra></extra>",
           "ids": [
            "sk하이닉스"
           ],
           "legendgroup": "sk하이닉스",
           "marker": {
            "color": "#00cc96",
            "pattern": {
             "shape": ""
            }
           },
           "name": "sk하이닉스",
           "offsetgroup": "sk하이닉스",
           "orientation": "v",
           "showlegend": true,
           "textposition": "auto",
           "type": "bar",
           "x": [
            "sk하이닉스"
           ],
           "xaxis": "x",
           "y": [
            106000
           ],
           "yaxis": "y"
          },
          {
           "alignmentgroup": "True",
           "hovertemplate": "종목명=%{x}<br>날짜=2021-09-06<br>종가=%{y}<extra></extra>",
           "ids": [
            "NAVER"
           ],
           "legendgroup": "NAVER",
           "marker": {
            "color": "#ab63fa",
            "pattern": {
             "shape": ""
            }
           },
           "name": "NAVER",
           "offsetgroup": "NAVER",
           "orientation": "v",
           "showlegend": true,
           "textposition": "auto",
           "type": "bar",
           "x": [
            "NAVER"
           ],
           "xaxis": "x",
           "y": [
            454000
           ],
           "yaxis": "y"
          },
          {
           "alignmentgroup": "True",
           "hovertemplate": "종목명=%{x}<br>날짜=2021-09-06<br>종가=%{y}<extra></extra>",
           "ids": [
            "삼성바이오로직스"
           ],
           "legendgroup": "삼성바이오로직스",
           "marker": {
            "color": "#FFA15A",
            "pattern": {
             "shape": ""
            }
           },
           "name": "삼성바이오로직스",
           "offsetgroup": "삼성바이오로직스",
           "orientation": "v",
           "showlegend": true,
           "textposition": "auto",
           "type": "bar",
           "x": [
            "삼성바이오로직스"
           ],
           "xaxis": "x",
           "y": [
            954000
           ],
           "yaxis": "y"
          },
          {
           "alignmentgroup": "True",
           "hovertemplate": "종목명=%{x}<br>날짜=2021-09-06<br>종가=%{y}<extra></extra>",
           "ids": [
            "삼성전자우"
           ],
           "legendgroup": "삼성전자우",
           "marker": {
            "color": "#19d3f3",
            "pattern": {
             "shape": ""
            }
           },
           "name": "삼성전자우",
           "offsetgroup": "삼성전자우",
           "orientation": "v",
           "showlegend": true,
           "textposition": "auto",
           "type": "bar",
           "x": [
            "삼성전자우"
           ],
           "xaxis": "x",
           "y": [
            72000
           ],
           "yaxis": "y"
          },
          {
           "alignmentgroup": "True",
           "hovertemplate": "종목명=%{x}<br>날짜=2021-09-06<br>종가=%{y}<extra></extra>",
           "ids": [
            "LG화학"
           ],
           "legendgroup": "LG화학",
           "marker": {
            "color": "#FF6692",
            "pattern": {
             "shape": ""
            }
           },
           "name": "LG화학",
           "offsetgroup": "LG화학",
           "orientation": "v",
           "showlegend": true,
           "textposition": "auto",
           "type": "bar",
           "x": [
            "LG화학"
           ],
           "xaxis": "x",
           "y": [
            750000
           ],
           "yaxis": "y"
          },
          {
           "alignmentgroup": "True",
           "hovertemplate": "종목명=%{x}<br>날짜=2021-09-06<br>종가=%{y}<extra></extra>",
           "ids": [
            "삼성SDI"
           ],
           "legendgroup": "삼성SDI",
           "marker": {
            "color": "#B6E880",
            "pattern": {
             "shape": ""
            }
           },
           "name": "삼성SDI",
           "offsetgroup": "삼성SDI",
           "orientation": "v",
           "showlegend": true,
           "textposition": "auto",
           "type": "bar",
           "x": [
            "삼성SDI"
           ],
           "xaxis": "x",
           "y": [
            767000
           ],
           "yaxis": "y"
          },
          {
           "alignmentgroup": "True",
           "hovertemplate": "종목명=%{x}<br>날짜=2021-09-06<br>종가=%{y}<extra></extra>",
           "ids": [
            "현대차"
           ],
           "legendgroup": "현대차",
           "marker": {
            "color": "#FF97FF",
            "pattern": {
             "shape": ""
            }
           },
           "name": "현대차",
           "offsetgroup": "현대차",
           "orientation": "v",
           "showlegend": true,
           "textposition": "auto",
           "type": "bar",
           "x": [
            "현대차"
           ],
           "xaxis": "x",
           "y": [
            215000
           ],
           "yaxis": "y"
          },
          {
           "alignmentgroup": "True",
           "hovertemplate": "종목명=%{x}<br>날짜=2021-09-06<br>종가=%{y}<extra></extra>",
           "ids": [
            "셀트리온"
           ],
           "legendgroup": "셀트리온",
           "marker": {
            "color": "#FECB52",
            "pattern": {
             "shape": ""
            }
           },
           "name": "셀트리온",
           "offsetgroup": "셀트리온",
           "orientation": "v",
           "showlegend": true,
           "textposition": "auto",
           "type": "bar",
           "x": [
            "셀트리온"
           ],
           "xaxis": "x",
           "y": [
            278500
           ],
           "yaxis": "y"
          }
         ],
         "name": "2021-09-06"
        },
        {
         "data": [
          {
           "alignmentgroup": "True",
           "hovertemplate": "종목명=%{x}<br>날짜=2021-09-07<br>종가=%{y}<extra></extra>",
           "ids": [
            "삼성전자"
           ],
           "legendgroup": "삼성전자",
           "marker": {
            "color": "#636efa",
            "pattern": {
             "shape": ""
            }
           },
           "name": "삼성전자",
           "offsetgroup": "삼성전자",
           "orientation": "v",
           "showlegend": true,
           "textposition": "auto",
           "type": "bar",
           "x": [
            "삼성전자"
           ],
           "xaxis": "x",
           "y": [
            76100
           ],
           "yaxis": "y"
          },
          {
           "alignmentgroup": "True",
           "hovertemplate": "종목명=%{x}<br>날짜=2021-09-07<br>종가=%{y}<extra></extra>",
           "ids": [
            "카카오"
           ],
           "legendgroup": "카카오",
           "marker": {
            "color": "#EF553B",
            "pattern": {
             "shape": ""
            }
           },
           "name": "카카오",
           "offsetgroup": "카카오",
           "orientation": "v",
           "showlegend": true,
           "textposition": "auto",
           "type": "bar",
           "x": [
            "카카오"
           ],
           "xaxis": "x",
           "y": [
            154000
           ],
           "yaxis": "y"
          },
          {
           "alignmentgroup": "True",
           "hovertemplate": "종목명=%{x}<br>날짜=2021-09-07<br>종가=%{y}<extra></extra>",
           "ids": [
            "sk하이닉스"
           ],
           "legendgroup": "sk하이닉스",
           "marker": {
            "color": "#00cc96",
            "pattern": {
             "shape": ""
            }
           },
           "name": "sk하이닉스",
           "offsetgroup": "sk하이닉스",
           "orientation": "v",
           "showlegend": true,
           "textposition": "auto",
           "type": "bar",
           "x": [
            "sk하이닉스"
           ],
           "xaxis": "x",
           "y": [
            104500
           ],
           "yaxis": "y"
          },
          {
           "alignmentgroup": "True",
           "hovertemplate": "종목명=%{x}<br>날짜=2021-09-07<br>종가=%{y}<extra></extra>",
           "ids": [
            "NAVER"
           ],
           "legendgroup": "NAVER",
           "marker": {
            "color": "#ab63fa",
            "pattern": {
             "shape": ""
            }
           },
           "name": "NAVER",
           "offsetgroup": "NAVER",
           "orientation": "v",
           "showlegend": true,
           "textposition": "auto",
           "type": "bar",
           "x": [
            "NAVER"
           ],
           "xaxis": "x",
           "y": [
            444500
           ],
           "yaxis": "y"
          },
          {
           "alignmentgroup": "True",
           "hovertemplate": "종목명=%{x}<br>날짜=2021-09-07<br>종가=%{y}<extra></extra>",
           "ids": [
            "삼성바이오로직스"
           ],
           "legendgroup": "삼성바이오로직스",
           "marker": {
            "color": "#FFA15A",
            "pattern": {
             "shape": ""
            }
           },
           "name": "삼성바이오로직스",
           "offsetgroup": "삼성바이오로직스",
           "orientation": "v",
           "showlegend": true,
           "textposition": "auto",
           "type": "bar",
           "x": [
            "삼성바이오로직스"
           ],
           "xaxis": "x",
           "y": [
            950000
           ],
           "yaxis": "y"
          },
          {
           "alignmentgroup": "True",
           "hovertemplate": "종목명=%{x}<br>날짜=2021-09-07<br>종가=%{y}<extra></extra>",
           "ids": [
            "삼성전자우"
           ],
           "legendgroup": "삼성전자우",
           "marker": {
            "color": "#19d3f3",
            "pattern": {
             "shape": ""
            }
           },
           "name": "삼성전자우",
           "offsetgroup": "삼성전자우",
           "orientation": "v",
           "showlegend": true,
           "textposition": "auto",
           "type": "bar",
           "x": [
            "삼성전자우"
           ],
           "xaxis": "x",
           "y": [
            71300
           ],
           "yaxis": "y"
          },
          {
           "alignmentgroup": "True",
           "hovertemplate": "종목명=%{x}<br>날짜=2021-09-07<br>종가=%{y}<extra></extra>",
           "ids": [
            "LG화학"
           ],
           "legendgroup": "LG화학",
           "marker": {
            "color": "#FF6692",
            "pattern": {
             "shape": ""
            }
           },
           "name": "LG화학",
           "offsetgroup": "LG화학",
           "orientation": "v",
           "showlegend": true,
           "textposition": "auto",
           "type": "bar",
           "x": [
            "LG화학"
           ],
           "xaxis": "x",
           "y": [
            758000
           ],
           "yaxis": "y"
          },
          {
           "alignmentgroup": "True",
           "hovertemplate": "종목명=%{x}<br>날짜=2021-09-07<br>종가=%{y}<extra></extra>",
           "ids": [
            "삼성SDI"
           ],
           "legendgroup": "삼성SDI",
           "marker": {
            "color": "#B6E880",
            "pattern": {
             "shape": ""
            }
           },
           "name": "삼성SDI",
           "offsetgroup": "삼성SDI",
           "orientation": "v",
           "showlegend": true,
           "textposition": "auto",
           "type": "bar",
           "x": [
            "삼성SDI"
           ],
           "xaxis": "x",
           "y": [
            775000
           ],
           "yaxis": "y"
          },
          {
           "alignmentgroup": "True",
           "hovertemplate": "종목명=%{x}<br>날짜=2021-09-07<br>종가=%{y}<extra></extra>",
           "ids": [
            "현대차"
           ],
           "legendgroup": "현대차",
           "marker": {
            "color": "#FF97FF",
            "pattern": {
             "shape": ""
            }
           },
           "name": "현대차",
           "offsetgroup": "현대차",
           "orientation": "v",
           "showlegend": true,
           "textposition": "auto",
           "type": "bar",
           "x": [
            "현대차"
           ],
           "xaxis": "x",
           "y": [
            212500
           ],
           "yaxis": "y"
          },
          {
           "alignmentgroup": "True",
           "hovertemplate": "종목명=%{x}<br>날짜=2021-09-07<br>종가=%{y}<extra></extra>",
           "ids": [
            "셀트리온"
           ],
           "legendgroup": "셀트리온",
           "marker": {
            "color": "#FECB52",
            "pattern": {
             "shape": ""
            }
           },
           "name": "셀트리온",
           "offsetgroup": "셀트리온",
           "orientation": "v",
           "showlegend": true,
           "textposition": "auto",
           "type": "bar",
           "x": [
            "셀트리온"
           ],
           "xaxis": "x",
           "y": [
            279500
           ],
           "yaxis": "y"
          }
         ],
         "name": "2021-09-07"
        },
        {
         "data": [
          {
           "alignmentgroup": "True",
           "hovertemplate": "종목명=%{x}<br>날짜=2021-09-08<br>종가=%{y}<extra></extra>",
           "ids": [
            "삼성전자"
           ],
           "legendgroup": "삼성전자",
           "marker": {
            "color": "#636efa",
            "pattern": {
             "shape": ""
            }
           },
           "name": "삼성전자",
           "offsetgroup": "삼성전자",
           "orientation": "v",
           "showlegend": true,
           "textposition": "auto",
           "type": "bar",
           "x": [
            "삼성전자"
           ],
           "xaxis": "x",
           "y": [
            76300
           ],
           "yaxis": "y"
          },
          {
           "alignmentgroup": "True",
           "hovertemplate": "종목명=%{x}<br>날짜=2021-09-08<br>종가=%{y}<extra></extra>",
           "ids": [
            "카카오"
           ],
           "legendgroup": "카카오",
           "marker": {
            "color": "#EF553B",
            "pattern": {
             "shape": ""
            }
           },
           "name": "카카오",
           "offsetgroup": "카카오",
           "orientation": "v",
           "showlegend": true,
           "textposition": "auto",
           "type": "bar",
           "x": [
            "카카오"
           ],
           "xaxis": "x",
           "y": [
            138500
           ],
           "yaxis": "y"
          },
          {
           "alignmentgroup": "True",
           "hovertemplate": "종목명=%{x}<br>날짜=2021-09-08<br>종가=%{y}<extra></extra>",
           "ids": [
            "sk하이닉스"
           ],
           "legendgroup": "sk하이닉스",
           "marker": {
            "color": "#00cc96",
            "pattern": {
             "shape": ""
            }
           },
           "name": "sk하이닉스",
           "offsetgroup": "sk하이닉스",
           "orientation": "v",
           "showlegend": true,
           "textposition": "auto",
           "type": "bar",
           "x": [
            "sk하이닉스"
           ],
           "xaxis": "x",
           "y": [
            106000
           ],
           "yaxis": "y"
          },
          {
           "alignmentgroup": "True",
           "hovertemplate": "종목명=%{x}<br>날짜=2021-09-08<br>종가=%{y}<extra></extra>",
           "ids": [
            "NAVER"
           ],
           "legendgroup": "NAVER",
           "marker": {
            "color": "#ab63fa",
            "pattern": {
             "shape": ""
            }
           },
           "name": "NAVER",
           "offsetgroup": "NAVER",
           "orientation": "v",
           "showlegend": true,
           "textposition": "auto",
           "type": "bar",
           "x": [
            "NAVER"
           ],
           "xaxis": "x",
           "y": [
            409500
           ],
           "yaxis": "y"
          },
          {
           "alignmentgroup": "True",
           "hovertemplate": "종목명=%{x}<br>날짜=2021-09-08<br>종가=%{y}<extra></extra>",
           "ids": [
            "삼성바이오로직스"
           ],
           "legendgroup": "삼성바이오로직스",
           "marker": {
            "color": "#FFA15A",
            "pattern": {
             "shape": ""
            }
           },
           "name": "삼성바이오로직스",
           "offsetgroup": "삼성바이오로직스",
           "orientation": "v",
           "showlegend": true,
           "textposition": "auto",
           "type": "bar",
           "x": [
            "삼성바이오로직스"
           ],
           "xaxis": "x",
           "y": [
            931000
           ],
           "yaxis": "y"
          },
          {
           "alignmentgroup": "True",
           "hovertemplate": "종목명=%{x}<br>날짜=2021-09-08<br>종가=%{y}<extra></extra>",
           "ids": [
            "삼성전자우"
           ],
           "legendgroup": "삼성전자우",
           "marker": {
            "color": "#19d3f3",
            "pattern": {
             "shape": ""
            }
           },
           "name": "삼성전자우",
           "offsetgroup": "삼성전자우",
           "orientation": "v",
           "showlegend": true,
           "textposition": "auto",
           "type": "bar",
           "x": [
            "삼성전자우"
           ],
           "xaxis": "x",
           "y": [
            72000
           ],
           "yaxis": "y"
          },
          {
           "alignmentgroup": "True",
           "hovertemplate": "종목명=%{x}<br>날짜=2021-09-08<br>종가=%{y}<extra></extra>",
           "ids": [
            "LG화학"
           ],
           "legendgroup": "LG화학",
           "marker": {
            "color": "#FF6692",
            "pattern": {
             "shape": ""
            }
           },
           "name": "LG화학",
           "offsetgroup": "LG화학",
           "orientation": "v",
           "showlegend": true,
           "textposition": "auto",
           "type": "bar",
           "x": [
            "LG화학"
           ],
           "xaxis": "x",
           "y": [
            756000
           ],
           "yaxis": "y"
          },
          {
           "alignmentgroup": "True",
           "hovertemplate": "종목명=%{x}<br>날짜=2021-09-08<br>종가=%{y}<extra></extra>",
           "ids": [
            "삼성SDI"
           ],
           "legendgroup": "삼성SDI",
           "marker": {
            "color": "#B6E880",
            "pattern": {
             "shape": ""
            }
           },
           "name": "삼성SDI",
           "offsetgroup": "삼성SDI",
           "orientation": "v",
           "showlegend": true,
           "textposition": "auto",
           "type": "bar",
           "x": [
            "삼성SDI"
           ],
           "xaxis": "x",
           "y": [
            770000
           ],
           "yaxis": "y"
          },
          {
           "alignmentgroup": "True",
           "hovertemplate": "종목명=%{x}<br>날짜=2021-09-08<br>종가=%{y}<extra></extra>",
           "ids": [
            "현대차"
           ],
           "legendgroup": "현대차",
           "marker": {
            "color": "#FF97FF",
            "pattern": {
             "shape": ""
            }
           },
           "name": "현대차",
           "offsetgroup": "현대차",
           "orientation": "v",
           "showlegend": true,
           "textposition": "auto",
           "type": "bar",
           "x": [
            "현대차"
           ],
           "xaxis": "x",
           "y": [
            213000
           ],
           "yaxis": "y"
          },
          {
           "alignmentgroup": "True",
           "hovertemplate": "종목명=%{x}<br>날짜=2021-09-08<br>종가=%{y}<extra></extra>",
           "ids": [
            "셀트리온"
           ],
           "legendgroup": "셀트리온",
           "marker": {
            "color": "#FECB52",
            "pattern": {
             "shape": ""
            }
           },
           "name": "셀트리온",
           "offsetgroup": "셀트리온",
           "orientation": "v",
           "showlegend": true,
           "textposition": "auto",
           "type": "bar",
           "x": [
            "셀트리온"
           ],
           "xaxis": "x",
           "y": [
            273500
           ],
           "yaxis": "y"
          }
         ],
         "name": "2021-09-08"
        },
        {
         "data": [
          {
           "alignmentgroup": "True",
           "hovertemplate": "종목명=%{x}<br>날짜=2021-09-09<br>종가=%{y}<extra></extra>",
           "ids": [
            "삼성전자"
           ],
           "legendgroup": "삼성전자",
           "marker": {
            "color": "#636efa",
            "pattern": {
             "shape": ""
            }
           },
           "name": "삼성전자",
           "offsetgroup": "삼성전자",
           "orientation": "v",
           "showlegend": true,
           "textposition": "auto",
           "type": "bar",
           "x": [
            "삼성전자"
           ],
           "xaxis": "x",
           "y": [
            75300
           ],
           "yaxis": "y"
          },
          {
           "alignmentgroup": "True",
           "hovertemplate": "종목명=%{x}<br>날짜=2021-09-09<br>종가=%{y}<extra></extra>",
           "ids": [
            "카카오"
           ],
           "legendgroup": "카카오",
           "marker": {
            "color": "#EF553B",
            "pattern": {
             "shape": ""
            }
           },
           "name": "카카오",
           "offsetgroup": "카카오",
           "orientation": "v",
           "showlegend": true,
           "textposition": "auto",
           "type": "bar",
           "x": [
            "카카오"
           ],
           "xaxis": "x",
           "y": [
            128500
           ],
           "yaxis": "y"
          },
          {
           "alignmentgroup": "True",
           "hovertemplate": "종목명=%{x}<br>날짜=2021-09-09<br>종가=%{y}<extra></extra>",
           "ids": [
            "sk하이닉스"
           ],
           "legendgroup": "sk하이닉스",
           "marker": {
            "color": "#00cc96",
            "pattern": {
             "shape": ""
            }
           },
           "name": "sk하이닉스",
           "offsetgroup": "sk하이닉스",
           "orientation": "v",
           "showlegend": true,
           "textposition": "auto",
           "type": "bar",
           "x": [
            "sk하이닉스"
           ],
           "xaxis": "x",
           "y": [
            103000
           ],
           "yaxis": "y"
          },
          {
           "alignmentgroup": "True",
           "hovertemplate": "종목명=%{x}<br>날짜=2021-09-09<br>종가=%{y}<extra></extra>",
           "ids": [
            "NAVER"
           ],
           "legendgroup": "NAVER",
           "marker": {
            "color": "#ab63fa",
            "pattern": {
             "shape": ""
            }
           },
           "name": "NAVER",
           "offsetgroup": "NAVER",
           "orientation": "v",
           "showlegend": true,
           "textposition": "auto",
           "type": "bar",
           "x": [
            "NAVER"
           ],
           "xaxis": "x",
           "y": [
            399000
           ],
           "yaxis": "y"
          },
          {
           "alignmentgroup": "True",
           "hovertemplate": "종목명=%{x}<br>날짜=2021-09-09<br>종가=%{y}<extra></extra>",
           "ids": [
            "삼성바이오로직스"
           ],
           "legendgroup": "삼성바이오로직스",
           "marker": {
            "color": "#FFA15A",
            "pattern": {
             "shape": ""
            }
           },
           "name": "삼성바이오로직스",
           "offsetgroup": "삼성바이오로직스",
           "orientation": "v",
           "showlegend": true,
           "textposition": "auto",
           "type": "bar",
           "x": [
            "삼성바이오로직스"
           ],
           "xaxis": "x",
           "y": [
            913000
           ],
           "yaxis": "y"
          },
          {
           "alignmentgroup": "True",
           "hovertemplate": "종목명=%{x}<br>날짜=2021-09-09<br>종가=%{y}<extra></extra>",
           "ids": [
            "삼성전자우"
           ],
           "legendgroup": "삼성전자우",
           "marker": {
            "color": "#19d3f3",
            "pattern": {
             "shape": ""
            }
           },
           "name": "삼성전자우",
           "offsetgroup": "삼성전자우",
           "orientation": "v",
           "showlegend": true,
           "textposition": "auto",
           "type": "bar",
           "x": [
            "삼성전자우"
           ],
           "xaxis": "x",
           "y": [
            71700
           ],
           "yaxis": "y"
          },
          {
           "alignmentgroup": "True",
           "hovertemplate": "종목명=%{x}<br>날짜=2021-09-09<br>종가=%{y}<extra></extra>",
           "ids": [
            "LG화학"
           ],
           "legendgroup": "LG화학",
           "marker": {
            "color": "#FF6692",
            "pattern": {
             "shape": ""
            }
           },
           "name": "LG화학",
           "offsetgroup": "LG화학",
           "orientation": "v",
           "showlegend": true,
           "textposition": "auto",
           "type": "bar",
           "x": [
            "LG화학"
           ],
           "xaxis": "x",
           "y": [
            748000
           ],
           "yaxis": "y"
          },
          {
           "alignmentgroup": "True",
           "hovertemplate": "종목명=%{x}<br>날짜=2021-09-09<br>종가=%{y}<extra></extra>",
           "ids": [
            "삼성SDI"
           ],
           "legendgroup": "삼성SDI",
           "marker": {
            "color": "#B6E880",
            "pattern": {
             "shape": ""
            }
           },
           "name": "삼성SDI",
           "offsetgroup": "삼성SDI",
           "orientation": "v",
           "showlegend": true,
           "textposition": "auto",
           "type": "bar",
           "x": [
            "삼성SDI"
           ],
           "xaxis": "x",
           "y": [
            749000
           ],
           "yaxis": "y"
          },
          {
           "alignmentgroup": "True",
           "hovertemplate": "종목명=%{x}<br>날짜=2021-09-09<br>종가=%{y}<extra></extra>",
           "ids": [
            "현대차"
           ],
           "legendgroup": "현대차",
           "marker": {
            "color": "#FF97FF",
            "pattern": {
             "shape": ""
            }
           },
           "name": "현대차",
           "offsetgroup": "현대차",
           "orientation": "v",
           "showlegend": true,
           "textposition": "auto",
           "type": "bar",
           "x": [
            "현대차"
           ],
           "xaxis": "x",
           "y": [
            208500
           ],
           "yaxis": "y"
          },
          {
           "alignmentgroup": "True",
           "hovertemplate": "종목명=%{x}<br>날짜=2021-09-09<br>종가=%{y}<extra></extra>",
           "ids": [
            "셀트리온"
           ],
           "legendgroup": "셀트리온",
           "marker": {
            "color": "#FECB52",
            "pattern": {
             "shape": ""
            }
           },
           "name": "셀트리온",
           "offsetgroup": "셀트리온",
           "orientation": "v",
           "showlegend": true,
           "textposition": "auto",
           "type": "bar",
           "x": [
            "셀트리온"
           ],
           "xaxis": "x",
           "y": [
            269000
           ],
           "yaxis": "y"
          }
         ],
         "name": "2021-09-09"
        },
        {
         "data": [
          {
           "alignmentgroup": "True",
           "hovertemplate": "종목명=%{x}<br>날짜=2021-09-10<br>종가=%{y}<extra></extra>",
           "ids": [
            "삼성전자"
           ],
           "legendgroup": "삼성전자",
           "marker": {
            "color": "#636efa",
            "pattern": {
             "shape": ""
            }
           },
           "name": "삼성전자",
           "offsetgroup": "삼성전자",
           "orientation": "v",
           "showlegend": true,
           "textposition": "auto",
           "type": "bar",
           "x": [
            "삼성전자"
           ],
           "xaxis": "x",
           "y": [
            75300
           ],
           "yaxis": "y"
          },
          {
           "alignmentgroup": "True",
           "hovertemplate": "종목명=%{x}<br>날짜=2021-09-10<br>종가=%{y}<extra></extra>",
           "ids": [
            "카카오"
           ],
           "legendgroup": "카카오",
           "marker": {
            "color": "#EF553B",
            "pattern": {
             "shape": ""
            }
           },
           "name": "카카오",
           "offsetgroup": "카카오",
           "orientation": "v",
           "showlegend": true,
           "textposition": "auto",
           "type": "bar",
           "x": [
            "카카오"
           ],
           "xaxis": "x",
           "y": [
            130000
           ],
           "yaxis": "y"
          },
          {
           "alignmentgroup": "True",
           "hovertemplate": "종목명=%{x}<br>날짜=2021-09-10<br>종가=%{y}<extra></extra>",
           "ids": [
            "sk하이닉스"
           ],
           "legendgroup": "sk하이닉스",
           "marker": {
            "color": "#00cc96",
            "pattern": {
             "shape": ""
            }
           },
           "name": "sk하이닉스",
           "offsetgroup": "sk하이닉스",
           "orientation": "v",
           "showlegend": true,
           "textposition": "auto",
           "type": "bar",
           "x": [
            "sk하이닉스"
           ],
           "xaxis": "x",
           "y": [
            105000
           ],
           "yaxis": "y"
          },
          {
           "alignmentgroup": "True",
           "hovertemplate": "종목명=%{x}<br>날짜=2021-09-10<br>종가=%{y}<extra></extra>",
           "ids": [
            "NAVER"
           ],
           "legendgroup": "NAVER",
           "marker": {
            "color": "#ab63fa",
            "pattern": {
             "shape": ""
            }
           },
           "name": "NAVER",
           "offsetgroup": "NAVER",
           "orientation": "v",
           "showlegend": true,
           "textposition": "auto",
           "type": "bar",
           "x": [
            "NAVER"
           ],
           "xaxis": "x",
           "y": [
            410000
           ],
           "yaxis": "y"
          },
          {
           "alignmentgroup": "True",
           "hovertemplate": "종목명=%{x}<br>날짜=2021-09-10<br>종가=%{y}<extra></extra>",
           "ids": [
            "삼성바이오로직스"
           ],
           "legendgroup": "삼성바이오로직스",
           "marker": {
            "color": "#FFA15A",
            "pattern": {
             "shape": ""
            }
           },
           "name": "삼성바이오로직스",
           "offsetgroup": "삼성바이오로직스",
           "orientation": "v",
           "showlegend": true,
           "textposition": "auto",
           "type": "bar",
           "x": [
            "삼성바이오로직스"
           ],
           "xaxis": "x",
           "y": [
            925000
           ],
           "yaxis": "y"
          },
          {
           "alignmentgroup": "True",
           "hovertemplate": "종목명=%{x}<br>날짜=2021-09-10<br>종가=%{y}<extra></extra>",
           "ids": [
            "삼성전자우"
           ],
           "legendgroup": "삼성전자우",
           "marker": {
            "color": "#19d3f3",
            "pattern": {
             "shape": ""
            }
           },
           "name": "삼성전자우",
           "offsetgroup": "삼성전자우",
           "orientation": "v",
           "showlegend": true,
           "textposition": "auto",
           "type": "bar",
           "x": [
            "삼성전자우"
           ],
           "xaxis": "x",
           "y": [
            70700
           ],
           "yaxis": "y"
          },
          {
           "alignmentgroup": "True",
           "hovertemplate": "종목명=%{x}<br>날짜=2021-09-10<br>종가=%{y}<extra></extra>",
           "ids": [
            "LG화학"
           ],
           "legendgroup": "LG화학",
           "marker": {
            "color": "#FF6692",
            "pattern": {
             "shape": ""
            }
           },
           "name": "LG화학",
           "offsetgroup": "LG화학",
           "orientation": "v",
           "showlegend": true,
           "textposition": "auto",
           "type": "bar",
           "x": [
            "LG화학"
           ],
           "xaxis": "x",
           "y": [
            740000
           ],
           "yaxis": "y"
          },
          {
           "alignmentgroup": "True",
           "hovertemplate": "종목명=%{x}<br>날짜=2021-09-10<br>종가=%{y}<extra></extra>",
           "ids": [
            "삼성SDI"
           ],
           "legendgroup": "삼성SDI",
           "marker": {
            "color": "#B6E880",
            "pattern": {
             "shape": ""
            }
           },
           "name": "삼성SDI",
           "offsetgroup": "삼성SDI",
           "orientation": "v",
           "showlegend": true,
           "textposition": "auto",
           "type": "bar",
           "x": [
            "삼성SDI"
           ],
           "xaxis": "x",
           "y": [
            750000
           ],
           "yaxis": "y"
          },
          {
           "alignmentgroup": "True",
           "hovertemplate": "종목명=%{x}<br>날짜=2021-09-10<br>종가=%{y}<extra></extra>",
           "ids": [
            "현대차"
           ],
           "legendgroup": "현대차",
           "marker": {
            "color": "#FF97FF",
            "pattern": {
             "shape": ""
            }
           },
           "name": "현대차",
           "offsetgroup": "현대차",
           "orientation": "v",
           "showlegend": true,
           "textposition": "auto",
           "type": "bar",
           "x": [
            "현대차"
           ],
           "xaxis": "x",
           "y": [
            206500
           ],
           "yaxis": "y"
          },
          {
           "alignmentgroup": "True",
           "hovertemplate": "종목명=%{x}<br>날짜=2021-09-10<br>종가=%{y}<extra></extra>",
           "ids": [
            "셀트리온"
           ],
           "legendgroup": "셀트리온",
           "marker": {
            "color": "#FECB52",
            "pattern": {
             "shape": ""
            }
           },
           "name": "셀트리온",
           "offsetgroup": "셀트리온",
           "orientation": "v",
           "showlegend": true,
           "textposition": "auto",
           "type": "bar",
           "x": [
            "셀트리온"
           ],
           "xaxis": "x",
           "y": [
            267500
           ],
           "yaxis": "y"
          }
         ],
         "name": "2021-09-10"
        },
        {
         "data": [
          {
           "alignmentgroup": "True",
           "hovertemplate": "종목명=%{x}<br>날짜=2021-09-13<br>종가=%{y}<extra></extra>",
           "ids": [
            "삼성전자"
           ],
           "legendgroup": "삼성전자",
           "marker": {
            "color": "#636efa",
            "pattern": {
             "shape": ""
            }
           },
           "name": "삼성전자",
           "offsetgroup": "삼성전자",
           "orientation": "v",
           "showlegend": true,
           "textposition": "auto",
           "type": "bar",
           "x": [
            "삼성전자"
           ],
           "xaxis": "x",
           "y": [
            76300
           ],
           "yaxis": "y"
          },
          {
           "alignmentgroup": "True",
           "hovertemplate": "종목명=%{x}<br>날짜=2021-09-13<br>종가=%{y}<extra></extra>",
           "ids": [
            "카카오"
           ],
           "legendgroup": "카카오",
           "marker": {
            "color": "#EF553B",
            "pattern": {
             "shape": ""
            }
           },
           "name": "카카오",
           "offsetgroup": "카카오",
           "orientation": "v",
           "showlegend": true,
           "textposition": "auto",
           "type": "bar",
           "x": [
            "카카오"
           ],
           "xaxis": "x",
           "y": [
            124500
           ],
           "yaxis": "y"
          },
          {
           "alignmentgroup": "True",
           "hovertemplate": "종목명=%{x}<br>날짜=2021-09-13<br>종가=%{y}<extra></extra>",
           "ids": [
            "sk하이닉스"
           ],
           "legendgroup": "sk하이닉스",
           "marker": {
            "color": "#00cc96",
            "pattern": {
             "shape": ""
            }
           },
           "name": "sk하이닉스",
           "offsetgroup": "sk하이닉스",
           "orientation": "v",
           "showlegend": true,
           "textposition": "auto",
           "type": "bar",
           "x": [
            "sk하이닉스"
           ],
           "xaxis": "x",
           "y": [
            106500
           ],
           "yaxis": "y"
          },
          {
           "alignmentgroup": "True",
           "hovertemplate": "종목명=%{x}<br>날짜=2021-09-13<br>종가=%{y}<extra></extra>",
           "ids": [
            "NAVER"
           ],
           "legendgroup": "NAVER",
           "marker": {
            "color": "#ab63fa",
            "pattern": {
             "shape": ""
            }
           },
           "name": "NAVER",
           "offsetgroup": "NAVER",
           "orientation": "v",
           "showlegend": true,
           "textposition": "auto",
           "type": "bar",
           "x": [
            "NAVER"
           ],
           "xaxis": "x",
           "y": [
            408000
           ],
           "yaxis": "y"
          },
          {
           "alignmentgroup": "True",
           "hovertemplate": "종목명=%{x}<br>날짜=2021-09-13<br>종가=%{y}<extra></extra>",
           "ids": [
            "삼성바이오로직스"
           ],
           "legendgroup": "삼성바이오로직스",
           "marker": {
            "color": "#FFA15A",
            "pattern": {
             "shape": ""
            }
           },
           "name": "삼성바이오로직스",
           "offsetgroup": "삼성바이오로직스",
           "orientation": "v",
           "showlegend": true,
           "textposition": "auto",
           "type": "bar",
           "x": [
            "삼성바이오로직스"
           ],
           "xaxis": "x",
           "y": [
            913000
           ],
           "yaxis": "y"
          },
          {
           "alignmentgroup": "True",
           "hovertemplate": "종목명=%{x}<br>날짜=2021-09-13<br>종가=%{y}<extra></extra>",
           "ids": [
            "삼성전자우"
           ],
           "legendgroup": "삼성전자우",
           "marker": {
            "color": "#19d3f3",
            "pattern": {
             "shape": ""
            }
           },
           "name": "삼성전자우",
           "offsetgroup": "삼성전자우",
           "orientation": "v",
           "showlegend": true,
           "textposition": "auto",
           "type": "bar",
           "x": [
            "삼성전자우"
           ],
           "xaxis": "x",
           "y": [
            70800
           ],
           "yaxis": "y"
          },
          {
           "alignmentgroup": "True",
           "hovertemplate": "종목명=%{x}<br>날짜=2021-09-13<br>종가=%{y}<extra></extra>",
           "ids": [
            "LG화학"
           ],
           "legendgroup": "LG화학",
           "marker": {
            "color": "#FF6692",
            "pattern": {
             "shape": ""
            }
           },
           "name": "LG화학",
           "offsetgroup": "LG화학",
           "orientation": "v",
           "showlegend": true,
           "textposition": "auto",
           "type": "bar",
           "x": [
            "LG화학"
           ],
           "xaxis": "x",
           "y": [
            747000
           ],
           "yaxis": "y"
          },
          {
           "alignmentgroup": "True",
           "hovertemplate": "종목명=%{x}<br>날짜=2021-09-13<br>종가=%{y}<extra></extra>",
           "ids": [
            "삼성SDI"
           ],
           "legendgroup": "삼성SDI",
           "marker": {
            "color": "#B6E880",
            "pattern": {
             "shape": ""
            }
           },
           "name": "삼성SDI",
           "offsetgroup": "삼성SDI",
           "orientation": "v",
           "showlegend": true,
           "textposition": "auto",
           "type": "bar",
           "x": [
            "삼성SDI"
           ],
           "xaxis": "x",
           "y": [
            741000
           ],
           "yaxis": "y"
          },
          {
           "alignmentgroup": "True",
           "hovertemplate": "종목명=%{x}<br>날짜=2021-09-13<br>종가=%{y}<extra></extra>",
           "ids": [
            "현대차"
           ],
           "legendgroup": "현대차",
           "marker": {
            "color": "#FF97FF",
            "pattern": {
             "shape": ""
            }
           },
           "name": "현대차",
           "offsetgroup": "현대차",
           "orientation": "v",
           "showlegend": true,
           "textposition": "auto",
           "type": "bar",
           "x": [
            "현대차"
           ],
           "xaxis": "x",
           "y": [
            205000
           ],
           "yaxis": "y"
          },
          {
           "alignmentgroup": "True",
           "hovertemplate": "종목명=%{x}<br>날짜=2021-09-13<br>종가=%{y}<extra></extra>",
           "ids": [
            "셀트리온"
           ],
           "legendgroup": "셀트리온",
           "marker": {
            "color": "#FECB52",
            "pattern": {
             "shape": ""
            }
           },
           "name": "셀트리온",
           "offsetgroup": "셀트리온",
           "orientation": "v",
           "showlegend": true,
           "textposition": "auto",
           "type": "bar",
           "x": [
            "셀트리온"
           ],
           "xaxis": "x",
           "y": [
            262000
           ],
           "yaxis": "y"
          }
         ],
         "name": "2021-09-13"
        },
        {
         "data": [
          {
           "alignmentgroup": "True",
           "hovertemplate": "종목명=%{x}<br>날짜=2021-09-14<br>종가=%{y}<extra></extra>",
           "ids": [
            "삼성전자"
           ],
           "legendgroup": "삼성전자",
           "marker": {
            "color": "#636efa",
            "pattern": {
             "shape": ""
            }
           },
           "name": "삼성전자",
           "offsetgroup": "삼성전자",
           "orientation": "v",
           "showlegend": true,
           "textposition": "auto",
           "type": "bar",
           "x": [
            "삼성전자"
           ],
           "xaxis": "x",
           "y": [
            76600
           ],
           "yaxis": "y"
          },
          {
           "alignmentgroup": "True",
           "hovertemplate": "종목명=%{x}<br>날짜=2021-09-14<br>종가=%{y}<extra></extra>",
           "ids": [
            "카카오"
           ],
           "legendgroup": "카카오",
           "marker": {
            "color": "#EF553B",
            "pattern": {
             "shape": ""
            }
           },
           "name": "카카오",
           "offsetgroup": "카카오",
           "orientation": "v",
           "showlegend": true,
           "textposition": "auto",
           "type": "bar",
           "x": [
            "카카오"
           ],
           "xaxis": "x",
           "y": [
            124000
           ],
           "yaxis": "y"
          },
          {
           "alignmentgroup": "True",
           "hovertemplate": "종목명=%{x}<br>날짜=2021-09-14<br>종가=%{y}<extra></extra>",
           "ids": [
            "sk하이닉스"
           ],
           "legendgroup": "sk하이닉스",
           "marker": {
            "color": "#00cc96",
            "pattern": {
             "shape": ""
            }
           },
           "name": "sk하이닉스",
           "offsetgroup": "sk하이닉스",
           "orientation": "v",
           "showlegend": true,
           "textposition": "auto",
           "type": "bar",
           "x": [
            "sk하이닉스"
           ],
           "xaxis": "x",
           "y": [
            107500
           ],
           "yaxis": "y"
          },
          {
           "alignmentgroup": "True",
           "hovertemplate": "종목명=%{x}<br>날짜=2021-09-14<br>종가=%{y}<extra></extra>",
           "ids": [
            "NAVER"
           ],
           "legendgroup": "NAVER",
           "marker": {
            "color": "#ab63fa",
            "pattern": {
             "shape": ""
            }
           },
           "name": "NAVER",
           "offsetgroup": "NAVER",
           "orientation": "v",
           "showlegend": true,
           "textposition": "auto",
           "type": "bar",
           "x": [
            "NAVER"
           ],
           "xaxis": "x",
           "y": [
            402500
           ],
           "yaxis": "y"
          },
          {
           "alignmentgroup": "True",
           "hovertemplate": "종목명=%{x}<br>날짜=2021-09-14<br>종가=%{y}<extra></extra>",
           "ids": [
            "삼성바이오로직스"
           ],
           "legendgroup": "삼성바이오로직스",
           "marker": {
            "color": "#FFA15A",
            "pattern": {
             "shape": ""
            }
           },
           "name": "삼성바이오로직스",
           "offsetgroup": "삼성바이오로직스",
           "orientation": "v",
           "showlegend": true,
           "textposition": "auto",
           "type": "bar",
           "x": [
            "삼성바이오로직스"
           ],
           "xaxis": "x",
           "y": [
            913000
           ],
           "yaxis": "y"
          },
          {
           "alignmentgroup": "True",
           "hovertemplate": "종목명=%{x}<br>날짜=2021-09-14<br>종가=%{y}<extra></extra>",
           "ids": [
            "삼성전자우"
           ],
           "legendgroup": "삼성전자우",
           "marker": {
            "color": "#19d3f3",
            "pattern": {
             "shape": ""
            }
           },
           "name": "삼성전자우",
           "offsetgroup": "삼성전자우",
           "orientation": "v",
           "showlegend": true,
           "textposition": "auto",
           "type": "bar",
           "x": [
            "삼성전자우"
           ],
           "xaxis": "x",
           "y": [
            71400
           ],
           "yaxis": "y"
          },
          {
           "alignmentgroup": "True",
           "hovertemplate": "종목명=%{x}<br>날짜=2021-09-14<br>종가=%{y}<extra></extra>",
           "ids": [
            "LG화학"
           ],
           "legendgroup": "LG화학",
           "marker": {
            "color": "#FF6692",
            "pattern": {
             "shape": ""
            }
           },
           "name": "LG화학",
           "offsetgroup": "LG화학",
           "orientation": "v",
           "showlegend": true,
           "textposition": "auto",
           "type": "bar",
           "x": [
            "LG화학"
           ],
           "xaxis": "x",
           "y": [
            734000
           ],
           "yaxis": "y"
          },
          {
           "alignmentgroup": "True",
           "hovertemplate": "종목명=%{x}<br>날짜=2021-09-14<br>종가=%{y}<extra></extra>",
           "ids": [
            "삼성SDI"
           ],
           "legendgroup": "삼성SDI",
           "marker": {
            "color": "#B6E880",
            "pattern": {
             "shape": ""
            }
           },
           "name": "삼성SDI",
           "offsetgroup": "삼성SDI",
           "orientation": "v",
           "showlegend": true,
           "textposition": "auto",
           "type": "bar",
           "x": [
            "삼성SDI"
           ],
           "xaxis": "x",
           "y": [
            755000
           ],
           "yaxis": "y"
          },
          {
           "alignmentgroup": "True",
           "hovertemplate": "종목명=%{x}<br>날짜=2021-09-14<br>종가=%{y}<extra></extra>",
           "ids": [
            "현대차"
           ],
           "legendgroup": "현대차",
           "marker": {
            "color": "#FF97FF",
            "pattern": {
             "shape": ""
            }
           },
           "name": "현대차",
           "offsetgroup": "현대차",
           "orientation": "v",
           "showlegend": true,
           "textposition": "auto",
           "type": "bar",
           "x": [
            "현대차"
           ],
           "xaxis": "x",
           "y": [
            209000
           ],
           "yaxis": "y"
          },
          {
           "alignmentgroup": "True",
           "hovertemplate": "종목명=%{x}<br>날짜=2021-09-14<br>종가=%{y}<extra></extra>",
           "ids": [
            "셀트리온"
           ],
           "legendgroup": "셀트리온",
           "marker": {
            "color": "#FECB52",
            "pattern": {
             "shape": ""
            }
           },
           "name": "셀트리온",
           "offsetgroup": "셀트리온",
           "orientation": "v",
           "showlegend": true,
           "textposition": "auto",
           "type": "bar",
           "x": [
            "셀트리온"
           ],
           "xaxis": "x",
           "y": [
            263000
           ],
           "yaxis": "y"
          }
         ],
         "name": "2021-09-14"
        },
        {
         "data": [
          {
           "alignmentgroup": "True",
           "hovertemplate": "종목명=%{x}<br>날짜=2021-09-15<br>종가=%{y}<extra></extra>",
           "ids": [
            "삼성전자"
           ],
           "legendgroup": "삼성전자",
           "marker": {
            "color": "#636efa",
            "pattern": {
             "shape": ""
            }
           },
           "name": "삼성전자",
           "offsetgroup": "삼성전자",
           "orientation": "v",
           "showlegend": true,
           "textposition": "auto",
           "type": "bar",
           "x": [
            "삼성전자"
           ],
           "xaxis": "x",
           "y": [
            77000
           ],
           "yaxis": "y"
          },
          {
           "alignmentgroup": "True",
           "hovertemplate": "종목명=%{x}<br>날짜=2021-09-15<br>종가=%{y}<extra></extra>",
           "ids": [
            "카카오"
           ],
           "legendgroup": "카카오",
           "marker": {
            "color": "#EF553B",
            "pattern": {
             "shape": ""
            }
           },
           "name": "카카오",
           "offsetgroup": "카카오",
           "orientation": "v",
           "showlegend": true,
           "textposition": "auto",
           "type": "bar",
           "x": [
            "카카오"
           ],
           "xaxis": "x",
           "y": [
            122500
           ],
           "yaxis": "y"
          },
          {
           "alignmentgroup": "True",
           "hovertemplate": "종목명=%{x}<br>날짜=2021-09-15<br>종가=%{y}<extra></extra>",
           "ids": [
            "sk하이닉스"
           ],
           "legendgroup": "sk하이닉스",
           "marker": {
            "color": "#00cc96",
            "pattern": {
             "shape": ""
            }
           },
           "name": "sk하이닉스",
           "offsetgroup": "sk하이닉스",
           "orientation": "v",
           "showlegend": true,
           "textposition": "auto",
           "type": "bar",
           "x": [
            "sk하이닉스"
           ],
           "xaxis": "x",
           "y": [
            107500
           ],
           "yaxis": "y"
          },
          {
           "alignmentgroup": "True",
           "hovertemplate": "종목명=%{x}<br>날짜=2021-09-15<br>종가=%{y}<extra></extra>",
           "ids": [
            "NAVER"
           ],
           "legendgroup": "NAVER",
           "marker": {
            "color": "#ab63fa",
            "pattern": {
             "shape": ""
            }
           },
           "name": "NAVER",
           "offsetgroup": "NAVER",
           "orientation": "v",
           "showlegend": true,
           "textposition": "auto",
           "type": "bar",
           "x": [
            "NAVER"
           ],
           "xaxis": "x",
           "y": [
            400500
           ],
           "yaxis": "y"
          },
          {
           "alignmentgroup": "True",
           "hovertemplate": "종목명=%{x}<br>날짜=2021-09-15<br>종가=%{y}<extra></extra>",
           "ids": [
            "삼성바이오로직스"
           ],
           "legendgroup": "삼성바이오로직스",
           "marker": {
            "color": "#FFA15A",
            "pattern": {
             "shape": ""
            }
           },
           "name": "삼성바이오로직스",
           "offsetgroup": "삼성바이오로직스",
           "orientation": "v",
           "showlegend": true,
           "textposition": "auto",
           "type": "bar",
           "x": [
            "삼성바이오로직스"
           ],
           "xaxis": "x",
           "y": [
            936000
           ],
           "yaxis": "y"
          },
          {
           "alignmentgroup": "True",
           "hovertemplate": "종목명=%{x}<br>날짜=2021-09-15<br>종가=%{y}<extra></extra>",
           "ids": [
            "삼성전자우"
           ],
           "legendgroup": "삼성전자우",
           "marker": {
            "color": "#19d3f3",
            "pattern": {
             "shape": ""
            }
           },
           "name": "삼성전자우",
           "offsetgroup": "삼성전자우",
           "orientation": "v",
           "showlegend": true,
           "textposition": "auto",
           "type": "bar",
           "x": [
            "삼성전자우"
           ],
           "xaxis": "x",
           "y": [
            71800
           ],
           "yaxis": "y"
          },
          {
           "alignmentgroup": "True",
           "hovertemplate": "종목명=%{x}<br>날짜=2021-09-15<br>종가=%{y}<extra></extra>",
           "ids": [
            "LG화학"
           ],
           "legendgroup": "LG화학",
           "marker": {
            "color": "#FF6692",
            "pattern": {
             "shape": ""
            }
           },
           "name": "LG화학",
           "offsetgroup": "LG화학",
           "orientation": "v",
           "showlegend": true,
           "textposition": "auto",
           "type": "bar",
           "x": [
            "LG화학"
           ],
           "xaxis": "x",
           "y": [
            718000
           ],
           "yaxis": "y"
          },
          {
           "alignmentgroup": "True",
           "hovertemplate": "종목명=%{x}<br>날짜=2021-09-15<br>종가=%{y}<extra></extra>",
           "ids": [
            "삼성SDI"
           ],
           "legendgroup": "삼성SDI",
           "marker": {
            "color": "#B6E880",
            "pattern": {
             "shape": ""
            }
           },
           "name": "삼성SDI",
           "offsetgroup": "삼성SDI",
           "orientation": "v",
           "showlegend": true,
           "textposition": "auto",
           "type": "bar",
           "x": [
            "삼성SDI"
           ],
           "xaxis": "x",
           "y": [
            750000
           ],
           "yaxis": "y"
          },
          {
           "alignmentgroup": "True",
           "hovertemplate": "종목명=%{x}<br>날짜=2021-09-15<br>종가=%{y}<extra></extra>",
           "ids": [
            "현대차"
           ],
           "legendgroup": "현대차",
           "marker": {
            "color": "#FF97FF",
            "pattern": {
             "shape": ""
            }
           },
           "name": "현대차",
           "offsetgroup": "현대차",
           "orientation": "v",
           "showlegend": true,
           "textposition": "auto",
           "type": "bar",
           "x": [
            "현대차"
           ],
           "xaxis": "x",
           "y": [
            209500
           ],
           "yaxis": "y"
          },
          {
           "alignmentgroup": "True",
           "hovertemplate": "종목명=%{x}<br>날짜=2021-09-15<br>종가=%{y}<extra></extra>",
           "ids": [
            "셀트리온"
           ],
           "legendgroup": "셀트리온",
           "marker": {
            "color": "#FECB52",
            "pattern": {
             "shape": ""
            }
           },
           "name": "셀트리온",
           "offsetgroup": "셀트리온",
           "orientation": "v",
           "showlegend": true,
           "textposition": "auto",
           "type": "bar",
           "x": [
            "셀트리온"
           ],
           "xaxis": "x",
           "y": [
            272500
           ],
           "yaxis": "y"
          }
         ],
         "name": "2021-09-15"
        },
        {
         "data": [
          {
           "alignmentgroup": "True",
           "hovertemplate": "종목명=%{x}<br>날짜=2021-09-16<br>종가=%{y}<extra></extra>",
           "ids": [
            "삼성전자"
           ],
           "legendgroup": "삼성전자",
           "marker": {
            "color": "#636efa",
            "pattern": {
             "shape": ""
            }
           },
           "name": "삼성전자",
           "offsetgroup": "삼성전자",
           "orientation": "v",
           "showlegend": true,
           "textposition": "auto",
           "type": "bar",
           "x": [
            "삼성전자"
           ],
           "xaxis": "x",
           "y": [
            76100
           ],
           "yaxis": "y"
          },
          {
           "alignmentgroup": "True",
           "hovertemplate": "종목명=%{x}<br>날짜=2021-09-16<br>종가=%{y}<extra></extra>",
           "ids": [
            "카카오"
           ],
           "legendgroup": "카카오",
           "marker": {
            "color": "#EF553B",
            "pattern": {
             "shape": ""
            }
           },
           "name": "카카오",
           "offsetgroup": "카카오",
           "orientation": "v",
           "showlegend": true,
           "textposition": "auto",
           "type": "bar",
           "x": [
            "카카오"
           ],
           "xaxis": "x",
           "y": [
            121500
           ],
           "yaxis": "y"
          },
          {
           "alignmentgroup": "True",
           "hovertemplate": "종목명=%{x}<br>날짜=2021-09-16<br>종가=%{y}<extra></extra>",
           "ids": [
            "sk하이닉스"
           ],
           "legendgroup": "sk하이닉스",
           "marker": {
            "color": "#00cc96",
            "pattern": {
             "shape": ""
            }
           },
           "name": "sk하이닉스",
           "offsetgroup": "sk하이닉스",
           "orientation": "v",
           "showlegend": true,
           "textposition": "auto",
           "type": "bar",
           "x": [
            "sk하이닉스"
           ],
           "xaxis": "x",
           "y": [
            104000
           ],
           "yaxis": "y"
          },
          {
           "alignmentgroup": "True",
           "hovertemplate": "종목명=%{x}<br>날짜=2021-09-16<br>종가=%{y}<extra></extra>",
           "ids": [
            "NAVER"
           ],
           "legendgroup": "NAVER",
           "marker": {
            "color": "#ab63fa",
            "pattern": {
             "shape": ""
            }
           },
           "name": "NAVER",
           "offsetgroup": "NAVER",
           "orientation": "v",
           "showlegend": true,
           "textposition": "auto",
           "type": "bar",
           "x": [
            "NAVER"
           ],
           "xaxis": "x",
           "y": [
            402000
           ],
           "yaxis": "y"
          },
          {
           "alignmentgroup": "True",
           "hovertemplate": "종목명=%{x}<br>날짜=2021-09-16<br>종가=%{y}<extra></extra>",
           "ids": [
            "삼성바이오로직스"
           ],
           "legendgroup": "삼성바이오로직스",
           "marker": {
            "color": "#FFA15A",
            "pattern": {
             "shape": ""
            }
           },
           "name": "삼성바이오로직스",
           "offsetgroup": "삼성바이오로직스",
           "orientation": "v",
           "showlegend": true,
           "textposition": "auto",
           "type": "bar",
           "x": [
            "삼성바이오로직스"
           ],
           "xaxis": "x",
           "y": [
            916000
           ],
           "yaxis": "y"
          },
          {
           "alignmentgroup": "True",
           "hovertemplate": "종목명=%{x}<br>날짜=2021-09-16<br>종가=%{y}<extra></extra>",
           "ids": [
            "삼성전자우"
           ],
           "legendgroup": "삼성전자우",
           "marker": {
            "color": "#19d3f3",
            "pattern": {
             "shape": ""
            }
           },
           "name": "삼성전자우",
           "offsetgroup": "삼성전자우",
           "orientation": "v",
           "showlegend": true,
           "textposition": "auto",
           "type": "bar",
           "x": [
            "삼성전자우"
           ],
           "xaxis": "x",
           "y": [
            71500
           ],
           "yaxis": "y"
          },
          {
           "alignmentgroup": "True",
           "hovertemplate": "종목명=%{x}<br>날짜=2021-09-16<br>종가=%{y}<extra></extra>",
           "ids": [
            "LG화학"
           ],
           "legendgroup": "LG화학",
           "marker": {
            "color": "#FF6692",
            "pattern": {
             "shape": ""
            }
           },
           "name": "LG화학",
           "offsetgroup": "LG화학",
           "orientation": "v",
           "showlegend": true,
           "textposition": "auto",
           "type": "bar",
           "x": [
            "LG화학"
           ],
           "xaxis": "x",
           "y": [
            716000
           ],
           "yaxis": "y"
          },
          {
           "alignmentgroup": "True",
           "hovertemplate": "종목명=%{x}<br>날짜=2021-09-16<br>종가=%{y}<extra></extra>",
           "ids": [
            "삼성SDI"
           ],
           "legendgroup": "삼성SDI",
           "marker": {
            "color": "#B6E880",
            "pattern": {
             "shape": ""
            }
           },
           "name": "삼성SDI",
           "offsetgroup": "삼성SDI",
           "orientation": "v",
           "showlegend": true,
           "textposition": "auto",
           "type": "bar",
           "x": [
            "삼성SDI"
           ],
           "xaxis": "x",
           "y": [
            725000
           ],
           "yaxis": "y"
          },
          {
           "alignmentgroup": "True",
           "hovertemplate": "종목명=%{x}<br>날짜=2021-09-16<br>종가=%{y}<extra></extra>",
           "ids": [
            "현대차"
           ],
           "legendgroup": "현대차",
           "marker": {
            "color": "#FF97FF",
            "pattern": {
             "shape": ""
            }
           },
           "name": "현대차",
           "offsetgroup": "현대차",
           "orientation": "v",
           "showlegend": true,
           "textposition": "auto",
           "type": "bar",
           "x": [
            "현대차"
           ],
           "xaxis": "x",
           "y": [
            208000
           ],
           "yaxis": "y"
          },
          {
           "alignmentgroup": "True",
           "hovertemplate": "종목명=%{x}<br>날짜=2021-09-16<br>종가=%{y}<extra></extra>",
           "ids": [
            "셀트리온"
           ],
           "legendgroup": "셀트리온",
           "marker": {
            "color": "#FECB52",
            "pattern": {
             "shape": ""
            }
           },
           "name": "셀트리온",
           "offsetgroup": "셀트리온",
           "orientation": "v",
           "showlegend": true,
           "textposition": "auto",
           "type": "bar",
           "x": [
            "셀트리온"
           ],
           "xaxis": "x",
           "y": [
            267000
           ],
           "yaxis": "y"
          }
         ],
         "name": "2021-09-16"
        },
        {
         "data": [
          {
           "alignmentgroup": "True",
           "hovertemplate": "종목명=%{x}<br>날짜=2021-09-17<br>종가=%{y}<extra></extra>",
           "ids": [
            "삼성전자"
           ],
           "legendgroup": "삼성전자",
           "marker": {
            "color": "#636efa",
            "pattern": {
             "shape": ""
            }
           },
           "name": "삼성전자",
           "offsetgroup": "삼성전자",
           "orientation": "v",
           "showlegend": true,
           "textposition": "auto",
           "type": "bar",
           "x": [
            "삼성전자"
           ],
           "xaxis": "x",
           "y": [
            77200
           ],
           "yaxis": "y"
          },
          {
           "alignmentgroup": "True",
           "hovertemplate": "종목명=%{x}<br>날짜=2021-09-17<br>종가=%{y}<extra></extra>",
           "ids": [
            "카카오"
           ],
           "legendgroup": "카카오",
           "marker": {
            "color": "#EF553B",
            "pattern": {
             "shape": ""
            }
           },
           "name": "카카오",
           "offsetgroup": "카카오",
           "orientation": "v",
           "showlegend": true,
           "textposition": "auto",
           "type": "bar",
           "x": [
            "카카오"
           ],
           "xaxis": "x",
           "y": [
            119500
           ],
           "yaxis": "y"
          },
          {
           "alignmentgroup": "True",
           "hovertemplate": "종목명=%{x}<br>날짜=2021-09-17<br>종가=%{y}<extra></extra>",
           "ids": [
            "sk하이닉스"
           ],
           "legendgroup": "sk하이닉스",
           "marker": {
            "color": "#00cc96",
            "pattern": {
             "shape": ""
            }
           },
           "name": "sk하이닉스",
           "offsetgroup": "sk하이닉스",
           "orientation": "v",
           "showlegend": true,
           "textposition": "auto",
           "type": "bar",
           "x": [
            "sk하이닉스"
           ],
           "xaxis": "x",
           "y": [
            107000
           ],
           "yaxis": "y"
          },
          {
           "alignmentgroup": "True",
           "hovertemplate": "종목명=%{x}<br>날짜=2021-09-17<br>종가=%{y}<extra></extra>",
           "ids": [
            "NAVER"
           ],
           "legendgroup": "NAVER",
           "marker": {
            "color": "#ab63fa",
            "pattern": {
             "shape": ""
            }
           },
           "name": "NAVER",
           "offsetgroup": "NAVER",
           "orientation": "v",
           "showlegend": true,
           "textposition": "auto",
           "type": "bar",
           "x": [
            "NAVER"
           ],
           "xaxis": "x",
           "y": [
            403000
           ],
           "yaxis": "y"
          },
          {
           "alignmentgroup": "True",
           "hovertemplate": "종목명=%{x}<br>날짜=2021-09-17<br>종가=%{y}<extra></extra>",
           "ids": [
            "삼성바이오로직스"
           ],
           "legendgroup": "삼성바이오로직스",
           "marker": {
            "color": "#FFA15A",
            "pattern": {
             "shape": ""
            }
           },
           "name": "삼성바이오로직스",
           "offsetgroup": "삼성바이오로직스",
           "orientation": "v",
           "showlegend": true,
           "textposition": "auto",
           "type": "bar",
           "x": [
            "삼성바이오로직스"
           ],
           "xaxis": "x",
           "y": [
            933000
           ],
           "yaxis": "y"
          },
          {
           "alignmentgroup": "True",
           "hovertemplate": "종목명=%{x}<br>날짜=2021-09-17<br>종가=%{y}<extra></extra>",
           "ids": [
            "삼성전자우"
           ],
           "legendgroup": "삼성전자우",
           "marker": {
            "color": "#19d3f3",
            "pattern": {
             "shape": ""
            }
           },
           "name": "삼성전자우",
           "offsetgroup": "삼성전자우",
           "orientation": "v",
           "showlegend": true,
           "textposition": "auto",
           "type": "bar",
           "x": [
            "삼성전자우"
           ],
           "xaxis": "x",
           "y": [
            71800
           ],
           "yaxis": "y"
          },
          {
           "alignmentgroup": "True",
           "hovertemplate": "종목명=%{x}<br>날짜=2021-09-17<br>종가=%{y}<extra></extra>",
           "ids": [
            "LG화학"
           ],
           "legendgroup": "LG화학",
           "marker": {
            "color": "#FF6692",
            "pattern": {
             "shape": ""
            }
           },
           "name": "LG화학",
           "offsetgroup": "LG화학",
           "orientation": "v",
           "showlegend": true,
           "textposition": "auto",
           "type": "bar",
           "x": [
            "LG화학"
           ],
           "xaxis": "x",
           "y": [
            701000
           ],
           "yaxis": "y"
          },
          {
           "alignmentgroup": "True",
           "hovertemplate": "종목명=%{x}<br>날짜=2021-09-17<br>종가=%{y}<extra></extra>",
           "ids": [
            "삼성SDI"
           ],
           "legendgroup": "삼성SDI",
           "marker": {
            "color": "#B6E880",
            "pattern": {
             "shape": ""
            }
           },
           "name": "삼성SDI",
           "offsetgroup": "삼성SDI",
           "orientation": "v",
           "showlegend": true,
           "textposition": "auto",
           "type": "bar",
           "x": [
            "삼성SDI"
           ],
           "xaxis": "x",
           "y": [
            725000
           ],
           "yaxis": "y"
          },
          {
           "alignmentgroup": "True",
           "hovertemplate": "종목명=%{x}<br>날짜=2021-09-17<br>종가=%{y}<extra></extra>",
           "ids": [
            "현대차"
           ],
           "legendgroup": "현대차",
           "marker": {
            "color": "#FF97FF",
            "pattern": {
             "shape": ""
            }
           },
           "name": "현대차",
           "offsetgroup": "현대차",
           "orientation": "v",
           "showlegend": true,
           "textposition": "auto",
           "type": "bar",
           "x": [
            "현대차"
           ],
           "xaxis": "x",
           "y": [
            209000
           ],
           "yaxis": "y"
          },
          {
           "alignmentgroup": "True",
           "hovertemplate": "종목명=%{x}<br>날짜=2021-09-17<br>종가=%{y}<extra></extra>",
           "ids": [
            "셀트리온"
           ],
           "legendgroup": "셀트리온",
           "marker": {
            "color": "#FECB52",
            "pattern": {
             "shape": ""
            }
           },
           "name": "셀트리온",
           "offsetgroup": "셀트리온",
           "orientation": "v",
           "showlegend": true,
           "textposition": "auto",
           "type": "bar",
           "x": [
            "셀트리온"
           ],
           "xaxis": "x",
           "y": [
            275500
           ],
           "yaxis": "y"
          }
         ],
         "name": "2021-09-17"
        },
        {
         "data": [
          {
           "alignmentgroup": "True",
           "hovertemplate": "종목명=%{x}<br>날짜=2021-09-23<br>종가=%{y}<extra></extra>",
           "ids": [
            "삼성전자"
           ],
           "legendgroup": "삼성전자",
           "marker": {
            "color": "#636efa",
            "pattern": {
             "shape": ""
            }
           },
           "name": "삼성전자",
           "offsetgroup": "삼성전자",
           "orientation": "v",
           "showlegend": true,
           "textposition": "auto",
           "type": "bar",
           "x": [
            "삼성전자"
           ],
           "xaxis": "x",
           "y": [
            77400
           ],
           "yaxis": "y"
          },
          {
           "alignmentgroup": "True",
           "hovertemplate": "종목명=%{x}<br>날짜=2021-09-23<br>종가=%{y}<extra></extra>",
           "ids": [
            "카카오"
           ],
           "legendgroup": "카카오",
           "marker": {
            "color": "#EF553B",
            "pattern": {
             "shape": ""
            }
           },
           "name": "카카오",
           "offsetgroup": "카카오",
           "orientation": "v",
           "showlegend": true,
           "textposition": "auto",
           "type": "bar",
           "x": [
            "카카오"
           ],
           "xaxis": "x",
           "y": [
            115000
           ],
           "yaxis": "y"
          },
          {
           "alignmentgroup": "True",
           "hovertemplate": "종목명=%{x}<br>날짜=2021-09-23<br>종가=%{y}<extra></extra>",
           "ids": [
            "sk하이닉스"
           ],
           "legendgroup": "sk하이닉스",
           "marker": {
            "color": "#00cc96",
            "pattern": {
             "shape": ""
            }
           },
           "name": "sk하이닉스",
           "offsetgroup": "sk하이닉스",
           "orientation": "v",
           "showlegend": true,
           "textposition": "auto",
           "type": "bar",
           "x": [
            "sk하이닉스"
           ],
           "xaxis": "x",
           "y": [
            105500
           ],
           "yaxis": "y"
          },
          {
           "alignmentgroup": "True",
           "hovertemplate": "종목명=%{x}<br>날짜=2021-09-23<br>종가=%{y}<extra></extra>",
           "ids": [
            "NAVER"
           ],
           "legendgroup": "NAVER",
           "marker": {
            "color": "#ab63fa",
            "pattern": {
             "shape": ""
            }
           },
           "name": "NAVER",
           "offsetgroup": "NAVER",
           "orientation": "v",
           "showlegend": true,
           "textposition": "auto",
           "type": "bar",
           "x": [
            "NAVER"
           ],
           "xaxis": "x",
           "y": [
            400000
           ],
           "yaxis": "y"
          },
          {
           "alignmentgroup": "True",
           "hovertemplate": "종목명=%{x}<br>날짜=2021-09-23<br>종가=%{y}<extra></extra>",
           "ids": [
            "삼성바이오로직스"
           ],
           "legendgroup": "삼성바이오로직스",
           "marker": {
            "color": "#FFA15A",
            "pattern": {
             "shape": ""
            }
           },
           "name": "삼성바이오로직스",
           "offsetgroup": "삼성바이오로직스",
           "orientation": "v",
           "showlegend": true,
           "textposition": "auto",
           "type": "bar",
           "x": [
            "삼성바이오로직스"
           ],
           "xaxis": "x",
           "y": [
            920000
           ],
           "yaxis": "y"
          },
          {
           "alignmentgroup": "True",
           "hovertemplate": "종목명=%{x}<br>날짜=2021-09-23<br>종가=%{y}<extra></extra>",
           "ids": [
            "삼성전자우"
           ],
           "legendgroup": "삼성전자우",
           "marker": {
            "color": "#19d3f3",
            "pattern": {
             "shape": ""
            }
           },
           "name": "삼성전자우",
           "offsetgroup": "삼성전자우",
           "orientation": "v",
           "showlegend": true,
           "textposition": "auto",
           "type": "bar",
           "x": [
            "삼성전자우"
           ],
           "xaxis": "x",
           "y": [
            71800
           ],
           "yaxis": "y"
          },
          {
           "alignmentgroup": "True",
           "hovertemplate": "종목명=%{x}<br>날짜=2021-09-23<br>종가=%{y}<extra></extra>",
           "ids": [
            "LG화학"
           ],
           "legendgroup": "LG화학",
           "marker": {
            "color": "#FF6692",
            "pattern": {
             "shape": ""
            }
           },
           "name": "LG화학",
           "offsetgroup": "LG화학",
           "orientation": "v",
           "showlegend": true,
           "textposition": "auto",
           "type": "bar",
           "x": [
            "LG화학"
           ],
           "xaxis": "x",
           "y": [
            760000
           ],
           "yaxis": "y"
          },
          {
           "alignmentgroup": "True",
           "hovertemplate": "종목명=%{x}<br>날짜=2021-09-23<br>종가=%{y}<extra></extra>",
           "ids": [
            "삼성SDI"
           ],
           "legendgroup": "삼성SDI",
           "marker": {
            "color": "#B6E880",
            "pattern": {
             "shape": ""
            }
           },
           "name": "삼성SDI",
           "offsetgroup": "삼성SDI",
           "orientation": "v",
           "showlegend": true,
           "textposition": "auto",
           "type": "bar",
           "x": [
            "삼성SDI"
           ],
           "xaxis": "x",
           "y": [
            731000
           ],
           "yaxis": "y"
          },
          {
           "alignmentgroup": "True",
           "hovertemplate": "종목명=%{x}<br>날짜=2021-09-23<br>종가=%{y}<extra></extra>",
           "ids": [
            "현대차"
           ],
           "legendgroup": "현대차",
           "marker": {
            "color": "#FF97FF",
            "pattern": {
             "shape": ""
            }
           },
           "name": "현대차",
           "offsetgroup": "현대차",
           "orientation": "v",
           "showlegend": true,
           "textposition": "auto",
           "type": "bar",
           "x": [
            "현대차"
           ],
           "xaxis": "x",
           "y": [
            208500
           ],
           "yaxis": "y"
          },
          {
           "alignmentgroup": "True",
           "hovertemplate": "종목명=%{x}<br>날짜=2021-09-23<br>종가=%{y}<extra></extra>",
           "ids": [
            "셀트리온"
           ],
           "legendgroup": "셀트리온",
           "marker": {
            "color": "#FECB52",
            "pattern": {
             "shape": ""
            }
           },
           "name": "셀트리온",
           "offsetgroup": "셀트리온",
           "orientation": "v",
           "showlegend": true,
           "textposition": "auto",
           "type": "bar",
           "x": [
            "셀트리온"
           ],
           "xaxis": "x",
           "y": [
            284500
           ],
           "yaxis": "y"
          }
         ],
         "name": "2021-09-23"
        },
        {
         "data": [
          {
           "alignmentgroup": "True",
           "hovertemplate": "종목명=%{x}<br>날짜=2021-09-24<br>종가=%{y}<extra></extra>",
           "ids": [
            "삼성전자"
           ],
           "legendgroup": "삼성전자",
           "marker": {
            "color": "#636efa",
            "pattern": {
             "shape": ""
            }
           },
           "name": "삼성전자",
           "offsetgroup": "삼성전자",
           "orientation": "v",
           "showlegend": true,
           "textposition": "auto",
           "type": "bar",
           "x": [
            "삼성전자"
           ],
           "xaxis": "x",
           "y": [
            77300
           ],
           "yaxis": "y"
          },
          {
           "alignmentgroup": "True",
           "hovertemplate": "종목명=%{x}<br>날짜=2021-09-24<br>종가=%{y}<extra></extra>",
           "ids": [
            "카카오"
           ],
           "legendgroup": "카카오",
           "marker": {
            "color": "#EF553B",
            "pattern": {
             "shape": ""
            }
           },
           "name": "카카오",
           "offsetgroup": "카카오",
           "orientation": "v",
           "showlegend": true,
           "textposition": "auto",
           "type": "bar",
           "x": [
            "카카오"
           ],
           "xaxis": "x",
           "y": [
            119500
           ],
           "yaxis": "y"
          },
          {
           "alignmentgroup": "True",
           "hovertemplate": "종목명=%{x}<br>날짜=2021-09-24<br>종가=%{y}<extra></extra>",
           "ids": [
            "sk하이닉스"
           ],
           "legendgroup": "sk하이닉스",
           "marker": {
            "color": "#00cc96",
            "pattern": {
             "shape": ""
            }
           },
           "name": "sk하이닉스",
           "offsetgroup": "sk하이닉스",
           "orientation": "v",
           "showlegend": true,
           "textposition": "auto",
           "type": "bar",
           "x": [
            "sk하이닉스"
           ],
           "xaxis": "x",
           "y": [
            104000
           ],
           "yaxis": "y"
          },
          {
           "alignmentgroup": "True",
           "hovertemplate": "종목명=%{x}<br>날짜=2021-09-24<br>종가=%{y}<extra></extra>",
           "ids": [
            "NAVER"
           ],
           "legendgroup": "NAVER",
           "marker": {
            "color": "#ab63fa",
            "pattern": {
             "shape": ""
            }
           },
           "name": "NAVER",
           "offsetgroup": "NAVER",
           "orientation": "v",
           "showlegend": true,
           "textposition": "auto",
           "type": "bar",
           "x": [
            "NAVER"
           ],
           "xaxis": "x",
           "y": [
            405500
           ],
           "yaxis": "y"
          },
          {
           "alignmentgroup": "True",
           "hovertemplate": "종목명=%{x}<br>날짜=2021-09-24<br>종가=%{y}<extra></extra>",
           "ids": [
            "삼성바이오로직스"
           ],
           "legendgroup": "삼성바이오로직스",
           "marker": {
            "color": "#FFA15A",
            "pattern": {
             "shape": ""
            }
           },
           "name": "삼성바이오로직스",
           "offsetgroup": "삼성바이오로직스",
           "orientation": "v",
           "showlegend": true,
           "textposition": "auto",
           "type": "bar",
           "x": [
            "삼성바이오로직스"
           ],
           "xaxis": "x",
           "y": [
            922000
           ],
           "yaxis": "y"
          },
          {
           "alignmentgroup": "True",
           "hovertemplate": "종목명=%{x}<br>날짜=2021-09-24<br>종가=%{y}<extra></extra>",
           "ids": [
            "삼성전자우"
           ],
           "legendgroup": "삼성전자우",
           "marker": {
            "color": "#19d3f3",
            "pattern": {
             "shape": ""
            }
           },
           "name": "삼성전자우",
           "offsetgroup": "삼성전자우",
           "orientation": "v",
           "showlegend": true,
           "textposition": "auto",
           "type": "bar",
           "x": [
            "삼성전자우"
           ],
           "xaxis": "x",
           "y": [
            71700
           ],
           "yaxis": "y"
          },
          {
           "alignmentgroup": "True",
           "hovertemplate": "종목명=%{x}<br>날짜=2021-09-24<br>종가=%{y}<extra></extra>",
           "ids": [
            "LG화학"
           ],
           "legendgroup": "LG화학",
           "marker": {
            "color": "#FF6692",
            "pattern": {
             "shape": ""
            }
           },
           "name": "LG화학",
           "offsetgroup": "LG화학",
           "orientation": "v",
           "showlegend": true,
           "textposition": "auto",
           "type": "bar",
           "x": [
            "LG화학"
           ],
           "xaxis": "x",
           "y": [
            761000
           ],
           "yaxis": "y"
          },
          {
           "alignmentgroup": "True",
           "hovertemplate": "종목명=%{x}<br>날짜=2021-09-24<br>종가=%{y}<extra></extra>",
           "ids": [
            "삼성SDI"
           ],
           "legendgroup": "삼성SDI",
           "marker": {
            "color": "#B6E880",
            "pattern": {
             "shape": ""
            }
           },
           "name": "삼성SDI",
           "offsetgroup": "삼성SDI",
           "orientation": "v",
           "showlegend": true,
           "textposition": "auto",
           "type": "bar",
           "x": [
            "삼성SDI"
           ],
           "xaxis": "x",
           "y": [
            726000
           ],
           "yaxis": "y"
          },
          {
           "alignmentgroup": "True",
           "hovertemplate": "종목명=%{x}<br>날짜=2021-09-24<br>종가=%{y}<extra></extra>",
           "ids": [
            "현대차"
           ],
           "legendgroup": "현대차",
           "marker": {
            "color": "#FF97FF",
            "pattern": {
             "shape": ""
            }
           },
           "name": "현대차",
           "offsetgroup": "현대차",
           "orientation": "v",
           "showlegend": true,
           "textposition": "auto",
           "type": "bar",
           "x": [
            "현대차"
           ],
           "xaxis": "x",
           "y": [
            207000
           ],
           "yaxis": "y"
          },
          {
           "alignmentgroup": "True",
           "hovertemplate": "종목명=%{x}<br>날짜=2021-09-24<br>종가=%{y}<extra></extra>",
           "ids": [
            "셀트리온"
           ],
           "legendgroup": "셀트리온",
           "marker": {
            "color": "#FECB52",
            "pattern": {
             "shape": ""
            }
           },
           "name": "셀트리온",
           "offsetgroup": "셀트리온",
           "orientation": "v",
           "showlegend": true,
           "textposition": "auto",
           "type": "bar",
           "x": [
            "셀트리온"
           ],
           "xaxis": "x",
           "y": [
            274500
           ],
           "yaxis": "y"
          }
         ],
         "name": "2021-09-24"
        },
        {
         "data": [
          {
           "alignmentgroup": "True",
           "hovertemplate": "종목명=%{x}<br>날짜=2021-09-27<br>종가=%{y}<extra></extra>",
           "ids": [
            "삼성전자"
           ],
           "legendgroup": "삼성전자",
           "marker": {
            "color": "#636efa",
            "pattern": {
             "shape": ""
            }
           },
           "name": "삼성전자",
           "offsetgroup": "삼성전자",
           "orientation": "v",
           "showlegend": true,
           "textposition": "auto",
           "type": "bar",
           "x": [
            "삼성전자"
           ],
           "xaxis": "x",
           "y": [
            77700
           ],
           "yaxis": "y"
          },
          {
           "alignmentgroup": "True",
           "hovertemplate": "종목명=%{x}<br>날짜=2021-09-27<br>종가=%{y}<extra></extra>",
           "ids": [
            "카카오"
           ],
           "legendgroup": "카카오",
           "marker": {
            "color": "#EF553B",
            "pattern": {
             "shape": ""
            }
           },
           "name": "카카오",
           "offsetgroup": "카카오",
           "orientation": "v",
           "showlegend": true,
           "textposition": "auto",
           "type": "bar",
           "x": [
            "카카오"
           ],
           "xaxis": "x",
           "y": [
            120000
           ],
           "yaxis": "y"
          },
          {
           "alignmentgroup": "True",
           "hovertemplate": "종목명=%{x}<br>날짜=2021-09-27<br>종가=%{y}<extra></extra>",
           "ids": [
            "sk하이닉스"
           ],
           "legendgroup": "sk하이닉스",
           "marker": {
            "color": "#00cc96",
            "pattern": {
             "shape": ""
            }
           },
           "name": "sk하이닉스",
           "offsetgroup": "sk하이닉스",
           "orientation": "v",
           "showlegend": true,
           "textposition": "auto",
           "type": "bar",
           "x": [
            "sk하이닉스"
           ],
           "xaxis": "x",
           "y": [
            104500
           ],
           "yaxis": "y"
          },
          {
           "alignmentgroup": "True",
           "hovertemplate": "종목명=%{x}<br>날짜=2021-09-27<br>종가=%{y}<extra></extra>",
           "ids": [
            "NAVER"
           ],
           "legendgroup": "NAVER",
           "marker": {
            "color": "#ab63fa",
            "pattern": {
             "shape": ""
            }
           },
           "name": "NAVER",
           "offsetgroup": "NAVER",
           "orientation": "v",
           "showlegend": true,
           "textposition": "auto",
           "type": "bar",
           "x": [
            "NAVER"
           ],
           "xaxis": "x",
           "y": [
            403000
           ],
           "yaxis": "y"
          },
          {
           "alignmentgroup": "True",
           "hovertemplate": "종목명=%{x}<br>날짜=2021-09-27<br>종가=%{y}<extra></extra>",
           "ids": [
            "삼성바이오로직스"
           ],
           "legendgroup": "삼성바이오로직스",
           "marker": {
            "color": "#FFA15A",
            "pattern": {
             "shape": ""
            }
           },
           "name": "삼성바이오로직스",
           "offsetgroup": "삼성바이오로직스",
           "orientation": "v",
           "showlegend": true,
           "textposition": "auto",
           "type": "bar",
           "x": [
            "삼성바이오로직스"
           ],
           "xaxis": "x",
           "y": [
            920000
           ],
           "yaxis": "y"
          },
          {
           "alignmentgroup": "True",
           "hovertemplate": "종목명=%{x}<br>날짜=2021-09-27<br>종가=%{y}<extra></extra>",
           "ids": [
            "삼성전자우"
           ],
           "legendgroup": "삼성전자우",
           "marker": {
            "color": "#19d3f3",
            "pattern": {
             "shape": ""
            }
           },
           "name": "삼성전자우",
           "offsetgroup": "삼성전자우",
           "orientation": "v",
           "showlegend": true,
           "textposition": "auto",
           "type": "bar",
           "x": [
            "삼성전자우"
           ],
           "xaxis": "x",
           "y": [
            72000
           ],
           "yaxis": "y"
          },
          {
           "alignmentgroup": "True",
           "hovertemplate": "종목명=%{x}<br>날짜=2021-09-27<br>종가=%{y}<extra></extra>",
           "ids": [
            "LG화학"
           ],
           "legendgroup": "LG화학",
           "marker": {
            "color": "#FF6692",
            "pattern": {
             "shape": ""
            }
           },
           "name": "LG화학",
           "offsetgroup": "LG화학",
           "orientation": "v",
           "showlegend": true,
           "textposition": "auto",
           "type": "bar",
           "x": [
            "LG화학"
           ],
           "xaxis": "x",
           "y": [
            770000
           ],
           "yaxis": "y"
          },
          {
           "alignmentgroup": "True",
           "hovertemplate": "종목명=%{x}<br>날짜=2021-09-27<br>종가=%{y}<extra></extra>",
           "ids": [
            "삼성SDI"
           ],
           "legendgroup": "삼성SDI",
           "marker": {
            "color": "#B6E880",
            "pattern": {
             "shape": ""
            }
           },
           "name": "삼성SDI",
           "offsetgroup": "삼성SDI",
           "orientation": "v",
           "showlegend": true,
           "textposition": "auto",
           "type": "bar",
           "x": [
            "삼성SDI"
           ],
           "xaxis": "x",
           "y": [
            735000
           ],
           "yaxis": "y"
          },
          {
           "alignmentgroup": "True",
           "hovertemplate": "종목명=%{x}<br>날짜=2021-09-27<br>종가=%{y}<extra></extra>",
           "ids": [
            "현대차"
           ],
           "legendgroup": "현대차",
           "marker": {
            "color": "#FF97FF",
            "pattern": {
             "shape": ""
            }
           },
           "name": "현대차",
           "offsetgroup": "현대차",
           "orientation": "v",
           "showlegend": true,
           "textposition": "auto",
           "type": "bar",
           "x": [
            "현대차"
           ],
           "xaxis": "x",
           "y": [
            204000
           ],
           "yaxis": "y"
          },
          {
           "alignmentgroup": "True",
           "hovertemplate": "종목명=%{x}<br>날짜=2021-09-27<br>종가=%{y}<extra></extra>",
           "ids": [
            "셀트리온"
           ],
           "legendgroup": "셀트리온",
           "marker": {
            "color": "#FECB52",
            "pattern": {
             "shape": ""
            }
           },
           "name": "셀트리온",
           "offsetgroup": "셀트리온",
           "orientation": "v",
           "showlegend": true,
           "textposition": "auto",
           "type": "bar",
           "x": [
            "셀트리온"
           ],
           "xaxis": "x",
           "y": [
            267500
           ],
           "yaxis": "y"
          }
         ],
         "name": "2021-09-27"
        },
        {
         "data": [
          {
           "alignmentgroup": "True",
           "hovertemplate": "종목명=%{x}<br>날짜=2021-09-28<br>종가=%{y}<extra></extra>",
           "ids": [
            "삼성전자"
           ],
           "legendgroup": "삼성전자",
           "marker": {
            "color": "#636efa",
            "pattern": {
             "shape": ""
            }
           },
           "name": "삼성전자",
           "offsetgroup": "삼성전자",
           "orientation": "v",
           "showlegend": true,
           "textposition": "auto",
           "type": "bar",
           "x": [
            "삼성전자"
           ],
           "xaxis": "x",
           "y": [
            76300
           ],
           "yaxis": "y"
          },
          {
           "alignmentgroup": "True",
           "hovertemplate": "종목명=%{x}<br>날짜=2021-09-28<br>종가=%{y}<extra></extra>",
           "ids": [
            "카카오"
           ],
           "legendgroup": "카카오",
           "marker": {
            "color": "#EF553B",
            "pattern": {
             "shape": ""
            }
           },
           "name": "카카오",
           "offsetgroup": "카카오",
           "orientation": "v",
           "showlegend": true,
           "textposition": "auto",
           "type": "bar",
           "x": [
            "카카오"
           ],
           "xaxis": "x",
           "y": [
            117500
           ],
           "yaxis": "y"
          },
          {
           "alignmentgroup": "True",
           "hovertemplate": "종목명=%{x}<br>날짜=2021-09-28<br>종가=%{y}<extra></extra>",
           "ids": [
            "sk하이닉스"
           ],
           "legendgroup": "sk하이닉스",
           "marker": {
            "color": "#00cc96",
            "pattern": {
             "shape": ""
            }
           },
           "name": "sk하이닉스",
           "offsetgroup": "sk하이닉스",
           "orientation": "v",
           "showlegend": true,
           "textposition": "auto",
           "type": "bar",
           "x": [
            "sk하이닉스"
           ],
           "xaxis": "x",
           "y": [
            103500
           ],
           "yaxis": "y"
          },
          {
           "alignmentgroup": "True",
           "hovertemplate": "종목명=%{x}<br>날짜=2021-09-28<br>종가=%{y}<extra></extra>",
           "ids": [
            "NAVER"
           ],
           "legendgroup": "NAVER",
           "marker": {
            "color": "#ab63fa",
            "pattern": {
             "shape": ""
            }
           },
           "name": "NAVER",
           "offsetgroup": "NAVER",
           "orientation": "v",
           "showlegend": true,
           "textposition": "auto",
           "type": "bar",
           "x": [
            "NAVER"
           ],
           "xaxis": "x",
           "y": [
            392500
           ],
           "yaxis": "y"
          },
          {
           "alignmentgroup": "True",
           "hovertemplate": "종목명=%{x}<br>날짜=2021-09-28<br>종가=%{y}<extra></extra>",
           "ids": [
            "삼성바이오로직스"
           ],
           "legendgroup": "삼성바이오로직스",
           "marker": {
            "color": "#FFA15A",
            "pattern": {
             "shape": ""
            }
           },
           "name": "삼성바이오로직스",
           "offsetgroup": "삼성바이오로직스",
           "orientation": "v",
           "showlegend": true,
           "textposition": "auto",
           "type": "bar",
           "x": [
            "삼성바이오로직스"
           ],
           "xaxis": "x",
           "y": [
            871000
           ],
           "yaxis": "y"
          },
          {
           "alignmentgroup": "True",
           "hovertemplate": "종목명=%{x}<br>날짜=2021-09-28<br>종가=%{y}<extra></extra>",
           "ids": [
            "삼성전자우"
           ],
           "legendgroup": "삼성전자우",
           "marker": {
            "color": "#19d3f3",
            "pattern": {
             "shape": ""
            }
           },
           "name": "삼성전자우",
           "offsetgroup": "삼성전자우",
           "orientation": "v",
           "showlegend": true,
           "textposition": "auto",
           "type": "bar",
           "x": [
            "삼성전자우"
           ],
           "xaxis": "x",
           "y": [
            71600
           ],
           "yaxis": "y"
          },
          {
           "alignmentgroup": "True",
           "hovertemplate": "종목명=%{x}<br>날짜=2021-09-28<br>종가=%{y}<extra></extra>",
           "ids": [
            "LG화학"
           ],
           "legendgroup": "LG화학",
           "marker": {
            "color": "#FF6692",
            "pattern": {
             "shape": ""
            }
           },
           "name": "LG화학",
           "offsetgroup": "LG화학",
           "orientation": "v",
           "showlegend": true,
           "textposition": "auto",
           "type": "bar",
           "x": [
            "LG화학"
           ],
           "xaxis": "x",
           "y": [
            776000
           ],
           "yaxis": "y"
          },
          {
           "alignmentgroup": "True",
           "hovertemplate": "종목명=%{x}<br>날짜=2021-09-28<br>종가=%{y}<extra></extra>",
           "ids": [
            "삼성SDI"
           ],
           "legendgroup": "삼성SDI",
           "marker": {
            "color": "#B6E880",
            "pattern": {
             "shape": ""
            }
           },
           "name": "삼성SDI",
           "offsetgroup": "삼성SDI",
           "orientation": "v",
           "showlegend": true,
           "textposition": "auto",
           "type": "bar",
           "x": [
            "삼성SDI"
           ],
           "xaxis": "x",
           "y": [
            715000
           ],
           "yaxis": "y"
          },
          {
           "alignmentgroup": "True",
           "hovertemplate": "종목명=%{x}<br>날짜=2021-09-28<br>종가=%{y}<extra></extra>",
           "ids": [
            "현대차"
           ],
           "legendgroup": "현대차",
           "marker": {
            "color": "#FF97FF",
            "pattern": {
             "shape": ""
            }
           },
           "name": "현대차",
           "offsetgroup": "현대차",
           "orientation": "v",
           "showlegend": true,
           "textposition": "auto",
           "type": "bar",
           "x": [
            "현대차"
           ],
           "xaxis": "x",
           "y": [
            201500
           ],
           "yaxis": "y"
          },
          {
           "alignmentgroup": "True",
           "hovertemplate": "종목명=%{x}<br>날짜=2021-09-28<br>종가=%{y}<extra></extra>",
           "ids": [
            "셀트리온"
           ],
           "legendgroup": "셀트리온",
           "marker": {
            "color": "#FECB52",
            "pattern": {
             "shape": ""
            }
           },
           "name": "셀트리온",
           "offsetgroup": "셀트리온",
           "orientation": "v",
           "showlegend": true,
           "textposition": "auto",
           "type": "bar",
           "x": [
            "셀트리온"
           ],
           "xaxis": "x",
           "y": [
            263500
           ],
           "yaxis": "y"
          }
         ],
         "name": "2021-09-28"
        },
        {
         "data": [
          {
           "alignmentgroup": "True",
           "hovertemplate": "종목명=%{x}<br>날짜=2021-09-29<br>종가=%{y}<extra></extra>",
           "ids": [
            "삼성전자"
           ],
           "legendgroup": "삼성전자",
           "marker": {
            "color": "#636efa",
            "pattern": {
             "shape": ""
            }
           },
           "name": "삼성전자",
           "offsetgroup": "삼성전자",
           "orientation": "v",
           "showlegend": true,
           "textposition": "auto",
           "type": "bar",
           "x": [
            "삼성전자"
           ],
           "xaxis": "x",
           "y": [
            74100
           ],
           "yaxis": "y"
          },
          {
           "alignmentgroup": "True",
           "hovertemplate": "종목명=%{x}<br>날짜=2021-09-29<br>종가=%{y}<extra></extra>",
           "ids": [
            "카카오"
           ],
           "legendgroup": "카카오",
           "marker": {
            "color": "#EF553B",
            "pattern": {
             "shape": ""
            }
           },
           "name": "카카오",
           "offsetgroup": "카카오",
           "orientation": "v",
           "showlegend": true,
           "textposition": "auto",
           "type": "bar",
           "x": [
            "카카오"
           ],
           "xaxis": "x",
           "y": [
            116500
           ],
           "yaxis": "y"
          },
          {
           "alignmentgroup": "True",
           "hovertemplate": "종목명=%{x}<br>날짜=2021-09-29<br>종가=%{y}<extra></extra>",
           "ids": [
            "sk하이닉스"
           ],
           "legendgroup": "sk하이닉스",
           "marker": {
            "color": "#00cc96",
            "pattern": {
             "shape": ""
            }
           },
           "name": "sk하이닉스",
           "offsetgroup": "sk하이닉스",
           "orientation": "v",
           "showlegend": true,
           "textposition": "auto",
           "type": "bar",
           "x": [
            "sk하이닉스"
           ],
           "xaxis": "x",
           "y": [
            100000
           ],
           "yaxis": "y"
          },
          {
           "alignmentgroup": "True",
           "hovertemplate": "종목명=%{x}<br>날짜=2021-09-29<br>종가=%{y}<extra></extra>",
           "ids": [
            "NAVER"
           ],
           "legendgroup": "NAVER",
           "marker": {
            "color": "#ab63fa",
            "pattern": {
             "shape": ""
            }
           },
           "name": "NAVER",
           "offsetgroup": "NAVER",
           "orientation": "v",
           "showlegend": true,
           "textposition": "auto",
           "type": "bar",
           "x": [
            "NAVER"
           ],
           "xaxis": "x",
           "y": [
            387000
           ],
           "yaxis": "y"
          },
          {
           "alignmentgroup": "True",
           "hovertemplate": "종목명=%{x}<br>날짜=2021-09-29<br>종가=%{y}<extra></extra>",
           "ids": [
            "삼성바이오로직스"
           ],
           "legendgroup": "삼성바이오로직스",
           "marker": {
            "color": "#FFA15A",
            "pattern": {
             "shape": ""
            }
           },
           "name": "삼성바이오로직스",
           "offsetgroup": "삼성바이오로직스",
           "orientation": "v",
           "showlegend": true,
           "textposition": "auto",
           "type": "bar",
           "x": [
            "삼성바이오로직스"
           ],
           "xaxis": "x",
           "y": [
            874000
           ],
           "yaxis": "y"
          },
          {
           "alignmentgroup": "True",
           "hovertemplate": "종목명=%{x}<br>날짜=2021-09-29<br>종가=%{y}<extra></extra>",
           "ids": [
            "삼성전자우"
           ],
           "legendgroup": "삼성전자우",
           "marker": {
            "color": "#19d3f3",
            "pattern": {
             "shape": ""
            }
           },
           "name": "삼성전자우",
           "offsetgroup": "삼성전자우",
           "orientation": "v",
           "showlegend": true,
           "textposition": "auto",
           "type": "bar",
           "x": [
            "삼성전자우"
           ],
           "xaxis": "x",
           "y": [
            70500
           ],
           "yaxis": "y"
          },
          {
           "alignmentgroup": "True",
           "hovertemplate": "종목명=%{x}<br>날짜=2021-09-29<br>종가=%{y}<extra></extra>",
           "ids": [
            "LG화학"
           ],
           "legendgroup": "LG화학",
           "marker": {
            "color": "#FF6692",
            "pattern": {
             "shape": ""
            }
           },
           "name": "LG화학",
           "offsetgroup": "LG화학",
           "orientation": "v",
           "showlegend": true,
           "textposition": "auto",
           "type": "bar",
           "x": [
            "LG화학"
           ],
           "xaxis": "x",
           "y": [
            767000
           ],
           "yaxis": "y"
          },
          {
           "alignmentgroup": "True",
           "hovertemplate": "종목명=%{x}<br>날짜=2021-09-29<br>종가=%{y}<extra></extra>",
           "ids": [
            "삼성SDI"
           ],
           "legendgroup": "삼성SDI",
           "marker": {
            "color": "#B6E880",
            "pattern": {
             "shape": ""
            }
           },
           "name": "삼성SDI",
           "offsetgroup": "삼성SDI",
           "orientation": "v",
           "showlegend": true,
           "textposition": "auto",
           "type": "bar",
           "x": [
            "삼성SDI"
           ],
           "xaxis": "x",
           "y": [
            709000
           ],
           "yaxis": "y"
          },
          {
           "alignmentgroup": "True",
           "hovertemplate": "종목명=%{x}<br>날짜=2021-09-29<br>종가=%{y}<extra></extra>",
           "ids": [
            "현대차"
           ],
           "legendgroup": "현대차",
           "marker": {
            "color": "#FF97FF",
            "pattern": {
             "shape": ""
            }
           },
           "name": "현대차",
           "offsetgroup": "현대차",
           "orientation": "v",
           "showlegend": true,
           "textposition": "auto",
           "type": "bar",
           "x": [
            "현대차"
           ],
           "xaxis": "x",
           "y": [
            201500
           ],
           "yaxis": "y"
          },
          {
           "alignmentgroup": "True",
           "hovertemplate": "종목명=%{x}<br>날짜=2021-09-29<br>종가=%{y}<extra></extra>",
           "ids": [
            "셀트리온"
           ],
           "legendgroup": "셀트리온",
           "marker": {
            "color": "#FECB52",
            "pattern": {
             "shape": ""
            }
           },
           "name": "셀트리온",
           "offsetgroup": "셀트리온",
           "orientation": "v",
           "showlegend": true,
           "textposition": "auto",
           "type": "bar",
           "x": [
            "셀트리온"
           ],
           "xaxis": "x",
           "y": [
            261000
           ],
           "yaxis": "y"
          }
         ],
         "name": "2021-09-29"
        },
        {
         "data": [
          {
           "alignmentgroup": "True",
           "hovertemplate": "종목명=%{x}<br>날짜=2021-09-30<br>종가=%{y}<extra></extra>",
           "ids": [
            "삼성전자"
           ],
           "legendgroup": "삼성전자",
           "marker": {
            "color": "#636efa",
            "pattern": {
             "shape": ""
            }
           },
           "name": "삼성전자",
           "offsetgroup": "삼성전자",
           "orientation": "v",
           "showlegend": true,
           "textposition": "auto",
           "type": "bar",
           "x": [
            "삼성전자"
           ],
           "xaxis": "x",
           "y": [
            74100
           ],
           "yaxis": "y"
          },
          {
           "alignmentgroup": "True",
           "hovertemplate": "종목명=%{x}<br>날짜=2021-09-30<br>종가=%{y}<extra></extra>",
           "ids": [
            "카카오"
           ],
           "legendgroup": "카카오",
           "marker": {
            "color": "#EF553B",
            "pattern": {
             "shape": ""
            }
           },
           "name": "카카오",
           "offsetgroup": "카카오",
           "orientation": "v",
           "showlegend": true,
           "textposition": "auto",
           "type": "bar",
           "x": [
            "카카오"
           ],
           "xaxis": "x",
           "y": [
            118000
           ],
           "yaxis": "y"
          },
          {
           "alignmentgroup": "True",
           "hovertemplate": "종목명=%{x}<br>날짜=2021-09-30<br>종가=%{y}<extra></extra>",
           "ids": [
            "sk하이닉스"
           ],
           "legendgroup": "sk하이닉스",
           "marker": {
            "color": "#00cc96",
            "pattern": {
             "shape": ""
            }
           },
           "name": "sk하이닉스",
           "offsetgroup": "sk하이닉스",
           "orientation": "v",
           "showlegend": true,
           "textposition": "auto",
           "type": "bar",
           "x": [
            "sk하이닉스"
           ],
           "xaxis": "x",
           "y": [
            103000
           ],
           "yaxis": "y"
          },
          {
           "alignmentgroup": "True",
           "hovertemplate": "종목명=%{x}<br>날짜=2021-09-30<br>종가=%{y}<extra></extra>",
           "ids": [
            "NAVER"
           ],
           "legendgroup": "NAVER",
           "marker": {
            "color": "#ab63fa",
            "pattern": {
             "shape": ""
            }
           },
           "name": "NAVER",
           "offsetgroup": "NAVER",
           "orientation": "v",
           "showlegend": true,
           "textposition": "auto",
           "type": "bar",
           "x": [
            "NAVER"
           ],
           "xaxis": "x",
           "y": [
            388000
           ],
           "yaxis": "y"
          },
          {
           "alignmentgroup": "True",
           "hovertemplate": "종목명=%{x}<br>날짜=2021-09-30<br>종가=%{y}<extra></extra>",
           "ids": [
            "삼성바이오로직스"
           ],
           "legendgroup": "삼성바이오로직스",
           "marker": {
            "color": "#FFA15A",
            "pattern": {
             "shape": ""
            }
           },
           "name": "삼성바이오로직스",
           "offsetgroup": "삼성바이오로직스",
           "orientation": "v",
           "showlegend": true,
           "textposition": "auto",
           "type": "bar",
           "x": [
            "삼성바이오로직스"
           ],
           "xaxis": "x",
           "y": [
            874000
           ],
           "yaxis": "y"
          },
          {
           "alignmentgroup": "True",
           "hovertemplate": "종목명=%{x}<br>날짜=2021-09-30<br>종가=%{y}<extra></extra>",
           "ids": [
            "삼성전자우"
           ],
           "legendgroup": "삼성전자우",
           "marker": {
            "color": "#19d3f3",
            "pattern": {
             "shape": ""
            }
           },
           "name": "삼성전자우",
           "offsetgroup": "삼성전자우",
           "orientation": "v",
           "showlegend": true,
           "textposition": "auto",
           "type": "bar",
           "x": [
            "삼성전자우"
           ],
           "xaxis": "x",
           "y": [
            69600
           ],
           "yaxis": "y"
          },
          {
           "alignmentgroup": "True",
           "hovertemplate": "종목명=%{x}<br>날짜=2021-09-30<br>종가=%{y}<extra></extra>",
           "ids": [
            "LG화학"
           ],
           "legendgroup": "LG화학",
           "marker": {
            "color": "#FF6692",
            "pattern": {
             "shape": ""
            }
           },
           "name": "LG화학",
           "offsetgroup": "LG화학",
           "orientation": "v",
           "showlegend": true,
           "textposition": "auto",
           "type": "bar",
           "x": [
            "LG화학"
           ],
           "xaxis": "x",
           "y": [
            776000
           ],
           "yaxis": "y"
          },
          {
           "alignmentgroup": "True",
           "hovertemplate": "종목명=%{x}<br>날짜=2021-09-30<br>종가=%{y}<extra></extra>",
           "ids": [
            "삼성SDI"
           ],
           "legendgroup": "삼성SDI",
           "marker": {
            "color": "#B6E880",
            "pattern": {
             "shape": ""
            }
           },
           "name": "삼성SDI",
           "offsetgroup": "삼성SDI",
           "orientation": "v",
           "showlegend": true,
           "textposition": "auto",
           "type": "bar",
           "x": [
            "삼성SDI"
           ],
           "xaxis": "x",
           "y": [
            718000
           ],
           "yaxis": "y"
          },
          {
           "alignmentgroup": "True",
           "hovertemplate": "종목명=%{x}<br>날짜=2021-09-30<br>종가=%{y}<extra></extra>",
           "ids": [
            "현대차"
           ],
           "legendgroup": "현대차",
           "marker": {
            "color": "#FF97FF",
            "pattern": {
             "shape": ""
            }
           },
           "name": "현대차",
           "offsetgroup": "현대차",
           "orientation": "v",
           "showlegend": true,
           "textposition": "auto",
           "type": "bar",
           "x": [
            "현대차"
           ],
           "xaxis": "x",
           "y": [
            200000
           ],
           "yaxis": "y"
          },
          {
           "alignmentgroup": "True",
           "hovertemplate": "종목명=%{x}<br>날짜=2021-09-30<br>종가=%{y}<extra></extra>",
           "ids": [
            "셀트리온"
           ],
           "legendgroup": "셀트리온",
           "marker": {
            "color": "#FECB52",
            "pattern": {
             "shape": ""
            }
           },
           "name": "셀트리온",
           "offsetgroup": "셀트리온",
           "orientation": "v",
           "showlegend": true,
           "textposition": "auto",
           "type": "bar",
           "x": [
            "셀트리온"
           ],
           "xaxis": "x",
           "y": [
            259500
           ],
           "yaxis": "y"
          }
         ],
         "name": "2021-09-30"
        }
       ],
       "layout": {
        "barmode": "relative",
        "legend": {
         "title": {
          "text": "종목명"
         },
         "tracegroupgap": 0
        },
        "margin": {
         "t": 60
        },
        "sliders": [
         {
          "active": 0,
          "currentvalue": {
           "prefix": "날짜="
          },
          "len": 0.9,
          "pad": {
           "b": 10,
           "t": 60
          },
          "steps": [
           {
            "args": [
             [
              "2021-09-01"
             ],
             {
              "frame": {
               "duration": 0,
               "redraw": true
              },
              "fromcurrent": true,
              "mode": "immediate",
              "transition": {
               "duration": 0,
               "easing": "linear"
              }
             }
            ],
            "label": "2021-09-01",
            "method": "animate"
           },
           {
            "args": [
             [
              "2021-09-02"
             ],
             {
              "frame": {
               "duration": 0,
               "redraw": true
              },
              "fromcurrent": true,
              "mode": "immediate",
              "transition": {
               "duration": 0,
               "easing": "linear"
              }
             }
            ],
            "label": "2021-09-02",
            "method": "animate"
           },
           {
            "args": [
             [
              "2021-09-03"
             ],
             {
              "frame": {
               "duration": 0,
               "redraw": true
              },
              "fromcurrent": true,
              "mode": "immediate",
              "transition": {
               "duration": 0,
               "easing": "linear"
              }
             }
            ],
            "label": "2021-09-03",
            "method": "animate"
           },
           {
            "args": [
             [
              "2021-09-06"
             ],
             {
              "frame": {
               "duration": 0,
               "redraw": true
              },
              "fromcurrent": true,
              "mode": "immediate",
              "transition": {
               "duration": 0,
               "easing": "linear"
              }
             }
            ],
            "label": "2021-09-06",
            "method": "animate"
           },
           {
            "args": [
             [
              "2021-09-07"
             ],
             {
              "frame": {
               "duration": 0,
               "redraw": true
              },
              "fromcurrent": true,
              "mode": "immediate",
              "transition": {
               "duration": 0,
               "easing": "linear"
              }
             }
            ],
            "label": "2021-09-07",
            "method": "animate"
           },
           {
            "args": [
             [
              "2021-09-08"
             ],
             {
              "frame": {
               "duration": 0,
               "redraw": true
              },
              "fromcurrent": true,
              "mode": "immediate",
              "transition": {
               "duration": 0,
               "easing": "linear"
              }
             }
            ],
            "label": "2021-09-08",
            "method": "animate"
           },
           {
            "args": [
             [
              "2021-09-09"
             ],
             {
              "frame": {
               "duration": 0,
               "redraw": true
              },
              "fromcurrent": true,
              "mode": "immediate",
              "transition": {
               "duration": 0,
               "easing": "linear"
              }
             }
            ],
            "label": "2021-09-09",
            "method": "animate"
           },
           {
            "args": [
             [
              "2021-09-10"
             ],
             {
              "frame": {
               "duration": 0,
               "redraw": true
              },
              "fromcurrent": true,
              "mode": "immediate",
              "transition": {
               "duration": 0,
               "easing": "linear"
              }
             }
            ],
            "label": "2021-09-10",
            "method": "animate"
           },
           {
            "args": [
             [
              "2021-09-13"
             ],
             {
              "frame": {
               "duration": 0,
               "redraw": true
              },
              "fromcurrent": true,
              "mode": "immediate",
              "transition": {
               "duration": 0,
               "easing": "linear"
              }
             }
            ],
            "label": "2021-09-13",
            "method": "animate"
           },
           {
            "args": [
             [
              "2021-09-14"
             ],
             {
              "frame": {
               "duration": 0,
               "redraw": true
              },
              "fromcurrent": true,
              "mode": "immediate",
              "transition": {
               "duration": 0,
               "easing": "linear"
              }
             }
            ],
            "label": "2021-09-14",
            "method": "animate"
           },
           {
            "args": [
             [
              "2021-09-15"
             ],
             {
              "frame": {
               "duration": 0,
               "redraw": true
              },
              "fromcurrent": true,
              "mode": "immediate",
              "transition": {
               "duration": 0,
               "easing": "linear"
              }
             }
            ],
            "label": "2021-09-15",
            "method": "animate"
           },
           {
            "args": [
             [
              "2021-09-16"
             ],
             {
              "frame": {
               "duration": 0,
               "redraw": true
              },
              "fromcurrent": true,
              "mode": "immediate",
              "transition": {
               "duration": 0,
               "easing": "linear"
              }
             }
            ],
            "label": "2021-09-16",
            "method": "animate"
           },
           {
            "args": [
             [
              "2021-09-17"
             ],
             {
              "frame": {
               "duration": 0,
               "redraw": true
              },
              "fromcurrent": true,
              "mode": "immediate",
              "transition": {
               "duration": 0,
               "easing": "linear"
              }
             }
            ],
            "label": "2021-09-17",
            "method": "animate"
           },
           {
            "args": [
             [
              "2021-09-23"
             ],
             {
              "frame": {
               "duration": 0,
               "redraw": true
              },
              "fromcurrent": true,
              "mode": "immediate",
              "transition": {
               "duration": 0,
               "easing": "linear"
              }
             }
            ],
            "label": "2021-09-23",
            "method": "animate"
           },
           {
            "args": [
             [
              "2021-09-24"
             ],
             {
              "frame": {
               "duration": 0,
               "redraw": true
              },
              "fromcurrent": true,
              "mode": "immediate",
              "transition": {
               "duration": 0,
               "easing": "linear"
              }
             }
            ],
            "label": "2021-09-24",
            "method": "animate"
           },
           {
            "args": [
             [
              "2021-09-27"
             ],
             {
              "frame": {
               "duration": 0,
               "redraw": true
              },
              "fromcurrent": true,
              "mode": "immediate",
              "transition": {
               "duration": 0,
               "easing": "linear"
              }
             }
            ],
            "label": "2021-09-27",
            "method": "animate"
           },
           {
            "args": [
             [
              "2021-09-28"
             ],
             {
              "frame": {
               "duration": 0,
               "redraw": true
              },
              "fromcurrent": true,
              "mode": "immediate",
              "transition": {
               "duration": 0,
               "easing": "linear"
              }
             }
            ],
            "label": "2021-09-28",
            "method": "animate"
           },
           {
            "args": [
             [
              "2021-09-29"
             ],
             {
              "frame": {
               "duration": 0,
               "redraw": true
              },
              "fromcurrent": true,
              "mode": "immediate",
              "transition": {
               "duration": 0,
               "easing": "linear"
              }
             }
            ],
            "label": "2021-09-29",
            "method": "animate"
           },
           {
            "args": [
             [
              "2021-09-30"
             ],
             {
              "frame": {
               "duration": 0,
               "redraw": true
              },
              "fromcurrent": true,
              "mode": "immediate",
              "transition": {
               "duration": 0,
               "easing": "linear"
              }
             }
            ],
            "label": "2021-09-30",
            "method": "animate"
           }
          ],
          "x": 0.1,
          "xanchor": "left",
          "y": 0,
          "yanchor": "top"
         }
        ],
        "template": {
         "data": {
          "bar": [
           {
            "error_x": {
             "color": "#2a3f5f"
            },
            "error_y": {
             "color": "#2a3f5f"
            },
            "marker": {
             "line": {
              "color": "#E5ECF6",
              "width": 0.5
             },
             "pattern": {
              "fillmode": "overlay",
              "size": 10,
              "solidity": 0.2
             }
            },
            "type": "bar"
           }
          ],
          "barpolar": [
           {
            "marker": {
             "line": {
              "color": "#E5ECF6",
              "width": 0.5
             },
             "pattern": {
              "fillmode": "overlay",
              "size": 10,
              "solidity": 0.2
             }
            },
            "type": "barpolar"
           }
          ],
          "carpet": [
           {
            "aaxis": {
             "endlinecolor": "#2a3f5f",
             "gridcolor": "white",
             "linecolor": "white",
             "minorgridcolor": "white",
             "startlinecolor": "#2a3f5f"
            },
            "baxis": {
             "endlinecolor": "#2a3f5f",
             "gridcolor": "white",
             "linecolor": "white",
             "minorgridcolor": "white",
             "startlinecolor": "#2a3f5f"
            },
            "type": "carpet"
           }
          ],
          "choropleth": [
           {
            "colorbar": {
             "outlinewidth": 0,
             "ticks": ""
            },
            "type": "choropleth"
           }
          ],
          "contour": [
           {
            "colorbar": {
             "outlinewidth": 0,
             "ticks": ""
            },
            "colorscale": [
             [
              0,
              "#0d0887"
             ],
             [
              0.1111111111111111,
              "#46039f"
             ],
             [
              0.2222222222222222,
              "#7201a8"
             ],
             [
              0.3333333333333333,
              "#9c179e"
             ],
             [
              0.4444444444444444,
              "#bd3786"
             ],
             [
              0.5555555555555556,
              "#d8576b"
             ],
             [
              0.6666666666666666,
              "#ed7953"
             ],
             [
              0.7777777777777778,
              "#fb9f3a"
             ],
             [
              0.8888888888888888,
              "#fdca26"
             ],
             [
              1,
              "#f0f921"
             ]
            ],
            "type": "contour"
           }
          ],
          "contourcarpet": [
           {
            "colorbar": {
             "outlinewidth": 0,
             "ticks": ""
            },
            "type": "contourcarpet"
           }
          ],
          "heatmap": [
           {
            "colorbar": {
             "outlinewidth": 0,
             "ticks": ""
            },
            "colorscale": [
             [
              0,
              "#0d0887"
             ],
             [
              0.1111111111111111,
              "#46039f"
             ],
             [
              0.2222222222222222,
              "#7201a8"
             ],
             [
              0.3333333333333333,
              "#9c179e"
             ],
             [
              0.4444444444444444,
              "#bd3786"
             ],
             [
              0.5555555555555556,
              "#d8576b"
             ],
             [
              0.6666666666666666,
              "#ed7953"
             ],
             [
              0.7777777777777778,
              "#fb9f3a"
             ],
             [
              0.8888888888888888,
              "#fdca26"
             ],
             [
              1,
              "#f0f921"
             ]
            ],
            "type": "heatmap"
           }
          ],
          "heatmapgl": [
           {
            "colorbar": {
             "outlinewidth": 0,
             "ticks": ""
            },
            "colorscale": [
             [
              0,
              "#0d0887"
             ],
             [
              0.1111111111111111,
              "#46039f"
             ],
             [
              0.2222222222222222,
              "#7201a8"
             ],
             [
              0.3333333333333333,
              "#9c179e"
             ],
             [
              0.4444444444444444,
              "#bd3786"
             ],
             [
              0.5555555555555556,
              "#d8576b"
             ],
             [
              0.6666666666666666,
              "#ed7953"
             ],
             [
              0.7777777777777778,
              "#fb9f3a"
             ],
             [
              0.8888888888888888,
              "#fdca26"
             ],
             [
              1,
              "#f0f921"
             ]
            ],
            "type": "heatmapgl"
           }
          ],
          "histogram": [
           {
            "marker": {
             "pattern": {
              "fillmode": "overlay",
              "size": 10,
              "solidity": 0.2
             }
            },
            "type": "histogram"
           }
          ],
          "histogram2d": [
           {
            "colorbar": {
             "outlinewidth": 0,
             "ticks": ""
            },
            "colorscale": [
             [
              0,
              "#0d0887"
             ],
             [
              0.1111111111111111,
              "#46039f"
             ],
             [
              0.2222222222222222,
              "#7201a8"
             ],
             [
              0.3333333333333333,
              "#9c179e"
             ],
             [
              0.4444444444444444,
              "#bd3786"
             ],
             [
              0.5555555555555556,
              "#d8576b"
             ],
             [
              0.6666666666666666,
              "#ed7953"
             ],
             [
              0.7777777777777778,
              "#fb9f3a"
             ],
             [
              0.8888888888888888,
              "#fdca26"
             ],
             [
              1,
              "#f0f921"
             ]
            ],
            "type": "histogram2d"
           }
          ],
          "histogram2dcontour": [
           {
            "colorbar": {
             "outlinewidth": 0,
             "ticks": ""
            },
            "colorscale": [
             [
              0,
              "#0d0887"
             ],
             [
              0.1111111111111111,
              "#46039f"
             ],
             [
              0.2222222222222222,
              "#7201a8"
             ],
             [
              0.3333333333333333,
              "#9c179e"
             ],
             [
              0.4444444444444444,
              "#bd3786"
             ],
             [
              0.5555555555555556,
              "#d8576b"
             ],
             [
              0.6666666666666666,
              "#ed7953"
             ],
             [
              0.7777777777777778,
              "#fb9f3a"
             ],
             [
              0.8888888888888888,
              "#fdca26"
             ],
             [
              1,
              "#f0f921"
             ]
            ],
            "type": "histogram2dcontour"
           }
          ],
          "mesh3d": [
           {
            "colorbar": {
             "outlinewidth": 0,
             "ticks": ""
            },
            "type": "mesh3d"
           }
          ],
          "parcoords": [
           {
            "line": {
             "colorbar": {
              "outlinewidth": 0,
              "ticks": ""
             }
            },
            "type": "parcoords"
           }
          ],
          "pie": [
           {
            "automargin": true,
            "type": "pie"
           }
          ],
          "scatter": [
           {
            "marker": {
             "colorbar": {
              "outlinewidth": 0,
              "ticks": ""
             }
            },
            "type": "scatter"
           }
          ],
          "scatter3d": [
           {
            "line": {
             "colorbar": {
              "outlinewidth": 0,
              "ticks": ""
             }
            },
            "marker": {
             "colorbar": {
              "outlinewidth": 0,
              "ticks": ""
             }
            },
            "type": "scatter3d"
           }
          ],
          "scattercarpet": [
           {
            "marker": {
             "colorbar": {
              "outlinewidth": 0,
              "ticks": ""
             }
            },
            "type": "scattercarpet"
           }
          ],
          "scattergeo": [
           {
            "marker": {
             "colorbar": {
              "outlinewidth": 0,
              "ticks": ""
             }
            },
            "type": "scattergeo"
           }
          ],
          "scattergl": [
           {
            "marker": {
             "colorbar": {
              "outlinewidth": 0,
              "ticks": ""
             }
            },
            "type": "scattergl"
           }
          ],
          "scattermapbox": [
           {
            "marker": {
             "colorbar": {
              "outlinewidth": 0,
              "ticks": ""
             }
            },
            "type": "scattermapbox"
           }
          ],
          "scatterpolar": [
           {
            "marker": {
             "colorbar": {
              "outlinewidth": 0,
              "ticks": ""
             }
            },
            "type": "scatterpolar"
           }
          ],
          "scatterpolargl": [
           {
            "marker": {
             "colorbar": {
              "outlinewidth": 0,
              "ticks": ""
             }
            },
            "type": "scatterpolargl"
           }
          ],
          "scatterternary": [
           {
            "marker": {
             "colorbar": {
              "outlinewidth": 0,
              "ticks": ""
             }
            },
            "type": "scatterternary"
           }
          ],
          "surface": [
           {
            "colorbar": {
             "outlinewidth": 0,
             "ticks": ""
            },
            "colorscale": [
             [
              0,
              "#0d0887"
             ],
             [
              0.1111111111111111,
              "#46039f"
             ],
             [
              0.2222222222222222,
              "#7201a8"
             ],
             [
              0.3333333333333333,
              "#9c179e"
             ],
             [
              0.4444444444444444,
              "#bd3786"
             ],
             [
              0.5555555555555556,
              "#d8576b"
             ],
             [
              0.6666666666666666,
              "#ed7953"
             ],
             [
              0.7777777777777778,
              "#fb9f3a"
             ],
             [
              0.8888888888888888,
              "#fdca26"
             ],
             [
              1,
              "#f0f921"
             ]
            ],
            "type": "surface"
           }
          ],
          "table": [
           {
            "cells": {
             "fill": {
              "color": "#EBF0F8"
             },
             "line": {
              "color": "white"
             }
            },
            "header": {
             "fill": {
              "color": "#C8D4E3"
             },
             "line": {
              "color": "white"
             }
            },
            "type": "table"
           }
          ]
         },
         "layout": {
          "annotationdefaults": {
           "arrowcolor": "#2a3f5f",
           "arrowhead": 0,
           "arrowwidth": 1
          },
          "autotypenumbers": "strict",
          "coloraxis": {
           "colorbar": {
            "outlinewidth": 0,
            "ticks": ""
           }
          },
          "colorscale": {
           "diverging": [
            [
             0,
             "#8e0152"
            ],
            [
             0.1,
             "#c51b7d"
            ],
            [
             0.2,
             "#de77ae"
            ],
            [
             0.3,
             "#f1b6da"
            ],
            [
             0.4,
             "#fde0ef"
            ],
            [
             0.5,
             "#f7f7f7"
            ],
            [
             0.6,
             "#e6f5d0"
            ],
            [
             0.7,
             "#b8e186"
            ],
            [
             0.8,
             "#7fbc41"
            ],
            [
             0.9,
             "#4d9221"
            ],
            [
             1,
             "#276419"
            ]
           ],
           "sequential": [
            [
             0,
             "#0d0887"
            ],
            [
             0.1111111111111111,
             "#46039f"
            ],
            [
             0.2222222222222222,
             "#7201a8"
            ],
            [
             0.3333333333333333,
             "#9c179e"
            ],
            [
             0.4444444444444444,
             "#bd3786"
            ],
            [
             0.5555555555555556,
             "#d8576b"
            ],
            [
             0.6666666666666666,
             "#ed7953"
            ],
            [
             0.7777777777777778,
             "#fb9f3a"
            ],
            [
             0.8888888888888888,
             "#fdca26"
            ],
            [
             1,
             "#f0f921"
            ]
           ],
           "sequentialminus": [
            [
             0,
             "#0d0887"
            ],
            [
             0.1111111111111111,
             "#46039f"
            ],
            [
             0.2222222222222222,
             "#7201a8"
            ],
            [
             0.3333333333333333,
             "#9c179e"
            ],
            [
             0.4444444444444444,
             "#bd3786"
            ],
            [
             0.5555555555555556,
             "#d8576b"
            ],
            [
             0.6666666666666666,
             "#ed7953"
            ],
            [
             0.7777777777777778,
             "#fb9f3a"
            ],
            [
             0.8888888888888888,
             "#fdca26"
            ],
            [
             1,
             "#f0f921"
            ]
           ]
          },
          "colorway": [
           "#636efa",
           "#EF553B",
           "#00cc96",
           "#ab63fa",
           "#FFA15A",
           "#19d3f3",
           "#FF6692",
           "#B6E880",
           "#FF97FF",
           "#FECB52"
          ],
          "font": {
           "color": "#2a3f5f"
          },
          "geo": {
           "bgcolor": "white",
           "lakecolor": "white",
           "landcolor": "#E5ECF6",
           "showlakes": true,
           "showland": true,
           "subunitcolor": "white"
          },
          "hoverlabel": {
           "align": "left"
          },
          "hovermode": "closest",
          "mapbox": {
           "style": "light"
          },
          "paper_bgcolor": "white",
          "plot_bgcolor": "#E5ECF6",
          "polar": {
           "angularaxis": {
            "gridcolor": "white",
            "linecolor": "white",
            "ticks": ""
           },
           "bgcolor": "#E5ECF6",
           "radialaxis": {
            "gridcolor": "white",
            "linecolor": "white",
            "ticks": ""
           }
          },
          "scene": {
           "xaxis": {
            "backgroundcolor": "#E5ECF6",
            "gridcolor": "white",
            "gridwidth": 2,
            "linecolor": "white",
            "showbackground": true,
            "ticks": "",
            "zerolinecolor": "white"
           },
           "yaxis": {
            "backgroundcolor": "#E5ECF6",
            "gridcolor": "white",
            "gridwidth": 2,
            "linecolor": "white",
            "showbackground": true,
            "ticks": "",
            "zerolinecolor": "white"
           },
           "zaxis": {
            "backgroundcolor": "#E5ECF6",
            "gridcolor": "white",
            "gridwidth": 2,
            "linecolor": "white",
            "showbackground": true,
            "ticks": "",
            "zerolinecolor": "white"
           }
          },
          "shapedefaults": {
           "line": {
            "color": "#2a3f5f"
           }
          },
          "ternary": {
           "aaxis": {
            "gridcolor": "white",
            "linecolor": "white",
            "ticks": ""
           },
           "baxis": {
            "gridcolor": "white",
            "linecolor": "white",
            "ticks": ""
           },
           "bgcolor": "#E5ECF6",
           "caxis": {
            "gridcolor": "white",
            "linecolor": "white",
            "ticks": ""
           }
          },
          "title": {
           "x": 0.05
          },
          "xaxis": {
           "automargin": true,
           "gridcolor": "white",
           "linecolor": "white",
           "ticks": "",
           "title": {
            "standoff": 15
           },
           "zerolinecolor": "white",
           "zerolinewidth": 2
          },
          "yaxis": {
           "automargin": true,
           "gridcolor": "white",
           "linecolor": "white",
           "ticks": "",
           "title": {
            "standoff": 15
           },
           "zerolinecolor": "white",
           "zerolinewidth": 2
          }
         }
        },
        "updatemenus": [
         {
          "buttons": [
           {
            "args": [
             null,
             {
              "frame": {
               "duration": 500,
               "redraw": true
              },
              "fromcurrent": true,
              "mode": "immediate",
              "transition": {
               "duration": 500,
               "easing": "linear"
              }
             }
            ],
            "label": "&#9654;",
            "method": "animate"
           },
           {
            "args": [
             [
              null
             ],
             {
              "frame": {
               "duration": 0,
               "redraw": true
              },
              "fromcurrent": true,
              "mode": "immediate",
              "transition": {
               "duration": 0,
               "easing": "linear"
              }
             }
            ],
            "label": "&#9724;",
            "method": "animate"
           }
          ],
          "direction": "left",
          "pad": {
           "r": 10,
           "t": 70
          },
          "showactive": false,
          "type": "buttons",
          "x": 0.1,
          "xanchor": "right",
          "y": 0,
          "yanchor": "top"
         }
        ],
        "xaxis": {
         "anchor": "y",
         "categoryarray": [
          "삼성전자",
          "카카오",
          "sk하이닉스",
          "NAVER",
          "삼성바이오로직스",
          "삼성전자우",
          "LG화학",
          "삼성SDI",
          "현대차",
          "셀트리온"
         ],
         "categoryorder": "array",
         "domain": [
          0,
          1
         ],
         "title": {
          "text": "종목명"
         }
        },
        "yaxis": {
         "anchor": "x",
         "domain": [
          0,
          1
         ],
         "range": [
          0,
          1000000
         ],
         "title": {
          "text": "종가"
         }
        }
       }
      },
      "text/html": [
       "<div>                            <div id=\"6d05113f-58bf-45f4-822b-a3c16138b8fe\" class=\"plotly-graph-div\" style=\"height:525px; width:100%;\"></div>            <script type=\"text/javascript\">                require([\"plotly\"], function(Plotly) {                    window.PLOTLYENV=window.PLOTLYENV || {};                                    if (document.getElementById(\"6d05113f-58bf-45f4-822b-a3c16138b8fe\")) {                    Plotly.newPlot(                        \"6d05113f-58bf-45f4-822b-a3c16138b8fe\",                        [{\"alignmentgroup\":\"True\",\"hovertemplate\":\"\\uc885\\ubaa9\\uba85=%{x}<br>\\ub0a0\\uc9dc=2021-09-01<br>\\uc885\\uac00=%{y}<extra></extra>\",\"ids\":[\"\\uc0bc\\uc131\\uc804\\uc790\"],\"legendgroup\":\"\\uc0bc\\uc131\\uc804\\uc790\",\"marker\":{\"color\":\"#636efa\",\"pattern\":{\"shape\":\"\"}},\"name\":\"\\uc0bc\\uc131\\uc804\\uc790\",\"offsetgroup\":\"\\uc0bc\\uc131\\uc804\\uc790\",\"orientation\":\"v\",\"showlegend\":true,\"textposition\":\"auto\",\"type\":\"bar\",\"x\":[\"\\uc0bc\\uc131\\uc804\\uc790\"],\"xaxis\":\"x\",\"y\":[76800],\"yaxis\":\"y\"},{\"alignmentgroup\":\"True\",\"hovertemplate\":\"\\uc885\\ubaa9\\uba85=%{x}<br>\\ub0a0\\uc9dc=2021-09-01<br>\\uc885\\uac00=%{y}<extra></extra>\",\"ids\":[\"\\uce74\\uce74\\uc624\"],\"legendgroup\":\"\\uce74\\uce74\\uc624\",\"marker\":{\"color\":\"#EF553B\",\"pattern\":{\"shape\":\"\"}},\"name\":\"\\uce74\\uce74\\uc624\",\"offsetgroup\":\"\\uce74\\uce74\\uc624\",\"orientation\":\"v\",\"showlegend\":true,\"textposition\":\"auto\",\"type\":\"bar\",\"x\":[\"\\uce74\\uce74\\uc624\"],\"xaxis\":\"x\",\"y\":[154000],\"yaxis\":\"y\"},{\"alignmentgroup\":\"True\",\"hovertemplate\":\"\\uc885\\ubaa9\\uba85=%{x}<br>\\ub0a0\\uc9dc=2021-09-01<br>\\uc885\\uac00=%{y}<extra></extra>\",\"ids\":[\"sk\\ud558\\uc774\\ub2c9\\uc2a4\"],\"legendgroup\":\"sk\\ud558\\uc774\\ub2c9\\uc2a4\",\"marker\":{\"color\":\"#00cc96\",\"pattern\":{\"shape\":\"\"}},\"name\":\"sk\\ud558\\uc774\\ub2c9\\uc2a4\",\"offsetgroup\":\"sk\\ud558\\uc774\\ub2c9\\uc2a4\",\"orientation\":\"v\",\"showlegend\":true,\"textposition\":\"auto\",\"type\":\"bar\",\"x\":[\"sk\\ud558\\uc774\\ub2c9\\uc2a4\"],\"xaxis\":\"x\",\"y\":[108000],\"yaxis\":\"y\"},{\"alignmentgroup\":\"True\",\"hovertemplate\":\"\\uc885\\ubaa9\\uba85=%{x}<br>\\ub0a0\\uc9dc=2021-09-01<br>\\uc885\\uac00=%{y}<extra></extra>\",\"ids\":[\"NAVER\"],\"legendgroup\":\"NAVER\",\"marker\":{\"color\":\"#ab63fa\",\"pattern\":{\"shape\":\"\"}},\"name\":\"NAVER\",\"offsetgroup\":\"NAVER\",\"orientation\":\"v\",\"showlegend\":true,\"textposition\":\"auto\",\"type\":\"bar\",\"x\":[\"NAVER\"],\"xaxis\":\"x\",\"y\":[445000],\"yaxis\":\"y\"},{\"alignmentgroup\":\"True\",\"hovertemplate\":\"\\uc885\\ubaa9\\uba85=%{x}<br>\\ub0a0\\uc9dc=2021-09-01<br>\\uc885\\uac00=%{y}<extra></extra>\",\"ids\":[\"\\uc0bc\\uc131\\ubc14\\uc774\\uc624\\ub85c\\uc9c1\\uc2a4\"],\"legendgroup\":\"\\uc0bc\\uc131\\ubc14\\uc774\\uc624\\ub85c\\uc9c1\\uc2a4\",\"marker\":{\"color\":\"#FFA15A\",\"pattern\":{\"shape\":\"\"}},\"name\":\"\\uc0bc\\uc131\\ubc14\\uc774\\uc624\\ub85c\\uc9c1\\uc2a4\",\"offsetgroup\":\"\\uc0bc\\uc131\\ubc14\\uc774\\uc624\\ub85c\\uc9c1\\uc2a4\",\"orientation\":\"v\",\"showlegend\":true,\"textposition\":\"auto\",\"type\":\"bar\",\"x\":[\"\\uc0bc\\uc131\\ubc14\\uc774\\uc624\\ub85c\\uc9c1\\uc2a4\"],\"xaxis\":\"x\",\"y\":[962000],\"yaxis\":\"y\"},{\"alignmentgroup\":\"True\",\"hovertemplate\":\"\\uc885\\ubaa9\\uba85=%{x}<br>\\ub0a0\\uc9dc=2021-09-01<br>\\uc885\\uac00=%{y}<extra></extra>\",\"ids\":[\"\\uc0bc\\uc131\\uc804\\uc790\\uc6b0\"],\"legendgroup\":\"\\uc0bc\\uc131\\uc804\\uc790\\uc6b0\",\"marker\":{\"color\":\"#19d3f3\",\"pattern\":{\"shape\":\"\"}},\"name\":\"\\uc0bc\\uc131\\uc804\\uc790\\uc6b0\",\"offsetgroup\":\"\\uc0bc\\uc131\\uc804\\uc790\\uc6b0\",\"orientation\":\"v\",\"showlegend\":true,\"textposition\":\"auto\",\"type\":\"bar\",\"x\":[\"\\uc0bc\\uc131\\uc804\\uc790\\uc6b0\"],\"xaxis\":\"x\",\"y\":[70900],\"yaxis\":\"y\"},{\"alignmentgroup\":\"True\",\"hovertemplate\":\"\\uc885\\ubaa9\\uba85=%{x}<br>\\ub0a0\\uc9dc=2021-09-01<br>\\uc885\\uac00=%{y}<extra></extra>\",\"ids\":[\"LG\\ud654\\ud559\"],\"legendgroup\":\"LG\\ud654\\ud559\",\"marker\":{\"color\":\"#FF6692\",\"pattern\":{\"shape\":\"\"}},\"name\":\"LG\\ud654\\ud559\",\"offsetgroup\":\"LG\\ud654\\ud559\",\"orientation\":\"v\",\"showlegend\":true,\"textposition\":\"auto\",\"type\":\"bar\",\"x\":[\"LG\\ud654\\ud559\"],\"xaxis\":\"x\",\"y\":[721000],\"yaxis\":\"y\"},{\"alignmentgroup\":\"True\",\"hovertemplate\":\"\\uc885\\ubaa9\\uba85=%{x}<br>\\ub0a0\\uc9dc=2021-09-01<br>\\uc885\\uac00=%{y}<extra></extra>\",\"ids\":[\"\\uc0bc\\uc131SDI\"],\"legendgroup\":\"\\uc0bc\\uc131SDI\",\"marker\":{\"color\":\"#B6E880\",\"pattern\":{\"shape\":\"\"}},\"name\":\"\\uc0bc\\uc131SDI\",\"offsetgroup\":\"\\uc0bc\\uc131SDI\",\"orientation\":\"v\",\"showlegend\":true,\"textposition\":\"auto\",\"type\":\"bar\",\"x\":[\"\\uc0bc\\uc131SDI\"],\"xaxis\":\"x\",\"y\":[788000],\"yaxis\":\"y\"},{\"alignmentgroup\":\"True\",\"hovertemplate\":\"\\uc885\\ubaa9\\uba85=%{x}<br>\\ub0a0\\uc9dc=2021-09-01<br>\\uc885\\uac00=%{y}<extra></extra>\",\"ids\":[\"\\ud604\\ub300\\ucc28\"],\"legendgroup\":\"\\ud604\\ub300\\ucc28\",\"marker\":{\"color\":\"#FF97FF\",\"pattern\":{\"shape\":\"\"}},\"name\":\"\\ud604\\ub300\\ucc28\",\"offsetgroup\":\"\\ud604\\ub300\\ucc28\",\"orientation\":\"v\",\"showlegend\":true,\"textposition\":\"auto\",\"type\":\"bar\",\"x\":[\"\\ud604\\ub300\\ucc28\"],\"xaxis\":\"x\",\"y\":[215000],\"yaxis\":\"y\"},{\"alignmentgroup\":\"True\",\"hovertemplate\":\"\\uc885\\ubaa9\\uba85=%{x}<br>\\ub0a0\\uc9dc=2021-09-01<br>\\uc885\\uac00=%{y}<extra></extra>\",\"ids\":[\"\\uc140\\ud2b8\\ub9ac\\uc628\"],\"legendgroup\":\"\\uc140\\ud2b8\\ub9ac\\uc628\",\"marker\":{\"color\":\"#FECB52\",\"pattern\":{\"shape\":\"\"}},\"name\":\"\\uc140\\ud2b8\\ub9ac\\uc628\",\"offsetgroup\":\"\\uc140\\ud2b8\\ub9ac\\uc628\",\"orientation\":\"v\",\"showlegend\":true,\"textposition\":\"auto\",\"type\":\"bar\",\"x\":[\"\\uc140\\ud2b8\\ub9ac\\uc628\"],\"xaxis\":\"x\",\"y\":[290500],\"yaxis\":\"y\"}],                        {\"barmode\":\"relative\",\"legend\":{\"title\":{\"text\":\"\\uc885\\ubaa9\\uba85\"},\"tracegroupgap\":0},\"margin\":{\"t\":60},\"sliders\":[{\"active\":0,\"currentvalue\":{\"prefix\":\"\\ub0a0\\uc9dc=\"},\"len\":0.9,\"pad\":{\"b\":10,\"t\":60},\"steps\":[{\"args\":[[\"2021-09-01\"],{\"frame\":{\"duration\":0,\"redraw\":true},\"fromcurrent\":true,\"mode\":\"immediate\",\"transition\":{\"duration\":0,\"easing\":\"linear\"}}],\"label\":\"2021-09-01\",\"method\":\"animate\"},{\"args\":[[\"2021-09-02\"],{\"frame\":{\"duration\":0,\"redraw\":true},\"fromcurrent\":true,\"mode\":\"immediate\",\"transition\":{\"duration\":0,\"easing\":\"linear\"}}],\"label\":\"2021-09-02\",\"method\":\"animate\"},{\"args\":[[\"2021-09-03\"],{\"frame\":{\"duration\":0,\"redraw\":true},\"fromcurrent\":true,\"mode\":\"immediate\",\"transition\":{\"duration\":0,\"easing\":\"linear\"}}],\"label\":\"2021-09-03\",\"method\":\"animate\"},{\"args\":[[\"2021-09-06\"],{\"frame\":{\"duration\":0,\"redraw\":true},\"fromcurrent\":true,\"mode\":\"immediate\",\"transition\":{\"duration\":0,\"easing\":\"linear\"}}],\"label\":\"2021-09-06\",\"method\":\"animate\"},{\"args\":[[\"2021-09-07\"],{\"frame\":{\"duration\":0,\"redraw\":true},\"fromcurrent\":true,\"mode\":\"immediate\",\"transition\":{\"duration\":0,\"easing\":\"linear\"}}],\"label\":\"2021-09-07\",\"method\":\"animate\"},{\"args\":[[\"2021-09-08\"],{\"frame\":{\"duration\":0,\"redraw\":true},\"fromcurrent\":true,\"mode\":\"immediate\",\"transition\":{\"duration\":0,\"easing\":\"linear\"}}],\"label\":\"2021-09-08\",\"method\":\"animate\"},{\"args\":[[\"2021-09-09\"],{\"frame\":{\"duration\":0,\"redraw\":true},\"fromcurrent\":true,\"mode\":\"immediate\",\"transition\":{\"duration\":0,\"easing\":\"linear\"}}],\"label\":\"2021-09-09\",\"method\":\"animate\"},{\"args\":[[\"2021-09-10\"],{\"frame\":{\"duration\":0,\"redraw\":true},\"fromcurrent\":true,\"mode\":\"immediate\",\"transition\":{\"duration\":0,\"easing\":\"linear\"}}],\"label\":\"2021-09-10\",\"method\":\"animate\"},{\"args\":[[\"2021-09-13\"],{\"frame\":{\"duration\":0,\"redraw\":true},\"fromcurrent\":true,\"mode\":\"immediate\",\"transition\":{\"duration\":0,\"easing\":\"linear\"}}],\"label\":\"2021-09-13\",\"method\":\"animate\"},{\"args\":[[\"2021-09-14\"],{\"frame\":{\"duration\":0,\"redraw\":true},\"fromcurrent\":true,\"mode\":\"immediate\",\"transition\":{\"duration\":0,\"easing\":\"linear\"}}],\"label\":\"2021-09-14\",\"method\":\"animate\"},{\"args\":[[\"2021-09-15\"],{\"frame\":{\"duration\":0,\"redraw\":true},\"fromcurrent\":true,\"mode\":\"immediate\",\"transition\":{\"duration\":0,\"easing\":\"linear\"}}],\"label\":\"2021-09-15\",\"method\":\"animate\"},{\"args\":[[\"2021-09-16\"],{\"frame\":{\"duration\":0,\"redraw\":true},\"fromcurrent\":true,\"mode\":\"immediate\",\"transition\":{\"duration\":0,\"easing\":\"linear\"}}],\"label\":\"2021-09-16\",\"method\":\"animate\"},{\"args\":[[\"2021-09-17\"],{\"frame\":{\"duration\":0,\"redraw\":true},\"fromcurrent\":true,\"mode\":\"immediate\",\"transition\":{\"duration\":0,\"easing\":\"linear\"}}],\"label\":\"2021-09-17\",\"method\":\"animate\"},{\"args\":[[\"2021-09-23\"],{\"frame\":{\"duration\":0,\"redraw\":true},\"fromcurrent\":true,\"mode\":\"immediate\",\"transition\":{\"duration\":0,\"easing\":\"linear\"}}],\"label\":\"2021-09-23\",\"method\":\"animate\"},{\"args\":[[\"2021-09-24\"],{\"frame\":{\"duration\":0,\"redraw\":true},\"fromcurrent\":true,\"mode\":\"immediate\",\"transition\":{\"duration\":0,\"easing\":\"linear\"}}],\"label\":\"2021-09-24\",\"method\":\"animate\"},{\"args\":[[\"2021-09-27\"],{\"frame\":{\"duration\":0,\"redraw\":true},\"fromcurrent\":true,\"mode\":\"immediate\",\"transition\":{\"duration\":0,\"easing\":\"linear\"}}],\"label\":\"2021-09-27\",\"method\":\"animate\"},{\"args\":[[\"2021-09-28\"],{\"frame\":{\"duration\":0,\"redraw\":true},\"fromcurrent\":true,\"mode\":\"immediate\",\"transition\":{\"duration\":0,\"easing\":\"linear\"}}],\"label\":\"2021-09-28\",\"method\":\"animate\"},{\"args\":[[\"2021-09-29\"],{\"frame\":{\"duration\":0,\"redraw\":true},\"fromcurrent\":true,\"mode\":\"immediate\",\"transition\":{\"duration\":0,\"easing\":\"linear\"}}],\"label\":\"2021-09-29\",\"method\":\"animate\"},{\"args\":[[\"2021-09-30\"],{\"frame\":{\"duration\":0,\"redraw\":true},\"fromcurrent\":true,\"mode\":\"immediate\",\"transition\":{\"duration\":0,\"easing\":\"linear\"}}],\"label\":\"2021-09-30\",\"method\":\"animate\"}],\"x\":0.1,\"xanchor\":\"left\",\"y\":0,\"yanchor\":\"top\"}],\"template\":{\"data\":{\"bar\":[{\"error_x\":{\"color\":\"#2a3f5f\"},\"error_y\":{\"color\":\"#2a3f5f\"},\"marker\":{\"line\":{\"color\":\"#E5ECF6\",\"width\":0.5},\"pattern\":{\"fillmode\":\"overlay\",\"size\":10,\"solidity\":0.2}},\"type\":\"bar\"}],\"barpolar\":[{\"marker\":{\"line\":{\"color\":\"#E5ECF6\",\"width\":0.5},\"pattern\":{\"fillmode\":\"overlay\",\"size\":10,\"solidity\":0.2}},\"type\":\"barpolar\"}],\"carpet\":[{\"aaxis\":{\"endlinecolor\":\"#2a3f5f\",\"gridcolor\":\"white\",\"linecolor\":\"white\",\"minorgridcolor\":\"white\",\"startlinecolor\":\"#2a3f5f\"},\"baxis\":{\"endlinecolor\":\"#2a3f5f\",\"gridcolor\":\"white\",\"linecolor\":\"white\",\"minorgridcolor\":\"white\",\"startlinecolor\":\"#2a3f5f\"},\"type\":\"carpet\"}],\"choropleth\":[{\"colorbar\":{\"outlinewidth\":0,\"ticks\":\"\"},\"type\":\"choropleth\"}],\"contour\":[{\"colorbar\":{\"outlinewidth\":0,\"ticks\":\"\"},\"colorscale\":[[0.0,\"#0d0887\"],[0.1111111111111111,\"#46039f\"],[0.2222222222222222,\"#7201a8\"],[0.3333333333333333,\"#9c179e\"],[0.4444444444444444,\"#bd3786\"],[0.5555555555555556,\"#d8576b\"],[0.6666666666666666,\"#ed7953\"],[0.7777777777777778,\"#fb9f3a\"],[0.8888888888888888,\"#fdca26\"],[1.0,\"#f0f921\"]],\"type\":\"contour\"}],\"contourcarpet\":[{\"colorbar\":{\"outlinewidth\":0,\"ticks\":\"\"},\"type\":\"contourcarpet\"}],\"heatmap\":[{\"colorbar\":{\"outlinewidth\":0,\"ticks\":\"\"},\"colorscale\":[[0.0,\"#0d0887\"],[0.1111111111111111,\"#46039f\"],[0.2222222222222222,\"#7201a8\"],[0.3333333333333333,\"#9c179e\"],[0.4444444444444444,\"#bd3786\"],[0.5555555555555556,\"#d8576b\"],[0.6666666666666666,\"#ed7953\"],[0.7777777777777778,\"#fb9f3a\"],[0.8888888888888888,\"#fdca26\"],[1.0,\"#f0f921\"]],\"type\":\"heatmap\"}],\"heatmapgl\":[{\"colorbar\":{\"outlinewidth\":0,\"ticks\":\"\"},\"colorscale\":[[0.0,\"#0d0887\"],[0.1111111111111111,\"#46039f\"],[0.2222222222222222,\"#7201a8\"],[0.3333333333333333,\"#9c179e\"],[0.4444444444444444,\"#bd3786\"],[0.5555555555555556,\"#d8576b\"],[0.6666666666666666,\"#ed7953\"],[0.7777777777777778,\"#fb9f3a\"],[0.8888888888888888,\"#fdca26\"],[1.0,\"#f0f921\"]],\"type\":\"heatmapgl\"}],\"histogram\":[{\"marker\":{\"pattern\":{\"fillmode\":\"overlay\",\"size\":10,\"solidity\":0.2}},\"type\":\"histogram\"}],\"histogram2d\":[{\"colorbar\":{\"outlinewidth\":0,\"ticks\":\"\"},\"colorscale\":[[0.0,\"#0d0887\"],[0.1111111111111111,\"#46039f\"],[0.2222222222222222,\"#7201a8\"],[0.3333333333333333,\"#9c179e\"],[0.4444444444444444,\"#bd3786\"],[0.5555555555555556,\"#d8576b\"],[0.6666666666666666,\"#ed7953\"],[0.7777777777777778,\"#fb9f3a\"],[0.8888888888888888,\"#fdca26\"],[1.0,\"#f0f921\"]],\"type\":\"histogram2d\"}],\"histogram2dcontour\":[{\"colorbar\":{\"outlinewidth\":0,\"ticks\":\"\"},\"colorscale\":[[0.0,\"#0d0887\"],[0.1111111111111111,\"#46039f\"],[0.2222222222222222,\"#7201a8\"],[0.3333333333333333,\"#9c179e\"],[0.4444444444444444,\"#bd3786\"],[0.5555555555555556,\"#d8576b\"],[0.6666666666666666,\"#ed7953\"],[0.7777777777777778,\"#fb9f3a\"],[0.8888888888888888,\"#fdca26\"],[1.0,\"#f0f921\"]],\"type\":\"histogram2dcontour\"}],\"mesh3d\":[{\"colorbar\":{\"outlinewidth\":0,\"ticks\":\"\"},\"type\":\"mesh3d\"}],\"parcoords\":[{\"line\":{\"colorbar\":{\"outlinewidth\":0,\"ticks\":\"\"}},\"type\":\"parcoords\"}],\"pie\":[{\"automargin\":true,\"type\":\"pie\"}],\"scatter\":[{\"marker\":{\"colorbar\":{\"outlinewidth\":0,\"ticks\":\"\"}},\"type\":\"scatter\"}],\"scatter3d\":[{\"line\":{\"colorbar\":{\"outlinewidth\":0,\"ticks\":\"\"}},\"marker\":{\"colorbar\":{\"outlinewidth\":0,\"ticks\":\"\"}},\"type\":\"scatter3d\"}],\"scattercarpet\":[{\"marker\":{\"colorbar\":{\"outlinewidth\":0,\"ticks\":\"\"}},\"type\":\"scattercarpet\"}],\"scattergeo\":[{\"marker\":{\"colorbar\":{\"outlinewidth\":0,\"ticks\":\"\"}},\"type\":\"scattergeo\"}],\"scattergl\":[{\"marker\":{\"colorbar\":{\"outlinewidth\":0,\"ticks\":\"\"}},\"type\":\"scattergl\"}],\"scattermapbox\":[{\"marker\":{\"colorbar\":{\"outlinewidth\":0,\"ticks\":\"\"}},\"type\":\"scattermapbox\"}],\"scatterpolar\":[{\"marker\":{\"colorbar\":{\"outlinewidth\":0,\"ticks\":\"\"}},\"type\":\"scatterpolar\"}],\"scatterpolargl\":[{\"marker\":{\"colorbar\":{\"outlinewidth\":0,\"ticks\":\"\"}},\"type\":\"scatterpolargl\"}],\"scatterternary\":[{\"marker\":{\"colorbar\":{\"outlinewidth\":0,\"ticks\":\"\"}},\"type\":\"scatterternary\"}],\"surface\":[{\"colorbar\":{\"outlinewidth\":0,\"ticks\":\"\"},\"colorscale\":[[0.0,\"#0d0887\"],[0.1111111111111111,\"#46039f\"],[0.2222222222222222,\"#7201a8\"],[0.3333333333333333,\"#9c179e\"],[0.4444444444444444,\"#bd3786\"],[0.5555555555555556,\"#d8576b\"],[0.6666666666666666,\"#ed7953\"],[0.7777777777777778,\"#fb9f3a\"],[0.8888888888888888,\"#fdca26\"],[1.0,\"#f0f921\"]],\"type\":\"surface\"}],\"table\":[{\"cells\":{\"fill\":{\"color\":\"#EBF0F8\"},\"line\":{\"color\":\"white\"}},\"header\":{\"fill\":{\"color\":\"#C8D4E3\"},\"line\":{\"color\":\"white\"}},\"type\":\"table\"}]},\"layout\":{\"annotationdefaults\":{\"arrowcolor\":\"#2a3f5f\",\"arrowhead\":0,\"arrowwidth\":1},\"autotypenumbers\":\"strict\",\"coloraxis\":{\"colorbar\":{\"outlinewidth\":0,\"ticks\":\"\"}},\"colorscale\":{\"diverging\":[[0,\"#8e0152\"],[0.1,\"#c51b7d\"],[0.2,\"#de77ae\"],[0.3,\"#f1b6da\"],[0.4,\"#fde0ef\"],[0.5,\"#f7f7f7\"],[0.6,\"#e6f5d0\"],[0.7,\"#b8e186\"],[0.8,\"#7fbc41\"],[0.9,\"#4d9221\"],[1,\"#276419\"]],\"sequential\":[[0.0,\"#0d0887\"],[0.1111111111111111,\"#46039f\"],[0.2222222222222222,\"#7201a8\"],[0.3333333333333333,\"#9c179e\"],[0.4444444444444444,\"#bd3786\"],[0.5555555555555556,\"#d8576b\"],[0.6666666666666666,\"#ed7953\"],[0.7777777777777778,\"#fb9f3a\"],[0.8888888888888888,\"#fdca26\"],[1.0,\"#f0f921\"]],\"sequentialminus\":[[0.0,\"#0d0887\"],[0.1111111111111111,\"#46039f\"],[0.2222222222222222,\"#7201a8\"],[0.3333333333333333,\"#9c179e\"],[0.4444444444444444,\"#bd3786\"],[0.5555555555555556,\"#d8576b\"],[0.6666666666666666,\"#ed7953\"],[0.7777777777777778,\"#fb9f3a\"],[0.8888888888888888,\"#fdca26\"],[1.0,\"#f0f921\"]]},\"colorway\":[\"#636efa\",\"#EF553B\",\"#00cc96\",\"#ab63fa\",\"#FFA15A\",\"#19d3f3\",\"#FF6692\",\"#B6E880\",\"#FF97FF\",\"#FECB52\"],\"font\":{\"color\":\"#2a3f5f\"},\"geo\":{\"bgcolor\":\"white\",\"lakecolor\":\"white\",\"landcolor\":\"#E5ECF6\",\"showlakes\":true,\"showland\":true,\"subunitcolor\":\"white\"},\"hoverlabel\":{\"align\":\"left\"},\"hovermode\":\"closest\",\"mapbox\":{\"style\":\"light\"},\"paper_bgcolor\":\"white\",\"plot_bgcolor\":\"#E5ECF6\",\"polar\":{\"angularaxis\":{\"gridcolor\":\"white\",\"linecolor\":\"white\",\"ticks\":\"\"},\"bgcolor\":\"#E5ECF6\",\"radialaxis\":{\"gridcolor\":\"white\",\"linecolor\":\"white\",\"ticks\":\"\"}},\"scene\":{\"xaxis\":{\"backgroundcolor\":\"#E5ECF6\",\"gridcolor\":\"white\",\"gridwidth\":2,\"linecolor\":\"white\",\"showbackground\":true,\"ticks\":\"\",\"zerolinecolor\":\"white\"},\"yaxis\":{\"backgroundcolor\":\"#E5ECF6\",\"gridcolor\":\"white\",\"gridwidth\":2,\"linecolor\":\"white\",\"showbackground\":true,\"ticks\":\"\",\"zerolinecolor\":\"white\"},\"zaxis\":{\"backgroundcolor\":\"#E5ECF6\",\"gridcolor\":\"white\",\"gridwidth\":2,\"linecolor\":\"white\",\"showbackground\":true,\"ticks\":\"\",\"zerolinecolor\":\"white\"}},\"shapedefaults\":{\"line\":{\"color\":\"#2a3f5f\"}},\"ternary\":{\"aaxis\":{\"gridcolor\":\"white\",\"linecolor\":\"white\",\"ticks\":\"\"},\"baxis\":{\"gridcolor\":\"white\",\"linecolor\":\"white\",\"ticks\":\"\"},\"bgcolor\":\"#E5ECF6\",\"caxis\":{\"gridcolor\":\"white\",\"linecolor\":\"white\",\"ticks\":\"\"}},\"title\":{\"x\":0.05},\"xaxis\":{\"automargin\":true,\"gridcolor\":\"white\",\"linecolor\":\"white\",\"ticks\":\"\",\"title\":{\"standoff\":15},\"zerolinecolor\":\"white\",\"zerolinewidth\":2},\"yaxis\":{\"automargin\":true,\"gridcolor\":\"white\",\"linecolor\":\"white\",\"ticks\":\"\",\"title\":{\"standoff\":15},\"zerolinecolor\":\"white\",\"zerolinewidth\":2}}},\"updatemenus\":[{\"buttons\":[{\"args\":[null,{\"frame\":{\"duration\":500,\"redraw\":true},\"fromcurrent\":true,\"mode\":\"immediate\",\"transition\":{\"duration\":500,\"easing\":\"linear\"}}],\"label\":\"&#9654;\",\"method\":\"animate\"},{\"args\":[[null],{\"frame\":{\"duration\":0,\"redraw\":true},\"fromcurrent\":true,\"mode\":\"immediate\",\"transition\":{\"duration\":0,\"easing\":\"linear\"}}],\"label\":\"&#9724;\",\"method\":\"animate\"}],\"direction\":\"left\",\"pad\":{\"r\":10,\"t\":70},\"showactive\":false,\"type\":\"buttons\",\"x\":0.1,\"xanchor\":\"right\",\"y\":0,\"yanchor\":\"top\"}],\"xaxis\":{\"anchor\":\"y\",\"categoryarray\":[\"\\uc0bc\\uc131\\uc804\\uc790\",\"\\uce74\\uce74\\uc624\",\"sk\\ud558\\uc774\\ub2c9\\uc2a4\",\"NAVER\",\"\\uc0bc\\uc131\\ubc14\\uc774\\uc624\\ub85c\\uc9c1\\uc2a4\",\"\\uc0bc\\uc131\\uc804\\uc790\\uc6b0\",\"LG\\ud654\\ud559\",\"\\uc0bc\\uc131SDI\",\"\\ud604\\ub300\\ucc28\",\"\\uc140\\ud2b8\\ub9ac\\uc628\"],\"categoryorder\":\"array\",\"domain\":[0.0,1.0],\"title\":{\"text\":\"\\uc885\\ubaa9\\uba85\"}},\"yaxis\":{\"anchor\":\"x\",\"domain\":[0.0,1.0],\"range\":[0,1000000],\"title\":{\"text\":\"\\uc885\\uac00\"}}},                        {\"responsive\": true}                    ).then(function(){\n",
       "                            Plotly.addFrames('6d05113f-58bf-45f4-822b-a3c16138b8fe', [{\"data\":[{\"alignmentgroup\":\"True\",\"hovertemplate\":\"\\uc885\\ubaa9\\uba85=%{x}<br>\\ub0a0\\uc9dc=2021-09-01<br>\\uc885\\uac00=%{y}<extra></extra>\",\"ids\":[\"\\uc0bc\\uc131\\uc804\\uc790\"],\"legendgroup\":\"\\uc0bc\\uc131\\uc804\\uc790\",\"marker\":{\"color\":\"#636efa\",\"pattern\":{\"shape\":\"\"}},\"name\":\"\\uc0bc\\uc131\\uc804\\uc790\",\"offsetgroup\":\"\\uc0bc\\uc131\\uc804\\uc790\",\"orientation\":\"v\",\"showlegend\":true,\"textposition\":\"auto\",\"type\":\"bar\",\"x\":[\"\\uc0bc\\uc131\\uc804\\uc790\"],\"xaxis\":\"x\",\"y\":[76800],\"yaxis\":\"y\"},{\"alignmentgroup\":\"True\",\"hovertemplate\":\"\\uc885\\ubaa9\\uba85=%{x}<br>\\ub0a0\\uc9dc=2021-09-01<br>\\uc885\\uac00=%{y}<extra></extra>\",\"ids\":[\"\\uce74\\uce74\\uc624\"],\"legendgroup\":\"\\uce74\\uce74\\uc624\",\"marker\":{\"color\":\"#EF553B\",\"pattern\":{\"shape\":\"\"}},\"name\":\"\\uce74\\uce74\\uc624\",\"offsetgroup\":\"\\uce74\\uce74\\uc624\",\"orientation\":\"v\",\"showlegend\":true,\"textposition\":\"auto\",\"type\":\"bar\",\"x\":[\"\\uce74\\uce74\\uc624\"],\"xaxis\":\"x\",\"y\":[154000],\"yaxis\":\"y\"},{\"alignmentgroup\":\"True\",\"hovertemplate\":\"\\uc885\\ubaa9\\uba85=%{x}<br>\\ub0a0\\uc9dc=2021-09-01<br>\\uc885\\uac00=%{y}<extra></extra>\",\"ids\":[\"sk\\ud558\\uc774\\ub2c9\\uc2a4\"],\"legendgroup\":\"sk\\ud558\\uc774\\ub2c9\\uc2a4\",\"marker\":{\"color\":\"#00cc96\",\"pattern\":{\"shape\":\"\"}},\"name\":\"sk\\ud558\\uc774\\ub2c9\\uc2a4\",\"offsetgroup\":\"sk\\ud558\\uc774\\ub2c9\\uc2a4\",\"orientation\":\"v\",\"showlegend\":true,\"textposition\":\"auto\",\"type\":\"bar\",\"x\":[\"sk\\ud558\\uc774\\ub2c9\\uc2a4\"],\"xaxis\":\"x\",\"y\":[108000],\"yaxis\":\"y\"},{\"alignmentgroup\":\"True\",\"hovertemplate\":\"\\uc885\\ubaa9\\uba85=%{x}<br>\\ub0a0\\uc9dc=2021-09-01<br>\\uc885\\uac00=%{y}<extra></extra>\",\"ids\":[\"NAVER\"],\"legendgroup\":\"NAVER\",\"marker\":{\"color\":\"#ab63fa\",\"pattern\":{\"shape\":\"\"}},\"name\":\"NAVER\",\"offsetgroup\":\"NAVER\",\"orientation\":\"v\",\"showlegend\":true,\"textposition\":\"auto\",\"type\":\"bar\",\"x\":[\"NAVER\"],\"xaxis\":\"x\",\"y\":[445000],\"yaxis\":\"y\"},{\"alignmentgroup\":\"True\",\"hovertemplate\":\"\\uc885\\ubaa9\\uba85=%{x}<br>\\ub0a0\\uc9dc=2021-09-01<br>\\uc885\\uac00=%{y}<extra></extra>\",\"ids\":[\"\\uc0bc\\uc131\\ubc14\\uc774\\uc624\\ub85c\\uc9c1\\uc2a4\"],\"legendgroup\":\"\\uc0bc\\uc131\\ubc14\\uc774\\uc624\\ub85c\\uc9c1\\uc2a4\",\"marker\":{\"color\":\"#FFA15A\",\"pattern\":{\"shape\":\"\"}},\"name\":\"\\uc0bc\\uc131\\ubc14\\uc774\\uc624\\ub85c\\uc9c1\\uc2a4\",\"offsetgroup\":\"\\uc0bc\\uc131\\ubc14\\uc774\\uc624\\ub85c\\uc9c1\\uc2a4\",\"orientation\":\"v\",\"showlegend\":true,\"textposition\":\"auto\",\"type\":\"bar\",\"x\":[\"\\uc0bc\\uc131\\ubc14\\uc774\\uc624\\ub85c\\uc9c1\\uc2a4\"],\"xaxis\":\"x\",\"y\":[962000],\"yaxis\":\"y\"},{\"alignmentgroup\":\"True\",\"hovertemplate\":\"\\uc885\\ubaa9\\uba85=%{x}<br>\\ub0a0\\uc9dc=2021-09-01<br>\\uc885\\uac00=%{y}<extra></extra>\",\"ids\":[\"\\uc0bc\\uc131\\uc804\\uc790\\uc6b0\"],\"legendgroup\":\"\\uc0bc\\uc131\\uc804\\uc790\\uc6b0\",\"marker\":{\"color\":\"#19d3f3\",\"pattern\":{\"shape\":\"\"}},\"name\":\"\\uc0bc\\uc131\\uc804\\uc790\\uc6b0\",\"offsetgroup\":\"\\uc0bc\\uc131\\uc804\\uc790\\uc6b0\",\"orientation\":\"v\",\"showlegend\":true,\"textposition\":\"auto\",\"type\":\"bar\",\"x\":[\"\\uc0bc\\uc131\\uc804\\uc790\\uc6b0\"],\"xaxis\":\"x\",\"y\":[70900],\"yaxis\":\"y\"},{\"alignmentgroup\":\"True\",\"hovertemplate\":\"\\uc885\\ubaa9\\uba85=%{x}<br>\\ub0a0\\uc9dc=2021-09-01<br>\\uc885\\uac00=%{y}<extra></extra>\",\"ids\":[\"LG\\ud654\\ud559\"],\"legendgroup\":\"LG\\ud654\\ud559\",\"marker\":{\"color\":\"#FF6692\",\"pattern\":{\"shape\":\"\"}},\"name\":\"LG\\ud654\\ud559\",\"offsetgroup\":\"LG\\ud654\\ud559\",\"orientation\":\"v\",\"showlegend\":true,\"textposition\":\"auto\",\"type\":\"bar\",\"x\":[\"LG\\ud654\\ud559\"],\"xaxis\":\"x\",\"y\":[721000],\"yaxis\":\"y\"},{\"alignmentgroup\":\"True\",\"hovertemplate\":\"\\uc885\\ubaa9\\uba85=%{x}<br>\\ub0a0\\uc9dc=2021-09-01<br>\\uc885\\uac00=%{y}<extra></extra>\",\"ids\":[\"\\uc0bc\\uc131SDI\"],\"legendgroup\":\"\\uc0bc\\uc131SDI\",\"marker\":{\"color\":\"#B6E880\",\"pattern\":{\"shape\":\"\"}},\"name\":\"\\uc0bc\\uc131SDI\",\"offsetgroup\":\"\\uc0bc\\uc131SDI\",\"orientation\":\"v\",\"showlegend\":true,\"textposition\":\"auto\",\"type\":\"bar\",\"x\":[\"\\uc0bc\\uc131SDI\"],\"xaxis\":\"x\",\"y\":[788000],\"yaxis\":\"y\"},{\"alignmentgroup\":\"True\",\"hovertemplate\":\"\\uc885\\ubaa9\\uba85=%{x}<br>\\ub0a0\\uc9dc=2021-09-01<br>\\uc885\\uac00=%{y}<extra></extra>\",\"ids\":[\"\\ud604\\ub300\\ucc28\"],\"legendgroup\":\"\\ud604\\ub300\\ucc28\",\"marker\":{\"color\":\"#FF97FF\",\"pattern\":{\"shape\":\"\"}},\"name\":\"\\ud604\\ub300\\ucc28\",\"offsetgroup\":\"\\ud604\\ub300\\ucc28\",\"orientation\":\"v\",\"showlegend\":true,\"textposition\":\"auto\",\"type\":\"bar\",\"x\":[\"\\ud604\\ub300\\ucc28\"],\"xaxis\":\"x\",\"y\":[215000],\"yaxis\":\"y\"},{\"alignmentgroup\":\"True\",\"hovertemplate\":\"\\uc885\\ubaa9\\uba85=%{x}<br>\\ub0a0\\uc9dc=2021-09-01<br>\\uc885\\uac00=%{y}<extra></extra>\",\"ids\":[\"\\uc140\\ud2b8\\ub9ac\\uc628\"],\"legendgroup\":\"\\uc140\\ud2b8\\ub9ac\\uc628\",\"marker\":{\"color\":\"#FECB52\",\"pattern\":{\"shape\":\"\"}},\"name\":\"\\uc140\\ud2b8\\ub9ac\\uc628\",\"offsetgroup\":\"\\uc140\\ud2b8\\ub9ac\\uc628\",\"orientation\":\"v\",\"showlegend\":true,\"textposition\":\"auto\",\"type\":\"bar\",\"x\":[\"\\uc140\\ud2b8\\ub9ac\\uc628\"],\"xaxis\":\"x\",\"y\":[290500],\"yaxis\":\"y\"}],\"name\":\"2021-09-01\"},{\"data\":[{\"alignmentgroup\":\"True\",\"hovertemplate\":\"\\uc885\\ubaa9\\uba85=%{x}<br>\\ub0a0\\uc9dc=2021-09-02<br>\\uc885\\uac00=%{y}<extra></extra>\",\"ids\":[\"\\uc0bc\\uc131\\uc804\\uc790\"],\"legendgroup\":\"\\uc0bc\\uc131\\uc804\\uc790\",\"marker\":{\"color\":\"#636efa\",\"pattern\":{\"shape\":\"\"}},\"name\":\"\\uc0bc\\uc131\\uc804\\uc790\",\"offsetgroup\":\"\\uc0bc\\uc131\\uc804\\uc790\",\"orientation\":\"v\",\"showlegend\":true,\"textposition\":\"auto\",\"type\":\"bar\",\"x\":[\"\\uc0bc\\uc131\\uc804\\uc790\"],\"xaxis\":\"x\",\"y\":[76000],\"yaxis\":\"y\"},{\"alignmentgroup\":\"True\",\"hovertemplate\":\"\\uc885\\ubaa9\\uba85=%{x}<br>\\ub0a0\\uc9dc=2021-09-02<br>\\uc885\\uac00=%{y}<extra></extra>\",\"ids\":[\"\\uce74\\uce74\\uc624\"],\"legendgroup\":\"\\uce74\\uce74\\uc624\",\"marker\":{\"color\":\"#EF553B\",\"pattern\":{\"shape\":\"\"}},\"name\":\"\\uce74\\uce74\\uc624\",\"offsetgroup\":\"\\uce74\\uce74\\uc624\",\"orientation\":\"v\",\"showlegend\":true,\"textposition\":\"auto\",\"type\":\"bar\",\"x\":[\"\\uce74\\uce74\\uc624\"],\"xaxis\":\"x\",\"y\":[155000],\"yaxis\":\"y\"},{\"alignmentgroup\":\"True\",\"hovertemplate\":\"\\uc885\\ubaa9\\uba85=%{x}<br>\\ub0a0\\uc9dc=2021-09-02<br>\\uc885\\uac00=%{y}<extra></extra>\",\"ids\":[\"sk\\ud558\\uc774\\ub2c9\\uc2a4\"],\"legendgroup\":\"sk\\ud558\\uc774\\ub2c9\\uc2a4\",\"marker\":{\"color\":\"#00cc96\",\"pattern\":{\"shape\":\"\"}},\"name\":\"sk\\ud558\\uc774\\ub2c9\\uc2a4\",\"offsetgroup\":\"sk\\ud558\\uc774\\ub2c9\\uc2a4\",\"orientation\":\"v\",\"showlegend\":true,\"textposition\":\"auto\",\"type\":\"bar\",\"x\":[\"sk\\ud558\\uc774\\ub2c9\\uc2a4\"],\"xaxis\":\"x\",\"y\":[106500],\"yaxis\":\"y\"},{\"alignmentgroup\":\"True\",\"hovertemplate\":\"\\uc885\\ubaa9\\uba85=%{x}<br>\\ub0a0\\uc9dc=2021-09-02<br>\\uc885\\uac00=%{y}<extra></extra>\",\"ids\":[\"NAVER\"],\"legendgroup\":\"NAVER\",\"marker\":{\"color\":\"#ab63fa\",\"pattern\":{\"shape\":\"\"}},\"name\":\"NAVER\",\"offsetgroup\":\"NAVER\",\"orientation\":\"v\",\"showlegend\":true,\"textposition\":\"auto\",\"type\":\"bar\",\"x\":[\"NAVER\"],\"xaxis\":\"x\",\"y\":[442500],\"yaxis\":\"y\"},{\"alignmentgroup\":\"True\",\"hovertemplate\":\"\\uc885\\ubaa9\\uba85=%{x}<br>\\ub0a0\\uc9dc=2021-09-02<br>\\uc885\\uac00=%{y}<extra></extra>\",\"ids\":[\"\\uc0bc\\uc131\\ubc14\\uc774\\uc624\\ub85c\\uc9c1\\uc2a4\"],\"legendgroup\":\"\\uc0bc\\uc131\\ubc14\\uc774\\uc624\\ub85c\\uc9c1\\uc2a4\",\"marker\":{\"color\":\"#FFA15A\",\"pattern\":{\"shape\":\"\"}},\"name\":\"\\uc0bc\\uc131\\ubc14\\uc774\\uc624\\ub85c\\uc9c1\\uc2a4\",\"offsetgroup\":\"\\uc0bc\\uc131\\ubc14\\uc774\\uc624\\ub85c\\uc9c1\\uc2a4\",\"orientation\":\"v\",\"showlegend\":true,\"textposition\":\"auto\",\"type\":\"bar\",\"x\":[\"\\uc0bc\\uc131\\ubc14\\uc774\\uc624\\ub85c\\uc9c1\\uc2a4\"],\"xaxis\":\"x\",\"y\":[948000],\"yaxis\":\"y\"},{\"alignmentgroup\":\"True\",\"hovertemplate\":\"\\uc885\\ubaa9\\uba85=%{x}<br>\\ub0a0\\uc9dc=2021-09-02<br>\\uc885\\uac00=%{y}<extra></extra>\",\"ids\":[\"\\uc0bc\\uc131\\uc804\\uc790\\uc6b0\"],\"legendgroup\":\"\\uc0bc\\uc131\\uc804\\uc790\\uc6b0\",\"marker\":{\"color\":\"#19d3f3\",\"pattern\":{\"shape\":\"\"}},\"name\":\"\\uc0bc\\uc131\\uc804\\uc790\\uc6b0\",\"offsetgroup\":\"\\uc0bc\\uc131\\uc804\\uc790\\uc6b0\",\"orientation\":\"v\",\"showlegend\":true,\"textposition\":\"auto\",\"type\":\"bar\",\"x\":[\"\\uc0bc\\uc131\\uc804\\uc790\\uc6b0\"],\"xaxis\":\"x\",\"y\":[70300],\"yaxis\":\"y\"},{\"alignmentgroup\":\"True\",\"hovertemplate\":\"\\uc885\\ubaa9\\uba85=%{x}<br>\\ub0a0\\uc9dc=2021-09-02<br>\\uc885\\uac00=%{y}<extra></extra>\",\"ids\":[\"LG\\ud654\\ud559\"],\"legendgroup\":\"LG\\ud654\\ud559\",\"marker\":{\"color\":\"#FF6692\",\"pattern\":{\"shape\":\"\"}},\"name\":\"LG\\ud654\\ud559\",\"offsetgroup\":\"LG\\ud654\\ud559\",\"orientation\":\"v\",\"showlegend\":true,\"textposition\":\"auto\",\"type\":\"bar\",\"x\":[\"LG\\ud654\\ud559\"],\"xaxis\":\"x\",\"y\":[711000],\"yaxis\":\"y\"},{\"alignmentgroup\":\"True\",\"hovertemplate\":\"\\uc885\\ubaa9\\uba85=%{x}<br>\\ub0a0\\uc9dc=2021-09-02<br>\\uc885\\uac00=%{y}<extra></extra>\",\"ids\":[\"\\uc0bc\\uc131SDI\"],\"legendgroup\":\"\\uc0bc\\uc131SDI\",\"marker\":{\"color\":\"#B6E880\",\"pattern\":{\"shape\":\"\"}},\"name\":\"\\uc0bc\\uc131SDI\",\"offsetgroup\":\"\\uc0bc\\uc131SDI\",\"orientation\":\"v\",\"showlegend\":true,\"textposition\":\"auto\",\"type\":\"bar\",\"x\":[\"\\uc0bc\\uc131SDI\"],\"xaxis\":\"x\",\"y\":[750000],\"yaxis\":\"y\"},{\"alignmentgroup\":\"True\",\"hovertemplate\":\"\\uc885\\ubaa9\\uba85=%{x}<br>\\ub0a0\\uc9dc=2021-09-02<br>\\uc885\\uac00=%{y}<extra></extra>\",\"ids\":[\"\\ud604\\ub300\\ucc28\"],\"legendgroup\":\"\\ud604\\ub300\\ucc28\",\"marker\":{\"color\":\"#FF97FF\",\"pattern\":{\"shape\":\"\"}},\"name\":\"\\ud604\\ub300\\ucc28\",\"offsetgroup\":\"\\ud604\\ub300\\ucc28\",\"orientation\":\"v\",\"showlegend\":true,\"textposition\":\"auto\",\"type\":\"bar\",\"x\":[\"\\ud604\\ub300\\ucc28\"],\"xaxis\":\"x\",\"y\":[211500],\"yaxis\":\"y\"},{\"alignmentgroup\":\"True\",\"hovertemplate\":\"\\uc885\\ubaa9\\uba85=%{x}<br>\\ub0a0\\uc9dc=2021-09-02<br>\\uc885\\uac00=%{y}<extra></extra>\",\"ids\":[\"\\uc140\\ud2b8\\ub9ac\\uc628\"],\"legendgroup\":\"\\uc140\\ud2b8\\ub9ac\\uc628\",\"marker\":{\"color\":\"#FECB52\",\"pattern\":{\"shape\":\"\"}},\"name\":\"\\uc140\\ud2b8\\ub9ac\\uc628\",\"offsetgroup\":\"\\uc140\\ud2b8\\ub9ac\\uc628\",\"orientation\":\"v\",\"showlegend\":true,\"textposition\":\"auto\",\"type\":\"bar\",\"x\":[\"\\uc140\\ud2b8\\ub9ac\\uc628\"],\"xaxis\":\"x\",\"y\":[288000],\"yaxis\":\"y\"}],\"name\":\"2021-09-02\"},{\"data\":[{\"alignmentgroup\":\"True\",\"hovertemplate\":\"\\uc885\\ubaa9\\uba85=%{x}<br>\\ub0a0\\uc9dc=2021-09-03<br>\\uc885\\uac00=%{y}<extra></extra>\",\"ids\":[\"\\uc0bc\\uc131\\uc804\\uc790\"],\"legendgroup\":\"\\uc0bc\\uc131\\uc804\\uc790\",\"marker\":{\"color\":\"#636efa\",\"pattern\":{\"shape\":\"\"}},\"name\":\"\\uc0bc\\uc131\\uc804\\uc790\",\"offsetgroup\":\"\\uc0bc\\uc131\\uc804\\uc790\",\"orientation\":\"v\",\"showlegend\":true,\"textposition\":\"auto\",\"type\":\"bar\",\"x\":[\"\\uc0bc\\uc131\\uc804\\uc790\"],\"xaxis\":\"x\",\"y\":[76600],\"yaxis\":\"y\"},{\"alignmentgroup\":\"True\",\"hovertemplate\":\"\\uc885\\ubaa9\\uba85=%{x}<br>\\ub0a0\\uc9dc=2021-09-03<br>\\uc885\\uac00=%{y}<extra></extra>\",\"ids\":[\"\\uce74\\uce74\\uc624\"],\"legendgroup\":\"\\uce74\\uce74\\uc624\",\"marker\":{\"color\":\"#EF553B\",\"pattern\":{\"shape\":\"\"}},\"name\":\"\\uce74\\uce74\\uc624\",\"offsetgroup\":\"\\uce74\\uce74\\uc624\",\"orientation\":\"v\",\"showlegend\":true,\"textposition\":\"auto\",\"type\":\"bar\",\"x\":[\"\\uce74\\uce74\\uc624\"],\"xaxis\":\"x\",\"y\":[156500],\"yaxis\":\"y\"},{\"alignmentgroup\":\"True\",\"hovertemplate\":\"\\uc885\\ubaa9\\uba85=%{x}<br>\\ub0a0\\uc9dc=2021-09-03<br>\\uc885\\uac00=%{y}<extra></extra>\",\"ids\":[\"sk\\ud558\\uc774\\ub2c9\\uc2a4\"],\"legendgroup\":\"sk\\ud558\\uc774\\ub2c9\\uc2a4\",\"marker\":{\"color\":\"#00cc96\",\"pattern\":{\"shape\":\"\"}},\"name\":\"sk\\ud558\\uc774\\ub2c9\\uc2a4\",\"offsetgroup\":\"sk\\ud558\\uc774\\ub2c9\\uc2a4\",\"orientation\":\"v\",\"showlegend\":true,\"textposition\":\"auto\",\"type\":\"bar\",\"x\":[\"sk\\ud558\\uc774\\ub2c9\\uc2a4\"],\"xaxis\":\"x\",\"y\":[107000],\"yaxis\":\"y\"},{\"alignmentgroup\":\"True\",\"hovertemplate\":\"\\uc885\\ubaa9\\uba85=%{x}<br>\\ub0a0\\uc9dc=2021-09-03<br>\\uc885\\uac00=%{y}<extra></extra>\",\"ids\":[\"NAVER\"],\"legendgroup\":\"NAVER\",\"marker\":{\"color\":\"#ab63fa\",\"pattern\":{\"shape\":\"\"}},\"name\":\"NAVER\",\"offsetgroup\":\"NAVER\",\"orientation\":\"v\",\"showlegend\":true,\"textposition\":\"auto\",\"type\":\"bar\",\"x\":[\"NAVER\"],\"xaxis\":\"x\",\"y\":[452500],\"yaxis\":\"y\"},{\"alignmentgroup\":\"True\",\"hovertemplate\":\"\\uc885\\ubaa9\\uba85=%{x}<br>\\ub0a0\\uc9dc=2021-09-03<br>\\uc885\\uac00=%{y}<extra></extra>\",\"ids\":[\"\\uc0bc\\uc131\\ubc14\\uc774\\uc624\\ub85c\\uc9c1\\uc2a4\"],\"legendgroup\":\"\\uc0bc\\uc131\\ubc14\\uc774\\uc624\\ub85c\\uc9c1\\uc2a4\",\"marker\":{\"color\":\"#FFA15A\",\"pattern\":{\"shape\":\"\"}},\"name\":\"\\uc0bc\\uc131\\ubc14\\uc774\\uc624\\ub85c\\uc9c1\\uc2a4\",\"offsetgroup\":\"\\uc0bc\\uc131\\ubc14\\uc774\\uc624\\ub85c\\uc9c1\\uc2a4\",\"orientation\":\"v\",\"showlegend\":true,\"textposition\":\"auto\",\"type\":\"bar\",\"x\":[\"\\uc0bc\\uc131\\ubc14\\uc774\\uc624\\ub85c\\uc9c1\\uc2a4\"],\"xaxis\":\"x\",\"y\":[951000],\"yaxis\":\"y\"},{\"alignmentgroup\":\"True\",\"hovertemplate\":\"\\uc885\\ubaa9\\uba85=%{x}<br>\\ub0a0\\uc9dc=2021-09-03<br>\\uc885\\uac00=%{y}<extra></extra>\",\"ids\":[\"\\uc0bc\\uc131\\uc804\\uc790\\uc6b0\"],\"legendgroup\":\"\\uc0bc\\uc131\\uc804\\uc790\\uc6b0\",\"marker\":{\"color\":\"#19d3f3\",\"pattern\":{\"shape\":\"\"}},\"name\":\"\\uc0bc\\uc131\\uc804\\uc790\\uc6b0\",\"offsetgroup\":\"\\uc0bc\\uc131\\uc804\\uc790\\uc6b0\",\"orientation\":\"v\",\"showlegend\":true,\"textposition\":\"auto\",\"type\":\"bar\",\"x\":[\"\\uc0bc\\uc131\\uc804\\uc790\\uc6b0\"],\"xaxis\":\"x\",\"y\":[71100],\"yaxis\":\"y\"},{\"alignmentgroup\":\"True\",\"hovertemplate\":\"\\uc885\\ubaa9\\uba85=%{x}<br>\\ub0a0\\uc9dc=2021-09-03<br>\\uc885\\uac00=%{y}<extra></extra>\",\"ids\":[\"LG\\ud654\\ud559\"],\"legendgroup\":\"LG\\ud654\\ud559\",\"marker\":{\"color\":\"#FF6692\",\"pattern\":{\"shape\":\"\"}},\"name\":\"LG\\ud654\\ud559\",\"offsetgroup\":\"LG\\ud654\\ud559\",\"orientation\":\"v\",\"showlegend\":true,\"textposition\":\"auto\",\"type\":\"bar\",\"x\":[\"LG\\ud654\\ud559\"],\"xaxis\":\"x\",\"y\":[725000],\"yaxis\":\"y\"},{\"alignmentgroup\":\"True\",\"hovertemplate\":\"\\uc885\\ubaa9\\uba85=%{x}<br>\\ub0a0\\uc9dc=2021-09-03<br>\\uc885\\uac00=%{y}<extra></extra>\",\"ids\":[\"\\uc0bc\\uc131SDI\"],\"legendgroup\":\"\\uc0bc\\uc131SDI\",\"marker\":{\"color\":\"#B6E880\",\"pattern\":{\"shape\":\"\"}},\"name\":\"\\uc0bc\\uc131SDI\",\"offsetgroup\":\"\\uc0bc\\uc131SDI\",\"orientation\":\"v\",\"showlegend\":true,\"textposition\":\"auto\",\"type\":\"bar\",\"x\":[\"\\uc0bc\\uc131SDI\"],\"xaxis\":\"x\",\"y\":[760000],\"yaxis\":\"y\"},{\"alignmentgroup\":\"True\",\"hovertemplate\":\"\\uc885\\ubaa9\\uba85=%{x}<br>\\ub0a0\\uc9dc=2021-09-03<br>\\uc885\\uac00=%{y}<extra></extra>\",\"ids\":[\"\\ud604\\ub300\\ucc28\"],\"legendgroup\":\"\\ud604\\ub300\\ucc28\",\"marker\":{\"color\":\"#FF97FF\",\"pattern\":{\"shape\":\"\"}},\"name\":\"\\ud604\\ub300\\ucc28\",\"offsetgroup\":\"\\ud604\\ub300\\ucc28\",\"orientation\":\"v\",\"showlegend\":true,\"textposition\":\"auto\",\"type\":\"bar\",\"x\":[\"\\ud604\\ub300\\ucc28\"],\"xaxis\":\"x\",\"y\":[214500],\"yaxis\":\"y\"},{\"alignmentgroup\":\"True\",\"hovertemplate\":\"\\uc885\\ubaa9\\uba85=%{x}<br>\\ub0a0\\uc9dc=2021-09-03<br>\\uc885\\uac00=%{y}<extra></extra>\",\"ids\":[\"\\uc140\\ud2b8\\ub9ac\\uc628\"],\"legendgroup\":\"\\uc140\\ud2b8\\ub9ac\\uc628\",\"marker\":{\"color\":\"#FECB52\",\"pattern\":{\"shape\":\"\"}},\"name\":\"\\uc140\\ud2b8\\ub9ac\\uc628\",\"offsetgroup\":\"\\uc140\\ud2b8\\ub9ac\\uc628\",\"orientation\":\"v\",\"showlegend\":true,\"textposition\":\"auto\",\"type\":\"bar\",\"x\":[\"\\uc140\\ud2b8\\ub9ac\\uc628\"],\"xaxis\":\"x\",\"y\":[283000],\"yaxis\":\"y\"}],\"name\":\"2021-09-03\"},{\"data\":[{\"alignmentgroup\":\"True\",\"hovertemplate\":\"\\uc885\\ubaa9\\uba85=%{x}<br>\\ub0a0\\uc9dc=2021-09-06<br>\\uc885\\uac00=%{y}<extra></extra>\",\"ids\":[\"\\uc0bc\\uc131\\uc804\\uc790\"],\"legendgroup\":\"\\uc0bc\\uc131\\uc804\\uc790\",\"marker\":{\"color\":\"#636efa\",\"pattern\":{\"shape\":\"\"}},\"name\":\"\\uc0bc\\uc131\\uc804\\uc790\",\"offsetgroup\":\"\\uc0bc\\uc131\\uc804\\uc790\",\"orientation\":\"v\",\"showlegend\":true,\"textposition\":\"auto\",\"type\":\"bar\",\"x\":[\"\\uc0bc\\uc131\\uc804\\uc790\"],\"xaxis\":\"x\",\"y\":[77300],\"yaxis\":\"y\"},{\"alignmentgroup\":\"True\",\"hovertemplate\":\"\\uc885\\ubaa9\\uba85=%{x}<br>\\ub0a0\\uc9dc=2021-09-06<br>\\uc885\\uac00=%{y}<extra></extra>\",\"ids\":[\"\\uce74\\uce74\\uc624\"],\"legendgroup\":\"\\uce74\\uce74\\uc624\",\"marker\":{\"color\":\"#EF553B\",\"pattern\":{\"shape\":\"\"}},\"name\":\"\\uce74\\uce74\\uc624\",\"offsetgroup\":\"\\uce74\\uce74\\uc624\",\"orientation\":\"v\",\"showlegend\":true,\"textposition\":\"auto\",\"type\":\"bar\",\"x\":[\"\\uce74\\uce74\\uc624\"],\"xaxis\":\"x\",\"y\":[155500],\"yaxis\":\"y\"},{\"alignmentgroup\":\"True\",\"hovertemplate\":\"\\uc885\\ubaa9\\uba85=%{x}<br>\\ub0a0\\uc9dc=2021-09-06<br>\\uc885\\uac00=%{y}<extra></extra>\",\"ids\":[\"sk\\ud558\\uc774\\ub2c9\\uc2a4\"],\"legendgroup\":\"sk\\ud558\\uc774\\ub2c9\\uc2a4\",\"marker\":{\"color\":\"#00cc96\",\"pattern\":{\"shape\":\"\"}},\"name\":\"sk\\ud558\\uc774\\ub2c9\\uc2a4\",\"offsetgroup\":\"sk\\ud558\\uc774\\ub2c9\\uc2a4\",\"orientation\":\"v\",\"showlegend\":true,\"textposition\":\"auto\",\"type\":\"bar\",\"x\":[\"sk\\ud558\\uc774\\ub2c9\\uc2a4\"],\"xaxis\":\"x\",\"y\":[106000],\"yaxis\":\"y\"},{\"alignmentgroup\":\"True\",\"hovertemplate\":\"\\uc885\\ubaa9\\uba85=%{x}<br>\\ub0a0\\uc9dc=2021-09-06<br>\\uc885\\uac00=%{y}<extra></extra>\",\"ids\":[\"NAVER\"],\"legendgroup\":\"NAVER\",\"marker\":{\"color\":\"#ab63fa\",\"pattern\":{\"shape\":\"\"}},\"name\":\"NAVER\",\"offsetgroup\":\"NAVER\",\"orientation\":\"v\",\"showlegend\":true,\"textposition\":\"auto\",\"type\":\"bar\",\"x\":[\"NAVER\"],\"xaxis\":\"x\",\"y\":[454000],\"yaxis\":\"y\"},{\"alignmentgroup\":\"True\",\"hovertemplate\":\"\\uc885\\ubaa9\\uba85=%{x}<br>\\ub0a0\\uc9dc=2021-09-06<br>\\uc885\\uac00=%{y}<extra></extra>\",\"ids\":[\"\\uc0bc\\uc131\\ubc14\\uc774\\uc624\\ub85c\\uc9c1\\uc2a4\"],\"legendgroup\":\"\\uc0bc\\uc131\\ubc14\\uc774\\uc624\\ub85c\\uc9c1\\uc2a4\",\"marker\":{\"color\":\"#FFA15A\",\"pattern\":{\"shape\":\"\"}},\"name\":\"\\uc0bc\\uc131\\ubc14\\uc774\\uc624\\ub85c\\uc9c1\\uc2a4\",\"offsetgroup\":\"\\uc0bc\\uc131\\ubc14\\uc774\\uc624\\ub85c\\uc9c1\\uc2a4\",\"orientation\":\"v\",\"showlegend\":true,\"textposition\":\"auto\",\"type\":\"bar\",\"x\":[\"\\uc0bc\\uc131\\ubc14\\uc774\\uc624\\ub85c\\uc9c1\\uc2a4\"],\"xaxis\":\"x\",\"y\":[954000],\"yaxis\":\"y\"},{\"alignmentgroup\":\"True\",\"hovertemplate\":\"\\uc885\\ubaa9\\uba85=%{x}<br>\\ub0a0\\uc9dc=2021-09-06<br>\\uc885\\uac00=%{y}<extra></extra>\",\"ids\":[\"\\uc0bc\\uc131\\uc804\\uc790\\uc6b0\"],\"legendgroup\":\"\\uc0bc\\uc131\\uc804\\uc790\\uc6b0\",\"marker\":{\"color\":\"#19d3f3\",\"pattern\":{\"shape\":\"\"}},\"name\":\"\\uc0bc\\uc131\\uc804\\uc790\\uc6b0\",\"offsetgroup\":\"\\uc0bc\\uc131\\uc804\\uc790\\uc6b0\",\"orientation\":\"v\",\"showlegend\":true,\"textposition\":\"auto\",\"type\":\"bar\",\"x\":[\"\\uc0bc\\uc131\\uc804\\uc790\\uc6b0\"],\"xaxis\":\"x\",\"y\":[72000],\"yaxis\":\"y\"},{\"alignmentgroup\":\"True\",\"hovertemplate\":\"\\uc885\\ubaa9\\uba85=%{x}<br>\\ub0a0\\uc9dc=2021-09-06<br>\\uc885\\uac00=%{y}<extra></extra>\",\"ids\":[\"LG\\ud654\\ud559\"],\"legendgroup\":\"LG\\ud654\\ud559\",\"marker\":{\"color\":\"#FF6692\",\"pattern\":{\"shape\":\"\"}},\"name\":\"LG\\ud654\\ud559\",\"offsetgroup\":\"LG\\ud654\\ud559\",\"orientation\":\"v\",\"showlegend\":true,\"textposition\":\"auto\",\"type\":\"bar\",\"x\":[\"LG\\ud654\\ud559\"],\"xaxis\":\"x\",\"y\":[750000],\"yaxis\":\"y\"},{\"alignmentgroup\":\"True\",\"hovertemplate\":\"\\uc885\\ubaa9\\uba85=%{x}<br>\\ub0a0\\uc9dc=2021-09-06<br>\\uc885\\uac00=%{y}<extra></extra>\",\"ids\":[\"\\uc0bc\\uc131SDI\"],\"legendgroup\":\"\\uc0bc\\uc131SDI\",\"marker\":{\"color\":\"#B6E880\",\"pattern\":{\"shape\":\"\"}},\"name\":\"\\uc0bc\\uc131SDI\",\"offsetgroup\":\"\\uc0bc\\uc131SDI\",\"orientation\":\"v\",\"showlegend\":true,\"textposition\":\"auto\",\"type\":\"bar\",\"x\":[\"\\uc0bc\\uc131SDI\"],\"xaxis\":\"x\",\"y\":[767000],\"yaxis\":\"y\"},{\"alignmentgroup\":\"True\",\"hovertemplate\":\"\\uc885\\ubaa9\\uba85=%{x}<br>\\ub0a0\\uc9dc=2021-09-06<br>\\uc885\\uac00=%{y}<extra></extra>\",\"ids\":[\"\\ud604\\ub300\\ucc28\"],\"legendgroup\":\"\\ud604\\ub300\\ucc28\",\"marker\":{\"color\":\"#FF97FF\",\"pattern\":{\"shape\":\"\"}},\"name\":\"\\ud604\\ub300\\ucc28\",\"offsetgroup\":\"\\ud604\\ub300\\ucc28\",\"orientation\":\"v\",\"showlegend\":true,\"textposition\":\"auto\",\"type\":\"bar\",\"x\":[\"\\ud604\\ub300\\ucc28\"],\"xaxis\":\"x\",\"y\":[215000],\"yaxis\":\"y\"},{\"alignmentgroup\":\"True\",\"hovertemplate\":\"\\uc885\\ubaa9\\uba85=%{x}<br>\\ub0a0\\uc9dc=2021-09-06<br>\\uc885\\uac00=%{y}<extra></extra>\",\"ids\":[\"\\uc140\\ud2b8\\ub9ac\\uc628\"],\"legendgroup\":\"\\uc140\\ud2b8\\ub9ac\\uc628\",\"marker\":{\"color\":\"#FECB52\",\"pattern\":{\"shape\":\"\"}},\"name\":\"\\uc140\\ud2b8\\ub9ac\\uc628\",\"offsetgroup\":\"\\uc140\\ud2b8\\ub9ac\\uc628\",\"orientation\":\"v\",\"showlegend\":true,\"textposition\":\"auto\",\"type\":\"bar\",\"x\":[\"\\uc140\\ud2b8\\ub9ac\\uc628\"],\"xaxis\":\"x\",\"y\":[278500],\"yaxis\":\"y\"}],\"name\":\"2021-09-06\"},{\"data\":[{\"alignmentgroup\":\"True\",\"hovertemplate\":\"\\uc885\\ubaa9\\uba85=%{x}<br>\\ub0a0\\uc9dc=2021-09-07<br>\\uc885\\uac00=%{y}<extra></extra>\",\"ids\":[\"\\uc0bc\\uc131\\uc804\\uc790\"],\"legendgroup\":\"\\uc0bc\\uc131\\uc804\\uc790\",\"marker\":{\"color\":\"#636efa\",\"pattern\":{\"shape\":\"\"}},\"name\":\"\\uc0bc\\uc131\\uc804\\uc790\",\"offsetgroup\":\"\\uc0bc\\uc131\\uc804\\uc790\",\"orientation\":\"v\",\"showlegend\":true,\"textposition\":\"auto\",\"type\":\"bar\",\"x\":[\"\\uc0bc\\uc131\\uc804\\uc790\"],\"xaxis\":\"x\",\"y\":[76100],\"yaxis\":\"y\"},{\"alignmentgroup\":\"True\",\"hovertemplate\":\"\\uc885\\ubaa9\\uba85=%{x}<br>\\ub0a0\\uc9dc=2021-09-07<br>\\uc885\\uac00=%{y}<extra></extra>\",\"ids\":[\"\\uce74\\uce74\\uc624\"],\"legendgroup\":\"\\uce74\\uce74\\uc624\",\"marker\":{\"color\":\"#EF553B\",\"pattern\":{\"shape\":\"\"}},\"name\":\"\\uce74\\uce74\\uc624\",\"offsetgroup\":\"\\uce74\\uce74\\uc624\",\"orientation\":\"v\",\"showlegend\":true,\"textposition\":\"auto\",\"type\":\"bar\",\"x\":[\"\\uce74\\uce74\\uc624\"],\"xaxis\":\"x\",\"y\":[154000],\"yaxis\":\"y\"},{\"alignmentgroup\":\"True\",\"hovertemplate\":\"\\uc885\\ubaa9\\uba85=%{x}<br>\\ub0a0\\uc9dc=2021-09-07<br>\\uc885\\uac00=%{y}<extra></extra>\",\"ids\":[\"sk\\ud558\\uc774\\ub2c9\\uc2a4\"],\"legendgroup\":\"sk\\ud558\\uc774\\ub2c9\\uc2a4\",\"marker\":{\"color\":\"#00cc96\",\"pattern\":{\"shape\":\"\"}},\"name\":\"sk\\ud558\\uc774\\ub2c9\\uc2a4\",\"offsetgroup\":\"sk\\ud558\\uc774\\ub2c9\\uc2a4\",\"orientation\":\"v\",\"showlegend\":true,\"textposition\":\"auto\",\"type\":\"bar\",\"x\":[\"sk\\ud558\\uc774\\ub2c9\\uc2a4\"],\"xaxis\":\"x\",\"y\":[104500],\"yaxis\":\"y\"},{\"alignmentgroup\":\"True\",\"hovertemplate\":\"\\uc885\\ubaa9\\uba85=%{x}<br>\\ub0a0\\uc9dc=2021-09-07<br>\\uc885\\uac00=%{y}<extra></extra>\",\"ids\":[\"NAVER\"],\"legendgroup\":\"NAVER\",\"marker\":{\"color\":\"#ab63fa\",\"pattern\":{\"shape\":\"\"}},\"name\":\"NAVER\",\"offsetgroup\":\"NAVER\",\"orientation\":\"v\",\"showlegend\":true,\"textposition\":\"auto\",\"type\":\"bar\",\"x\":[\"NAVER\"],\"xaxis\":\"x\",\"y\":[444500],\"yaxis\":\"y\"},{\"alignmentgroup\":\"True\",\"hovertemplate\":\"\\uc885\\ubaa9\\uba85=%{x}<br>\\ub0a0\\uc9dc=2021-09-07<br>\\uc885\\uac00=%{y}<extra></extra>\",\"ids\":[\"\\uc0bc\\uc131\\ubc14\\uc774\\uc624\\ub85c\\uc9c1\\uc2a4\"],\"legendgroup\":\"\\uc0bc\\uc131\\ubc14\\uc774\\uc624\\ub85c\\uc9c1\\uc2a4\",\"marker\":{\"color\":\"#FFA15A\",\"pattern\":{\"shape\":\"\"}},\"name\":\"\\uc0bc\\uc131\\ubc14\\uc774\\uc624\\ub85c\\uc9c1\\uc2a4\",\"offsetgroup\":\"\\uc0bc\\uc131\\ubc14\\uc774\\uc624\\ub85c\\uc9c1\\uc2a4\",\"orientation\":\"v\",\"showlegend\":true,\"textposition\":\"auto\",\"type\":\"bar\",\"x\":[\"\\uc0bc\\uc131\\ubc14\\uc774\\uc624\\ub85c\\uc9c1\\uc2a4\"],\"xaxis\":\"x\",\"y\":[950000],\"yaxis\":\"y\"},{\"alignmentgroup\":\"True\",\"hovertemplate\":\"\\uc885\\ubaa9\\uba85=%{x}<br>\\ub0a0\\uc9dc=2021-09-07<br>\\uc885\\uac00=%{y}<extra></extra>\",\"ids\":[\"\\uc0bc\\uc131\\uc804\\uc790\\uc6b0\"],\"legendgroup\":\"\\uc0bc\\uc131\\uc804\\uc790\\uc6b0\",\"marker\":{\"color\":\"#19d3f3\",\"pattern\":{\"shape\":\"\"}},\"name\":\"\\uc0bc\\uc131\\uc804\\uc790\\uc6b0\",\"offsetgroup\":\"\\uc0bc\\uc131\\uc804\\uc790\\uc6b0\",\"orientation\":\"v\",\"showlegend\":true,\"textposition\":\"auto\",\"type\":\"bar\",\"x\":[\"\\uc0bc\\uc131\\uc804\\uc790\\uc6b0\"],\"xaxis\":\"x\",\"y\":[71300],\"yaxis\":\"y\"},{\"alignmentgroup\":\"True\",\"hovertemplate\":\"\\uc885\\ubaa9\\uba85=%{x}<br>\\ub0a0\\uc9dc=2021-09-07<br>\\uc885\\uac00=%{y}<extra></extra>\",\"ids\":[\"LG\\ud654\\ud559\"],\"legendgroup\":\"LG\\ud654\\ud559\",\"marker\":{\"color\":\"#FF6692\",\"pattern\":{\"shape\":\"\"}},\"name\":\"LG\\ud654\\ud559\",\"offsetgroup\":\"LG\\ud654\\ud559\",\"orientation\":\"v\",\"showlegend\":true,\"textposition\":\"auto\",\"type\":\"bar\",\"x\":[\"LG\\ud654\\ud559\"],\"xaxis\":\"x\",\"y\":[758000],\"yaxis\":\"y\"},{\"alignmentgroup\":\"True\",\"hovertemplate\":\"\\uc885\\ubaa9\\uba85=%{x}<br>\\ub0a0\\uc9dc=2021-09-07<br>\\uc885\\uac00=%{y}<extra></extra>\",\"ids\":[\"\\uc0bc\\uc131SDI\"],\"legendgroup\":\"\\uc0bc\\uc131SDI\",\"marker\":{\"color\":\"#B6E880\",\"pattern\":{\"shape\":\"\"}},\"name\":\"\\uc0bc\\uc131SDI\",\"offsetgroup\":\"\\uc0bc\\uc131SDI\",\"orientation\":\"v\",\"showlegend\":true,\"textposition\":\"auto\",\"type\":\"bar\",\"x\":[\"\\uc0bc\\uc131SDI\"],\"xaxis\":\"x\",\"y\":[775000],\"yaxis\":\"y\"},{\"alignmentgroup\":\"True\",\"hovertemplate\":\"\\uc885\\ubaa9\\uba85=%{x}<br>\\ub0a0\\uc9dc=2021-09-07<br>\\uc885\\uac00=%{y}<extra></extra>\",\"ids\":[\"\\ud604\\ub300\\ucc28\"],\"legendgroup\":\"\\ud604\\ub300\\ucc28\",\"marker\":{\"color\":\"#FF97FF\",\"pattern\":{\"shape\":\"\"}},\"name\":\"\\ud604\\ub300\\ucc28\",\"offsetgroup\":\"\\ud604\\ub300\\ucc28\",\"orientation\":\"v\",\"showlegend\":true,\"textposition\":\"auto\",\"type\":\"bar\",\"x\":[\"\\ud604\\ub300\\ucc28\"],\"xaxis\":\"x\",\"y\":[212500],\"yaxis\":\"y\"},{\"alignmentgroup\":\"True\",\"hovertemplate\":\"\\uc885\\ubaa9\\uba85=%{x}<br>\\ub0a0\\uc9dc=2021-09-07<br>\\uc885\\uac00=%{y}<extra></extra>\",\"ids\":[\"\\uc140\\ud2b8\\ub9ac\\uc628\"],\"legendgroup\":\"\\uc140\\ud2b8\\ub9ac\\uc628\",\"marker\":{\"color\":\"#FECB52\",\"pattern\":{\"shape\":\"\"}},\"name\":\"\\uc140\\ud2b8\\ub9ac\\uc628\",\"offsetgroup\":\"\\uc140\\ud2b8\\ub9ac\\uc628\",\"orientation\":\"v\",\"showlegend\":true,\"textposition\":\"auto\",\"type\":\"bar\",\"x\":[\"\\uc140\\ud2b8\\ub9ac\\uc628\"],\"xaxis\":\"x\",\"y\":[279500],\"yaxis\":\"y\"}],\"name\":\"2021-09-07\"},{\"data\":[{\"alignmentgroup\":\"True\",\"hovertemplate\":\"\\uc885\\ubaa9\\uba85=%{x}<br>\\ub0a0\\uc9dc=2021-09-08<br>\\uc885\\uac00=%{y}<extra></extra>\",\"ids\":[\"\\uc0bc\\uc131\\uc804\\uc790\"],\"legendgroup\":\"\\uc0bc\\uc131\\uc804\\uc790\",\"marker\":{\"color\":\"#636efa\",\"pattern\":{\"shape\":\"\"}},\"name\":\"\\uc0bc\\uc131\\uc804\\uc790\",\"offsetgroup\":\"\\uc0bc\\uc131\\uc804\\uc790\",\"orientation\":\"v\",\"showlegend\":true,\"textposition\":\"auto\",\"type\":\"bar\",\"x\":[\"\\uc0bc\\uc131\\uc804\\uc790\"],\"xaxis\":\"x\",\"y\":[76300],\"yaxis\":\"y\"},{\"alignmentgroup\":\"True\",\"hovertemplate\":\"\\uc885\\ubaa9\\uba85=%{x}<br>\\ub0a0\\uc9dc=2021-09-08<br>\\uc885\\uac00=%{y}<extra></extra>\",\"ids\":[\"\\uce74\\uce74\\uc624\"],\"legendgroup\":\"\\uce74\\uce74\\uc624\",\"marker\":{\"color\":\"#EF553B\",\"pattern\":{\"shape\":\"\"}},\"name\":\"\\uce74\\uce74\\uc624\",\"offsetgroup\":\"\\uce74\\uce74\\uc624\",\"orientation\":\"v\",\"showlegend\":true,\"textposition\":\"auto\",\"type\":\"bar\",\"x\":[\"\\uce74\\uce74\\uc624\"],\"xaxis\":\"x\",\"y\":[138500],\"yaxis\":\"y\"},{\"alignmentgroup\":\"True\",\"hovertemplate\":\"\\uc885\\ubaa9\\uba85=%{x}<br>\\ub0a0\\uc9dc=2021-09-08<br>\\uc885\\uac00=%{y}<extra></extra>\",\"ids\":[\"sk\\ud558\\uc774\\ub2c9\\uc2a4\"],\"legendgroup\":\"sk\\ud558\\uc774\\ub2c9\\uc2a4\",\"marker\":{\"color\":\"#00cc96\",\"pattern\":{\"shape\":\"\"}},\"name\":\"sk\\ud558\\uc774\\ub2c9\\uc2a4\",\"offsetgroup\":\"sk\\ud558\\uc774\\ub2c9\\uc2a4\",\"orientation\":\"v\",\"showlegend\":true,\"textposition\":\"auto\",\"type\":\"bar\",\"x\":[\"sk\\ud558\\uc774\\ub2c9\\uc2a4\"],\"xaxis\":\"x\",\"y\":[106000],\"yaxis\":\"y\"},{\"alignmentgroup\":\"True\",\"hovertemplate\":\"\\uc885\\ubaa9\\uba85=%{x}<br>\\ub0a0\\uc9dc=2021-09-08<br>\\uc885\\uac00=%{y}<extra></extra>\",\"ids\":[\"NAVER\"],\"legendgroup\":\"NAVER\",\"marker\":{\"color\":\"#ab63fa\",\"pattern\":{\"shape\":\"\"}},\"name\":\"NAVER\",\"offsetgroup\":\"NAVER\",\"orientation\":\"v\",\"showlegend\":true,\"textposition\":\"auto\",\"type\":\"bar\",\"x\":[\"NAVER\"],\"xaxis\":\"x\",\"y\":[409500],\"yaxis\":\"y\"},{\"alignmentgroup\":\"True\",\"hovertemplate\":\"\\uc885\\ubaa9\\uba85=%{x}<br>\\ub0a0\\uc9dc=2021-09-08<br>\\uc885\\uac00=%{y}<extra></extra>\",\"ids\":[\"\\uc0bc\\uc131\\ubc14\\uc774\\uc624\\ub85c\\uc9c1\\uc2a4\"],\"legendgroup\":\"\\uc0bc\\uc131\\ubc14\\uc774\\uc624\\ub85c\\uc9c1\\uc2a4\",\"marker\":{\"color\":\"#FFA15A\",\"pattern\":{\"shape\":\"\"}},\"name\":\"\\uc0bc\\uc131\\ubc14\\uc774\\uc624\\ub85c\\uc9c1\\uc2a4\",\"offsetgroup\":\"\\uc0bc\\uc131\\ubc14\\uc774\\uc624\\ub85c\\uc9c1\\uc2a4\",\"orientation\":\"v\",\"showlegend\":true,\"textposition\":\"auto\",\"type\":\"bar\",\"x\":[\"\\uc0bc\\uc131\\ubc14\\uc774\\uc624\\ub85c\\uc9c1\\uc2a4\"],\"xaxis\":\"x\",\"y\":[931000],\"yaxis\":\"y\"},{\"alignmentgroup\":\"True\",\"hovertemplate\":\"\\uc885\\ubaa9\\uba85=%{x}<br>\\ub0a0\\uc9dc=2021-09-08<br>\\uc885\\uac00=%{y}<extra></extra>\",\"ids\":[\"\\uc0bc\\uc131\\uc804\\uc790\\uc6b0\"],\"legendgroup\":\"\\uc0bc\\uc131\\uc804\\uc790\\uc6b0\",\"marker\":{\"color\":\"#19d3f3\",\"pattern\":{\"shape\":\"\"}},\"name\":\"\\uc0bc\\uc131\\uc804\\uc790\\uc6b0\",\"offsetgroup\":\"\\uc0bc\\uc131\\uc804\\uc790\\uc6b0\",\"orientation\":\"v\",\"showlegend\":true,\"textposition\":\"auto\",\"type\":\"bar\",\"x\":[\"\\uc0bc\\uc131\\uc804\\uc790\\uc6b0\"],\"xaxis\":\"x\",\"y\":[72000],\"yaxis\":\"y\"},{\"alignmentgroup\":\"True\",\"hovertemplate\":\"\\uc885\\ubaa9\\uba85=%{x}<br>\\ub0a0\\uc9dc=2021-09-08<br>\\uc885\\uac00=%{y}<extra></extra>\",\"ids\":[\"LG\\ud654\\ud559\"],\"legendgroup\":\"LG\\ud654\\ud559\",\"marker\":{\"color\":\"#FF6692\",\"pattern\":{\"shape\":\"\"}},\"name\":\"LG\\ud654\\ud559\",\"offsetgroup\":\"LG\\ud654\\ud559\",\"orientation\":\"v\",\"showlegend\":true,\"textposition\":\"auto\",\"type\":\"bar\",\"x\":[\"LG\\ud654\\ud559\"],\"xaxis\":\"x\",\"y\":[756000],\"yaxis\":\"y\"},{\"alignmentgroup\":\"True\",\"hovertemplate\":\"\\uc885\\ubaa9\\uba85=%{x}<br>\\ub0a0\\uc9dc=2021-09-08<br>\\uc885\\uac00=%{y}<extra></extra>\",\"ids\":[\"\\uc0bc\\uc131SDI\"],\"legendgroup\":\"\\uc0bc\\uc131SDI\",\"marker\":{\"color\":\"#B6E880\",\"pattern\":{\"shape\":\"\"}},\"name\":\"\\uc0bc\\uc131SDI\",\"offsetgroup\":\"\\uc0bc\\uc131SDI\",\"orientation\":\"v\",\"showlegend\":true,\"textposition\":\"auto\",\"type\":\"bar\",\"x\":[\"\\uc0bc\\uc131SDI\"],\"xaxis\":\"x\",\"y\":[770000],\"yaxis\":\"y\"},{\"alignmentgroup\":\"True\",\"hovertemplate\":\"\\uc885\\ubaa9\\uba85=%{x}<br>\\ub0a0\\uc9dc=2021-09-08<br>\\uc885\\uac00=%{y}<extra></extra>\",\"ids\":[\"\\ud604\\ub300\\ucc28\"],\"legendgroup\":\"\\ud604\\ub300\\ucc28\",\"marker\":{\"color\":\"#FF97FF\",\"pattern\":{\"shape\":\"\"}},\"name\":\"\\ud604\\ub300\\ucc28\",\"offsetgroup\":\"\\ud604\\ub300\\ucc28\",\"orientation\":\"v\",\"showlegend\":true,\"textposition\":\"auto\",\"type\":\"bar\",\"x\":[\"\\ud604\\ub300\\ucc28\"],\"xaxis\":\"x\",\"y\":[213000],\"yaxis\":\"y\"},{\"alignmentgroup\":\"True\",\"hovertemplate\":\"\\uc885\\ubaa9\\uba85=%{x}<br>\\ub0a0\\uc9dc=2021-09-08<br>\\uc885\\uac00=%{y}<extra></extra>\",\"ids\":[\"\\uc140\\ud2b8\\ub9ac\\uc628\"],\"legendgroup\":\"\\uc140\\ud2b8\\ub9ac\\uc628\",\"marker\":{\"color\":\"#FECB52\",\"pattern\":{\"shape\":\"\"}},\"name\":\"\\uc140\\ud2b8\\ub9ac\\uc628\",\"offsetgroup\":\"\\uc140\\ud2b8\\ub9ac\\uc628\",\"orientation\":\"v\",\"showlegend\":true,\"textposition\":\"auto\",\"type\":\"bar\",\"x\":[\"\\uc140\\ud2b8\\ub9ac\\uc628\"],\"xaxis\":\"x\",\"y\":[273500],\"yaxis\":\"y\"}],\"name\":\"2021-09-08\"},{\"data\":[{\"alignmentgroup\":\"True\",\"hovertemplate\":\"\\uc885\\ubaa9\\uba85=%{x}<br>\\ub0a0\\uc9dc=2021-09-09<br>\\uc885\\uac00=%{y}<extra></extra>\",\"ids\":[\"\\uc0bc\\uc131\\uc804\\uc790\"],\"legendgroup\":\"\\uc0bc\\uc131\\uc804\\uc790\",\"marker\":{\"color\":\"#636efa\",\"pattern\":{\"shape\":\"\"}},\"name\":\"\\uc0bc\\uc131\\uc804\\uc790\",\"offsetgroup\":\"\\uc0bc\\uc131\\uc804\\uc790\",\"orientation\":\"v\",\"showlegend\":true,\"textposition\":\"auto\",\"type\":\"bar\",\"x\":[\"\\uc0bc\\uc131\\uc804\\uc790\"],\"xaxis\":\"x\",\"y\":[75300],\"yaxis\":\"y\"},{\"alignmentgroup\":\"True\",\"hovertemplate\":\"\\uc885\\ubaa9\\uba85=%{x}<br>\\ub0a0\\uc9dc=2021-09-09<br>\\uc885\\uac00=%{y}<extra></extra>\",\"ids\":[\"\\uce74\\uce74\\uc624\"],\"legendgroup\":\"\\uce74\\uce74\\uc624\",\"marker\":{\"color\":\"#EF553B\",\"pattern\":{\"shape\":\"\"}},\"name\":\"\\uce74\\uce74\\uc624\",\"offsetgroup\":\"\\uce74\\uce74\\uc624\",\"orientation\":\"v\",\"showlegend\":true,\"textposition\":\"auto\",\"type\":\"bar\",\"x\":[\"\\uce74\\uce74\\uc624\"],\"xaxis\":\"x\",\"y\":[128500],\"yaxis\":\"y\"},{\"alignmentgroup\":\"True\",\"hovertemplate\":\"\\uc885\\ubaa9\\uba85=%{x}<br>\\ub0a0\\uc9dc=2021-09-09<br>\\uc885\\uac00=%{y}<extra></extra>\",\"ids\":[\"sk\\ud558\\uc774\\ub2c9\\uc2a4\"],\"legendgroup\":\"sk\\ud558\\uc774\\ub2c9\\uc2a4\",\"marker\":{\"color\":\"#00cc96\",\"pattern\":{\"shape\":\"\"}},\"name\":\"sk\\ud558\\uc774\\ub2c9\\uc2a4\",\"offsetgroup\":\"sk\\ud558\\uc774\\ub2c9\\uc2a4\",\"orientation\":\"v\",\"showlegend\":true,\"textposition\":\"auto\",\"type\":\"bar\",\"x\":[\"sk\\ud558\\uc774\\ub2c9\\uc2a4\"],\"xaxis\":\"x\",\"y\":[103000],\"yaxis\":\"y\"},{\"alignmentgroup\":\"True\",\"hovertemplate\":\"\\uc885\\ubaa9\\uba85=%{x}<br>\\ub0a0\\uc9dc=2021-09-09<br>\\uc885\\uac00=%{y}<extra></extra>\",\"ids\":[\"NAVER\"],\"legendgroup\":\"NAVER\",\"marker\":{\"color\":\"#ab63fa\",\"pattern\":{\"shape\":\"\"}},\"name\":\"NAVER\",\"offsetgroup\":\"NAVER\",\"orientation\":\"v\",\"showlegend\":true,\"textposition\":\"auto\",\"type\":\"bar\",\"x\":[\"NAVER\"],\"xaxis\":\"x\",\"y\":[399000],\"yaxis\":\"y\"},{\"alignmentgroup\":\"True\",\"hovertemplate\":\"\\uc885\\ubaa9\\uba85=%{x}<br>\\ub0a0\\uc9dc=2021-09-09<br>\\uc885\\uac00=%{y}<extra></extra>\",\"ids\":[\"\\uc0bc\\uc131\\ubc14\\uc774\\uc624\\ub85c\\uc9c1\\uc2a4\"],\"legendgroup\":\"\\uc0bc\\uc131\\ubc14\\uc774\\uc624\\ub85c\\uc9c1\\uc2a4\",\"marker\":{\"color\":\"#FFA15A\",\"pattern\":{\"shape\":\"\"}},\"name\":\"\\uc0bc\\uc131\\ubc14\\uc774\\uc624\\ub85c\\uc9c1\\uc2a4\",\"offsetgroup\":\"\\uc0bc\\uc131\\ubc14\\uc774\\uc624\\ub85c\\uc9c1\\uc2a4\",\"orientation\":\"v\",\"showlegend\":true,\"textposition\":\"auto\",\"type\":\"bar\",\"x\":[\"\\uc0bc\\uc131\\ubc14\\uc774\\uc624\\ub85c\\uc9c1\\uc2a4\"],\"xaxis\":\"x\",\"y\":[913000],\"yaxis\":\"y\"},{\"alignmentgroup\":\"True\",\"hovertemplate\":\"\\uc885\\ubaa9\\uba85=%{x}<br>\\ub0a0\\uc9dc=2021-09-09<br>\\uc885\\uac00=%{y}<extra></extra>\",\"ids\":[\"\\uc0bc\\uc131\\uc804\\uc790\\uc6b0\"],\"legendgroup\":\"\\uc0bc\\uc131\\uc804\\uc790\\uc6b0\",\"marker\":{\"color\":\"#19d3f3\",\"pattern\":{\"shape\":\"\"}},\"name\":\"\\uc0bc\\uc131\\uc804\\uc790\\uc6b0\",\"offsetgroup\":\"\\uc0bc\\uc131\\uc804\\uc790\\uc6b0\",\"orientation\":\"v\",\"showlegend\":true,\"textposition\":\"auto\",\"type\":\"bar\",\"x\":[\"\\uc0bc\\uc131\\uc804\\uc790\\uc6b0\"],\"xaxis\":\"x\",\"y\":[71700],\"yaxis\":\"y\"},{\"alignmentgroup\":\"True\",\"hovertemplate\":\"\\uc885\\ubaa9\\uba85=%{x}<br>\\ub0a0\\uc9dc=2021-09-09<br>\\uc885\\uac00=%{y}<extra></extra>\",\"ids\":[\"LG\\ud654\\ud559\"],\"legendgroup\":\"LG\\ud654\\ud559\",\"marker\":{\"color\":\"#FF6692\",\"pattern\":{\"shape\":\"\"}},\"name\":\"LG\\ud654\\ud559\",\"offsetgroup\":\"LG\\ud654\\ud559\",\"orientation\":\"v\",\"showlegend\":true,\"textposition\":\"auto\",\"type\":\"bar\",\"x\":[\"LG\\ud654\\ud559\"],\"xaxis\":\"x\",\"y\":[748000],\"yaxis\":\"y\"},{\"alignmentgroup\":\"True\",\"hovertemplate\":\"\\uc885\\ubaa9\\uba85=%{x}<br>\\ub0a0\\uc9dc=2021-09-09<br>\\uc885\\uac00=%{y}<extra></extra>\",\"ids\":[\"\\uc0bc\\uc131SDI\"],\"legendgroup\":\"\\uc0bc\\uc131SDI\",\"marker\":{\"color\":\"#B6E880\",\"pattern\":{\"shape\":\"\"}},\"name\":\"\\uc0bc\\uc131SDI\",\"offsetgroup\":\"\\uc0bc\\uc131SDI\",\"orientation\":\"v\",\"showlegend\":true,\"textposition\":\"auto\",\"type\":\"bar\",\"x\":[\"\\uc0bc\\uc131SDI\"],\"xaxis\":\"x\",\"y\":[749000],\"yaxis\":\"y\"},{\"alignmentgroup\":\"True\",\"hovertemplate\":\"\\uc885\\ubaa9\\uba85=%{x}<br>\\ub0a0\\uc9dc=2021-09-09<br>\\uc885\\uac00=%{y}<extra></extra>\",\"ids\":[\"\\ud604\\ub300\\ucc28\"],\"legendgroup\":\"\\ud604\\ub300\\ucc28\",\"marker\":{\"color\":\"#FF97FF\",\"pattern\":{\"shape\":\"\"}},\"name\":\"\\ud604\\ub300\\ucc28\",\"offsetgroup\":\"\\ud604\\ub300\\ucc28\",\"orientation\":\"v\",\"showlegend\":true,\"textposition\":\"auto\",\"type\":\"bar\",\"x\":[\"\\ud604\\ub300\\ucc28\"],\"xaxis\":\"x\",\"y\":[208500],\"yaxis\":\"y\"},{\"alignmentgroup\":\"True\",\"hovertemplate\":\"\\uc885\\ubaa9\\uba85=%{x}<br>\\ub0a0\\uc9dc=2021-09-09<br>\\uc885\\uac00=%{y}<extra></extra>\",\"ids\":[\"\\uc140\\ud2b8\\ub9ac\\uc628\"],\"legendgroup\":\"\\uc140\\ud2b8\\ub9ac\\uc628\",\"marker\":{\"color\":\"#FECB52\",\"pattern\":{\"shape\":\"\"}},\"name\":\"\\uc140\\ud2b8\\ub9ac\\uc628\",\"offsetgroup\":\"\\uc140\\ud2b8\\ub9ac\\uc628\",\"orientation\":\"v\",\"showlegend\":true,\"textposition\":\"auto\",\"type\":\"bar\",\"x\":[\"\\uc140\\ud2b8\\ub9ac\\uc628\"],\"xaxis\":\"x\",\"y\":[269000],\"yaxis\":\"y\"}],\"name\":\"2021-09-09\"},{\"data\":[{\"alignmentgroup\":\"True\",\"hovertemplate\":\"\\uc885\\ubaa9\\uba85=%{x}<br>\\ub0a0\\uc9dc=2021-09-10<br>\\uc885\\uac00=%{y}<extra></extra>\",\"ids\":[\"\\uc0bc\\uc131\\uc804\\uc790\"],\"legendgroup\":\"\\uc0bc\\uc131\\uc804\\uc790\",\"marker\":{\"color\":\"#636efa\",\"pattern\":{\"shape\":\"\"}},\"name\":\"\\uc0bc\\uc131\\uc804\\uc790\",\"offsetgroup\":\"\\uc0bc\\uc131\\uc804\\uc790\",\"orientation\":\"v\",\"showlegend\":true,\"textposition\":\"auto\",\"type\":\"bar\",\"x\":[\"\\uc0bc\\uc131\\uc804\\uc790\"],\"xaxis\":\"x\",\"y\":[75300],\"yaxis\":\"y\"},{\"alignmentgroup\":\"True\",\"hovertemplate\":\"\\uc885\\ubaa9\\uba85=%{x}<br>\\ub0a0\\uc9dc=2021-09-10<br>\\uc885\\uac00=%{y}<extra></extra>\",\"ids\":[\"\\uce74\\uce74\\uc624\"],\"legendgroup\":\"\\uce74\\uce74\\uc624\",\"marker\":{\"color\":\"#EF553B\",\"pattern\":{\"shape\":\"\"}},\"name\":\"\\uce74\\uce74\\uc624\",\"offsetgroup\":\"\\uce74\\uce74\\uc624\",\"orientation\":\"v\",\"showlegend\":true,\"textposition\":\"auto\",\"type\":\"bar\",\"x\":[\"\\uce74\\uce74\\uc624\"],\"xaxis\":\"x\",\"y\":[130000],\"yaxis\":\"y\"},{\"alignmentgroup\":\"True\",\"hovertemplate\":\"\\uc885\\ubaa9\\uba85=%{x}<br>\\ub0a0\\uc9dc=2021-09-10<br>\\uc885\\uac00=%{y}<extra></extra>\",\"ids\":[\"sk\\ud558\\uc774\\ub2c9\\uc2a4\"],\"legendgroup\":\"sk\\ud558\\uc774\\ub2c9\\uc2a4\",\"marker\":{\"color\":\"#00cc96\",\"pattern\":{\"shape\":\"\"}},\"name\":\"sk\\ud558\\uc774\\ub2c9\\uc2a4\",\"offsetgroup\":\"sk\\ud558\\uc774\\ub2c9\\uc2a4\",\"orientation\":\"v\",\"showlegend\":true,\"textposition\":\"auto\",\"type\":\"bar\",\"x\":[\"sk\\ud558\\uc774\\ub2c9\\uc2a4\"],\"xaxis\":\"x\",\"y\":[105000],\"yaxis\":\"y\"},{\"alignmentgroup\":\"True\",\"hovertemplate\":\"\\uc885\\ubaa9\\uba85=%{x}<br>\\ub0a0\\uc9dc=2021-09-10<br>\\uc885\\uac00=%{y}<extra></extra>\",\"ids\":[\"NAVER\"],\"legendgroup\":\"NAVER\",\"marker\":{\"color\":\"#ab63fa\",\"pattern\":{\"shape\":\"\"}},\"name\":\"NAVER\",\"offsetgroup\":\"NAVER\",\"orientation\":\"v\",\"showlegend\":true,\"textposition\":\"auto\",\"type\":\"bar\",\"x\":[\"NAVER\"],\"xaxis\":\"x\",\"y\":[410000],\"yaxis\":\"y\"},{\"alignmentgroup\":\"True\",\"hovertemplate\":\"\\uc885\\ubaa9\\uba85=%{x}<br>\\ub0a0\\uc9dc=2021-09-10<br>\\uc885\\uac00=%{y}<extra></extra>\",\"ids\":[\"\\uc0bc\\uc131\\ubc14\\uc774\\uc624\\ub85c\\uc9c1\\uc2a4\"],\"legendgroup\":\"\\uc0bc\\uc131\\ubc14\\uc774\\uc624\\ub85c\\uc9c1\\uc2a4\",\"marker\":{\"color\":\"#FFA15A\",\"pattern\":{\"shape\":\"\"}},\"name\":\"\\uc0bc\\uc131\\ubc14\\uc774\\uc624\\ub85c\\uc9c1\\uc2a4\",\"offsetgroup\":\"\\uc0bc\\uc131\\ubc14\\uc774\\uc624\\ub85c\\uc9c1\\uc2a4\",\"orientation\":\"v\",\"showlegend\":true,\"textposition\":\"auto\",\"type\":\"bar\",\"x\":[\"\\uc0bc\\uc131\\ubc14\\uc774\\uc624\\ub85c\\uc9c1\\uc2a4\"],\"xaxis\":\"x\",\"y\":[925000],\"yaxis\":\"y\"},{\"alignmentgroup\":\"True\",\"hovertemplate\":\"\\uc885\\ubaa9\\uba85=%{x}<br>\\ub0a0\\uc9dc=2021-09-10<br>\\uc885\\uac00=%{y}<extra></extra>\",\"ids\":[\"\\uc0bc\\uc131\\uc804\\uc790\\uc6b0\"],\"legendgroup\":\"\\uc0bc\\uc131\\uc804\\uc790\\uc6b0\",\"marker\":{\"color\":\"#19d3f3\",\"pattern\":{\"shape\":\"\"}},\"name\":\"\\uc0bc\\uc131\\uc804\\uc790\\uc6b0\",\"offsetgroup\":\"\\uc0bc\\uc131\\uc804\\uc790\\uc6b0\",\"orientation\":\"v\",\"showlegend\":true,\"textposition\":\"auto\",\"type\":\"bar\",\"x\":[\"\\uc0bc\\uc131\\uc804\\uc790\\uc6b0\"],\"xaxis\":\"x\",\"y\":[70700],\"yaxis\":\"y\"},{\"alignmentgroup\":\"True\",\"hovertemplate\":\"\\uc885\\ubaa9\\uba85=%{x}<br>\\ub0a0\\uc9dc=2021-09-10<br>\\uc885\\uac00=%{y}<extra></extra>\",\"ids\":[\"LG\\ud654\\ud559\"],\"legendgroup\":\"LG\\ud654\\ud559\",\"marker\":{\"color\":\"#FF6692\",\"pattern\":{\"shape\":\"\"}},\"name\":\"LG\\ud654\\ud559\",\"offsetgroup\":\"LG\\ud654\\ud559\",\"orientation\":\"v\",\"showlegend\":true,\"textposition\":\"auto\",\"type\":\"bar\",\"x\":[\"LG\\ud654\\ud559\"],\"xaxis\":\"x\",\"y\":[740000],\"yaxis\":\"y\"},{\"alignmentgroup\":\"True\",\"hovertemplate\":\"\\uc885\\ubaa9\\uba85=%{x}<br>\\ub0a0\\uc9dc=2021-09-10<br>\\uc885\\uac00=%{y}<extra></extra>\",\"ids\":[\"\\uc0bc\\uc131SDI\"],\"legendgroup\":\"\\uc0bc\\uc131SDI\",\"marker\":{\"color\":\"#B6E880\",\"pattern\":{\"shape\":\"\"}},\"name\":\"\\uc0bc\\uc131SDI\",\"offsetgroup\":\"\\uc0bc\\uc131SDI\",\"orientation\":\"v\",\"showlegend\":true,\"textposition\":\"auto\",\"type\":\"bar\",\"x\":[\"\\uc0bc\\uc131SDI\"],\"xaxis\":\"x\",\"y\":[750000],\"yaxis\":\"y\"},{\"alignmentgroup\":\"True\",\"hovertemplate\":\"\\uc885\\ubaa9\\uba85=%{x}<br>\\ub0a0\\uc9dc=2021-09-10<br>\\uc885\\uac00=%{y}<extra></extra>\",\"ids\":[\"\\ud604\\ub300\\ucc28\"],\"legendgroup\":\"\\ud604\\ub300\\ucc28\",\"marker\":{\"color\":\"#FF97FF\",\"pattern\":{\"shape\":\"\"}},\"name\":\"\\ud604\\ub300\\ucc28\",\"offsetgroup\":\"\\ud604\\ub300\\ucc28\",\"orientation\":\"v\",\"showlegend\":true,\"textposition\":\"auto\",\"type\":\"bar\",\"x\":[\"\\ud604\\ub300\\ucc28\"],\"xaxis\":\"x\",\"y\":[206500],\"yaxis\":\"y\"},{\"alignmentgroup\":\"True\",\"hovertemplate\":\"\\uc885\\ubaa9\\uba85=%{x}<br>\\ub0a0\\uc9dc=2021-09-10<br>\\uc885\\uac00=%{y}<extra></extra>\",\"ids\":[\"\\uc140\\ud2b8\\ub9ac\\uc628\"],\"legendgroup\":\"\\uc140\\ud2b8\\ub9ac\\uc628\",\"marker\":{\"color\":\"#FECB52\",\"pattern\":{\"shape\":\"\"}},\"name\":\"\\uc140\\ud2b8\\ub9ac\\uc628\",\"offsetgroup\":\"\\uc140\\ud2b8\\ub9ac\\uc628\",\"orientation\":\"v\",\"showlegend\":true,\"textposition\":\"auto\",\"type\":\"bar\",\"x\":[\"\\uc140\\ud2b8\\ub9ac\\uc628\"],\"xaxis\":\"x\",\"y\":[267500],\"yaxis\":\"y\"}],\"name\":\"2021-09-10\"},{\"data\":[{\"alignmentgroup\":\"True\",\"hovertemplate\":\"\\uc885\\ubaa9\\uba85=%{x}<br>\\ub0a0\\uc9dc=2021-09-13<br>\\uc885\\uac00=%{y}<extra></extra>\",\"ids\":[\"\\uc0bc\\uc131\\uc804\\uc790\"],\"legendgroup\":\"\\uc0bc\\uc131\\uc804\\uc790\",\"marker\":{\"color\":\"#636efa\",\"pattern\":{\"shape\":\"\"}},\"name\":\"\\uc0bc\\uc131\\uc804\\uc790\",\"offsetgroup\":\"\\uc0bc\\uc131\\uc804\\uc790\",\"orientation\":\"v\",\"showlegend\":true,\"textposition\":\"auto\",\"type\":\"bar\",\"x\":[\"\\uc0bc\\uc131\\uc804\\uc790\"],\"xaxis\":\"x\",\"y\":[76300],\"yaxis\":\"y\"},{\"alignmentgroup\":\"True\",\"hovertemplate\":\"\\uc885\\ubaa9\\uba85=%{x}<br>\\ub0a0\\uc9dc=2021-09-13<br>\\uc885\\uac00=%{y}<extra></extra>\",\"ids\":[\"\\uce74\\uce74\\uc624\"],\"legendgroup\":\"\\uce74\\uce74\\uc624\",\"marker\":{\"color\":\"#EF553B\",\"pattern\":{\"shape\":\"\"}},\"name\":\"\\uce74\\uce74\\uc624\",\"offsetgroup\":\"\\uce74\\uce74\\uc624\",\"orientation\":\"v\",\"showlegend\":true,\"textposition\":\"auto\",\"type\":\"bar\",\"x\":[\"\\uce74\\uce74\\uc624\"],\"xaxis\":\"x\",\"y\":[124500],\"yaxis\":\"y\"},{\"alignmentgroup\":\"True\",\"hovertemplate\":\"\\uc885\\ubaa9\\uba85=%{x}<br>\\ub0a0\\uc9dc=2021-09-13<br>\\uc885\\uac00=%{y}<extra></extra>\",\"ids\":[\"sk\\ud558\\uc774\\ub2c9\\uc2a4\"],\"legendgroup\":\"sk\\ud558\\uc774\\ub2c9\\uc2a4\",\"marker\":{\"color\":\"#00cc96\",\"pattern\":{\"shape\":\"\"}},\"name\":\"sk\\ud558\\uc774\\ub2c9\\uc2a4\",\"offsetgroup\":\"sk\\ud558\\uc774\\ub2c9\\uc2a4\",\"orientation\":\"v\",\"showlegend\":true,\"textposition\":\"auto\",\"type\":\"bar\",\"x\":[\"sk\\ud558\\uc774\\ub2c9\\uc2a4\"],\"xaxis\":\"x\",\"y\":[106500],\"yaxis\":\"y\"},{\"alignmentgroup\":\"True\",\"hovertemplate\":\"\\uc885\\ubaa9\\uba85=%{x}<br>\\ub0a0\\uc9dc=2021-09-13<br>\\uc885\\uac00=%{y}<extra></extra>\",\"ids\":[\"NAVER\"],\"legendgroup\":\"NAVER\",\"marker\":{\"color\":\"#ab63fa\",\"pattern\":{\"shape\":\"\"}},\"name\":\"NAVER\",\"offsetgroup\":\"NAVER\",\"orientation\":\"v\",\"showlegend\":true,\"textposition\":\"auto\",\"type\":\"bar\",\"x\":[\"NAVER\"],\"xaxis\":\"x\",\"y\":[408000],\"yaxis\":\"y\"},{\"alignmentgroup\":\"True\",\"hovertemplate\":\"\\uc885\\ubaa9\\uba85=%{x}<br>\\ub0a0\\uc9dc=2021-09-13<br>\\uc885\\uac00=%{y}<extra></extra>\",\"ids\":[\"\\uc0bc\\uc131\\ubc14\\uc774\\uc624\\ub85c\\uc9c1\\uc2a4\"],\"legendgroup\":\"\\uc0bc\\uc131\\ubc14\\uc774\\uc624\\ub85c\\uc9c1\\uc2a4\",\"marker\":{\"color\":\"#FFA15A\",\"pattern\":{\"shape\":\"\"}},\"name\":\"\\uc0bc\\uc131\\ubc14\\uc774\\uc624\\ub85c\\uc9c1\\uc2a4\",\"offsetgroup\":\"\\uc0bc\\uc131\\ubc14\\uc774\\uc624\\ub85c\\uc9c1\\uc2a4\",\"orientation\":\"v\",\"showlegend\":true,\"textposition\":\"auto\",\"type\":\"bar\",\"x\":[\"\\uc0bc\\uc131\\ubc14\\uc774\\uc624\\ub85c\\uc9c1\\uc2a4\"],\"xaxis\":\"x\",\"y\":[913000],\"yaxis\":\"y\"},{\"alignmentgroup\":\"True\",\"hovertemplate\":\"\\uc885\\ubaa9\\uba85=%{x}<br>\\ub0a0\\uc9dc=2021-09-13<br>\\uc885\\uac00=%{y}<extra></extra>\",\"ids\":[\"\\uc0bc\\uc131\\uc804\\uc790\\uc6b0\"],\"legendgroup\":\"\\uc0bc\\uc131\\uc804\\uc790\\uc6b0\",\"marker\":{\"color\":\"#19d3f3\",\"pattern\":{\"shape\":\"\"}},\"name\":\"\\uc0bc\\uc131\\uc804\\uc790\\uc6b0\",\"offsetgroup\":\"\\uc0bc\\uc131\\uc804\\uc790\\uc6b0\",\"orientation\":\"v\",\"showlegend\":true,\"textposition\":\"auto\",\"type\":\"bar\",\"x\":[\"\\uc0bc\\uc131\\uc804\\uc790\\uc6b0\"],\"xaxis\":\"x\",\"y\":[70800],\"yaxis\":\"y\"},{\"alignmentgroup\":\"True\",\"hovertemplate\":\"\\uc885\\ubaa9\\uba85=%{x}<br>\\ub0a0\\uc9dc=2021-09-13<br>\\uc885\\uac00=%{y}<extra></extra>\",\"ids\":[\"LG\\ud654\\ud559\"],\"legendgroup\":\"LG\\ud654\\ud559\",\"marker\":{\"color\":\"#FF6692\",\"pattern\":{\"shape\":\"\"}},\"name\":\"LG\\ud654\\ud559\",\"offsetgroup\":\"LG\\ud654\\ud559\",\"orientation\":\"v\",\"showlegend\":true,\"textposition\":\"auto\",\"type\":\"bar\",\"x\":[\"LG\\ud654\\ud559\"],\"xaxis\":\"x\",\"y\":[747000],\"yaxis\":\"y\"},{\"alignmentgroup\":\"True\",\"hovertemplate\":\"\\uc885\\ubaa9\\uba85=%{x}<br>\\ub0a0\\uc9dc=2021-09-13<br>\\uc885\\uac00=%{y}<extra></extra>\",\"ids\":[\"\\uc0bc\\uc131SDI\"],\"legendgroup\":\"\\uc0bc\\uc131SDI\",\"marker\":{\"color\":\"#B6E880\",\"pattern\":{\"shape\":\"\"}},\"name\":\"\\uc0bc\\uc131SDI\",\"offsetgroup\":\"\\uc0bc\\uc131SDI\",\"orientation\":\"v\",\"showlegend\":true,\"textposition\":\"auto\",\"type\":\"bar\",\"x\":[\"\\uc0bc\\uc131SDI\"],\"xaxis\":\"x\",\"y\":[741000],\"yaxis\":\"y\"},{\"alignmentgroup\":\"True\",\"hovertemplate\":\"\\uc885\\ubaa9\\uba85=%{x}<br>\\ub0a0\\uc9dc=2021-09-13<br>\\uc885\\uac00=%{y}<extra></extra>\",\"ids\":[\"\\ud604\\ub300\\ucc28\"],\"legendgroup\":\"\\ud604\\ub300\\ucc28\",\"marker\":{\"color\":\"#FF97FF\",\"pattern\":{\"shape\":\"\"}},\"name\":\"\\ud604\\ub300\\ucc28\",\"offsetgroup\":\"\\ud604\\ub300\\ucc28\",\"orientation\":\"v\",\"showlegend\":true,\"textposition\":\"auto\",\"type\":\"bar\",\"x\":[\"\\ud604\\ub300\\ucc28\"],\"xaxis\":\"x\",\"y\":[205000],\"yaxis\":\"y\"},{\"alignmentgroup\":\"True\",\"hovertemplate\":\"\\uc885\\ubaa9\\uba85=%{x}<br>\\ub0a0\\uc9dc=2021-09-13<br>\\uc885\\uac00=%{y}<extra></extra>\",\"ids\":[\"\\uc140\\ud2b8\\ub9ac\\uc628\"],\"legendgroup\":\"\\uc140\\ud2b8\\ub9ac\\uc628\",\"marker\":{\"color\":\"#FECB52\",\"pattern\":{\"shape\":\"\"}},\"name\":\"\\uc140\\ud2b8\\ub9ac\\uc628\",\"offsetgroup\":\"\\uc140\\ud2b8\\ub9ac\\uc628\",\"orientation\":\"v\",\"showlegend\":true,\"textposition\":\"auto\",\"type\":\"bar\",\"x\":[\"\\uc140\\ud2b8\\ub9ac\\uc628\"],\"xaxis\":\"x\",\"y\":[262000],\"yaxis\":\"y\"}],\"name\":\"2021-09-13\"},{\"data\":[{\"alignmentgroup\":\"True\",\"hovertemplate\":\"\\uc885\\ubaa9\\uba85=%{x}<br>\\ub0a0\\uc9dc=2021-09-14<br>\\uc885\\uac00=%{y}<extra></extra>\",\"ids\":[\"\\uc0bc\\uc131\\uc804\\uc790\"],\"legendgroup\":\"\\uc0bc\\uc131\\uc804\\uc790\",\"marker\":{\"color\":\"#636efa\",\"pattern\":{\"shape\":\"\"}},\"name\":\"\\uc0bc\\uc131\\uc804\\uc790\",\"offsetgroup\":\"\\uc0bc\\uc131\\uc804\\uc790\",\"orientation\":\"v\",\"showlegend\":true,\"textposition\":\"auto\",\"type\":\"bar\",\"x\":[\"\\uc0bc\\uc131\\uc804\\uc790\"],\"xaxis\":\"x\",\"y\":[76600],\"yaxis\":\"y\"},{\"alignmentgroup\":\"True\",\"hovertemplate\":\"\\uc885\\ubaa9\\uba85=%{x}<br>\\ub0a0\\uc9dc=2021-09-14<br>\\uc885\\uac00=%{y}<extra></extra>\",\"ids\":[\"\\uce74\\uce74\\uc624\"],\"legendgroup\":\"\\uce74\\uce74\\uc624\",\"marker\":{\"color\":\"#EF553B\",\"pattern\":{\"shape\":\"\"}},\"name\":\"\\uce74\\uce74\\uc624\",\"offsetgroup\":\"\\uce74\\uce74\\uc624\",\"orientation\":\"v\",\"showlegend\":true,\"textposition\":\"auto\",\"type\":\"bar\",\"x\":[\"\\uce74\\uce74\\uc624\"],\"xaxis\":\"x\",\"y\":[124000],\"yaxis\":\"y\"},{\"alignmentgroup\":\"True\",\"hovertemplate\":\"\\uc885\\ubaa9\\uba85=%{x}<br>\\ub0a0\\uc9dc=2021-09-14<br>\\uc885\\uac00=%{y}<extra></extra>\",\"ids\":[\"sk\\ud558\\uc774\\ub2c9\\uc2a4\"],\"legendgroup\":\"sk\\ud558\\uc774\\ub2c9\\uc2a4\",\"marker\":{\"color\":\"#00cc96\",\"pattern\":{\"shape\":\"\"}},\"name\":\"sk\\ud558\\uc774\\ub2c9\\uc2a4\",\"offsetgroup\":\"sk\\ud558\\uc774\\ub2c9\\uc2a4\",\"orientation\":\"v\",\"showlegend\":true,\"textposition\":\"auto\",\"type\":\"bar\",\"x\":[\"sk\\ud558\\uc774\\ub2c9\\uc2a4\"],\"xaxis\":\"x\",\"y\":[107500],\"yaxis\":\"y\"},{\"alignmentgroup\":\"True\",\"hovertemplate\":\"\\uc885\\ubaa9\\uba85=%{x}<br>\\ub0a0\\uc9dc=2021-09-14<br>\\uc885\\uac00=%{y}<extra></extra>\",\"ids\":[\"NAVER\"],\"legendgroup\":\"NAVER\",\"marker\":{\"color\":\"#ab63fa\",\"pattern\":{\"shape\":\"\"}},\"name\":\"NAVER\",\"offsetgroup\":\"NAVER\",\"orientation\":\"v\",\"showlegend\":true,\"textposition\":\"auto\",\"type\":\"bar\",\"x\":[\"NAVER\"],\"xaxis\":\"x\",\"y\":[402500],\"yaxis\":\"y\"},{\"alignmentgroup\":\"True\",\"hovertemplate\":\"\\uc885\\ubaa9\\uba85=%{x}<br>\\ub0a0\\uc9dc=2021-09-14<br>\\uc885\\uac00=%{y}<extra></extra>\",\"ids\":[\"\\uc0bc\\uc131\\ubc14\\uc774\\uc624\\ub85c\\uc9c1\\uc2a4\"],\"legendgroup\":\"\\uc0bc\\uc131\\ubc14\\uc774\\uc624\\ub85c\\uc9c1\\uc2a4\",\"marker\":{\"color\":\"#FFA15A\",\"pattern\":{\"shape\":\"\"}},\"name\":\"\\uc0bc\\uc131\\ubc14\\uc774\\uc624\\ub85c\\uc9c1\\uc2a4\",\"offsetgroup\":\"\\uc0bc\\uc131\\ubc14\\uc774\\uc624\\ub85c\\uc9c1\\uc2a4\",\"orientation\":\"v\",\"showlegend\":true,\"textposition\":\"auto\",\"type\":\"bar\",\"x\":[\"\\uc0bc\\uc131\\ubc14\\uc774\\uc624\\ub85c\\uc9c1\\uc2a4\"],\"xaxis\":\"x\",\"y\":[913000],\"yaxis\":\"y\"},{\"alignmentgroup\":\"True\",\"hovertemplate\":\"\\uc885\\ubaa9\\uba85=%{x}<br>\\ub0a0\\uc9dc=2021-09-14<br>\\uc885\\uac00=%{y}<extra></extra>\",\"ids\":[\"\\uc0bc\\uc131\\uc804\\uc790\\uc6b0\"],\"legendgroup\":\"\\uc0bc\\uc131\\uc804\\uc790\\uc6b0\",\"marker\":{\"color\":\"#19d3f3\",\"pattern\":{\"shape\":\"\"}},\"name\":\"\\uc0bc\\uc131\\uc804\\uc790\\uc6b0\",\"offsetgroup\":\"\\uc0bc\\uc131\\uc804\\uc790\\uc6b0\",\"orientation\":\"v\",\"showlegend\":true,\"textposition\":\"auto\",\"type\":\"bar\",\"x\":[\"\\uc0bc\\uc131\\uc804\\uc790\\uc6b0\"],\"xaxis\":\"x\",\"y\":[71400],\"yaxis\":\"y\"},{\"alignmentgroup\":\"True\",\"hovertemplate\":\"\\uc885\\ubaa9\\uba85=%{x}<br>\\ub0a0\\uc9dc=2021-09-14<br>\\uc885\\uac00=%{y}<extra></extra>\",\"ids\":[\"LG\\ud654\\ud559\"],\"legendgroup\":\"LG\\ud654\\ud559\",\"marker\":{\"color\":\"#FF6692\",\"pattern\":{\"shape\":\"\"}},\"name\":\"LG\\ud654\\ud559\",\"offsetgroup\":\"LG\\ud654\\ud559\",\"orientation\":\"v\",\"showlegend\":true,\"textposition\":\"auto\",\"type\":\"bar\",\"x\":[\"LG\\ud654\\ud559\"],\"xaxis\":\"x\",\"y\":[734000],\"yaxis\":\"y\"},{\"alignmentgroup\":\"True\",\"hovertemplate\":\"\\uc885\\ubaa9\\uba85=%{x}<br>\\ub0a0\\uc9dc=2021-09-14<br>\\uc885\\uac00=%{y}<extra></extra>\",\"ids\":[\"\\uc0bc\\uc131SDI\"],\"legendgroup\":\"\\uc0bc\\uc131SDI\",\"marker\":{\"color\":\"#B6E880\",\"pattern\":{\"shape\":\"\"}},\"name\":\"\\uc0bc\\uc131SDI\",\"offsetgroup\":\"\\uc0bc\\uc131SDI\",\"orientation\":\"v\",\"showlegend\":true,\"textposition\":\"auto\",\"type\":\"bar\",\"x\":[\"\\uc0bc\\uc131SDI\"],\"xaxis\":\"x\",\"y\":[755000],\"yaxis\":\"y\"},{\"alignmentgroup\":\"True\",\"hovertemplate\":\"\\uc885\\ubaa9\\uba85=%{x}<br>\\ub0a0\\uc9dc=2021-09-14<br>\\uc885\\uac00=%{y}<extra></extra>\",\"ids\":[\"\\ud604\\ub300\\ucc28\"],\"legendgroup\":\"\\ud604\\ub300\\ucc28\",\"marker\":{\"color\":\"#FF97FF\",\"pattern\":{\"shape\":\"\"}},\"name\":\"\\ud604\\ub300\\ucc28\",\"offsetgroup\":\"\\ud604\\ub300\\ucc28\",\"orientation\":\"v\",\"showlegend\":true,\"textposition\":\"auto\",\"type\":\"bar\",\"x\":[\"\\ud604\\ub300\\ucc28\"],\"xaxis\":\"x\",\"y\":[209000],\"yaxis\":\"y\"},{\"alignmentgroup\":\"True\",\"hovertemplate\":\"\\uc885\\ubaa9\\uba85=%{x}<br>\\ub0a0\\uc9dc=2021-09-14<br>\\uc885\\uac00=%{y}<extra></extra>\",\"ids\":[\"\\uc140\\ud2b8\\ub9ac\\uc628\"],\"legendgroup\":\"\\uc140\\ud2b8\\ub9ac\\uc628\",\"marker\":{\"color\":\"#FECB52\",\"pattern\":{\"shape\":\"\"}},\"name\":\"\\uc140\\ud2b8\\ub9ac\\uc628\",\"offsetgroup\":\"\\uc140\\ud2b8\\ub9ac\\uc628\",\"orientation\":\"v\",\"showlegend\":true,\"textposition\":\"auto\",\"type\":\"bar\",\"x\":[\"\\uc140\\ud2b8\\ub9ac\\uc628\"],\"xaxis\":\"x\",\"y\":[263000],\"yaxis\":\"y\"}],\"name\":\"2021-09-14\"},{\"data\":[{\"alignmentgroup\":\"True\",\"hovertemplate\":\"\\uc885\\ubaa9\\uba85=%{x}<br>\\ub0a0\\uc9dc=2021-09-15<br>\\uc885\\uac00=%{y}<extra></extra>\",\"ids\":[\"\\uc0bc\\uc131\\uc804\\uc790\"],\"legendgroup\":\"\\uc0bc\\uc131\\uc804\\uc790\",\"marker\":{\"color\":\"#636efa\",\"pattern\":{\"shape\":\"\"}},\"name\":\"\\uc0bc\\uc131\\uc804\\uc790\",\"offsetgroup\":\"\\uc0bc\\uc131\\uc804\\uc790\",\"orientation\":\"v\",\"showlegend\":true,\"textposition\":\"auto\",\"type\":\"bar\",\"x\":[\"\\uc0bc\\uc131\\uc804\\uc790\"],\"xaxis\":\"x\",\"y\":[77000],\"yaxis\":\"y\"},{\"alignmentgroup\":\"True\",\"hovertemplate\":\"\\uc885\\ubaa9\\uba85=%{x}<br>\\ub0a0\\uc9dc=2021-09-15<br>\\uc885\\uac00=%{y}<extra></extra>\",\"ids\":[\"\\uce74\\uce74\\uc624\"],\"legendgroup\":\"\\uce74\\uce74\\uc624\",\"marker\":{\"color\":\"#EF553B\",\"pattern\":{\"shape\":\"\"}},\"name\":\"\\uce74\\uce74\\uc624\",\"offsetgroup\":\"\\uce74\\uce74\\uc624\",\"orientation\":\"v\",\"showlegend\":true,\"textposition\":\"auto\",\"type\":\"bar\",\"x\":[\"\\uce74\\uce74\\uc624\"],\"xaxis\":\"x\",\"y\":[122500],\"yaxis\":\"y\"},{\"alignmentgroup\":\"True\",\"hovertemplate\":\"\\uc885\\ubaa9\\uba85=%{x}<br>\\ub0a0\\uc9dc=2021-09-15<br>\\uc885\\uac00=%{y}<extra></extra>\",\"ids\":[\"sk\\ud558\\uc774\\ub2c9\\uc2a4\"],\"legendgroup\":\"sk\\ud558\\uc774\\ub2c9\\uc2a4\",\"marker\":{\"color\":\"#00cc96\",\"pattern\":{\"shape\":\"\"}},\"name\":\"sk\\ud558\\uc774\\ub2c9\\uc2a4\",\"offsetgroup\":\"sk\\ud558\\uc774\\ub2c9\\uc2a4\",\"orientation\":\"v\",\"showlegend\":true,\"textposition\":\"auto\",\"type\":\"bar\",\"x\":[\"sk\\ud558\\uc774\\ub2c9\\uc2a4\"],\"xaxis\":\"x\",\"y\":[107500],\"yaxis\":\"y\"},{\"alignmentgroup\":\"True\",\"hovertemplate\":\"\\uc885\\ubaa9\\uba85=%{x}<br>\\ub0a0\\uc9dc=2021-09-15<br>\\uc885\\uac00=%{y}<extra></extra>\",\"ids\":[\"NAVER\"],\"legendgroup\":\"NAVER\",\"marker\":{\"color\":\"#ab63fa\",\"pattern\":{\"shape\":\"\"}},\"name\":\"NAVER\",\"offsetgroup\":\"NAVER\",\"orientation\":\"v\",\"showlegend\":true,\"textposition\":\"auto\",\"type\":\"bar\",\"x\":[\"NAVER\"],\"xaxis\":\"x\",\"y\":[400500],\"yaxis\":\"y\"},{\"alignmentgroup\":\"True\",\"hovertemplate\":\"\\uc885\\ubaa9\\uba85=%{x}<br>\\ub0a0\\uc9dc=2021-09-15<br>\\uc885\\uac00=%{y}<extra></extra>\",\"ids\":[\"\\uc0bc\\uc131\\ubc14\\uc774\\uc624\\ub85c\\uc9c1\\uc2a4\"],\"legendgroup\":\"\\uc0bc\\uc131\\ubc14\\uc774\\uc624\\ub85c\\uc9c1\\uc2a4\",\"marker\":{\"color\":\"#FFA15A\",\"pattern\":{\"shape\":\"\"}},\"name\":\"\\uc0bc\\uc131\\ubc14\\uc774\\uc624\\ub85c\\uc9c1\\uc2a4\",\"offsetgroup\":\"\\uc0bc\\uc131\\ubc14\\uc774\\uc624\\ub85c\\uc9c1\\uc2a4\",\"orientation\":\"v\",\"showlegend\":true,\"textposition\":\"auto\",\"type\":\"bar\",\"x\":[\"\\uc0bc\\uc131\\ubc14\\uc774\\uc624\\ub85c\\uc9c1\\uc2a4\"],\"xaxis\":\"x\",\"y\":[936000],\"yaxis\":\"y\"},{\"alignmentgroup\":\"True\",\"hovertemplate\":\"\\uc885\\ubaa9\\uba85=%{x}<br>\\ub0a0\\uc9dc=2021-09-15<br>\\uc885\\uac00=%{y}<extra></extra>\",\"ids\":[\"\\uc0bc\\uc131\\uc804\\uc790\\uc6b0\"],\"legendgroup\":\"\\uc0bc\\uc131\\uc804\\uc790\\uc6b0\",\"marker\":{\"color\":\"#19d3f3\",\"pattern\":{\"shape\":\"\"}},\"name\":\"\\uc0bc\\uc131\\uc804\\uc790\\uc6b0\",\"offsetgroup\":\"\\uc0bc\\uc131\\uc804\\uc790\\uc6b0\",\"orientation\":\"v\",\"showlegend\":true,\"textposition\":\"auto\",\"type\":\"bar\",\"x\":[\"\\uc0bc\\uc131\\uc804\\uc790\\uc6b0\"],\"xaxis\":\"x\",\"y\":[71800],\"yaxis\":\"y\"},{\"alignmentgroup\":\"True\",\"hovertemplate\":\"\\uc885\\ubaa9\\uba85=%{x}<br>\\ub0a0\\uc9dc=2021-09-15<br>\\uc885\\uac00=%{y}<extra></extra>\",\"ids\":[\"LG\\ud654\\ud559\"],\"legendgroup\":\"LG\\ud654\\ud559\",\"marker\":{\"color\":\"#FF6692\",\"pattern\":{\"shape\":\"\"}},\"name\":\"LG\\ud654\\ud559\",\"offsetgroup\":\"LG\\ud654\\ud559\",\"orientation\":\"v\",\"showlegend\":true,\"textposition\":\"auto\",\"type\":\"bar\",\"x\":[\"LG\\ud654\\ud559\"],\"xaxis\":\"x\",\"y\":[718000],\"yaxis\":\"y\"},{\"alignmentgroup\":\"True\",\"hovertemplate\":\"\\uc885\\ubaa9\\uba85=%{x}<br>\\ub0a0\\uc9dc=2021-09-15<br>\\uc885\\uac00=%{y}<extra></extra>\",\"ids\":[\"\\uc0bc\\uc131SDI\"],\"legendgroup\":\"\\uc0bc\\uc131SDI\",\"marker\":{\"color\":\"#B6E880\",\"pattern\":{\"shape\":\"\"}},\"name\":\"\\uc0bc\\uc131SDI\",\"offsetgroup\":\"\\uc0bc\\uc131SDI\",\"orientation\":\"v\",\"showlegend\":true,\"textposition\":\"auto\",\"type\":\"bar\",\"x\":[\"\\uc0bc\\uc131SDI\"],\"xaxis\":\"x\",\"y\":[750000],\"yaxis\":\"y\"},{\"alignmentgroup\":\"True\",\"hovertemplate\":\"\\uc885\\ubaa9\\uba85=%{x}<br>\\ub0a0\\uc9dc=2021-09-15<br>\\uc885\\uac00=%{y}<extra></extra>\",\"ids\":[\"\\ud604\\ub300\\ucc28\"],\"legendgroup\":\"\\ud604\\ub300\\ucc28\",\"marker\":{\"color\":\"#FF97FF\",\"pattern\":{\"shape\":\"\"}},\"name\":\"\\ud604\\ub300\\ucc28\",\"offsetgroup\":\"\\ud604\\ub300\\ucc28\",\"orientation\":\"v\",\"showlegend\":true,\"textposition\":\"auto\",\"type\":\"bar\",\"x\":[\"\\ud604\\ub300\\ucc28\"],\"xaxis\":\"x\",\"y\":[209500],\"yaxis\":\"y\"},{\"alignmentgroup\":\"True\",\"hovertemplate\":\"\\uc885\\ubaa9\\uba85=%{x}<br>\\ub0a0\\uc9dc=2021-09-15<br>\\uc885\\uac00=%{y}<extra></extra>\",\"ids\":[\"\\uc140\\ud2b8\\ub9ac\\uc628\"],\"legendgroup\":\"\\uc140\\ud2b8\\ub9ac\\uc628\",\"marker\":{\"color\":\"#FECB52\",\"pattern\":{\"shape\":\"\"}},\"name\":\"\\uc140\\ud2b8\\ub9ac\\uc628\",\"offsetgroup\":\"\\uc140\\ud2b8\\ub9ac\\uc628\",\"orientation\":\"v\",\"showlegend\":true,\"textposition\":\"auto\",\"type\":\"bar\",\"x\":[\"\\uc140\\ud2b8\\ub9ac\\uc628\"],\"xaxis\":\"x\",\"y\":[272500],\"yaxis\":\"y\"}],\"name\":\"2021-09-15\"},{\"data\":[{\"alignmentgroup\":\"True\",\"hovertemplate\":\"\\uc885\\ubaa9\\uba85=%{x}<br>\\ub0a0\\uc9dc=2021-09-16<br>\\uc885\\uac00=%{y}<extra></extra>\",\"ids\":[\"\\uc0bc\\uc131\\uc804\\uc790\"],\"legendgroup\":\"\\uc0bc\\uc131\\uc804\\uc790\",\"marker\":{\"color\":\"#636efa\",\"pattern\":{\"shape\":\"\"}},\"name\":\"\\uc0bc\\uc131\\uc804\\uc790\",\"offsetgroup\":\"\\uc0bc\\uc131\\uc804\\uc790\",\"orientation\":\"v\",\"showlegend\":true,\"textposition\":\"auto\",\"type\":\"bar\",\"x\":[\"\\uc0bc\\uc131\\uc804\\uc790\"],\"xaxis\":\"x\",\"y\":[76100],\"yaxis\":\"y\"},{\"alignmentgroup\":\"True\",\"hovertemplate\":\"\\uc885\\ubaa9\\uba85=%{x}<br>\\ub0a0\\uc9dc=2021-09-16<br>\\uc885\\uac00=%{y}<extra></extra>\",\"ids\":[\"\\uce74\\uce74\\uc624\"],\"legendgroup\":\"\\uce74\\uce74\\uc624\",\"marker\":{\"color\":\"#EF553B\",\"pattern\":{\"shape\":\"\"}},\"name\":\"\\uce74\\uce74\\uc624\",\"offsetgroup\":\"\\uce74\\uce74\\uc624\",\"orientation\":\"v\",\"showlegend\":true,\"textposition\":\"auto\",\"type\":\"bar\",\"x\":[\"\\uce74\\uce74\\uc624\"],\"xaxis\":\"x\",\"y\":[121500],\"yaxis\":\"y\"},{\"alignmentgroup\":\"True\",\"hovertemplate\":\"\\uc885\\ubaa9\\uba85=%{x}<br>\\ub0a0\\uc9dc=2021-09-16<br>\\uc885\\uac00=%{y}<extra></extra>\",\"ids\":[\"sk\\ud558\\uc774\\ub2c9\\uc2a4\"],\"legendgroup\":\"sk\\ud558\\uc774\\ub2c9\\uc2a4\",\"marker\":{\"color\":\"#00cc96\",\"pattern\":{\"shape\":\"\"}},\"name\":\"sk\\ud558\\uc774\\ub2c9\\uc2a4\",\"offsetgroup\":\"sk\\ud558\\uc774\\ub2c9\\uc2a4\",\"orientation\":\"v\",\"showlegend\":true,\"textposition\":\"auto\",\"type\":\"bar\",\"x\":[\"sk\\ud558\\uc774\\ub2c9\\uc2a4\"],\"xaxis\":\"x\",\"y\":[104000],\"yaxis\":\"y\"},{\"alignmentgroup\":\"True\",\"hovertemplate\":\"\\uc885\\ubaa9\\uba85=%{x}<br>\\ub0a0\\uc9dc=2021-09-16<br>\\uc885\\uac00=%{y}<extra></extra>\",\"ids\":[\"NAVER\"],\"legendgroup\":\"NAVER\",\"marker\":{\"color\":\"#ab63fa\",\"pattern\":{\"shape\":\"\"}},\"name\":\"NAVER\",\"offsetgroup\":\"NAVER\",\"orientation\":\"v\",\"showlegend\":true,\"textposition\":\"auto\",\"type\":\"bar\",\"x\":[\"NAVER\"],\"xaxis\":\"x\",\"y\":[402000],\"yaxis\":\"y\"},{\"alignmentgroup\":\"True\",\"hovertemplate\":\"\\uc885\\ubaa9\\uba85=%{x}<br>\\ub0a0\\uc9dc=2021-09-16<br>\\uc885\\uac00=%{y}<extra></extra>\",\"ids\":[\"\\uc0bc\\uc131\\ubc14\\uc774\\uc624\\ub85c\\uc9c1\\uc2a4\"],\"legendgroup\":\"\\uc0bc\\uc131\\ubc14\\uc774\\uc624\\ub85c\\uc9c1\\uc2a4\",\"marker\":{\"color\":\"#FFA15A\",\"pattern\":{\"shape\":\"\"}},\"name\":\"\\uc0bc\\uc131\\ubc14\\uc774\\uc624\\ub85c\\uc9c1\\uc2a4\",\"offsetgroup\":\"\\uc0bc\\uc131\\ubc14\\uc774\\uc624\\ub85c\\uc9c1\\uc2a4\",\"orientation\":\"v\",\"showlegend\":true,\"textposition\":\"auto\",\"type\":\"bar\",\"x\":[\"\\uc0bc\\uc131\\ubc14\\uc774\\uc624\\ub85c\\uc9c1\\uc2a4\"],\"xaxis\":\"x\",\"y\":[916000],\"yaxis\":\"y\"},{\"alignmentgroup\":\"True\",\"hovertemplate\":\"\\uc885\\ubaa9\\uba85=%{x}<br>\\ub0a0\\uc9dc=2021-09-16<br>\\uc885\\uac00=%{y}<extra></extra>\",\"ids\":[\"\\uc0bc\\uc131\\uc804\\uc790\\uc6b0\"],\"legendgroup\":\"\\uc0bc\\uc131\\uc804\\uc790\\uc6b0\",\"marker\":{\"color\":\"#19d3f3\",\"pattern\":{\"shape\":\"\"}},\"name\":\"\\uc0bc\\uc131\\uc804\\uc790\\uc6b0\",\"offsetgroup\":\"\\uc0bc\\uc131\\uc804\\uc790\\uc6b0\",\"orientation\":\"v\",\"showlegend\":true,\"textposition\":\"auto\",\"type\":\"bar\",\"x\":[\"\\uc0bc\\uc131\\uc804\\uc790\\uc6b0\"],\"xaxis\":\"x\",\"y\":[71500],\"yaxis\":\"y\"},{\"alignmentgroup\":\"True\",\"hovertemplate\":\"\\uc885\\ubaa9\\uba85=%{x}<br>\\ub0a0\\uc9dc=2021-09-16<br>\\uc885\\uac00=%{y}<extra></extra>\",\"ids\":[\"LG\\ud654\\ud559\"],\"legendgroup\":\"LG\\ud654\\ud559\",\"marker\":{\"color\":\"#FF6692\",\"pattern\":{\"shape\":\"\"}},\"name\":\"LG\\ud654\\ud559\",\"offsetgroup\":\"LG\\ud654\\ud559\",\"orientation\":\"v\",\"showlegend\":true,\"textposition\":\"auto\",\"type\":\"bar\",\"x\":[\"LG\\ud654\\ud559\"],\"xaxis\":\"x\",\"y\":[716000],\"yaxis\":\"y\"},{\"alignmentgroup\":\"True\",\"hovertemplate\":\"\\uc885\\ubaa9\\uba85=%{x}<br>\\ub0a0\\uc9dc=2021-09-16<br>\\uc885\\uac00=%{y}<extra></extra>\",\"ids\":[\"\\uc0bc\\uc131SDI\"],\"legendgroup\":\"\\uc0bc\\uc131SDI\",\"marker\":{\"color\":\"#B6E880\",\"pattern\":{\"shape\":\"\"}},\"name\":\"\\uc0bc\\uc131SDI\",\"offsetgroup\":\"\\uc0bc\\uc131SDI\",\"orientation\":\"v\",\"showlegend\":true,\"textposition\":\"auto\",\"type\":\"bar\",\"x\":[\"\\uc0bc\\uc131SDI\"],\"xaxis\":\"x\",\"y\":[725000],\"yaxis\":\"y\"},{\"alignmentgroup\":\"True\",\"hovertemplate\":\"\\uc885\\ubaa9\\uba85=%{x}<br>\\ub0a0\\uc9dc=2021-09-16<br>\\uc885\\uac00=%{y}<extra></extra>\",\"ids\":[\"\\ud604\\ub300\\ucc28\"],\"legendgroup\":\"\\ud604\\ub300\\ucc28\",\"marker\":{\"color\":\"#FF97FF\",\"pattern\":{\"shape\":\"\"}},\"name\":\"\\ud604\\ub300\\ucc28\",\"offsetgroup\":\"\\ud604\\ub300\\ucc28\",\"orientation\":\"v\",\"showlegend\":true,\"textposition\":\"auto\",\"type\":\"bar\",\"x\":[\"\\ud604\\ub300\\ucc28\"],\"xaxis\":\"x\",\"y\":[208000],\"yaxis\":\"y\"},{\"alignmentgroup\":\"True\",\"hovertemplate\":\"\\uc885\\ubaa9\\uba85=%{x}<br>\\ub0a0\\uc9dc=2021-09-16<br>\\uc885\\uac00=%{y}<extra></extra>\",\"ids\":[\"\\uc140\\ud2b8\\ub9ac\\uc628\"],\"legendgroup\":\"\\uc140\\ud2b8\\ub9ac\\uc628\",\"marker\":{\"color\":\"#FECB52\",\"pattern\":{\"shape\":\"\"}},\"name\":\"\\uc140\\ud2b8\\ub9ac\\uc628\",\"offsetgroup\":\"\\uc140\\ud2b8\\ub9ac\\uc628\",\"orientation\":\"v\",\"showlegend\":true,\"textposition\":\"auto\",\"type\":\"bar\",\"x\":[\"\\uc140\\ud2b8\\ub9ac\\uc628\"],\"xaxis\":\"x\",\"y\":[267000],\"yaxis\":\"y\"}],\"name\":\"2021-09-16\"},{\"data\":[{\"alignmentgroup\":\"True\",\"hovertemplate\":\"\\uc885\\ubaa9\\uba85=%{x}<br>\\ub0a0\\uc9dc=2021-09-17<br>\\uc885\\uac00=%{y}<extra></extra>\",\"ids\":[\"\\uc0bc\\uc131\\uc804\\uc790\"],\"legendgroup\":\"\\uc0bc\\uc131\\uc804\\uc790\",\"marker\":{\"color\":\"#636efa\",\"pattern\":{\"shape\":\"\"}},\"name\":\"\\uc0bc\\uc131\\uc804\\uc790\",\"offsetgroup\":\"\\uc0bc\\uc131\\uc804\\uc790\",\"orientation\":\"v\",\"showlegend\":true,\"textposition\":\"auto\",\"type\":\"bar\",\"x\":[\"\\uc0bc\\uc131\\uc804\\uc790\"],\"xaxis\":\"x\",\"y\":[77200],\"yaxis\":\"y\"},{\"alignmentgroup\":\"True\",\"hovertemplate\":\"\\uc885\\ubaa9\\uba85=%{x}<br>\\ub0a0\\uc9dc=2021-09-17<br>\\uc885\\uac00=%{y}<extra></extra>\",\"ids\":[\"\\uce74\\uce74\\uc624\"],\"legendgroup\":\"\\uce74\\uce74\\uc624\",\"marker\":{\"color\":\"#EF553B\",\"pattern\":{\"shape\":\"\"}},\"name\":\"\\uce74\\uce74\\uc624\",\"offsetgroup\":\"\\uce74\\uce74\\uc624\",\"orientation\":\"v\",\"showlegend\":true,\"textposition\":\"auto\",\"type\":\"bar\",\"x\":[\"\\uce74\\uce74\\uc624\"],\"xaxis\":\"x\",\"y\":[119500],\"yaxis\":\"y\"},{\"alignmentgroup\":\"True\",\"hovertemplate\":\"\\uc885\\ubaa9\\uba85=%{x}<br>\\ub0a0\\uc9dc=2021-09-17<br>\\uc885\\uac00=%{y}<extra></extra>\",\"ids\":[\"sk\\ud558\\uc774\\ub2c9\\uc2a4\"],\"legendgroup\":\"sk\\ud558\\uc774\\ub2c9\\uc2a4\",\"marker\":{\"color\":\"#00cc96\",\"pattern\":{\"shape\":\"\"}},\"name\":\"sk\\ud558\\uc774\\ub2c9\\uc2a4\",\"offsetgroup\":\"sk\\ud558\\uc774\\ub2c9\\uc2a4\",\"orientation\":\"v\",\"showlegend\":true,\"textposition\":\"auto\",\"type\":\"bar\",\"x\":[\"sk\\ud558\\uc774\\ub2c9\\uc2a4\"],\"xaxis\":\"x\",\"y\":[107000],\"yaxis\":\"y\"},{\"alignmentgroup\":\"True\",\"hovertemplate\":\"\\uc885\\ubaa9\\uba85=%{x}<br>\\ub0a0\\uc9dc=2021-09-17<br>\\uc885\\uac00=%{y}<extra></extra>\",\"ids\":[\"NAVER\"],\"legendgroup\":\"NAVER\",\"marker\":{\"color\":\"#ab63fa\",\"pattern\":{\"shape\":\"\"}},\"name\":\"NAVER\",\"offsetgroup\":\"NAVER\",\"orientation\":\"v\",\"showlegend\":true,\"textposition\":\"auto\",\"type\":\"bar\",\"x\":[\"NAVER\"],\"xaxis\":\"x\",\"y\":[403000],\"yaxis\":\"y\"},{\"alignmentgroup\":\"True\",\"hovertemplate\":\"\\uc885\\ubaa9\\uba85=%{x}<br>\\ub0a0\\uc9dc=2021-09-17<br>\\uc885\\uac00=%{y}<extra></extra>\",\"ids\":[\"\\uc0bc\\uc131\\ubc14\\uc774\\uc624\\ub85c\\uc9c1\\uc2a4\"],\"legendgroup\":\"\\uc0bc\\uc131\\ubc14\\uc774\\uc624\\ub85c\\uc9c1\\uc2a4\",\"marker\":{\"color\":\"#FFA15A\",\"pattern\":{\"shape\":\"\"}},\"name\":\"\\uc0bc\\uc131\\ubc14\\uc774\\uc624\\ub85c\\uc9c1\\uc2a4\",\"offsetgroup\":\"\\uc0bc\\uc131\\ubc14\\uc774\\uc624\\ub85c\\uc9c1\\uc2a4\",\"orientation\":\"v\",\"showlegend\":true,\"textposition\":\"auto\",\"type\":\"bar\",\"x\":[\"\\uc0bc\\uc131\\ubc14\\uc774\\uc624\\ub85c\\uc9c1\\uc2a4\"],\"xaxis\":\"x\",\"y\":[933000],\"yaxis\":\"y\"},{\"alignmentgroup\":\"True\",\"hovertemplate\":\"\\uc885\\ubaa9\\uba85=%{x}<br>\\ub0a0\\uc9dc=2021-09-17<br>\\uc885\\uac00=%{y}<extra></extra>\",\"ids\":[\"\\uc0bc\\uc131\\uc804\\uc790\\uc6b0\"],\"legendgroup\":\"\\uc0bc\\uc131\\uc804\\uc790\\uc6b0\",\"marker\":{\"color\":\"#19d3f3\",\"pattern\":{\"shape\":\"\"}},\"name\":\"\\uc0bc\\uc131\\uc804\\uc790\\uc6b0\",\"offsetgroup\":\"\\uc0bc\\uc131\\uc804\\uc790\\uc6b0\",\"orientation\":\"v\",\"showlegend\":true,\"textposition\":\"auto\",\"type\":\"bar\",\"x\":[\"\\uc0bc\\uc131\\uc804\\uc790\\uc6b0\"],\"xaxis\":\"x\",\"y\":[71800],\"yaxis\":\"y\"},{\"alignmentgroup\":\"True\",\"hovertemplate\":\"\\uc885\\ubaa9\\uba85=%{x}<br>\\ub0a0\\uc9dc=2021-09-17<br>\\uc885\\uac00=%{y}<extra></extra>\",\"ids\":[\"LG\\ud654\\ud559\"],\"legendgroup\":\"LG\\ud654\\ud559\",\"marker\":{\"color\":\"#FF6692\",\"pattern\":{\"shape\":\"\"}},\"name\":\"LG\\ud654\\ud559\",\"offsetgroup\":\"LG\\ud654\\ud559\",\"orientation\":\"v\",\"showlegend\":true,\"textposition\":\"auto\",\"type\":\"bar\",\"x\":[\"LG\\ud654\\ud559\"],\"xaxis\":\"x\",\"y\":[701000],\"yaxis\":\"y\"},{\"alignmentgroup\":\"True\",\"hovertemplate\":\"\\uc885\\ubaa9\\uba85=%{x}<br>\\ub0a0\\uc9dc=2021-09-17<br>\\uc885\\uac00=%{y}<extra></extra>\",\"ids\":[\"\\uc0bc\\uc131SDI\"],\"legendgroup\":\"\\uc0bc\\uc131SDI\",\"marker\":{\"color\":\"#B6E880\",\"pattern\":{\"shape\":\"\"}},\"name\":\"\\uc0bc\\uc131SDI\",\"offsetgroup\":\"\\uc0bc\\uc131SDI\",\"orientation\":\"v\",\"showlegend\":true,\"textposition\":\"auto\",\"type\":\"bar\",\"x\":[\"\\uc0bc\\uc131SDI\"],\"xaxis\":\"x\",\"y\":[725000],\"yaxis\":\"y\"},{\"alignmentgroup\":\"True\",\"hovertemplate\":\"\\uc885\\ubaa9\\uba85=%{x}<br>\\ub0a0\\uc9dc=2021-09-17<br>\\uc885\\uac00=%{y}<extra></extra>\",\"ids\":[\"\\ud604\\ub300\\ucc28\"],\"legendgroup\":\"\\ud604\\ub300\\ucc28\",\"marker\":{\"color\":\"#FF97FF\",\"pattern\":{\"shape\":\"\"}},\"name\":\"\\ud604\\ub300\\ucc28\",\"offsetgroup\":\"\\ud604\\ub300\\ucc28\",\"orientation\":\"v\",\"showlegend\":true,\"textposition\":\"auto\",\"type\":\"bar\",\"x\":[\"\\ud604\\ub300\\ucc28\"],\"xaxis\":\"x\",\"y\":[209000],\"yaxis\":\"y\"},{\"alignmentgroup\":\"True\",\"hovertemplate\":\"\\uc885\\ubaa9\\uba85=%{x}<br>\\ub0a0\\uc9dc=2021-09-17<br>\\uc885\\uac00=%{y}<extra></extra>\",\"ids\":[\"\\uc140\\ud2b8\\ub9ac\\uc628\"],\"legendgroup\":\"\\uc140\\ud2b8\\ub9ac\\uc628\",\"marker\":{\"color\":\"#FECB52\",\"pattern\":{\"shape\":\"\"}},\"name\":\"\\uc140\\ud2b8\\ub9ac\\uc628\",\"offsetgroup\":\"\\uc140\\ud2b8\\ub9ac\\uc628\",\"orientation\":\"v\",\"showlegend\":true,\"textposition\":\"auto\",\"type\":\"bar\",\"x\":[\"\\uc140\\ud2b8\\ub9ac\\uc628\"],\"xaxis\":\"x\",\"y\":[275500],\"yaxis\":\"y\"}],\"name\":\"2021-09-17\"},{\"data\":[{\"alignmentgroup\":\"True\",\"hovertemplate\":\"\\uc885\\ubaa9\\uba85=%{x}<br>\\ub0a0\\uc9dc=2021-09-23<br>\\uc885\\uac00=%{y}<extra></extra>\",\"ids\":[\"\\uc0bc\\uc131\\uc804\\uc790\"],\"legendgroup\":\"\\uc0bc\\uc131\\uc804\\uc790\",\"marker\":{\"color\":\"#636efa\",\"pattern\":{\"shape\":\"\"}},\"name\":\"\\uc0bc\\uc131\\uc804\\uc790\",\"offsetgroup\":\"\\uc0bc\\uc131\\uc804\\uc790\",\"orientation\":\"v\",\"showlegend\":true,\"textposition\":\"auto\",\"type\":\"bar\",\"x\":[\"\\uc0bc\\uc131\\uc804\\uc790\"],\"xaxis\":\"x\",\"y\":[77400],\"yaxis\":\"y\"},{\"alignmentgroup\":\"True\",\"hovertemplate\":\"\\uc885\\ubaa9\\uba85=%{x}<br>\\ub0a0\\uc9dc=2021-09-23<br>\\uc885\\uac00=%{y}<extra></extra>\",\"ids\":[\"\\uce74\\uce74\\uc624\"],\"legendgroup\":\"\\uce74\\uce74\\uc624\",\"marker\":{\"color\":\"#EF553B\",\"pattern\":{\"shape\":\"\"}},\"name\":\"\\uce74\\uce74\\uc624\",\"offsetgroup\":\"\\uce74\\uce74\\uc624\",\"orientation\":\"v\",\"showlegend\":true,\"textposition\":\"auto\",\"type\":\"bar\",\"x\":[\"\\uce74\\uce74\\uc624\"],\"xaxis\":\"x\",\"y\":[115000],\"yaxis\":\"y\"},{\"alignmentgroup\":\"True\",\"hovertemplate\":\"\\uc885\\ubaa9\\uba85=%{x}<br>\\ub0a0\\uc9dc=2021-09-23<br>\\uc885\\uac00=%{y}<extra></extra>\",\"ids\":[\"sk\\ud558\\uc774\\ub2c9\\uc2a4\"],\"legendgroup\":\"sk\\ud558\\uc774\\ub2c9\\uc2a4\",\"marker\":{\"color\":\"#00cc96\",\"pattern\":{\"shape\":\"\"}},\"name\":\"sk\\ud558\\uc774\\ub2c9\\uc2a4\",\"offsetgroup\":\"sk\\ud558\\uc774\\ub2c9\\uc2a4\",\"orientation\":\"v\",\"showlegend\":true,\"textposition\":\"auto\",\"type\":\"bar\",\"x\":[\"sk\\ud558\\uc774\\ub2c9\\uc2a4\"],\"xaxis\":\"x\",\"y\":[105500],\"yaxis\":\"y\"},{\"alignmentgroup\":\"True\",\"hovertemplate\":\"\\uc885\\ubaa9\\uba85=%{x}<br>\\ub0a0\\uc9dc=2021-09-23<br>\\uc885\\uac00=%{y}<extra></extra>\",\"ids\":[\"NAVER\"],\"legendgroup\":\"NAVER\",\"marker\":{\"color\":\"#ab63fa\",\"pattern\":{\"shape\":\"\"}},\"name\":\"NAVER\",\"offsetgroup\":\"NAVER\",\"orientation\":\"v\",\"showlegend\":true,\"textposition\":\"auto\",\"type\":\"bar\",\"x\":[\"NAVER\"],\"xaxis\":\"x\",\"y\":[400000],\"yaxis\":\"y\"},{\"alignmentgroup\":\"True\",\"hovertemplate\":\"\\uc885\\ubaa9\\uba85=%{x}<br>\\ub0a0\\uc9dc=2021-09-23<br>\\uc885\\uac00=%{y}<extra></extra>\",\"ids\":[\"\\uc0bc\\uc131\\ubc14\\uc774\\uc624\\ub85c\\uc9c1\\uc2a4\"],\"legendgroup\":\"\\uc0bc\\uc131\\ubc14\\uc774\\uc624\\ub85c\\uc9c1\\uc2a4\",\"marker\":{\"color\":\"#FFA15A\",\"pattern\":{\"shape\":\"\"}},\"name\":\"\\uc0bc\\uc131\\ubc14\\uc774\\uc624\\ub85c\\uc9c1\\uc2a4\",\"offsetgroup\":\"\\uc0bc\\uc131\\ubc14\\uc774\\uc624\\ub85c\\uc9c1\\uc2a4\",\"orientation\":\"v\",\"showlegend\":true,\"textposition\":\"auto\",\"type\":\"bar\",\"x\":[\"\\uc0bc\\uc131\\ubc14\\uc774\\uc624\\ub85c\\uc9c1\\uc2a4\"],\"xaxis\":\"x\",\"y\":[920000],\"yaxis\":\"y\"},{\"alignmentgroup\":\"True\",\"hovertemplate\":\"\\uc885\\ubaa9\\uba85=%{x}<br>\\ub0a0\\uc9dc=2021-09-23<br>\\uc885\\uac00=%{y}<extra></extra>\",\"ids\":[\"\\uc0bc\\uc131\\uc804\\uc790\\uc6b0\"],\"legendgroup\":\"\\uc0bc\\uc131\\uc804\\uc790\\uc6b0\",\"marker\":{\"color\":\"#19d3f3\",\"pattern\":{\"shape\":\"\"}},\"name\":\"\\uc0bc\\uc131\\uc804\\uc790\\uc6b0\",\"offsetgroup\":\"\\uc0bc\\uc131\\uc804\\uc790\\uc6b0\",\"orientation\":\"v\",\"showlegend\":true,\"textposition\":\"auto\",\"type\":\"bar\",\"x\":[\"\\uc0bc\\uc131\\uc804\\uc790\\uc6b0\"],\"xaxis\":\"x\",\"y\":[71800],\"yaxis\":\"y\"},{\"alignmentgroup\":\"True\",\"hovertemplate\":\"\\uc885\\ubaa9\\uba85=%{x}<br>\\ub0a0\\uc9dc=2021-09-23<br>\\uc885\\uac00=%{y}<extra></extra>\",\"ids\":[\"LG\\ud654\\ud559\"],\"legendgroup\":\"LG\\ud654\\ud559\",\"marker\":{\"color\":\"#FF6692\",\"pattern\":{\"shape\":\"\"}},\"name\":\"LG\\ud654\\ud559\",\"offsetgroup\":\"LG\\ud654\\ud559\",\"orientation\":\"v\",\"showlegend\":true,\"textposition\":\"auto\",\"type\":\"bar\",\"x\":[\"LG\\ud654\\ud559\"],\"xaxis\":\"x\",\"y\":[760000],\"yaxis\":\"y\"},{\"alignmentgroup\":\"True\",\"hovertemplate\":\"\\uc885\\ubaa9\\uba85=%{x}<br>\\ub0a0\\uc9dc=2021-09-23<br>\\uc885\\uac00=%{y}<extra></extra>\",\"ids\":[\"\\uc0bc\\uc131SDI\"],\"legendgroup\":\"\\uc0bc\\uc131SDI\",\"marker\":{\"color\":\"#B6E880\",\"pattern\":{\"shape\":\"\"}},\"name\":\"\\uc0bc\\uc131SDI\",\"offsetgroup\":\"\\uc0bc\\uc131SDI\",\"orientation\":\"v\",\"showlegend\":true,\"textposition\":\"auto\",\"type\":\"bar\",\"x\":[\"\\uc0bc\\uc131SDI\"],\"xaxis\":\"x\",\"y\":[731000],\"yaxis\":\"y\"},{\"alignmentgroup\":\"True\",\"hovertemplate\":\"\\uc885\\ubaa9\\uba85=%{x}<br>\\ub0a0\\uc9dc=2021-09-23<br>\\uc885\\uac00=%{y}<extra></extra>\",\"ids\":[\"\\ud604\\ub300\\ucc28\"],\"legendgroup\":\"\\ud604\\ub300\\ucc28\",\"marker\":{\"color\":\"#FF97FF\",\"pattern\":{\"shape\":\"\"}},\"name\":\"\\ud604\\ub300\\ucc28\",\"offsetgroup\":\"\\ud604\\ub300\\ucc28\",\"orientation\":\"v\",\"showlegend\":true,\"textposition\":\"auto\",\"type\":\"bar\",\"x\":[\"\\ud604\\ub300\\ucc28\"],\"xaxis\":\"x\",\"y\":[208500],\"yaxis\":\"y\"},{\"alignmentgroup\":\"True\",\"hovertemplate\":\"\\uc885\\ubaa9\\uba85=%{x}<br>\\ub0a0\\uc9dc=2021-09-23<br>\\uc885\\uac00=%{y}<extra></extra>\",\"ids\":[\"\\uc140\\ud2b8\\ub9ac\\uc628\"],\"legendgroup\":\"\\uc140\\ud2b8\\ub9ac\\uc628\",\"marker\":{\"color\":\"#FECB52\",\"pattern\":{\"shape\":\"\"}},\"name\":\"\\uc140\\ud2b8\\ub9ac\\uc628\",\"offsetgroup\":\"\\uc140\\ud2b8\\ub9ac\\uc628\",\"orientation\":\"v\",\"showlegend\":true,\"textposition\":\"auto\",\"type\":\"bar\",\"x\":[\"\\uc140\\ud2b8\\ub9ac\\uc628\"],\"xaxis\":\"x\",\"y\":[284500],\"yaxis\":\"y\"}],\"name\":\"2021-09-23\"},{\"data\":[{\"alignmentgroup\":\"True\",\"hovertemplate\":\"\\uc885\\ubaa9\\uba85=%{x}<br>\\ub0a0\\uc9dc=2021-09-24<br>\\uc885\\uac00=%{y}<extra></extra>\",\"ids\":[\"\\uc0bc\\uc131\\uc804\\uc790\"],\"legendgroup\":\"\\uc0bc\\uc131\\uc804\\uc790\",\"marker\":{\"color\":\"#636efa\",\"pattern\":{\"shape\":\"\"}},\"name\":\"\\uc0bc\\uc131\\uc804\\uc790\",\"offsetgroup\":\"\\uc0bc\\uc131\\uc804\\uc790\",\"orientation\":\"v\",\"showlegend\":true,\"textposition\":\"auto\",\"type\":\"bar\",\"x\":[\"\\uc0bc\\uc131\\uc804\\uc790\"],\"xaxis\":\"x\",\"y\":[77300],\"yaxis\":\"y\"},{\"alignmentgroup\":\"True\",\"hovertemplate\":\"\\uc885\\ubaa9\\uba85=%{x}<br>\\ub0a0\\uc9dc=2021-09-24<br>\\uc885\\uac00=%{y}<extra></extra>\",\"ids\":[\"\\uce74\\uce74\\uc624\"],\"legendgroup\":\"\\uce74\\uce74\\uc624\",\"marker\":{\"color\":\"#EF553B\",\"pattern\":{\"shape\":\"\"}},\"name\":\"\\uce74\\uce74\\uc624\",\"offsetgroup\":\"\\uce74\\uce74\\uc624\",\"orientation\":\"v\",\"showlegend\":true,\"textposition\":\"auto\",\"type\":\"bar\",\"x\":[\"\\uce74\\uce74\\uc624\"],\"xaxis\":\"x\",\"y\":[119500],\"yaxis\":\"y\"},{\"alignmentgroup\":\"True\",\"hovertemplate\":\"\\uc885\\ubaa9\\uba85=%{x}<br>\\ub0a0\\uc9dc=2021-09-24<br>\\uc885\\uac00=%{y}<extra></extra>\",\"ids\":[\"sk\\ud558\\uc774\\ub2c9\\uc2a4\"],\"legendgroup\":\"sk\\ud558\\uc774\\ub2c9\\uc2a4\",\"marker\":{\"color\":\"#00cc96\",\"pattern\":{\"shape\":\"\"}},\"name\":\"sk\\ud558\\uc774\\ub2c9\\uc2a4\",\"offsetgroup\":\"sk\\ud558\\uc774\\ub2c9\\uc2a4\",\"orientation\":\"v\",\"showlegend\":true,\"textposition\":\"auto\",\"type\":\"bar\",\"x\":[\"sk\\ud558\\uc774\\ub2c9\\uc2a4\"],\"xaxis\":\"x\",\"y\":[104000],\"yaxis\":\"y\"},{\"alignmentgroup\":\"True\",\"hovertemplate\":\"\\uc885\\ubaa9\\uba85=%{x}<br>\\ub0a0\\uc9dc=2021-09-24<br>\\uc885\\uac00=%{y}<extra></extra>\",\"ids\":[\"NAVER\"],\"legendgroup\":\"NAVER\",\"marker\":{\"color\":\"#ab63fa\",\"pattern\":{\"shape\":\"\"}},\"name\":\"NAVER\",\"offsetgroup\":\"NAVER\",\"orientation\":\"v\",\"showlegend\":true,\"textposition\":\"auto\",\"type\":\"bar\",\"x\":[\"NAVER\"],\"xaxis\":\"x\",\"y\":[405500],\"yaxis\":\"y\"},{\"alignmentgroup\":\"True\",\"hovertemplate\":\"\\uc885\\ubaa9\\uba85=%{x}<br>\\ub0a0\\uc9dc=2021-09-24<br>\\uc885\\uac00=%{y}<extra></extra>\",\"ids\":[\"\\uc0bc\\uc131\\ubc14\\uc774\\uc624\\ub85c\\uc9c1\\uc2a4\"],\"legendgroup\":\"\\uc0bc\\uc131\\ubc14\\uc774\\uc624\\ub85c\\uc9c1\\uc2a4\",\"marker\":{\"color\":\"#FFA15A\",\"pattern\":{\"shape\":\"\"}},\"name\":\"\\uc0bc\\uc131\\ubc14\\uc774\\uc624\\ub85c\\uc9c1\\uc2a4\",\"offsetgroup\":\"\\uc0bc\\uc131\\ubc14\\uc774\\uc624\\ub85c\\uc9c1\\uc2a4\",\"orientation\":\"v\",\"showlegend\":true,\"textposition\":\"auto\",\"type\":\"bar\",\"x\":[\"\\uc0bc\\uc131\\ubc14\\uc774\\uc624\\ub85c\\uc9c1\\uc2a4\"],\"xaxis\":\"x\",\"y\":[922000],\"yaxis\":\"y\"},{\"alignmentgroup\":\"True\",\"hovertemplate\":\"\\uc885\\ubaa9\\uba85=%{x}<br>\\ub0a0\\uc9dc=2021-09-24<br>\\uc885\\uac00=%{y}<extra></extra>\",\"ids\":[\"\\uc0bc\\uc131\\uc804\\uc790\\uc6b0\"],\"legendgroup\":\"\\uc0bc\\uc131\\uc804\\uc790\\uc6b0\",\"marker\":{\"color\":\"#19d3f3\",\"pattern\":{\"shape\":\"\"}},\"name\":\"\\uc0bc\\uc131\\uc804\\uc790\\uc6b0\",\"offsetgroup\":\"\\uc0bc\\uc131\\uc804\\uc790\\uc6b0\",\"orientation\":\"v\",\"showlegend\":true,\"textposition\":\"auto\",\"type\":\"bar\",\"x\":[\"\\uc0bc\\uc131\\uc804\\uc790\\uc6b0\"],\"xaxis\":\"x\",\"y\":[71700],\"yaxis\":\"y\"},{\"alignmentgroup\":\"True\",\"hovertemplate\":\"\\uc885\\ubaa9\\uba85=%{x}<br>\\ub0a0\\uc9dc=2021-09-24<br>\\uc885\\uac00=%{y}<extra></extra>\",\"ids\":[\"LG\\ud654\\ud559\"],\"legendgroup\":\"LG\\ud654\\ud559\",\"marker\":{\"color\":\"#FF6692\",\"pattern\":{\"shape\":\"\"}},\"name\":\"LG\\ud654\\ud559\",\"offsetgroup\":\"LG\\ud654\\ud559\",\"orientation\":\"v\",\"showlegend\":true,\"textposition\":\"auto\",\"type\":\"bar\",\"x\":[\"LG\\ud654\\ud559\"],\"xaxis\":\"x\",\"y\":[761000],\"yaxis\":\"y\"},{\"alignmentgroup\":\"True\",\"hovertemplate\":\"\\uc885\\ubaa9\\uba85=%{x}<br>\\ub0a0\\uc9dc=2021-09-24<br>\\uc885\\uac00=%{y}<extra></extra>\",\"ids\":[\"\\uc0bc\\uc131SDI\"],\"legendgroup\":\"\\uc0bc\\uc131SDI\",\"marker\":{\"color\":\"#B6E880\",\"pattern\":{\"shape\":\"\"}},\"name\":\"\\uc0bc\\uc131SDI\",\"offsetgroup\":\"\\uc0bc\\uc131SDI\",\"orientation\":\"v\",\"showlegend\":true,\"textposition\":\"auto\",\"type\":\"bar\",\"x\":[\"\\uc0bc\\uc131SDI\"],\"xaxis\":\"x\",\"y\":[726000],\"yaxis\":\"y\"},{\"alignmentgroup\":\"True\",\"hovertemplate\":\"\\uc885\\ubaa9\\uba85=%{x}<br>\\ub0a0\\uc9dc=2021-09-24<br>\\uc885\\uac00=%{y}<extra></extra>\",\"ids\":[\"\\ud604\\ub300\\ucc28\"],\"legendgroup\":\"\\ud604\\ub300\\ucc28\",\"marker\":{\"color\":\"#FF97FF\",\"pattern\":{\"shape\":\"\"}},\"name\":\"\\ud604\\ub300\\ucc28\",\"offsetgroup\":\"\\ud604\\ub300\\ucc28\",\"orientation\":\"v\",\"showlegend\":true,\"textposition\":\"auto\",\"type\":\"bar\",\"x\":[\"\\ud604\\ub300\\ucc28\"],\"xaxis\":\"x\",\"y\":[207000],\"yaxis\":\"y\"},{\"alignmentgroup\":\"True\",\"hovertemplate\":\"\\uc885\\ubaa9\\uba85=%{x}<br>\\ub0a0\\uc9dc=2021-09-24<br>\\uc885\\uac00=%{y}<extra></extra>\",\"ids\":[\"\\uc140\\ud2b8\\ub9ac\\uc628\"],\"legendgroup\":\"\\uc140\\ud2b8\\ub9ac\\uc628\",\"marker\":{\"color\":\"#FECB52\",\"pattern\":{\"shape\":\"\"}},\"name\":\"\\uc140\\ud2b8\\ub9ac\\uc628\",\"offsetgroup\":\"\\uc140\\ud2b8\\ub9ac\\uc628\",\"orientation\":\"v\",\"showlegend\":true,\"textposition\":\"auto\",\"type\":\"bar\",\"x\":[\"\\uc140\\ud2b8\\ub9ac\\uc628\"],\"xaxis\":\"x\",\"y\":[274500],\"yaxis\":\"y\"}],\"name\":\"2021-09-24\"},{\"data\":[{\"alignmentgroup\":\"True\",\"hovertemplate\":\"\\uc885\\ubaa9\\uba85=%{x}<br>\\ub0a0\\uc9dc=2021-09-27<br>\\uc885\\uac00=%{y}<extra></extra>\",\"ids\":[\"\\uc0bc\\uc131\\uc804\\uc790\"],\"legendgroup\":\"\\uc0bc\\uc131\\uc804\\uc790\",\"marker\":{\"color\":\"#636efa\",\"pattern\":{\"shape\":\"\"}},\"name\":\"\\uc0bc\\uc131\\uc804\\uc790\",\"offsetgroup\":\"\\uc0bc\\uc131\\uc804\\uc790\",\"orientation\":\"v\",\"showlegend\":true,\"textposition\":\"auto\",\"type\":\"bar\",\"x\":[\"\\uc0bc\\uc131\\uc804\\uc790\"],\"xaxis\":\"x\",\"y\":[77700],\"yaxis\":\"y\"},{\"alignmentgroup\":\"True\",\"hovertemplate\":\"\\uc885\\ubaa9\\uba85=%{x}<br>\\ub0a0\\uc9dc=2021-09-27<br>\\uc885\\uac00=%{y}<extra></extra>\",\"ids\":[\"\\uce74\\uce74\\uc624\"],\"legendgroup\":\"\\uce74\\uce74\\uc624\",\"marker\":{\"color\":\"#EF553B\",\"pattern\":{\"shape\":\"\"}},\"name\":\"\\uce74\\uce74\\uc624\",\"offsetgroup\":\"\\uce74\\uce74\\uc624\",\"orientation\":\"v\",\"showlegend\":true,\"textposition\":\"auto\",\"type\":\"bar\",\"x\":[\"\\uce74\\uce74\\uc624\"],\"xaxis\":\"x\",\"y\":[120000],\"yaxis\":\"y\"},{\"alignmentgroup\":\"True\",\"hovertemplate\":\"\\uc885\\ubaa9\\uba85=%{x}<br>\\ub0a0\\uc9dc=2021-09-27<br>\\uc885\\uac00=%{y}<extra></extra>\",\"ids\":[\"sk\\ud558\\uc774\\ub2c9\\uc2a4\"],\"legendgroup\":\"sk\\ud558\\uc774\\ub2c9\\uc2a4\",\"marker\":{\"color\":\"#00cc96\",\"pattern\":{\"shape\":\"\"}},\"name\":\"sk\\ud558\\uc774\\ub2c9\\uc2a4\",\"offsetgroup\":\"sk\\ud558\\uc774\\ub2c9\\uc2a4\",\"orientation\":\"v\",\"showlegend\":true,\"textposition\":\"auto\",\"type\":\"bar\",\"x\":[\"sk\\ud558\\uc774\\ub2c9\\uc2a4\"],\"xaxis\":\"x\",\"y\":[104500],\"yaxis\":\"y\"},{\"alignmentgroup\":\"True\",\"hovertemplate\":\"\\uc885\\ubaa9\\uba85=%{x}<br>\\ub0a0\\uc9dc=2021-09-27<br>\\uc885\\uac00=%{y}<extra></extra>\",\"ids\":[\"NAVER\"],\"legendgroup\":\"NAVER\",\"marker\":{\"color\":\"#ab63fa\",\"pattern\":{\"shape\":\"\"}},\"name\":\"NAVER\",\"offsetgroup\":\"NAVER\",\"orientation\":\"v\",\"showlegend\":true,\"textposition\":\"auto\",\"type\":\"bar\",\"x\":[\"NAVER\"],\"xaxis\":\"x\",\"y\":[403000],\"yaxis\":\"y\"},{\"alignmentgroup\":\"True\",\"hovertemplate\":\"\\uc885\\ubaa9\\uba85=%{x}<br>\\ub0a0\\uc9dc=2021-09-27<br>\\uc885\\uac00=%{y}<extra></extra>\",\"ids\":[\"\\uc0bc\\uc131\\ubc14\\uc774\\uc624\\ub85c\\uc9c1\\uc2a4\"],\"legendgroup\":\"\\uc0bc\\uc131\\ubc14\\uc774\\uc624\\ub85c\\uc9c1\\uc2a4\",\"marker\":{\"color\":\"#FFA15A\",\"pattern\":{\"shape\":\"\"}},\"name\":\"\\uc0bc\\uc131\\ubc14\\uc774\\uc624\\ub85c\\uc9c1\\uc2a4\",\"offsetgroup\":\"\\uc0bc\\uc131\\ubc14\\uc774\\uc624\\ub85c\\uc9c1\\uc2a4\",\"orientation\":\"v\",\"showlegend\":true,\"textposition\":\"auto\",\"type\":\"bar\",\"x\":[\"\\uc0bc\\uc131\\ubc14\\uc774\\uc624\\ub85c\\uc9c1\\uc2a4\"],\"xaxis\":\"x\",\"y\":[920000],\"yaxis\":\"y\"},{\"alignmentgroup\":\"True\",\"hovertemplate\":\"\\uc885\\ubaa9\\uba85=%{x}<br>\\ub0a0\\uc9dc=2021-09-27<br>\\uc885\\uac00=%{y}<extra></extra>\",\"ids\":[\"\\uc0bc\\uc131\\uc804\\uc790\\uc6b0\"],\"legendgroup\":\"\\uc0bc\\uc131\\uc804\\uc790\\uc6b0\",\"marker\":{\"color\":\"#19d3f3\",\"pattern\":{\"shape\":\"\"}},\"name\":\"\\uc0bc\\uc131\\uc804\\uc790\\uc6b0\",\"offsetgroup\":\"\\uc0bc\\uc131\\uc804\\uc790\\uc6b0\",\"orientation\":\"v\",\"showlegend\":true,\"textposition\":\"auto\",\"type\":\"bar\",\"x\":[\"\\uc0bc\\uc131\\uc804\\uc790\\uc6b0\"],\"xaxis\":\"x\",\"y\":[72000],\"yaxis\":\"y\"},{\"alignmentgroup\":\"True\",\"hovertemplate\":\"\\uc885\\ubaa9\\uba85=%{x}<br>\\ub0a0\\uc9dc=2021-09-27<br>\\uc885\\uac00=%{y}<extra></extra>\",\"ids\":[\"LG\\ud654\\ud559\"],\"legendgroup\":\"LG\\ud654\\ud559\",\"marker\":{\"color\":\"#FF6692\",\"pattern\":{\"shape\":\"\"}},\"name\":\"LG\\ud654\\ud559\",\"offsetgroup\":\"LG\\ud654\\ud559\",\"orientation\":\"v\",\"showlegend\":true,\"textposition\":\"auto\",\"type\":\"bar\",\"x\":[\"LG\\ud654\\ud559\"],\"xaxis\":\"x\",\"y\":[770000],\"yaxis\":\"y\"},{\"alignmentgroup\":\"True\",\"hovertemplate\":\"\\uc885\\ubaa9\\uba85=%{x}<br>\\ub0a0\\uc9dc=2021-09-27<br>\\uc885\\uac00=%{y}<extra></extra>\",\"ids\":[\"\\uc0bc\\uc131SDI\"],\"legendgroup\":\"\\uc0bc\\uc131SDI\",\"marker\":{\"color\":\"#B6E880\",\"pattern\":{\"shape\":\"\"}},\"name\":\"\\uc0bc\\uc131SDI\",\"offsetgroup\":\"\\uc0bc\\uc131SDI\",\"orientation\":\"v\",\"showlegend\":true,\"textposition\":\"auto\",\"type\":\"bar\",\"x\":[\"\\uc0bc\\uc131SDI\"],\"xaxis\":\"x\",\"y\":[735000],\"yaxis\":\"y\"},{\"alignmentgroup\":\"True\",\"hovertemplate\":\"\\uc885\\ubaa9\\uba85=%{x}<br>\\ub0a0\\uc9dc=2021-09-27<br>\\uc885\\uac00=%{y}<extra></extra>\",\"ids\":[\"\\ud604\\ub300\\ucc28\"],\"legendgroup\":\"\\ud604\\ub300\\ucc28\",\"marker\":{\"color\":\"#FF97FF\",\"pattern\":{\"shape\":\"\"}},\"name\":\"\\ud604\\ub300\\ucc28\",\"offsetgroup\":\"\\ud604\\ub300\\ucc28\",\"orientation\":\"v\",\"showlegend\":true,\"textposition\":\"auto\",\"type\":\"bar\",\"x\":[\"\\ud604\\ub300\\ucc28\"],\"xaxis\":\"x\",\"y\":[204000],\"yaxis\":\"y\"},{\"alignmentgroup\":\"True\",\"hovertemplate\":\"\\uc885\\ubaa9\\uba85=%{x}<br>\\ub0a0\\uc9dc=2021-09-27<br>\\uc885\\uac00=%{y}<extra></extra>\",\"ids\":[\"\\uc140\\ud2b8\\ub9ac\\uc628\"],\"legendgroup\":\"\\uc140\\ud2b8\\ub9ac\\uc628\",\"marker\":{\"color\":\"#FECB52\",\"pattern\":{\"shape\":\"\"}},\"name\":\"\\uc140\\ud2b8\\ub9ac\\uc628\",\"offsetgroup\":\"\\uc140\\ud2b8\\ub9ac\\uc628\",\"orientation\":\"v\",\"showlegend\":true,\"textposition\":\"auto\",\"type\":\"bar\",\"x\":[\"\\uc140\\ud2b8\\ub9ac\\uc628\"],\"xaxis\":\"x\",\"y\":[267500],\"yaxis\":\"y\"}],\"name\":\"2021-09-27\"},{\"data\":[{\"alignmentgroup\":\"True\",\"hovertemplate\":\"\\uc885\\ubaa9\\uba85=%{x}<br>\\ub0a0\\uc9dc=2021-09-28<br>\\uc885\\uac00=%{y}<extra></extra>\",\"ids\":[\"\\uc0bc\\uc131\\uc804\\uc790\"],\"legendgroup\":\"\\uc0bc\\uc131\\uc804\\uc790\",\"marker\":{\"color\":\"#636efa\",\"pattern\":{\"shape\":\"\"}},\"name\":\"\\uc0bc\\uc131\\uc804\\uc790\",\"offsetgroup\":\"\\uc0bc\\uc131\\uc804\\uc790\",\"orientation\":\"v\",\"showlegend\":true,\"textposition\":\"auto\",\"type\":\"bar\",\"x\":[\"\\uc0bc\\uc131\\uc804\\uc790\"],\"xaxis\":\"x\",\"y\":[76300],\"yaxis\":\"y\"},{\"alignmentgroup\":\"True\",\"hovertemplate\":\"\\uc885\\ubaa9\\uba85=%{x}<br>\\ub0a0\\uc9dc=2021-09-28<br>\\uc885\\uac00=%{y}<extra></extra>\",\"ids\":[\"\\uce74\\uce74\\uc624\"],\"legendgroup\":\"\\uce74\\uce74\\uc624\",\"marker\":{\"color\":\"#EF553B\",\"pattern\":{\"shape\":\"\"}},\"name\":\"\\uce74\\uce74\\uc624\",\"offsetgroup\":\"\\uce74\\uce74\\uc624\",\"orientation\":\"v\",\"showlegend\":true,\"textposition\":\"auto\",\"type\":\"bar\",\"x\":[\"\\uce74\\uce74\\uc624\"],\"xaxis\":\"x\",\"y\":[117500],\"yaxis\":\"y\"},{\"alignmentgroup\":\"True\",\"hovertemplate\":\"\\uc885\\ubaa9\\uba85=%{x}<br>\\ub0a0\\uc9dc=2021-09-28<br>\\uc885\\uac00=%{y}<extra></extra>\",\"ids\":[\"sk\\ud558\\uc774\\ub2c9\\uc2a4\"],\"legendgroup\":\"sk\\ud558\\uc774\\ub2c9\\uc2a4\",\"marker\":{\"color\":\"#00cc96\",\"pattern\":{\"shape\":\"\"}},\"name\":\"sk\\ud558\\uc774\\ub2c9\\uc2a4\",\"offsetgroup\":\"sk\\ud558\\uc774\\ub2c9\\uc2a4\",\"orientation\":\"v\",\"showlegend\":true,\"textposition\":\"auto\",\"type\":\"bar\",\"x\":[\"sk\\ud558\\uc774\\ub2c9\\uc2a4\"],\"xaxis\":\"x\",\"y\":[103500],\"yaxis\":\"y\"},{\"alignmentgroup\":\"True\",\"hovertemplate\":\"\\uc885\\ubaa9\\uba85=%{x}<br>\\ub0a0\\uc9dc=2021-09-28<br>\\uc885\\uac00=%{y}<extra></extra>\",\"ids\":[\"NAVER\"],\"legendgroup\":\"NAVER\",\"marker\":{\"color\":\"#ab63fa\",\"pattern\":{\"shape\":\"\"}},\"name\":\"NAVER\",\"offsetgroup\":\"NAVER\",\"orientation\":\"v\",\"showlegend\":true,\"textposition\":\"auto\",\"type\":\"bar\",\"x\":[\"NAVER\"],\"xaxis\":\"x\",\"y\":[392500],\"yaxis\":\"y\"},{\"alignmentgroup\":\"True\",\"hovertemplate\":\"\\uc885\\ubaa9\\uba85=%{x}<br>\\ub0a0\\uc9dc=2021-09-28<br>\\uc885\\uac00=%{y}<extra></extra>\",\"ids\":[\"\\uc0bc\\uc131\\ubc14\\uc774\\uc624\\ub85c\\uc9c1\\uc2a4\"],\"legendgroup\":\"\\uc0bc\\uc131\\ubc14\\uc774\\uc624\\ub85c\\uc9c1\\uc2a4\",\"marker\":{\"color\":\"#FFA15A\",\"pattern\":{\"shape\":\"\"}},\"name\":\"\\uc0bc\\uc131\\ubc14\\uc774\\uc624\\ub85c\\uc9c1\\uc2a4\",\"offsetgroup\":\"\\uc0bc\\uc131\\ubc14\\uc774\\uc624\\ub85c\\uc9c1\\uc2a4\",\"orientation\":\"v\",\"showlegend\":true,\"textposition\":\"auto\",\"type\":\"bar\",\"x\":[\"\\uc0bc\\uc131\\ubc14\\uc774\\uc624\\ub85c\\uc9c1\\uc2a4\"],\"xaxis\":\"x\",\"y\":[871000],\"yaxis\":\"y\"},{\"alignmentgroup\":\"True\",\"hovertemplate\":\"\\uc885\\ubaa9\\uba85=%{x}<br>\\ub0a0\\uc9dc=2021-09-28<br>\\uc885\\uac00=%{y}<extra></extra>\",\"ids\":[\"\\uc0bc\\uc131\\uc804\\uc790\\uc6b0\"],\"legendgroup\":\"\\uc0bc\\uc131\\uc804\\uc790\\uc6b0\",\"marker\":{\"color\":\"#19d3f3\",\"pattern\":{\"shape\":\"\"}},\"name\":\"\\uc0bc\\uc131\\uc804\\uc790\\uc6b0\",\"offsetgroup\":\"\\uc0bc\\uc131\\uc804\\uc790\\uc6b0\",\"orientation\":\"v\",\"showlegend\":true,\"textposition\":\"auto\",\"type\":\"bar\",\"x\":[\"\\uc0bc\\uc131\\uc804\\uc790\\uc6b0\"],\"xaxis\":\"x\",\"y\":[71600],\"yaxis\":\"y\"},{\"alignmentgroup\":\"True\",\"hovertemplate\":\"\\uc885\\ubaa9\\uba85=%{x}<br>\\ub0a0\\uc9dc=2021-09-28<br>\\uc885\\uac00=%{y}<extra></extra>\",\"ids\":[\"LG\\ud654\\ud559\"],\"legendgroup\":\"LG\\ud654\\ud559\",\"marker\":{\"color\":\"#FF6692\",\"pattern\":{\"shape\":\"\"}},\"name\":\"LG\\ud654\\ud559\",\"offsetgroup\":\"LG\\ud654\\ud559\",\"orientation\":\"v\",\"showlegend\":true,\"textposition\":\"auto\",\"type\":\"bar\",\"x\":[\"LG\\ud654\\ud559\"],\"xaxis\":\"x\",\"y\":[776000],\"yaxis\":\"y\"},{\"alignmentgroup\":\"True\",\"hovertemplate\":\"\\uc885\\ubaa9\\uba85=%{x}<br>\\ub0a0\\uc9dc=2021-09-28<br>\\uc885\\uac00=%{y}<extra></extra>\",\"ids\":[\"\\uc0bc\\uc131SDI\"],\"legendgroup\":\"\\uc0bc\\uc131SDI\",\"marker\":{\"color\":\"#B6E880\",\"pattern\":{\"shape\":\"\"}},\"name\":\"\\uc0bc\\uc131SDI\",\"offsetgroup\":\"\\uc0bc\\uc131SDI\",\"orientation\":\"v\",\"showlegend\":true,\"textposition\":\"auto\",\"type\":\"bar\",\"x\":[\"\\uc0bc\\uc131SDI\"],\"xaxis\":\"x\",\"y\":[715000],\"yaxis\":\"y\"},{\"alignmentgroup\":\"True\",\"hovertemplate\":\"\\uc885\\ubaa9\\uba85=%{x}<br>\\ub0a0\\uc9dc=2021-09-28<br>\\uc885\\uac00=%{y}<extra></extra>\",\"ids\":[\"\\ud604\\ub300\\ucc28\"],\"legendgroup\":\"\\ud604\\ub300\\ucc28\",\"marker\":{\"color\":\"#FF97FF\",\"pattern\":{\"shape\":\"\"}},\"name\":\"\\ud604\\ub300\\ucc28\",\"offsetgroup\":\"\\ud604\\ub300\\ucc28\",\"orientation\":\"v\",\"showlegend\":true,\"textposition\":\"auto\",\"type\":\"bar\",\"x\":[\"\\ud604\\ub300\\ucc28\"],\"xaxis\":\"x\",\"y\":[201500],\"yaxis\":\"y\"},{\"alignmentgroup\":\"True\",\"hovertemplate\":\"\\uc885\\ubaa9\\uba85=%{x}<br>\\ub0a0\\uc9dc=2021-09-28<br>\\uc885\\uac00=%{y}<extra></extra>\",\"ids\":[\"\\uc140\\ud2b8\\ub9ac\\uc628\"],\"legendgroup\":\"\\uc140\\ud2b8\\ub9ac\\uc628\",\"marker\":{\"color\":\"#FECB52\",\"pattern\":{\"shape\":\"\"}},\"name\":\"\\uc140\\ud2b8\\ub9ac\\uc628\",\"offsetgroup\":\"\\uc140\\ud2b8\\ub9ac\\uc628\",\"orientation\":\"v\",\"showlegend\":true,\"textposition\":\"auto\",\"type\":\"bar\",\"x\":[\"\\uc140\\ud2b8\\ub9ac\\uc628\"],\"xaxis\":\"x\",\"y\":[263500],\"yaxis\":\"y\"}],\"name\":\"2021-09-28\"},{\"data\":[{\"alignmentgroup\":\"True\",\"hovertemplate\":\"\\uc885\\ubaa9\\uba85=%{x}<br>\\ub0a0\\uc9dc=2021-09-29<br>\\uc885\\uac00=%{y}<extra></extra>\",\"ids\":[\"\\uc0bc\\uc131\\uc804\\uc790\"],\"legendgroup\":\"\\uc0bc\\uc131\\uc804\\uc790\",\"marker\":{\"color\":\"#636efa\",\"pattern\":{\"shape\":\"\"}},\"name\":\"\\uc0bc\\uc131\\uc804\\uc790\",\"offsetgroup\":\"\\uc0bc\\uc131\\uc804\\uc790\",\"orientation\":\"v\",\"showlegend\":true,\"textposition\":\"auto\",\"type\":\"bar\",\"x\":[\"\\uc0bc\\uc131\\uc804\\uc790\"],\"xaxis\":\"x\",\"y\":[74100],\"yaxis\":\"y\"},{\"alignmentgroup\":\"True\",\"hovertemplate\":\"\\uc885\\ubaa9\\uba85=%{x}<br>\\ub0a0\\uc9dc=2021-09-29<br>\\uc885\\uac00=%{y}<extra></extra>\",\"ids\":[\"\\uce74\\uce74\\uc624\"],\"legendgroup\":\"\\uce74\\uce74\\uc624\",\"marker\":{\"color\":\"#EF553B\",\"pattern\":{\"shape\":\"\"}},\"name\":\"\\uce74\\uce74\\uc624\",\"offsetgroup\":\"\\uce74\\uce74\\uc624\",\"orientation\":\"v\",\"showlegend\":true,\"textposition\":\"auto\",\"type\":\"bar\",\"x\":[\"\\uce74\\uce74\\uc624\"],\"xaxis\":\"x\",\"y\":[116500],\"yaxis\":\"y\"},{\"alignmentgroup\":\"True\",\"hovertemplate\":\"\\uc885\\ubaa9\\uba85=%{x}<br>\\ub0a0\\uc9dc=2021-09-29<br>\\uc885\\uac00=%{y}<extra></extra>\",\"ids\":[\"sk\\ud558\\uc774\\ub2c9\\uc2a4\"],\"legendgroup\":\"sk\\ud558\\uc774\\ub2c9\\uc2a4\",\"marker\":{\"color\":\"#00cc96\",\"pattern\":{\"shape\":\"\"}},\"name\":\"sk\\ud558\\uc774\\ub2c9\\uc2a4\",\"offsetgroup\":\"sk\\ud558\\uc774\\ub2c9\\uc2a4\",\"orientation\":\"v\",\"showlegend\":true,\"textposition\":\"auto\",\"type\":\"bar\",\"x\":[\"sk\\ud558\\uc774\\ub2c9\\uc2a4\"],\"xaxis\":\"x\",\"y\":[100000],\"yaxis\":\"y\"},{\"alignmentgroup\":\"True\",\"hovertemplate\":\"\\uc885\\ubaa9\\uba85=%{x}<br>\\ub0a0\\uc9dc=2021-09-29<br>\\uc885\\uac00=%{y}<extra></extra>\",\"ids\":[\"NAVER\"],\"legendgroup\":\"NAVER\",\"marker\":{\"color\":\"#ab63fa\",\"pattern\":{\"shape\":\"\"}},\"name\":\"NAVER\",\"offsetgroup\":\"NAVER\",\"orientation\":\"v\",\"showlegend\":true,\"textposition\":\"auto\",\"type\":\"bar\",\"x\":[\"NAVER\"],\"xaxis\":\"x\",\"y\":[387000],\"yaxis\":\"y\"},{\"alignmentgroup\":\"True\",\"hovertemplate\":\"\\uc885\\ubaa9\\uba85=%{x}<br>\\ub0a0\\uc9dc=2021-09-29<br>\\uc885\\uac00=%{y}<extra></extra>\",\"ids\":[\"\\uc0bc\\uc131\\ubc14\\uc774\\uc624\\ub85c\\uc9c1\\uc2a4\"],\"legendgroup\":\"\\uc0bc\\uc131\\ubc14\\uc774\\uc624\\ub85c\\uc9c1\\uc2a4\",\"marker\":{\"color\":\"#FFA15A\",\"pattern\":{\"shape\":\"\"}},\"name\":\"\\uc0bc\\uc131\\ubc14\\uc774\\uc624\\ub85c\\uc9c1\\uc2a4\",\"offsetgroup\":\"\\uc0bc\\uc131\\ubc14\\uc774\\uc624\\ub85c\\uc9c1\\uc2a4\",\"orientation\":\"v\",\"showlegend\":true,\"textposition\":\"auto\",\"type\":\"bar\",\"x\":[\"\\uc0bc\\uc131\\ubc14\\uc774\\uc624\\ub85c\\uc9c1\\uc2a4\"],\"xaxis\":\"x\",\"y\":[874000],\"yaxis\":\"y\"},{\"alignmentgroup\":\"True\",\"hovertemplate\":\"\\uc885\\ubaa9\\uba85=%{x}<br>\\ub0a0\\uc9dc=2021-09-29<br>\\uc885\\uac00=%{y}<extra></extra>\",\"ids\":[\"\\uc0bc\\uc131\\uc804\\uc790\\uc6b0\"],\"legendgroup\":\"\\uc0bc\\uc131\\uc804\\uc790\\uc6b0\",\"marker\":{\"color\":\"#19d3f3\",\"pattern\":{\"shape\":\"\"}},\"name\":\"\\uc0bc\\uc131\\uc804\\uc790\\uc6b0\",\"offsetgroup\":\"\\uc0bc\\uc131\\uc804\\uc790\\uc6b0\",\"orientation\":\"v\",\"showlegend\":true,\"textposition\":\"auto\",\"type\":\"bar\",\"x\":[\"\\uc0bc\\uc131\\uc804\\uc790\\uc6b0\"],\"xaxis\":\"x\",\"y\":[70500],\"yaxis\":\"y\"},{\"alignmentgroup\":\"True\",\"hovertemplate\":\"\\uc885\\ubaa9\\uba85=%{x}<br>\\ub0a0\\uc9dc=2021-09-29<br>\\uc885\\uac00=%{y}<extra></extra>\",\"ids\":[\"LG\\ud654\\ud559\"],\"legendgroup\":\"LG\\ud654\\ud559\",\"marker\":{\"color\":\"#FF6692\",\"pattern\":{\"shape\":\"\"}},\"name\":\"LG\\ud654\\ud559\",\"offsetgroup\":\"LG\\ud654\\ud559\",\"orientation\":\"v\",\"showlegend\":true,\"textposition\":\"auto\",\"type\":\"bar\",\"x\":[\"LG\\ud654\\ud559\"],\"xaxis\":\"x\",\"y\":[767000],\"yaxis\":\"y\"},{\"alignmentgroup\":\"True\",\"hovertemplate\":\"\\uc885\\ubaa9\\uba85=%{x}<br>\\ub0a0\\uc9dc=2021-09-29<br>\\uc885\\uac00=%{y}<extra></extra>\",\"ids\":[\"\\uc0bc\\uc131SDI\"],\"legendgroup\":\"\\uc0bc\\uc131SDI\",\"marker\":{\"color\":\"#B6E880\",\"pattern\":{\"shape\":\"\"}},\"name\":\"\\uc0bc\\uc131SDI\",\"offsetgroup\":\"\\uc0bc\\uc131SDI\",\"orientation\":\"v\",\"showlegend\":true,\"textposition\":\"auto\",\"type\":\"bar\",\"x\":[\"\\uc0bc\\uc131SDI\"],\"xaxis\":\"x\",\"y\":[709000],\"yaxis\":\"y\"},{\"alignmentgroup\":\"True\",\"hovertemplate\":\"\\uc885\\ubaa9\\uba85=%{x}<br>\\ub0a0\\uc9dc=2021-09-29<br>\\uc885\\uac00=%{y}<extra></extra>\",\"ids\":[\"\\ud604\\ub300\\ucc28\"],\"legendgroup\":\"\\ud604\\ub300\\ucc28\",\"marker\":{\"color\":\"#FF97FF\",\"pattern\":{\"shape\":\"\"}},\"name\":\"\\ud604\\ub300\\ucc28\",\"offsetgroup\":\"\\ud604\\ub300\\ucc28\",\"orientation\":\"v\",\"showlegend\":true,\"textposition\":\"auto\",\"type\":\"bar\",\"x\":[\"\\ud604\\ub300\\ucc28\"],\"xaxis\":\"x\",\"y\":[201500],\"yaxis\":\"y\"},{\"alignmentgroup\":\"True\",\"hovertemplate\":\"\\uc885\\ubaa9\\uba85=%{x}<br>\\ub0a0\\uc9dc=2021-09-29<br>\\uc885\\uac00=%{y}<extra></extra>\",\"ids\":[\"\\uc140\\ud2b8\\ub9ac\\uc628\"],\"legendgroup\":\"\\uc140\\ud2b8\\ub9ac\\uc628\",\"marker\":{\"color\":\"#FECB52\",\"pattern\":{\"shape\":\"\"}},\"name\":\"\\uc140\\ud2b8\\ub9ac\\uc628\",\"offsetgroup\":\"\\uc140\\ud2b8\\ub9ac\\uc628\",\"orientation\":\"v\",\"showlegend\":true,\"textposition\":\"auto\",\"type\":\"bar\",\"x\":[\"\\uc140\\ud2b8\\ub9ac\\uc628\"],\"xaxis\":\"x\",\"y\":[261000],\"yaxis\":\"y\"}],\"name\":\"2021-09-29\"},{\"data\":[{\"alignmentgroup\":\"True\",\"hovertemplate\":\"\\uc885\\ubaa9\\uba85=%{x}<br>\\ub0a0\\uc9dc=2021-09-30<br>\\uc885\\uac00=%{y}<extra></extra>\",\"ids\":[\"\\uc0bc\\uc131\\uc804\\uc790\"],\"legendgroup\":\"\\uc0bc\\uc131\\uc804\\uc790\",\"marker\":{\"color\":\"#636efa\",\"pattern\":{\"shape\":\"\"}},\"name\":\"\\uc0bc\\uc131\\uc804\\uc790\",\"offsetgroup\":\"\\uc0bc\\uc131\\uc804\\uc790\",\"orientation\":\"v\",\"showlegend\":true,\"textposition\":\"auto\",\"type\":\"bar\",\"x\":[\"\\uc0bc\\uc131\\uc804\\uc790\"],\"xaxis\":\"x\",\"y\":[74100],\"yaxis\":\"y\"},{\"alignmentgroup\":\"True\",\"hovertemplate\":\"\\uc885\\ubaa9\\uba85=%{x}<br>\\ub0a0\\uc9dc=2021-09-30<br>\\uc885\\uac00=%{y}<extra></extra>\",\"ids\":[\"\\uce74\\uce74\\uc624\"],\"legendgroup\":\"\\uce74\\uce74\\uc624\",\"marker\":{\"color\":\"#EF553B\",\"pattern\":{\"shape\":\"\"}},\"name\":\"\\uce74\\uce74\\uc624\",\"offsetgroup\":\"\\uce74\\uce74\\uc624\",\"orientation\":\"v\",\"showlegend\":true,\"textposition\":\"auto\",\"type\":\"bar\",\"x\":[\"\\uce74\\uce74\\uc624\"],\"xaxis\":\"x\",\"y\":[118000],\"yaxis\":\"y\"},{\"alignmentgroup\":\"True\",\"hovertemplate\":\"\\uc885\\ubaa9\\uba85=%{x}<br>\\ub0a0\\uc9dc=2021-09-30<br>\\uc885\\uac00=%{y}<extra></extra>\",\"ids\":[\"sk\\ud558\\uc774\\ub2c9\\uc2a4\"],\"legendgroup\":\"sk\\ud558\\uc774\\ub2c9\\uc2a4\",\"marker\":{\"color\":\"#00cc96\",\"pattern\":{\"shape\":\"\"}},\"name\":\"sk\\ud558\\uc774\\ub2c9\\uc2a4\",\"offsetgroup\":\"sk\\ud558\\uc774\\ub2c9\\uc2a4\",\"orientation\":\"v\",\"showlegend\":true,\"textposition\":\"auto\",\"type\":\"bar\",\"x\":[\"sk\\ud558\\uc774\\ub2c9\\uc2a4\"],\"xaxis\":\"x\",\"y\":[103000],\"yaxis\":\"y\"},{\"alignmentgroup\":\"True\",\"hovertemplate\":\"\\uc885\\ubaa9\\uba85=%{x}<br>\\ub0a0\\uc9dc=2021-09-30<br>\\uc885\\uac00=%{y}<extra></extra>\",\"ids\":[\"NAVER\"],\"legendgroup\":\"NAVER\",\"marker\":{\"color\":\"#ab63fa\",\"pattern\":{\"shape\":\"\"}},\"name\":\"NAVER\",\"offsetgroup\":\"NAVER\",\"orientation\":\"v\",\"showlegend\":true,\"textposition\":\"auto\",\"type\":\"bar\",\"x\":[\"NAVER\"],\"xaxis\":\"x\",\"y\":[388000],\"yaxis\":\"y\"},{\"alignmentgroup\":\"True\",\"hovertemplate\":\"\\uc885\\ubaa9\\uba85=%{x}<br>\\ub0a0\\uc9dc=2021-09-30<br>\\uc885\\uac00=%{y}<extra></extra>\",\"ids\":[\"\\uc0bc\\uc131\\ubc14\\uc774\\uc624\\ub85c\\uc9c1\\uc2a4\"],\"legendgroup\":\"\\uc0bc\\uc131\\ubc14\\uc774\\uc624\\ub85c\\uc9c1\\uc2a4\",\"marker\":{\"color\":\"#FFA15A\",\"pattern\":{\"shape\":\"\"}},\"name\":\"\\uc0bc\\uc131\\ubc14\\uc774\\uc624\\ub85c\\uc9c1\\uc2a4\",\"offsetgroup\":\"\\uc0bc\\uc131\\ubc14\\uc774\\uc624\\ub85c\\uc9c1\\uc2a4\",\"orientation\":\"v\",\"showlegend\":true,\"textposition\":\"auto\",\"type\":\"bar\",\"x\":[\"\\uc0bc\\uc131\\ubc14\\uc774\\uc624\\ub85c\\uc9c1\\uc2a4\"],\"xaxis\":\"x\",\"y\":[874000],\"yaxis\":\"y\"},{\"alignmentgroup\":\"True\",\"hovertemplate\":\"\\uc885\\ubaa9\\uba85=%{x}<br>\\ub0a0\\uc9dc=2021-09-30<br>\\uc885\\uac00=%{y}<extra></extra>\",\"ids\":[\"\\uc0bc\\uc131\\uc804\\uc790\\uc6b0\"],\"legendgroup\":\"\\uc0bc\\uc131\\uc804\\uc790\\uc6b0\",\"marker\":{\"color\":\"#19d3f3\",\"pattern\":{\"shape\":\"\"}},\"name\":\"\\uc0bc\\uc131\\uc804\\uc790\\uc6b0\",\"offsetgroup\":\"\\uc0bc\\uc131\\uc804\\uc790\\uc6b0\",\"orientation\":\"v\",\"showlegend\":true,\"textposition\":\"auto\",\"type\":\"bar\",\"x\":[\"\\uc0bc\\uc131\\uc804\\uc790\\uc6b0\"],\"xaxis\":\"x\",\"y\":[69600],\"yaxis\":\"y\"},{\"alignmentgroup\":\"True\",\"hovertemplate\":\"\\uc885\\ubaa9\\uba85=%{x}<br>\\ub0a0\\uc9dc=2021-09-30<br>\\uc885\\uac00=%{y}<extra></extra>\",\"ids\":[\"LG\\ud654\\ud559\"],\"legendgroup\":\"LG\\ud654\\ud559\",\"marker\":{\"color\":\"#FF6692\",\"pattern\":{\"shape\":\"\"}},\"name\":\"LG\\ud654\\ud559\",\"offsetgroup\":\"LG\\ud654\\ud559\",\"orientation\":\"v\",\"showlegend\":true,\"textposition\":\"auto\",\"type\":\"bar\",\"x\":[\"LG\\ud654\\ud559\"],\"xaxis\":\"x\",\"y\":[776000],\"yaxis\":\"y\"},{\"alignmentgroup\":\"True\",\"hovertemplate\":\"\\uc885\\ubaa9\\uba85=%{x}<br>\\ub0a0\\uc9dc=2021-09-30<br>\\uc885\\uac00=%{y}<extra></extra>\",\"ids\":[\"\\uc0bc\\uc131SDI\"],\"legendgroup\":\"\\uc0bc\\uc131SDI\",\"marker\":{\"color\":\"#B6E880\",\"pattern\":{\"shape\":\"\"}},\"name\":\"\\uc0bc\\uc131SDI\",\"offsetgroup\":\"\\uc0bc\\uc131SDI\",\"orientation\":\"v\",\"showlegend\":true,\"textposition\":\"auto\",\"type\":\"bar\",\"x\":[\"\\uc0bc\\uc131SDI\"],\"xaxis\":\"x\",\"y\":[718000],\"yaxis\":\"y\"},{\"alignmentgroup\":\"True\",\"hovertemplate\":\"\\uc885\\ubaa9\\uba85=%{x}<br>\\ub0a0\\uc9dc=2021-09-30<br>\\uc885\\uac00=%{y}<extra></extra>\",\"ids\":[\"\\ud604\\ub300\\ucc28\"],\"legendgroup\":\"\\ud604\\ub300\\ucc28\",\"marker\":{\"color\":\"#FF97FF\",\"pattern\":{\"shape\":\"\"}},\"name\":\"\\ud604\\ub300\\ucc28\",\"offsetgroup\":\"\\ud604\\ub300\\ucc28\",\"orientation\":\"v\",\"showlegend\":true,\"textposition\":\"auto\",\"type\":\"bar\",\"x\":[\"\\ud604\\ub300\\ucc28\"],\"xaxis\":\"x\",\"y\":[200000],\"yaxis\":\"y\"},{\"alignmentgroup\":\"True\",\"hovertemplate\":\"\\uc885\\ubaa9\\uba85=%{x}<br>\\ub0a0\\uc9dc=2021-09-30<br>\\uc885\\uac00=%{y}<extra></extra>\",\"ids\":[\"\\uc140\\ud2b8\\ub9ac\\uc628\"],\"legendgroup\":\"\\uc140\\ud2b8\\ub9ac\\uc628\",\"marker\":{\"color\":\"#FECB52\",\"pattern\":{\"shape\":\"\"}},\"name\":\"\\uc140\\ud2b8\\ub9ac\\uc628\",\"offsetgroup\":\"\\uc140\\ud2b8\\ub9ac\\uc628\",\"orientation\":\"v\",\"showlegend\":true,\"textposition\":\"auto\",\"type\":\"bar\",\"x\":[\"\\uc140\\ud2b8\\ub9ac\\uc628\"],\"xaxis\":\"x\",\"y\":[259500],\"yaxis\":\"y\"}],\"name\":\"2021-09-30\"}]);\n",
       "                        }).then(function(){\n",
       "                            \n",
       "var gd = document.getElementById('6d05113f-58bf-45f4-822b-a3c16138b8fe');\n",
       "var x = new MutationObserver(function (mutations, observer) {{\n",
       "        var display = window.getComputedStyle(gd).display;\n",
       "        if (!display || display === 'none') {{\n",
       "            console.log([gd, 'removed!']);\n",
       "            Plotly.purge(gd);\n",
       "            observer.disconnect();\n",
       "        }}\n",
       "}});\n",
       "\n",
       "// Listen for the removal of the full notebook cells\n",
       "var notebookContainer = gd.closest('#notebook-container');\n",
       "if (notebookContainer) {{\n",
       "    x.observe(notebookContainer, {childList: true});\n",
       "}}\n",
       "\n",
       "// Listen for the clearing of the current output cell\n",
       "var outputEl = gd.closest('.output');\n",
       "if (outputEl) {{\n",
       "    x.observe(outputEl, {childList: true});\n",
       "}}\n",
       "\n",
       "                        })                };                });            </script>        </div>"
      ]
     },
     "metadata": {},
     "output_type": "display_data"
    }
   ],
   "source": [
    "px.bar(merge, x='종목명',y='종가',animation_frame='날짜',animation_group=\"종목명\",color='종목명' ,range_y=[0,1000000])"
   ]
  },
  {
   "cell_type": "code",
   "execution_count": null,
   "id": "a97596b3",
   "metadata": {},
   "outputs": [],
   "source": []
  }
 ],
 "metadata": {
  "kernelspec": {
   "display_name": "Python 3 (ipykernel)",
   "language": "python",
   "name": "python3"
  },
  "language_info": {
   "codemirror_mode": {
    "name": "ipython",
    "version": 3
   },
   "file_extension": ".py",
   "mimetype": "text/x-python",
   "name": "python",
   "nbconvert_exporter": "python",
   "pygments_lexer": "ipython3",
   "version": "3.8.10"
  }
 },
 "nbformat": 4,
 "nbformat_minor": 5
}
