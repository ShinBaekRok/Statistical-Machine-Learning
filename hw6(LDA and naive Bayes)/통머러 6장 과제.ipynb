{
 "cells": [
  {
   "cell_type": "code",
   "execution_count": 8,
   "id": "f3c5f460",
   "metadata": {},
   "outputs": [],
   "source": [
    "import numpy as np"
   ]
  },
  {
   "cell_type": "code",
   "execution_count": 4,
   "id": "28c5b40e",
   "metadata": {},
   "outputs": [],
   "source": [
    "import pandas as pd\n",
    "dat_wine=pd.read_csv('http://archive.ics.uci.edu/ml/machine-learning-databases/'\n",
    "           'wine/wine.data',header=None)"
   ]
  },
  {
   "cell_type": "code",
   "execution_count": 38,
   "id": "ae894aed",
   "metadata": {},
   "outputs": [
    {
     "name": "stdout",
     "output_type": "stream",
     "text": [
      "(178, 14)\n"
     ]
    }
   ],
   "source": [
    "dat_wine.head()\n",
    "print(dat_wine.shape)"
   ]
  },
  {
   "cell_type": "code",
   "execution_count": 6,
   "id": "0fc7049f",
   "metadata": {},
   "outputs": [],
   "source": [
    "dat_wine.columns=['class label','alchohol','malic acid','ash','alcalinity of ash','magnesium','total phenols','flavanoids','nonflavanoid phenols','proanthocyanins','color intensity','hue','OD208','proline']"
   ]
  },
  {
   "cell_type": "code",
   "execution_count": 9,
   "id": "57117c68",
   "metadata": {},
   "outputs": [
    {
     "name": "stdout",
     "output_type": "stream",
     "text": [
      "class label: [1 2 3]\n"
     ]
    }
   ],
   "source": [
    "print('class label:',np.unique(dat_wine['class label']))"
   ]
  },
  {
   "cell_type": "code",
   "execution_count": 10,
   "id": "51fd477a",
   "metadata": {},
   "outputs": [
    {
     "data": {
      "text/html": [
       "<div>\n",
       "<style scoped>\n",
       "    .dataframe tbody tr th:only-of-type {\n",
       "        vertical-align: middle;\n",
       "    }\n",
       "\n",
       "    .dataframe tbody tr th {\n",
       "        vertical-align: top;\n",
       "    }\n",
       "\n",
       "    .dataframe thead th {\n",
       "        text-align: right;\n",
       "    }\n",
       "</style>\n",
       "<table border=\"1\" class=\"dataframe\">\n",
       "  <thead>\n",
       "    <tr style=\"text-align: right;\">\n",
       "      <th></th>\n",
       "      <th>class label</th>\n",
       "      <th>alchohol</th>\n",
       "      <th>malic acid</th>\n",
       "      <th>ash</th>\n",
       "      <th>alcalinity of ash</th>\n",
       "      <th>magnesium</th>\n",
       "      <th>total phenols</th>\n",
       "      <th>flavanoids</th>\n",
       "      <th>nonflavanoid phenols</th>\n",
       "      <th>proanthocyanins</th>\n",
       "      <th>color intensity</th>\n",
       "      <th>hue</th>\n",
       "      <th>OD208</th>\n",
       "      <th>proline</th>\n",
       "    </tr>\n",
       "  </thead>\n",
       "  <tbody>\n",
       "    <tr>\n",
       "      <th>0</th>\n",
       "      <td>1</td>\n",
       "      <td>14.23</td>\n",
       "      <td>1.71</td>\n",
       "      <td>2.43</td>\n",
       "      <td>15.6</td>\n",
       "      <td>127</td>\n",
       "      <td>2.80</td>\n",
       "      <td>3.06</td>\n",
       "      <td>0.28</td>\n",
       "      <td>2.29</td>\n",
       "      <td>5.64</td>\n",
       "      <td>1.04</td>\n",
       "      <td>3.92</td>\n",
       "      <td>1065</td>\n",
       "    </tr>\n",
       "    <tr>\n",
       "      <th>1</th>\n",
       "      <td>1</td>\n",
       "      <td>13.20</td>\n",
       "      <td>1.78</td>\n",
       "      <td>2.14</td>\n",
       "      <td>11.2</td>\n",
       "      <td>100</td>\n",
       "      <td>2.65</td>\n",
       "      <td>2.76</td>\n",
       "      <td>0.26</td>\n",
       "      <td>1.28</td>\n",
       "      <td>4.38</td>\n",
       "      <td>1.05</td>\n",
       "      <td>3.40</td>\n",
       "      <td>1050</td>\n",
       "    </tr>\n",
       "    <tr>\n",
       "      <th>2</th>\n",
       "      <td>1</td>\n",
       "      <td>13.16</td>\n",
       "      <td>2.36</td>\n",
       "      <td>2.67</td>\n",
       "      <td>18.6</td>\n",
       "      <td>101</td>\n",
       "      <td>2.80</td>\n",
       "      <td>3.24</td>\n",
       "      <td>0.30</td>\n",
       "      <td>2.81</td>\n",
       "      <td>5.68</td>\n",
       "      <td>1.03</td>\n",
       "      <td>3.17</td>\n",
       "      <td>1185</td>\n",
       "    </tr>\n",
       "    <tr>\n",
       "      <th>3</th>\n",
       "      <td>1</td>\n",
       "      <td>14.37</td>\n",
       "      <td>1.95</td>\n",
       "      <td>2.50</td>\n",
       "      <td>16.8</td>\n",
       "      <td>113</td>\n",
       "      <td>3.85</td>\n",
       "      <td>3.49</td>\n",
       "      <td>0.24</td>\n",
       "      <td>2.18</td>\n",
       "      <td>7.80</td>\n",
       "      <td>0.86</td>\n",
       "      <td>3.45</td>\n",
       "      <td>1480</td>\n",
       "    </tr>\n",
       "    <tr>\n",
       "      <th>4</th>\n",
       "      <td>1</td>\n",
       "      <td>13.24</td>\n",
       "      <td>2.59</td>\n",
       "      <td>2.87</td>\n",
       "      <td>21.0</td>\n",
       "      <td>118</td>\n",
       "      <td>2.80</td>\n",
       "      <td>2.69</td>\n",
       "      <td>0.39</td>\n",
       "      <td>1.82</td>\n",
       "      <td>4.32</td>\n",
       "      <td>1.04</td>\n",
       "      <td>2.93</td>\n",
       "      <td>735</td>\n",
       "    </tr>\n",
       "  </tbody>\n",
       "</table>\n",
       "</div>"
      ],
      "text/plain": [
       "   class label  alchohol  malic acid   ash  alcalinity of ash  magnesium  \\\n",
       "0            1     14.23        1.71  2.43               15.6        127   \n",
       "1            1     13.20        1.78  2.14               11.2        100   \n",
       "2            1     13.16        2.36  2.67               18.6        101   \n",
       "3            1     14.37        1.95  2.50               16.8        113   \n",
       "4            1     13.24        2.59  2.87               21.0        118   \n",
       "\n",
       "   total phenols  flavanoids  nonflavanoid phenols  proanthocyanins  \\\n",
       "0           2.80        3.06                  0.28             2.29   \n",
       "1           2.65        2.76                  0.26             1.28   \n",
       "2           2.80        3.24                  0.30             2.81   \n",
       "3           3.85        3.49                  0.24             2.18   \n",
       "4           2.80        2.69                  0.39             1.82   \n",
       "\n",
       "   color intensity   hue  OD208  proline  \n",
       "0             5.64  1.04   3.92     1065  \n",
       "1             4.38  1.05   3.40     1050  \n",
       "2             5.68  1.03   3.17     1185  \n",
       "3             7.80  0.86   3.45     1480  \n",
       "4             4.32  1.04   2.93      735  "
      ]
     },
     "execution_count": 10,
     "metadata": {},
     "output_type": "execute_result"
    }
   ],
   "source": [
    "dat_wine.head()"
   ]
  },
  {
   "cell_type": "code",
   "execution_count": 11,
   "id": "80789d17",
   "metadata": {},
   "outputs": [],
   "source": [
    "from sklearn.model_selection import train_test_split\n",
    "X,y=dat_wine.iloc[:,1:].values,dat_wine.iloc[:,0].values"
   ]
  },
  {
   "cell_type": "code",
   "execution_count": 73,
   "id": "108da984",
   "metadata": {},
   "outputs": [],
   "source": [
    "X_train ,X_test, y_train, y_test=train_test_split(X,y,test_size=.3,random_state=1,stratify=y)"
   ]
  },
  {
   "cell_type": "code",
   "execution_count": 74,
   "id": "1691ead2",
   "metadata": {},
   "outputs": [
    {
     "name": "stdout",
     "output_type": "stream",
     "text": [
      "(124, 13) (54, 13) (124,) (54,)\n"
     ]
    }
   ],
   "source": [
    "print(X_train.shape, X_test.shape, y_train.shape, y_test.shape)"
   ]
  },
  {
   "cell_type": "code",
   "execution_count": null,
   "id": "2d4f92fe",
   "metadata": {},
   "outputs": [],
   "source": []
  },
  {
   "cell_type": "code",
   "execution_count": 114,
   "id": "bea76118",
   "metadata": {},
   "outputs": [
    {
     "name": "stdout",
     "output_type": "stream",
     "text": [
      "LDA train: 1.0\n",
      "LDA test: 0.9814814814814815\n"
     ]
    }
   ],
   "source": [
    "from sklearn.discriminant_analysis import LinearDiscriminantAnalysis\n",
    "cld=LinearDiscriminantAnalysis(store_covariance=True)\n",
    "cld.fit(X_train,y_train)\n",
    "y_train_pred=cld.predict(X_train)\n",
    "y_test_pred=cld.predict(X_test)\n",
    "from sklearn.metrics import accuracy_score\n",
    "print('LDA train:',accuracy_score(y_train,y_train_pred))\n",
    "print('LDA test:',accuracy_score(y_test,y_test_pred))"
   ]
  },
  {
   "cell_type": "code",
   "execution_count": 18,
   "id": "1d1f8f63",
   "metadata": {},
   "outputs": [
    {
     "name": "stdout",
     "output_type": "stream",
     "text": [
      "[[18  0  0]\n",
      " [ 0 20  1]\n",
      " [ 0  0 15]]\n"
     ]
    }
   ],
   "source": [
    "from sklearn.metrics import confusion_matrix\n",
    "print(confusion_matrix(y_test,y_test_pred))"
   ]
  },
  {
   "cell_type": "code",
   "execution_count": 115,
   "id": "0642b4aa",
   "metadata": {},
   "outputs": [
    {
     "name": "stdout",
     "output_type": "stream",
     "text": [
      "QDA train: 1.0\n",
      "QDA test: 0.9629629629629629\n"
     ]
    }
   ],
   "source": [
    "from sklearn.discriminant_analysis import QuadraticDiscriminantAnalysis\n",
    "cqd=QuadraticDiscriminantAnalysis(store_covariance=True)\n",
    "cqd.fit(X_train,y_train)\n",
    "y_train_pred=cqd.predict(X_train)\n",
    "y_test_pred=cqd.predict(X_test)\n",
    "from sklearn.metrics import accuracy_score\n",
    "print('QDA train:',accuracy_score(y_train,y_train_pred))\n",
    "print('QDA test:',accuracy_score(y_test,y_test_pred))"
   ]
  },
  {
   "cell_type": "code",
   "execution_count": 21,
   "id": "8446a87d",
   "metadata": {},
   "outputs": [
    {
     "name": "stdout",
     "output_type": "stream",
     "text": [
      "[[18  0  0]\n",
      " [ 1 20  0]\n",
      " [ 0  1 14]]\n"
     ]
    }
   ],
   "source": [
    "from sklearn.metrics import confusion_matrix\n",
    "print(confusion_matrix(y_test,y_test_pred))"
   ]
  },
  {
   "cell_type": "code",
   "execution_count": 116,
   "id": "0f25e06a",
   "metadata": {},
   "outputs": [
    {
     "name": "stdout",
     "output_type": "stream",
     "text": [
      "GNB train: 0.9919354838709677\n",
      "GNB test: 0.9814814814814815\n"
     ]
    }
   ],
   "source": [
    "from sklearn.naive_bayes import GaussianNB\n",
    "gnb=GaussianNB()\n",
    "gnb.fit(X_train,y_train)\n",
    "y_train_pred=gnb.predict(X_train)\n",
    "y_test_pred=gnb.predict(X_test)\n",
    "print('GNB train:',accuracy_score(y_train,y_train_pred))\n",
    "print('GNB test:',accuracy_score(y_test,y_test_pred))"
   ]
  },
  {
   "cell_type": "code",
   "execution_count": 23,
   "id": "95ed536a",
   "metadata": {},
   "outputs": [
    {
     "name": "stdout",
     "output_type": "stream",
     "text": [
      "[[17  1  0]\n",
      " [ 0 21  0]\n",
      " [ 0  0 15]]\n"
     ]
    }
   ],
   "source": [
    "from sklearn.metrics import confusion_matrix\n",
    "print(confusion_matrix(y_test,y_test_pred))"
   ]
  },
  {
   "cell_type": "code",
   "execution_count": 46,
   "id": "2552cbec",
   "metadata": {},
   "outputs": [
    {
     "data": {
      "text/plain": [
       "numpy.ndarray"
      ]
     },
     "execution_count": 46,
     "metadata": {},
     "output_type": "execute_result"
    }
   ],
   "source": []
  },
  {
   "cell_type": "code",
   "execution_count": 142,
   "id": "2200c4c4",
   "metadata": {},
   "outputs": [],
   "source": [
    "\n",
    "df_y_train=pd.DataFrame(y_train,columns=['class_label'])\n",
    "df_train=pd.concat([df_y_train,df_X_train],axis=1)\n",
    "df_train_1=df_train.loc[df_train.class_label==1,:]\n",
    "df_train_2=df_train.loc[df_train.class_label==2,:]\n",
    "df_train_3=df_train.loc[df_train.class_label==3,:]\n",
    "\n"
   ]
  },
  {
   "cell_type": "code",
   "execution_count": 151,
   "id": "5368ca71",
   "metadata": {},
   "outputs": [],
   "source": [
    "df_train_1=df_train_1.drop(['class_label'],axis=1)\n",
    "df_train_2=df_train_2.drop(['class_label'],axis=1)\n",
    "df_train_3=df_train_3.drop(['class_label'],axis=1)"
   ]
  },
  {
   "cell_type": "code",
   "execution_count": 155,
   "id": "e51b442f",
   "metadata": {},
   "outputs": [
    {
     "data": {
      "text/html": [
       "<div>\n",
       "<style scoped>\n",
       "    .dataframe tbody tr th:only-of-type {\n",
       "        vertical-align: middle;\n",
       "    }\n",
       "\n",
       "    .dataframe tbody tr th {\n",
       "        vertical-align: top;\n",
       "    }\n",
       "\n",
       "    .dataframe thead th {\n",
       "        text-align: right;\n",
       "    }\n",
       "</style>\n",
       "<table border=\"1\" class=\"dataframe\">\n",
       "  <thead>\n",
       "    <tr style=\"text-align: right;\">\n",
       "      <th></th>\n",
       "      <th>alchohol</th>\n",
       "      <th>malic acid</th>\n",
       "      <th>ash</th>\n",
       "      <th>alcalinity of ash</th>\n",
       "      <th>magnesium</th>\n",
       "      <th>total phenols</th>\n",
       "      <th>flavanoids</th>\n",
       "      <th>nonflavanoid phenols</th>\n",
       "      <th>proanthocyanins</th>\n",
       "      <th>color intensity</th>\n",
       "      <th>hue</th>\n",
       "      <th>OD208</th>\n",
       "      <th>proline</th>\n",
       "    </tr>\n",
       "  </thead>\n",
       "  <tbody>\n",
       "    <tr>\n",
       "      <th>alchohol</th>\n",
       "      <td>1.000000</td>\n",
       "      <td>0.022056</td>\n",
       "      <td>-0.051368</td>\n",
       "      <td>-0.319601</td>\n",
       "      <td>0.163142</td>\n",
       "      <td>0.560636</td>\n",
       "      <td>0.566147</td>\n",
       "      <td>0.108557</td>\n",
       "      <td>0.375572</td>\n",
       "      <td>0.423354</td>\n",
       "      <td>0.180094</td>\n",
       "      <td>-0.001137</td>\n",
       "      <td>0.385181</td>\n",
       "    </tr>\n",
       "    <tr>\n",
       "      <th>malic acid</th>\n",
       "      <td>0.022056</td>\n",
       "      <td>1.000000</td>\n",
       "      <td>0.028630</td>\n",
       "      <td>-0.061802</td>\n",
       "      <td>0.094803</td>\n",
       "      <td>-0.073917</td>\n",
       "      <td>-0.143230</td>\n",
       "      <td>-0.239725</td>\n",
       "      <td>0.023466</td>\n",
       "      <td>-0.226634</td>\n",
       "      <td>-0.355674</td>\n",
       "      <td>0.253121</td>\n",
       "      <td>-0.372468</td>\n",
       "    </tr>\n",
       "    <tr>\n",
       "      <th>ash</th>\n",
       "      <td>-0.051368</td>\n",
       "      <td>0.028630</td>\n",
       "      <td>1.000000</td>\n",
       "      <td>0.378269</td>\n",
       "      <td>0.346318</td>\n",
       "      <td>0.047363</td>\n",
       "      <td>-0.059402</td>\n",
       "      <td>0.372649</td>\n",
       "      <td>-0.205896</td>\n",
       "      <td>-0.108500</td>\n",
       "      <td>0.206302</td>\n",
       "      <td>-0.028134</td>\n",
       "      <td>-0.083957</td>\n",
       "    </tr>\n",
       "    <tr>\n",
       "      <th>alcalinity of ash</th>\n",
       "      <td>-0.319601</td>\n",
       "      <td>-0.061802</td>\n",
       "      <td>0.378269</td>\n",
       "      <td>1.000000</td>\n",
       "      <td>0.140571</td>\n",
       "      <td>-0.282699</td>\n",
       "      <td>-0.365167</td>\n",
       "      <td>0.172659</td>\n",
       "      <td>-0.264276</td>\n",
       "      <td>-0.199641</td>\n",
       "      <td>0.099639</td>\n",
       "      <td>-0.064744</td>\n",
       "      <td>-0.085694</td>\n",
       "    </tr>\n",
       "    <tr>\n",
       "      <th>magnesium</th>\n",
       "      <td>0.163142</td>\n",
       "      <td>0.094803</td>\n",
       "      <td>0.346318</td>\n",
       "      <td>0.140571</td>\n",
       "      <td>1.000000</td>\n",
       "      <td>0.309757</td>\n",
       "      <td>0.087396</td>\n",
       "      <td>0.221365</td>\n",
       "      <td>-0.150442</td>\n",
       "      <td>0.234254</td>\n",
       "      <td>-0.127957</td>\n",
       "      <td>-0.053901</td>\n",
       "      <td>-0.108230</td>\n",
       "    </tr>\n",
       "    <tr>\n",
       "      <th>total phenols</th>\n",
       "      <td>0.560636</td>\n",
       "      <td>-0.073917</td>\n",
       "      <td>0.047363</td>\n",
       "      <td>-0.282699</td>\n",
       "      <td>0.309757</td>\n",
       "      <td>1.000000</td>\n",
       "      <td>0.774702</td>\n",
       "      <td>0.064031</td>\n",
       "      <td>0.341677</td>\n",
       "      <td>0.647159</td>\n",
       "      <td>-0.183717</td>\n",
       "      <td>0.042619</td>\n",
       "      <td>0.387109</td>\n",
       "    </tr>\n",
       "    <tr>\n",
       "      <th>flavanoids</th>\n",
       "      <td>0.566147</td>\n",
       "      <td>-0.143230</td>\n",
       "      <td>-0.059402</td>\n",
       "      <td>-0.365167</td>\n",
       "      <td>0.087396</td>\n",
       "      <td>0.774702</td>\n",
       "      <td>1.000000</td>\n",
       "      <td>-0.015143</td>\n",
       "      <td>0.512972</td>\n",
       "      <td>0.768323</td>\n",
       "      <td>0.057599</td>\n",
       "      <td>-0.126125</td>\n",
       "      <td>0.473431</td>\n",
       "    </tr>\n",
       "    <tr>\n",
       "      <th>nonflavanoid phenols</th>\n",
       "      <td>0.108557</td>\n",
       "      <td>-0.239725</td>\n",
       "      <td>0.372649</td>\n",
       "      <td>0.172659</td>\n",
       "      <td>0.221365</td>\n",
       "      <td>0.064031</td>\n",
       "      <td>-0.015143</td>\n",
       "      <td>1.000000</td>\n",
       "      <td>-0.167221</td>\n",
       "      <td>-0.061437</td>\n",
       "      <td>0.476395</td>\n",
       "      <td>-0.402018</td>\n",
       "      <td>0.019963</td>\n",
       "    </tr>\n",
       "    <tr>\n",
       "      <th>proanthocyanins</th>\n",
       "      <td>0.375572</td>\n",
       "      <td>0.023466</td>\n",
       "      <td>-0.205896</td>\n",
       "      <td>-0.264276</td>\n",
       "      <td>-0.150442</td>\n",
       "      <td>0.341677</td>\n",
       "      <td>0.512972</td>\n",
       "      <td>-0.167221</td>\n",
       "      <td>1.000000</td>\n",
       "      <td>0.467635</td>\n",
       "      <td>0.139290</td>\n",
       "      <td>-0.058014</td>\n",
       "      <td>0.225055</td>\n",
       "    </tr>\n",
       "    <tr>\n",
       "      <th>color intensity</th>\n",
       "      <td>0.423354</td>\n",
       "      <td>-0.226634</td>\n",
       "      <td>-0.108500</td>\n",
       "      <td>-0.199641</td>\n",
       "      <td>0.234254</td>\n",
       "      <td>0.647159</td>\n",
       "      <td>0.768323</td>\n",
       "      <td>-0.061437</td>\n",
       "      <td>0.467635</td>\n",
       "      <td>1.000000</td>\n",
       "      <td>0.027105</td>\n",
       "      <td>-0.261360</td>\n",
       "      <td>0.629912</td>\n",
       "    </tr>\n",
       "    <tr>\n",
       "      <th>hue</th>\n",
       "      <td>0.180094</td>\n",
       "      <td>-0.355674</td>\n",
       "      <td>0.206302</td>\n",
       "      <td>0.099639</td>\n",
       "      <td>-0.127957</td>\n",
       "      <td>-0.183717</td>\n",
       "      <td>0.057599</td>\n",
       "      <td>0.476395</td>\n",
       "      <td>0.139290</td>\n",
       "      <td>0.027105</td>\n",
       "      <td>1.000000</td>\n",
       "      <td>-0.358999</td>\n",
       "      <td>0.355790</td>\n",
       "    </tr>\n",
       "    <tr>\n",
       "      <th>OD208</th>\n",
       "      <td>-0.001137</td>\n",
       "      <td>0.253121</td>\n",
       "      <td>-0.028134</td>\n",
       "      <td>-0.064744</td>\n",
       "      <td>-0.053901</td>\n",
       "      <td>0.042619</td>\n",
       "      <td>-0.126125</td>\n",
       "      <td>-0.402018</td>\n",
       "      <td>-0.058014</td>\n",
       "      <td>-0.261360</td>\n",
       "      <td>-0.358999</td>\n",
       "      <td>1.000000</td>\n",
       "      <td>-0.365581</td>\n",
       "    </tr>\n",
       "    <tr>\n",
       "      <th>proline</th>\n",
       "      <td>0.385181</td>\n",
       "      <td>-0.372468</td>\n",
       "      <td>-0.083957</td>\n",
       "      <td>-0.085694</td>\n",
       "      <td>-0.108230</td>\n",
       "      <td>0.387109</td>\n",
       "      <td>0.473431</td>\n",
       "      <td>0.019963</td>\n",
       "      <td>0.225055</td>\n",
       "      <td>0.629912</td>\n",
       "      <td>0.355790</td>\n",
       "      <td>-0.365581</td>\n",
       "      <td>1.000000</td>\n",
       "    </tr>\n",
       "  </tbody>\n",
       "</table>\n",
       "</div>"
      ],
      "text/plain": [
       "                      alchohol  malic acid       ash  alcalinity of ash  \\\n",
       "alchohol              1.000000    0.022056 -0.051368          -0.319601   \n",
       "malic acid            0.022056    1.000000  0.028630          -0.061802   \n",
       "ash                  -0.051368    0.028630  1.000000           0.378269   \n",
       "alcalinity of ash    -0.319601   -0.061802  0.378269           1.000000   \n",
       "magnesium             0.163142    0.094803  0.346318           0.140571   \n",
       "total phenols         0.560636   -0.073917  0.047363          -0.282699   \n",
       "flavanoids            0.566147   -0.143230 -0.059402          -0.365167   \n",
       "nonflavanoid phenols  0.108557   -0.239725  0.372649           0.172659   \n",
       "proanthocyanins       0.375572    0.023466 -0.205896          -0.264276   \n",
       "color intensity       0.423354   -0.226634 -0.108500          -0.199641   \n",
       "hue                   0.180094   -0.355674  0.206302           0.099639   \n",
       "OD208                -0.001137    0.253121 -0.028134          -0.064744   \n",
       "proline               0.385181   -0.372468 -0.083957          -0.085694   \n",
       "\n",
       "                      magnesium  total phenols  flavanoids  \\\n",
       "alchohol               0.163142       0.560636    0.566147   \n",
       "malic acid             0.094803      -0.073917   -0.143230   \n",
       "ash                    0.346318       0.047363   -0.059402   \n",
       "alcalinity of ash      0.140571      -0.282699   -0.365167   \n",
       "magnesium              1.000000       0.309757    0.087396   \n",
       "total phenols          0.309757       1.000000    0.774702   \n",
       "flavanoids             0.087396       0.774702    1.000000   \n",
       "nonflavanoid phenols   0.221365       0.064031   -0.015143   \n",
       "proanthocyanins       -0.150442       0.341677    0.512972   \n",
       "color intensity        0.234254       0.647159    0.768323   \n",
       "hue                   -0.127957      -0.183717    0.057599   \n",
       "OD208                 -0.053901       0.042619   -0.126125   \n",
       "proline               -0.108230       0.387109    0.473431   \n",
       "\n",
       "                      nonflavanoid phenols  proanthocyanins  color intensity  \\\n",
       "alchohol                          0.108557         0.375572         0.423354   \n",
       "malic acid                       -0.239725         0.023466        -0.226634   \n",
       "ash                               0.372649        -0.205896        -0.108500   \n",
       "alcalinity of ash                 0.172659        -0.264276        -0.199641   \n",
       "magnesium                         0.221365        -0.150442         0.234254   \n",
       "total phenols                     0.064031         0.341677         0.647159   \n",
       "flavanoids                       -0.015143         0.512972         0.768323   \n",
       "nonflavanoid phenols              1.000000        -0.167221        -0.061437   \n",
       "proanthocyanins                  -0.167221         1.000000         0.467635   \n",
       "color intensity                  -0.061437         0.467635         1.000000   \n",
       "hue                               0.476395         0.139290         0.027105   \n",
       "OD208                            -0.402018        -0.058014        -0.261360   \n",
       "proline                           0.019963         0.225055         0.629912   \n",
       "\n",
       "                           hue     OD208   proline  \n",
       "alchohol              0.180094 -0.001137  0.385181  \n",
       "malic acid           -0.355674  0.253121 -0.372468  \n",
       "ash                   0.206302 -0.028134 -0.083957  \n",
       "alcalinity of ash     0.099639 -0.064744 -0.085694  \n",
       "magnesium            -0.127957 -0.053901 -0.108230  \n",
       "total phenols        -0.183717  0.042619  0.387109  \n",
       "flavanoids            0.057599 -0.126125  0.473431  \n",
       "nonflavanoid phenols  0.476395 -0.402018  0.019963  \n",
       "proanthocyanins       0.139290 -0.058014  0.225055  \n",
       "color intensity       0.027105 -0.261360  0.629912  \n",
       "hue                   1.000000 -0.358999  0.355790  \n",
       "OD208                -0.358999  1.000000 -0.365581  \n",
       "proline               0.355790 -0.365581  1.000000  "
      ]
     },
     "execution_count": 155,
     "metadata": {},
     "output_type": "execute_result"
    }
   ],
   "source": [
    "import seaborn as sns\n",
    "import matplotlib.pyplot as plt\n",
    "corrMatrix=df_train_1.corr()\n",
    "corrMatrix"
   ]
  },
  {
   "cell_type": "code",
   "execution_count": 156,
   "id": "23336dda",
   "metadata": {},
   "outputs": [
    {
     "data": {
      "image/png": "[encoded data removed]",
      "text/plain": [
       "<Figure size 432x288 with 2 Axes>"
      ]
     },
     "metadata": {
      "needs_background": "light"
     },
     "output_type": "display_data"
    }
   ],
   "source": [
    "sns.heatmap(corrMatrix, annot=False)\n",
    "plt.show()"
   ]
  },
  {
   "cell_type": "code",
   "execution_count": 158,
   "id": "b720b33c",
   "metadata": {},
   "outputs": [
    {
     "data": {
      "image/png": "[encoded data removed]",
      "text/plain": [
       "<Figure size 432x288 with 2 Axes>"
      ]
     },
     "metadata": {
      "needs_background": "light"
     },
     "output_type": "display_data"
    }
   ],
   "source": [
    "corrMatrix=df_train_2.corr()\n",
    "corrMatrix\n",
    "sns.heatmap(corrMatrix, annot=False)\n",
    "plt.show()"
   ]
  },
  {
   "cell_type": "code",
   "execution_count": 159,
   "id": "9fbefa60",
   "metadata": {},
   "outputs": [
    {
     "data": {
      "image/png": "[encoded data removed]",
      "text/plain": [
       "<Figure size 432x288 with 2 Axes>"
      ]
     },
     "metadata": {
      "needs_background": "light"
     },
     "output_type": "display_data"
    }
   ],
   "source": [
    "corrMatrix=df_train_3.corr()\n",
    "corrMatrix\n",
    "sns.heatmap(corrMatrix, annot=False)\n",
    "plt.show()"
   ]
  },
  {
   "cell_type": "code",
   "execution_count": null,
   "id": "a8fa1735",
   "metadata": {},
   "outputs": [],
   "source": []
  },
  {
   "cell_type": "code",
   "execution_count": 154,
   "id": "799f28cc",
   "metadata": {},
   "outputs": [
    {
     "ename": "TypeError",
     "evalue": "'(slice(None, None, None), 0)' is an invalid key",
     "output_type": "error",
     "traceback": [
      "\u001b[0;31m---------------------------------------------------------------------------\u001b[0m",
      "\u001b[0;31mTypeError\u001b[0m                                 Traceback (most recent call last)",
      "\u001b[0;32m/var/folders/9r/7f1bw3q15yz7435178lsgb5w0000gp/T/ipykernel_85028/3091855501.py\u001b[0m in \u001b[0;36m<module>\u001b[0;34m\u001b[0m\n\u001b[1;32m      4\u001b[0m \u001b[0;34m\u001b[0m\u001b[0m\n\u001b[1;32m      5\u001b[0m \u001b[0;32mfor\u001b[0m \u001b[0mi\u001b[0m \u001b[0;32min\u001b[0m \u001b[0mrange\u001b[0m\u001b[0;34m(\u001b[0m\u001b[0mlen\u001b[0m\u001b[0;34m(\u001b[0m\u001b[0mnp\u001b[0m\u001b[0;34m.\u001b[0m\u001b[0mtranspose\u001b[0m\u001b[0;34m(\u001b[0m\u001b[0mdf_train_1\u001b[0m\u001b[0;34m)\u001b[0m\u001b[0;34m)\u001b[0m\u001b[0;34m)\u001b[0m\u001b[0;34m:\u001b[0m\u001b[0;34m\u001b[0m\u001b[0;34m\u001b[0m\u001b[0m\n\u001b[0;32m----> 6\u001b[0;31m     \u001b[0mp_val\u001b[0m\u001b[0;34m.\u001b[0m\u001b[0mappend\u001b[0m\u001b[0;34m(\u001b[0m\u001b[0mstats\u001b[0m\u001b[0;34m.\u001b[0m\u001b[0mshapiro\u001b[0m\u001b[0;34m(\u001b[0m\u001b[0mdf_train_1\u001b[0m\u001b[0;34m[\u001b[0m\u001b[0;34m:\u001b[0m\u001b[0;34m,\u001b[0m\u001b[0mi\u001b[0m\u001b[0;34m]\u001b[0m\u001b[0;34m)\u001b[0m\u001b[0;34m[\u001b[0m\u001b[0;36m1\u001b[0m\u001b[0;34m]\u001b[0m\u001b[0;34m)\u001b[0m\u001b[0;34m\u001b[0m\u001b[0;34m\u001b[0m\u001b[0m\n\u001b[0m\u001b[1;32m      7\u001b[0m \u001b[0;34m\u001b[0m\u001b[0m\n\u001b[1;32m      8\u001b[0m \u001b[0mprint\u001b[0m\u001b[0;34m(\u001b[0m\u001b[0mp_val\u001b[0m\u001b[0;34m)\u001b[0m\u001b[0;34m\u001b[0m\u001b[0;34m\u001b[0m\u001b[0m\n",
      "\u001b[0;32m~/miniforge3/envs/tf/lib/python3.8/site-packages/pandas/core/frame.py\u001b[0m in \u001b[0;36m__getitem__\u001b[0;34m(self, key)\u001b[0m\n\u001b[1;32m   3453\u001b[0m             \u001b[0;32mif\u001b[0m \u001b[0mself\u001b[0m\u001b[0;34m.\u001b[0m\u001b[0mcolumns\u001b[0m\u001b[0;34m.\u001b[0m\u001b[0mnlevels\u001b[0m \u001b[0;34m>\u001b[0m \u001b[0;36m1\u001b[0m\u001b[0;34m:\u001b[0m\u001b[0;34m\u001b[0m\u001b[0;34m\u001b[0m\u001b[0m\n\u001b[1;32m   3454\u001b[0m                 \u001b[0;32mreturn\u001b[0m \u001b[0mself\u001b[0m\u001b[0;34m.\u001b[0m\u001b[0m_getitem_multilevel\u001b[0m\u001b[0;34m(\u001b[0m\u001b[0mkey\u001b[0m\u001b[0;34m)\u001b[0m\u001b[0;34m\u001b[0m\u001b[0;34m\u001b[0m\u001b[0m\n\u001b[0;32m-> 3455\u001b[0;31m             \u001b[0mindexer\u001b[0m \u001b[0;34m=\u001b[0m \u001b[0mself\u001b[0m\u001b[0;34m.\u001b[0m\u001b[0mcolumns\u001b[0m\u001b[0;34m.\u001b[0m\u001b[0mget_loc\u001b[0m\u001b[0;34m(\u001b[0m\u001b[0mkey\u001b[0m\u001b[0;34m)\u001b[0m\u001b[0;34m\u001b[0m\u001b[0;34m\u001b[0m\u001b[0m\n\u001b[0m\u001b[1;32m   3456\u001b[0m             \u001b[0;32mif\u001b[0m \u001b[0mis_integer\u001b[0m\u001b[0;34m(\u001b[0m\u001b[0mindexer\u001b[0m\u001b[0;34m)\u001b[0m\u001b[0;34m:\u001b[0m\u001b[0;34m\u001b[0m\u001b[0;34m\u001b[0m\u001b[0m\n\u001b[1;32m   3457\u001b[0m                 \u001b[0mindexer\u001b[0m \u001b[0;34m=\u001b[0m \u001b[0;34m[\u001b[0m\u001b[0mindexer\u001b[0m\u001b[0;34m]\u001b[0m\u001b[0;34m\u001b[0m\u001b[0;34m\u001b[0m\u001b[0m\n",
      "\u001b[0;32m~/miniforge3/envs/tf/lib/python3.8/site-packages/pandas/core/indexes/base.py\u001b[0m in \u001b[0;36mget_loc\u001b[0;34m(self, key, method, tolerance)\u001b[0m\n\u001b[1;32m   3359\u001b[0m             \u001b[0mcasted_key\u001b[0m \u001b[0;34m=\u001b[0m \u001b[0mself\u001b[0m\u001b[0;34m.\u001b[0m\u001b[0m_maybe_cast_indexer\u001b[0m\u001b[0;34m(\u001b[0m\u001b[0mkey\u001b[0m\u001b[0;34m)\u001b[0m\u001b[0;34m\u001b[0m\u001b[0;34m\u001b[0m\u001b[0m\n\u001b[1;32m   3360\u001b[0m             \u001b[0;32mtry\u001b[0m\u001b[0;34m:\u001b[0m\u001b[0;34m\u001b[0m\u001b[0;34m\u001b[0m\u001b[0m\n\u001b[0;32m-> 3361\u001b[0;31m                 \u001b[0;32mreturn\u001b[0m \u001b[0mself\u001b[0m\u001b[0;34m.\u001b[0m\u001b[0m_engine\u001b[0m\u001b[0;34m.\u001b[0m\u001b[0mget_loc\u001b[0m\u001b[0;34m(\u001b[0m\u001b[0mcasted_key\u001b[0m\u001b[0;34m)\u001b[0m\u001b[0;34m\u001b[0m\u001b[0;34m\u001b[0m\u001b[0m\n\u001b[0m\u001b[1;32m   3362\u001b[0m             \u001b[0;32mexcept\u001b[0m \u001b[0mKeyError\u001b[0m \u001b[0;32mas\u001b[0m \u001b[0merr\u001b[0m\u001b[0;34m:\u001b[0m\u001b[0;34m\u001b[0m\u001b[0;34m\u001b[0m\u001b[0m\n\u001b[1;32m   3363\u001b[0m                 \u001b[0;32mraise\u001b[0m \u001b[0mKeyError\u001b[0m\u001b[0;34m(\u001b[0m\u001b[0mkey\u001b[0m\u001b[0;34m)\u001b[0m \u001b[0;32mfrom\u001b[0m \u001b[0merr\u001b[0m\u001b[0;34m\u001b[0m\u001b[0;34m\u001b[0m\u001b[0m\n",
      "\u001b[0;32m~/miniforge3/envs/tf/lib/python3.8/site-packages/pandas/_libs/index.pyx\u001b[0m in \u001b[0;36mpandas._libs.index.IndexEngine.get_loc\u001b[0;34m()\u001b[0m\n",
      "\u001b[0;32m~/miniforge3/envs/tf/lib/python3.8/site-packages/pandas/_libs/index.pyx\u001b[0m in \u001b[0;36mpandas._libs.index.IndexEngine.get_loc\u001b[0;34m()\u001b[0m\n",
      "\u001b[0;31mTypeError\u001b[0m: '(slice(None, None, None), 0)' is an invalid key"
     ]
    }
   ],
   "source": [
    "import scipy.stats as stats\n",
    "\n",
    "p_val=[]\n",
    "\n",
    "for i in range(len(np.transpose(df_train_1))):\n",
    "    p_val.append(stats.shapiro(df_train_1[:,i])[1])\n",
    "\n",
    "print(p_val)"
   ]
  },
  {
   "cell_type": "code",
   "execution_count": 97,
   "id": "9e767eab",
   "metadata": {},
   "outputs": [
    {
     "data": {
      "text/plain": [
       "[0.03398112207651138,\n",
       " 3.6677700876452946e-08,\n",
       " 0.1283557415008545,\n",
       " 0.21873746812343597,\n",
       " 0.0004930422292090952,\n",
       " 0.014316611923277378,\n",
       " 0.000542028050404042,\n",
       " 0.0017358337063342333,\n",
       " 0.044210344552993774,\n",
       " 4.005487426184118e-05,\n",
       " 0.14237765967845917,\n",
       " 2.689367647690233e-05,\n",
       " 1.0653970093699172e-05]"
      ]
     },
     "execution_count": 97,
     "metadata": {},
     "output_type": "execute_result"
    }
   ],
   "source": [
    "p_val"
   ]
  },
  {
   "cell_type": "code",
   "execution_count": 99,
   "id": "f9dc59a8",
   "metadata": {},
   "outputs": [
    {
     "name": "stdout",
     "output_type": "stream",
     "text": [
      "0 변수는 정규성 만족하지 않음\n",
      "1 변수는 정규성 만족하지 않음\n",
      "2 변수는 정규성 만족\n",
      "3 변수는 정규성 만족\n",
      "4 변수는 정규성 만족하지 않음\n",
      "5 변수는 정규성 만족하지 않음\n",
      "6 변수는 정규성 만족하지 않음\n",
      "7 변수는 정규성 만족하지 않음\n",
      "8 변수는 정규성 만족하지 않음\n",
      "9 변수는 정규성 만족하지 않음\n",
      "10 변수는 정규성 만족\n",
      "11 변수는 정규성 만족하지 않음\n",
      "12 변수는 정규성 만족하지 않음\n"
     ]
    }
   ],
   "source": [
    "for i in range(len(p_val)):\n",
    "    if p_val[i]<0.05:\n",
    "        print(i,'변수는 정규성 만족하지 않음')\n",
    "    else:\n",
    "        print(i,'변수는 정규성 만족')"
   ]
  },
  {
   "cell_type": "code",
   "execution_count": 103,
   "id": "13875612",
   "metadata": {},
   "outputs": [
    {
     "data": {
      "text/html": [
       "<div>\n",
       "<style scoped>\n",
       "    .dataframe tbody tr th:only-of-type {\n",
       "        vertical-align: middle;\n",
       "    }\n",
       "\n",
       "    .dataframe tbody tr th {\n",
       "        vertical-align: top;\n",
       "    }\n",
       "\n",
       "    .dataframe thead th {\n",
       "        text-align: right;\n",
       "    }\n",
       "</style>\n",
       "<table border=\"1\" class=\"dataframe\">\n",
       "  <thead>\n",
       "    <tr style=\"text-align: right;\">\n",
       "      <th></th>\n",
       "      <th>alchohol</th>\n",
       "      <th>malic acid</th>\n",
       "      <th>ash</th>\n",
       "      <th>alcalinity of ash</th>\n",
       "      <th>magnesium</th>\n",
       "      <th>total phenols</th>\n",
       "      <th>flavanoids</th>\n",
       "      <th>nonflavanoid phenols</th>\n",
       "      <th>proanthocyanins</th>\n",
       "      <th>color intensity</th>\n",
       "      <th>hue</th>\n",
       "      <th>OD208</th>\n",
       "      <th>proline</th>\n",
       "    </tr>\n",
       "  </thead>\n",
       "  <tbody>\n",
       "    <tr>\n",
       "      <th>var</th>\n",
       "      <td>0.65554</td>\n",
       "      <td>1.308746</td>\n",
       "      <td>0.075635</td>\n",
       "      <td>11.787941</td>\n",
       "      <td>175.859953</td>\n",
       "      <td>0.398542</td>\n",
       "      <td>1.0404</td>\n",
       "      <td>0.016589</td>\n",
       "      <td>0.312069</td>\n",
       "      <td>5.517994</td>\n",
       "      <td>0.052521</td>\n",
       "      <td>0.512724</td>\n",
       "      <td>102627.897718</td>\n",
       "    </tr>\n",
       "  </tbody>\n",
       "</table>\n",
       "</div>"
      ],
      "text/plain": [
       "     alchohol  malic acid       ash  alcalinity of ash   magnesium  \\\n",
       "var   0.65554    1.308746  0.075635          11.787941  175.859953   \n",
       "\n",
       "     total phenols  flavanoids  nonflavanoid phenols  proanthocyanins  \\\n",
       "var       0.398542      1.0404              0.016589         0.312069   \n",
       "\n",
       "     color intensity       hue     OD208        proline  \n",
       "var         5.517994  0.052521  0.512724  102627.897718  "
      ]
     },
     "execution_count": 103,
     "metadata": {},
     "output_type": "execute_result"
    }
   ],
   "source": [
    "df_X_train.aggregate([np.var])"
   ]
  },
  {
   "cell_type": "code",
   "execution_count": null,
   "id": "486cae63",
   "metadata": {},
   "outputs": [],
   "source": []
  },
  {
   "cell_type": "code",
   "execution_count": 104,
   "id": "2a7fb59e",
   "metadata": {},
   "outputs": [],
   "source": [
    "from sklearn.preprocessing import StandardScaler\n",
    "sc=StandardScaler()\n",
    "sc.fit(X_train)\n",
    "X_train_std=sc.transform(X_train)\n",
    "X_test_std=sc.transform(X_test)"
   ]
  },
  {
   "cell_type": "code",
   "execution_count": 107,
   "id": "211113c8",
   "metadata": {},
   "outputs": [
    {
     "data": {
      "text/html": [
       "<div>\n",
       "<style scoped>\n",
       "    .dataframe tbody tr th:only-of-type {\n",
       "        vertical-align: middle;\n",
       "    }\n",
       "\n",
       "    .dataframe tbody tr th {\n",
       "        vertical-align: top;\n",
       "    }\n",
       "\n",
       "    .dataframe thead th {\n",
       "        text-align: right;\n",
       "    }\n",
       "</style>\n",
       "<table border=\"1\" class=\"dataframe\">\n",
       "  <thead>\n",
       "    <tr style=\"text-align: right;\">\n",
       "      <th></th>\n",
       "      <th>alchohol</th>\n",
       "      <th>malic acid</th>\n",
       "      <th>ash</th>\n",
       "      <th>alcalinity of ash</th>\n",
       "      <th>magnesium</th>\n",
       "      <th>total phenols</th>\n",
       "      <th>flavanoids</th>\n",
       "      <th>nonflavanoid phenols</th>\n",
       "      <th>proanthocyanins</th>\n",
       "      <th>color intensity</th>\n",
       "      <th>hue</th>\n",
       "      <th>OD208</th>\n",
       "      <th>proline</th>\n",
       "    </tr>\n",
       "  </thead>\n",
       "  <tbody>\n",
       "    <tr>\n",
       "      <th>var</th>\n",
       "      <td>1.00813</td>\n",
       "      <td>1.00813</td>\n",
       "      <td>1.00813</td>\n",
       "      <td>1.00813</td>\n",
       "      <td>1.00813</td>\n",
       "      <td>1.00813</td>\n",
       "      <td>1.00813</td>\n",
       "      <td>1.00813</td>\n",
       "      <td>1.00813</td>\n",
       "      <td>1.00813</td>\n",
       "      <td>1.00813</td>\n",
       "      <td>1.00813</td>\n",
       "      <td>1.00813</td>\n",
       "    </tr>\n",
       "  </tbody>\n",
       "</table>\n",
       "</div>"
      ],
      "text/plain": [
       "     alchohol  malic acid      ash  alcalinity of ash  magnesium  \\\n",
       "var   1.00813     1.00813  1.00813            1.00813    1.00813   \n",
       "\n",
       "     total phenols  flavanoids  nonflavanoid phenols  proanthocyanins  \\\n",
       "var        1.00813     1.00813               1.00813          1.00813   \n",
       "\n",
       "     color intensity      hue    OD208  proline  \n",
       "var          1.00813  1.00813  1.00813  1.00813  "
      ]
     },
     "execution_count": 107,
     "metadata": {},
     "output_type": "execute_result"
    }
   ],
   "source": [
    "df_X_train_std=pd.DataFrame(X_train_std,columns=['alchohol','malic acid','ash','alcalinity of ash','magnesium','total phenols','flavanoids','nonflavanoid phenols','proanthocyanins','color intensity','hue','OD208','proline'])\n",
    "df_X_train_std.aggregate([np.var])"
   ]
  },
  {
   "cell_type": "code",
   "execution_count": 110,
   "id": "f0d14d02",
   "metadata": {},
   "outputs": [
    {
     "name": "stdout",
     "output_type": "stream",
     "text": [
      "1.0\n",
      "0.9814814814814815\n"
     ]
    }
   ],
   "source": [
    "from sklearn.discriminant_analysis import LinearDiscriminantAnalysis\n",
    "cld=LinearDiscriminantAnalysis(store_covariance=True)\n",
    "cld.fit(X_train_std,y_train)\n",
    "y_train_pred=cld.predict(X_train_std)\n",
    "y_test_pred=cld.predict(X_test_std)\n",
    "from sklearn.metrics import accuracy_score\n",
    "print(accuracy_score(y_train,y_train_pred))\n",
    "print(accuracy_score(y_test,y_test_pred))"
   ]
  },
  {
   "cell_type": "code",
   "execution_count": 113,
   "id": "6e3ec451",
   "metadata": {},
   "outputs": [
    {
     "name": "stdout",
     "output_type": "stream",
     "text": [
      "1.0\n",
      "0.9629629629629629\n"
     ]
    }
   ],
   "source": [
    "from sklearn.discriminant_analysis import QuadraticDiscriminantAnalysis\n",
    "cqd=QuadraticDiscriminantAnalysis(store_covariance=True)\n",
    "cqd.fit(X_train_std,y_train)\n",
    "y_train_pred=cqd.predict(X_train_std)\n",
    "y_test_pred=cqd.predict(X_test_std)\n",
    "from sklearn.metrics import accuracy_score\n",
    "print(accuracy_score(y_train,y_train_pred))\n",
    "print(accuracy_score(y_test,y_test_pred))"
   ]
  },
  {
   "cell_type": "code",
   "execution_count": null,
   "id": "3bf7dfb7",
   "metadata": {},
   "outputs": [],
   "source": []
  },
  {
   "cell_type": "code",
   "execution_count": null,
   "id": "0978cebd",
   "metadata": {},
   "outputs": [],
   "source": []
  },
  {
   "cell_type": "code",
   "execution_count": null,
   "id": "1cafab50",
   "metadata": {},
   "outputs": [],
   "source": []
  }
 ],
 "metadata": {
  "kernelspec": {
   "display_name": "Python 3 (ipykernel)",
   "language": "python",
   "name": "python3"
  },
  "language_info": {
   "codemirror_mode": {
    "name": "ipython",
    "version": 3
   },
   "file_extension": ".py",
   "mimetype": "text/x-python",
   "name": "python",
   "nbconvert_exporter": "python",
   "pygments_lexer": "ipython3",
   "version": "3.8.10"
  }
 },
 "nbformat": 4,
 "nbformat_minor": 5
}
